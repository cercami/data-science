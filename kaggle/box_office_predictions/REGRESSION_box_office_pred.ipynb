{
 "cells": [
  {
   "cell_type": "code",
   "execution_count": 49,
   "metadata": {},
   "outputs": [],
   "source": [
    "#https://www.kaggle.com/c/tmdb-box-office-prediction/data"
   ]
  },
  {
   "cell_type": "code",
   "execution_count": 256,
   "metadata": {},
   "outputs": [
    {
     "name": "stderr",
     "output_type": "stream",
     "text": [
      "/usr/lib/python3.6/importlib/_bootstrap.py:219: RuntimeWarning: numpy.ufunc size changed, may indicate binary incompatibility. Expected 192 from C header, got 216 from PyObject\n",
      "  return f(*args, **kwds)\n"
     ]
    }
   ],
   "source": [
    "import pandas as pd\n",
    "import eli5\n",
    "import numpy as np\n",
    "from sklearn.linear_model import LinearRegression, Lasso\n",
    "import re\n",
    "import matplotlib.pyplot as plt\n",
    "import seaborn as sns\n",
    "\n",
    "from sklearn.model_selection import train_test_split\n",
    "from sklearn.preprocessing import StandardScaler\n",
    "\n",
    "from sklearn.neighbors import KNeighborsRegressor\n",
    "from sklearn.metrics import mean_squared_error\n",
    "from sklearn.ensemble import RandomForestRegressor\n",
    "from sklearn import linear_model\n",
    "from sklearn.model_selection import GridSearchCV, RandomizedSearchCV\n",
    "from sklearn.ensemble import AdaBoostRegressor\n",
    "from scipy.stats import skew\n",
    "from sklearn.metrics import mean_squared_error\n",
    "from sklearn.tree import DecisionTreeRegressor\n",
    "from pandas.core.common import flatten\n",
    "from sklearn import linear_model\n",
    "from sklearn.svm import SVR\n",
    "from math import e\n",
    "import ast\n",
    "from collections import Counter\n",
    "from scipy.stats import pearsonr\n",
    "\n",
    "import math\n",
    "pd.set_option('display.float_format', lambda x: '%.2f' % x)\n",
    "pd.options.mode.chained_assignment = None"
   ]
  },
  {
   "cell_type": "code",
   "execution_count": 51,
   "metadata": {},
   "outputs": [],
   "source": [
    "train = pd.read_csv('tmdb-box-office-prediction/train.csv')\n",
    "test = pd.read_csv('tmdb-box-office-prediction/test.csv')"
   ]
  },
  {
   "cell_type": "code",
   "execution_count": 52,
   "metadata": {},
   "outputs": [],
   "source": [
    "train['dataset'] = 'train'\n",
    "test['dataset'] = 'test'\n",
    "\n",
    "train = train.append(test, sort=False);\n",
    "\n",
    "train.reset_index(inplace=True, drop=True)"
   ]
  },
  {
   "cell_type": "markdown",
   "metadata": {},
   "source": [
    "I don't want to repeat any data wrangling twice, I will split the datasets before training the model."
   ]
  },
  {
   "cell_type": "markdown",
   "metadata": {},
   "source": [
    "### Exploratory data analysis"
   ]
  },
  {
   "cell_type": "markdown",
   "metadata": {},
   "source": [
    "First of all, let's get an understanding of our dependent variable"
   ]
  },
  {
   "cell_type": "code",
   "execution_count": 53,
   "metadata": {},
   "outputs": [
    {
     "data": {
      "image/png": "[encoded data removed]",
      "text/plain": [
       "<Figure size 648x216 with 1 Axes>"
      ]
     },
     "metadata": {
      "needs_background": "light"
     },
     "output_type": "display_data"
    }
   ],
   "source": [
    "plt.figure(figsize=(9, 3))\n",
    "g = sns.distplot(train[train.revenue.notnull()]['revenue'])\n",
    "\n",
    "xlabels = ['{:,.0f}'.format(x)  for x in g.get_xticks()/1]\n",
    "\n",
    "\n",
    "g.set_xticklabels(xlabels, rotation=80);"
   ]
  },
  {
   "cell_type": "markdown",
   "metadata": {},
   "source": [
    "The vast majority are productions with little revenue, with a couple of outliers raking in hundreds of millions"
   ]
  },
  {
   "cell_type": "code",
   "execution_count": 54,
   "metadata": {},
   "outputs": [
    {
     "data": {
      "text/html": [
       "<div>\n",
       "<style scoped>\n",
       "    .dataframe tbody tr th:only-of-type {\n",
       "        vertical-align: middle;\n",
       "    }\n",
       "\n",
       "    .dataframe tbody tr th {\n",
       "        vertical-align: top;\n",
       "    }\n",
       "\n",
       "    .dataframe thead th {\n",
       "        text-align: right;\n",
       "    }\n",
       "</style>\n",
       "<table border=\"1\" class=\"dataframe\">\n",
       "  <thead>\n",
       "    <tr style=\"text-align: right;\">\n",
       "      <th></th>\n",
       "      <th>title</th>\n",
       "      <th>revenue</th>\n",
       "      <th>release_date</th>\n",
       "    </tr>\n",
       "  </thead>\n",
       "  <tbody>\n",
       "    <tr>\n",
       "      <th>347</th>\n",
       "      <td>The Wind in the Willows</td>\n",
       "      <td>1.00</td>\n",
       "      <td>10/16/96</td>\n",
       "    </tr>\n",
       "    <tr>\n",
       "      <th>1754</th>\n",
       "      <td>Mute Witness</td>\n",
       "      <td>1.00</td>\n",
       "      <td>9/28/95</td>\n",
       "    </tr>\n",
       "    <tr>\n",
       "      <th>1917</th>\n",
       "      <td>The Merry Widow</td>\n",
       "      <td>1.00</td>\n",
       "      <td>8/26/25</td>\n",
       "    </tr>\n",
       "    <tr>\n",
       "      <th>1874</th>\n",
       "      <td>Missing</td>\n",
       "      <td>1.00</td>\n",
       "      <td>1/1/07</td>\n",
       "    </tr>\n",
       "    <tr>\n",
       "      <th>695</th>\n",
       "      <td>Tere Naam</td>\n",
       "      <td>2.00</td>\n",
       "      <td>8/15/03</td>\n",
       "    </tr>\n",
       "    <tr>\n",
       "      <th>334</th>\n",
       "      <td>Saamy</td>\n",
       "      <td>3.00</td>\n",
       "      <td>5/5/03</td>\n",
       "    </tr>\n",
       "    <tr>\n",
       "      <th>1541</th>\n",
       "      <td>All at Once</td>\n",
       "      <td>3.00</td>\n",
       "      <td>6/5/14</td>\n",
       "    </tr>\n",
       "    <tr>\n",
       "      <th>2383</th>\n",
       "      <td>Borsalino</td>\n",
       "      <td>3.00</td>\n",
       "      <td>5/19/70</td>\n",
       "    </tr>\n",
       "    <tr>\n",
       "      <th>2117</th>\n",
       "      <td>American Adobo</td>\n",
       "      <td>4.00</td>\n",
       "      <td>9/29/01</td>\n",
       "    </tr>\n",
       "    <tr>\n",
       "      <th>1346</th>\n",
       "      <td>East of Eden</td>\n",
       "      <td>5.00</td>\n",
       "      <td>3/9/55</td>\n",
       "    </tr>\n",
       "  </tbody>\n",
       "</table>\n",
       "</div>"
      ],
      "text/plain": [
       "                        title  revenue release_date\n",
       "347   The Wind in the Willows     1.00     10/16/96\n",
       "1754             Mute Witness     1.00      9/28/95\n",
       "1917          The Merry Widow     1.00      8/26/25\n",
       "1874                  Missing     1.00       1/1/07\n",
       "695                 Tere Naam     2.00      8/15/03\n",
       "334                     Saamy     3.00       5/5/03\n",
       "1541              All at Once     3.00       6/5/14\n",
       "2383                Borsalino     3.00      5/19/70\n",
       "2117           American Adobo     4.00      9/29/01\n",
       "1346             East of Eden     5.00       3/9/55"
      ]
     },
     "execution_count": 54,
     "metadata": {},
     "output_type": "execute_result"
    }
   ],
   "source": [
    "train.sort_values(\"revenue\")[['title', 'revenue', 'release_date']].head(10)"
   ]
  },
  {
   "cell_type": "markdown",
   "metadata": {},
   "source": [
    "I'm having doubts about such low revenue values... How can a movie have revenue of 1? <br>\n",
    "Unless what is meant here is profit, and not revenue?"
   ]
  },
  {
   "cell_type": "code",
   "execution_count": 55,
   "metadata": {},
   "outputs": [
    {
     "data": {
      "image/png": "[encoded data removed]",
      "text/plain": [
       "<Figure size 432x288 with 1 Axes>"
      ]
     },
     "metadata": {
      "needs_background": "light"
     },
     "output_type": "display_data"
    }
   ],
   "source": [
    "(n, bins, patches) = plt.hist(train[train.revenue < 10000]['revenue'])\n",
    "plt.ticklabel_format(style='plain')"
   ]
  },
  {
   "cell_type": "markdown",
   "metadata": {},
   "source": [
    "From the histogram it's visible that plotting the movies with low revenue (less than 10k), the smallest bin\n",
    "is biggest. <br>This suggests the data was input wrongly (i.e. 12 means 12 thousand). Otherwise we would see\n",
    "a more-less smooth, continuous distribution. Keeping these data points in, will drive the regression coefficients towards zero, \n",
    "acting a bit like an L2 penalty, which prevents overfitting, but in our case it would simply mean wrong predictions. I will drop the values in the smallest bin."
   ]
  },
  {
   "cell_type": "markdown",
   "metadata": {},
   "source": [
    "### Problem\n",
    "If the test data true y labels also have some 0s in them, it will seriously jeopardize accuracy of my predictions."
   ]
  },
  {
   "cell_type": "markdown",
   "metadata": {},
   "source": [
    "Let's hone in on the exact cut off point for data with too low (wrong budget)"
   ]
  },
  {
   "cell_type": "code",
   "execution_count": 56,
   "metadata": {},
   "outputs": [
    {
     "data": {
      "image/png": "[encoded data removed]",
      "text/plain": [
       "<Figure size 720x432 with 1 Axes>"
      ]
     },
     "metadata": {
      "needs_background": "light"
     },
     "output_type": "display_data"
    }
   ],
   "source": [
    "plt.figure(figsize=(10, 6))\n",
    "(n, bins, patches) = plt.hist(train[train.revenue < 10000]['revenue'], bins=60)\n",
    "plt.ticklabel_format(style='plain')"
   ]
  },
  {
   "cell_type": "code",
   "execution_count": 57,
   "metadata": {},
   "outputs": [
    {
     "data": {
      "text/plain": [
       "157.51666666666668"
      ]
     },
     "execution_count": 57,
     "metadata": {},
     "output_type": "execute_result"
    }
   ],
   "source": [
    "bins[1]"
   ]
  },
  {
   "cell_type": "code",
   "execution_count": 58,
   "metadata": {},
   "outputs": [
    {
     "data": {
      "text/plain": [
       "45"
      ]
     },
     "execution_count": 58,
     "metadata": {},
     "output_type": "execute_result"
    }
   ],
   "source": [
    "len(train[train.revenue < bins[1]])"
   ]
  },
  {
   "cell_type": "code",
   "execution_count": 59,
   "metadata": {},
   "outputs": [
    {
     "data": {
      "text/html": [
       "<div>\n",
       "<style scoped>\n",
       "    .dataframe tbody tr th:only-of-type {\n",
       "        vertical-align: middle;\n",
       "    }\n",
       "\n",
       "    .dataframe tbody tr th {\n",
       "        vertical-align: top;\n",
       "    }\n",
       "\n",
       "    .dataframe thead th {\n",
       "        text-align: right;\n",
       "    }\n",
       "</style>\n",
       "<table border=\"1\" class=\"dataframe\">\n",
       "  <thead>\n",
       "    <tr style=\"text-align: right;\">\n",
       "      <th></th>\n",
       "      <th>budget</th>\n",
       "      <th>revenue</th>\n",
       "    </tr>\n",
       "  </thead>\n",
       "  <tbody>\n",
       "    <tr>\n",
       "      <th>150</th>\n",
       "      <td>0</td>\n",
       "      <td>18.00</td>\n",
       "    </tr>\n",
       "    <tr>\n",
       "      <th>269</th>\n",
       "      <td>0</td>\n",
       "      <td>20.00</td>\n",
       "    </tr>\n",
       "    <tr>\n",
       "      <th>280</th>\n",
       "      <td>0</td>\n",
       "      <td>10.00</td>\n",
       "    </tr>\n",
       "    <tr>\n",
       "      <th>312</th>\n",
       "      <td>16000000</td>\n",
       "      <td>12.00</td>\n",
       "    </tr>\n",
       "    <tr>\n",
       "      <th>334</th>\n",
       "      <td>1</td>\n",
       "      <td>3.00</td>\n",
       "    </tr>\n",
       "    <tr>\n",
       "      <th>...</th>\n",
       "      <td>...</td>\n",
       "      <td>...</td>\n",
       "    </tr>\n",
       "    <tr>\n",
       "      <th>1754</th>\n",
       "      <td>2</td>\n",
       "      <td>1.00</td>\n",
       "    </tr>\n",
       "    <tr>\n",
       "      <th>1800</th>\n",
       "      <td>5</td>\n",
       "      <td>135.00</td>\n",
       "    </tr>\n",
       "    <tr>\n",
       "      <th>1874</th>\n",
       "      <td>0</td>\n",
       "      <td>1.00</td>\n",
       "    </tr>\n",
       "    <tr>\n",
       "      <th>1884</th>\n",
       "      <td>12000000</td>\n",
       "      <td>23.00</td>\n",
       "    </tr>\n",
       "    <tr>\n",
       "      <th>1917</th>\n",
       "      <td>592</td>\n",
       "      <td>1.00</td>\n",
       "    </tr>\n",
       "  </tbody>\n",
       "</table>\n",
       "<p>30 rows × 2 columns</p>\n",
       "</div>"
      ],
      "text/plain": [
       "        budget  revenue\n",
       "150          0    18.00\n",
       "269          0    20.00\n",
       "280          0    10.00\n",
       "312   16000000    12.00\n",
       "334          1     3.00\n",
       "...        ...      ...\n",
       "1754         2     1.00\n",
       "1800         5   135.00\n",
       "1874         0     1.00\n",
       "1884  12000000    23.00\n",
       "1917       592     1.00\n",
       "\n",
       "[30 rows x 2 columns]"
      ]
     },
     "execution_count": 59,
     "metadata": {},
     "output_type": "execute_result"
    }
   ],
   "source": [
    "train[train.revenue < bins[1]][['budget', 'revenue']][:30]"
   ]
  },
  {
   "cell_type": "code",
   "execution_count": 60,
   "metadata": {},
   "outputs": [],
   "source": [
    "pd.set_option('display.max_rows', 10)\n",
    "mask1 = train.revenue.notnull()\n",
    "mask2 = train.revenue < bins[1]\n",
    "train = train[~ (mask1 & mask2)]"
   ]
  },
  {
   "cell_type": "code",
   "execution_count": null,
   "metadata": {},
   "outputs": [],
   "source": []
  },
  {
   "cell_type": "markdown",
   "metadata": {},
   "source": [
    "### Missing values"
   ]
  },
  {
   "cell_type": "code",
   "execution_count": 61,
   "metadata": {},
   "outputs": [
    {
     "data": {
      "text/plain": [
       "<BarContainer object of 23 artists>"
      ]
     },
     "execution_count": 61,
     "metadata": {},
     "output_type": "execute_result"
    },
    {
     "data": {
      "image/png": "[encoded data removed]",
      "text/plain": [
       "<Figure size 720x432 with 1 Axes>"
      ]
     },
     "metadata": {
      "needs_background": "light"
     },
     "output_type": "display_data"
    },
    {
     "data": {
      "image/png": "[encoded data removed]",
      "text/plain": [
       "<Figure size 720x432 with 1 Axes>"
      ]
     },
     "metadata": {
      "needs_background": "light"
     },
     "output_type": "display_data"
    }
   ],
   "source": [
    "fig = plt.figure(figsize=(10, 6))\n",
    "\n",
    "na_train = train.isna().sum().sort_values(ascending=True)\n",
    "na_test =  test.isna().sum().sort_values(ascending=True)\n",
    "\n",
    "plt.barh(na_train.index, width=list(na_train), color='blue')\n",
    "\n",
    "fig = plt.figure(figsize=(10, 6))\n",
    "plt.barh(na_test.index, width=list(na_test), color='orange')"
   ]
  },
  {
   "cell_type": "markdown",
   "metadata": {},
   "source": [
    "### Language"
   ]
  },
  {
   "cell_type": "code",
   "execution_count": 62,
   "metadata": {},
   "outputs": [],
   "source": [
    "train['is_english'] = train.original_language == 'en'"
   ]
  },
  {
   "cell_type": "code",
   "execution_count": 63,
   "metadata": {},
   "outputs": [
    {
     "data": {
      "image/png": "[encoded data removed]",
      "text/plain": [
       "<Figure size 360x360 with 1 Axes>"
      ]
     },
     "metadata": {
      "needs_background": "light"
     },
     "output_type": "display_data"
    }
   ],
   "source": [
    "sns.catplot(x=\"is_english\", y='revenue', data=train, kind='bar', );"
   ]
  },
  {
   "cell_type": "code",
   "execution_count": 64,
   "metadata": {},
   "outputs": [
    {
     "data": {
      "image/png": "[encoded data removed]",
      "text/plain": [
       "<Figure size 720x216 with 1 Axes>"
      ]
     },
     "metadata": {
      "needs_background": "light"
     },
     "output_type": "display_data"
    },
    {
     "data": {
      "image/png": "[encoded data removed]",
      "text/plain": [
       "<Figure size 720x216 with 1 Axes>"
      ]
     },
     "metadata": {
      "needs_background": "light"
     },
     "output_type": "display_data"
    },
    {
     "data": {
      "image/png": "[encoded data removed]",
      "text/plain": [
       "<Figure size 720x216 with 1 Axes>"
      ]
     },
     "metadata": {
      "needs_background": "light"
     },
     "output_type": "display_data"
    }
   ],
   "source": [
    "cat = sns.catplot(x=\"original_language\", y='revenue', data=train, kind='bar', ci=None);\n",
    "cat.fig.set_size_inches(10, 3)\n",
    "cat.fig.suptitle(\"Mean revenue per language\")\n",
    "\n",
    "cat = sns.catplot(x=\"original_language\", y='revenue', data=train, kind='bar', ci='sd');\n",
    "cat.fig.set_size_inches(10, 3)\n",
    "cat.fig.suptitle(\"Mean revenue per language WITH std bars\")\n",
    "\n",
    "cat = sns.catplot(x=\"original_language\", data=train, kind='count',ci=None );\n",
    "cat.fig.set_size_inches(10, 3)\n",
    "cat.fig.suptitle(\"Movie count per language\");"
   ]
  },
  {
   "cell_type": "markdown",
   "metadata": {},
   "source": [
    "English language movies bring in most revenue on average, but turkish or chinese ones rank high too.<br>\n",
    "However, we don't have enough data points for those non-english movies to generalize well.<br>\n",
    "We also see that the STD is really big. This is because std (just like correlation, which uses std) is sensitive to outliers. (Interquantile range is largely immune to outliers and we can use it instead).<br>"
   ]
  },
  {
   "cell_type": "code",
   "execution_count": 65,
   "metadata": {},
   "outputs": [
    {
     "data": {
      "text/plain": [
       "en    6316\n",
       "fr     198\n",
       "hi     116\n",
       "ru     108\n",
       "es      95\n",
       "      ... \n",
       "cn      41\n",
       "ta      30\n",
       "sv      19\n",
       "da      17\n",
       "pt      13\n",
       "Name: original_language, Length: 15, dtype: int64"
      ]
     },
     "execution_count": 65,
     "metadata": {},
     "output_type": "execute_result"
    }
   ],
   "source": [
    "train.original_language.value_counts()[:15]"
   ]
  },
  {
   "cell_type": "code",
   "execution_count": 66,
   "metadata": {},
   "outputs": [],
   "source": [
    "langs = list(train.original_language.value_counts()[:15].index)"
   ]
  },
  {
   "cell_type": "code",
   "execution_count": 67,
   "metadata": {},
   "outputs": [
    {
     "data": {
      "image/png": "[encoded data removed]",
      "text/plain": [
       "<Figure size 1152x1152 with 1 Axes>"
      ]
     },
     "metadata": {
      "needs_background": "light"
     },
     "output_type": "display_data"
    }
   ],
   "source": [
    "b = sns.boxplot(y='revenue', x='original_language', \n",
    "                 data=train[(train.dataset == 'train') & (train.original_language.isin(langs))], \n",
    "                 palette=\"colorblind\",\n",
    "                 )\n",
    "b.figure.set_size_inches(16, 16)"
   ]
  },
  {
   "cell_type": "markdown",
   "metadata": {},
   "source": [
    "We see A LOT of outliers. The task won't be easy. Even though english movies have a much higher average revenue than non-english ones, the variance is just huge. It's also way too many of them to delete. I'm no longer so sure it's a good feature."
   ]
  },
  {
   "cell_type": "code",
   "execution_count": 68,
   "metadata": {},
   "outputs": [],
   "source": [
    "train.drop('original_language', axis=1, inplace=True)"
   ]
  },
  {
   "cell_type": "markdown",
   "metadata": {},
   "source": [
    "### Sequels"
   ]
  },
  {
   "cell_type": "markdown",
   "metadata": {},
   "source": [
    "It could be that sequels fetch less/more money than original movies  as they generally tend to be worse.<br> On the other hand, only movies that perform well, get to have a sequel.\n",
    "I have a column telling me if a movie belongs to a collection, but it doesn't tell me if it's the first movie, or a subsequent one"
   ]
  },
  {
   "cell_type": "code",
   "execution_count": 69,
   "metadata": {},
   "outputs": [],
   "source": [
    "train['sequel'] = train.title.str.findall(\"\\s\\d$\").apply(bool)"
   ]
  },
  {
   "cell_type": "code",
   "execution_count": 70,
   "metadata": {},
   "outputs": [],
   "source": [
    "train.title = train.title.str.replace(\"VIII\", \"8\")\n",
    "train.title = train.title.str.replace(\"VII\", \"7\")\n",
    "train.title = train.title.str.replace(\"VI\", \"6\", case=True)\n",
    "train.title = train.title.str.replace(\"\\sV\", \"5\")\n",
    "train.title = train.title.str.replace(\"IV\", \"4\")\n",
    "\n",
    "train.title = train.title.str.replace(\"III\", \"3\")\n",
    "train.title = train.title.str.replace(\"II\", \"2\")\n",
    "train.title = train.title.str.replace(\"\\sI[\\s:]\", \"1\")"
   ]
  },
  {
   "cell_type": "code",
   "execution_count": 71,
   "metadata": {},
   "outputs": [
    {
     "data": {
      "text/html": [
       "<div>\n",
       "<style scoped>\n",
       "    .dataframe tbody tr th:only-of-type {\n",
       "        vertical-align: middle;\n",
       "    }\n",
       "\n",
       "    .dataframe tbody tr th {\n",
       "        vertical-align: top;\n",
       "    }\n",
       "\n",
       "    .dataframe thead th {\n",
       "        text-align: right;\n",
       "    }\n",
       "</style>\n",
       "<table border=\"1\" class=\"dataframe\">\n",
       "  <thead>\n",
       "    <tr style=\"text-align: right;\">\n",
       "      <th></th>\n",
       "      <th>id</th>\n",
       "      <th>belongs_to_collection</th>\n",
       "      <th>budget</th>\n",
       "      <th>genres</th>\n",
       "      <th>homepage</th>\n",
       "      <th>imdb_id</th>\n",
       "      <th>original_title</th>\n",
       "      <th>overview</th>\n",
       "      <th>popularity</th>\n",
       "      <th>poster_path</th>\n",
       "      <th>...</th>\n",
       "      <th>status</th>\n",
       "      <th>tagline</th>\n",
       "      <th>title</th>\n",
       "      <th>Keywords</th>\n",
       "      <th>cast</th>\n",
       "      <th>crew</th>\n",
       "      <th>revenue</th>\n",
       "      <th>dataset</th>\n",
       "      <th>is_english</th>\n",
       "      <th>sequel</th>\n",
       "    </tr>\n",
       "  </thead>\n",
       "  <tbody>\n",
       "    <tr>\n",
       "      <th>5398</th>\n",
       "      <td>5399</td>\n",
       "      <td>NaN</td>\n",
       "      <td>0</td>\n",
       "      <td>[{'id': 18, 'name': 'Drama'}, {'id': 16, 'name...</td>\n",
       "      <td>http://wwws.warnerbros.co.jp/budori/</td>\n",
       "      <td>tt2391821</td>\n",
       "      <td>グスコーブドリの伝記</td>\n",
       "      <td>Remake of The Life of Guskou Budori (1994).\\n ...</td>\n",
       "      <td>0.39</td>\n",
       "      <td>/hm2z04C3AeerpHeRHqhi9dwu5Gi.jpg</td>\n",
       "      <td>...</td>\n",
       "      <td>Released</td>\n",
       "      <td>NaN</td>\n",
       "      <td>NaN</td>\n",
       "      <td>NaN</td>\n",
       "      <td>[{'cast_id': 3, 'character': 'Boduri', 'credit...</td>\n",
       "      <td>[{'credit_id': '52fe4bd7c3a36847f8216183', 'de...</td>\n",
       "      <td>nan</td>\n",
       "      <td>test</td>\n",
       "      <td>False</td>\n",
       "      <td>True</td>\n",
       "    </tr>\n",
       "    <tr>\n",
       "      <th>5425</th>\n",
       "      <td>5426</td>\n",
       "      <td>[{'id': 115840, 'name': 'Would I Lie to You? C...</td>\n",
       "      <td>25496629</td>\n",
       "      <td>[{'id': 35, 'name': 'Comedy'}]</td>\n",
       "      <td>http://www.laveritesijemens3.com/</td>\n",
       "      <td>tt1794850</td>\n",
       "      <td>La Vérité si je Mens ! 3</td>\n",
       "      <td>Eddie, Dov, Yvan et les autres‚Ä¶ Nos chaleure...</td>\n",
       "      <td>3.82</td>\n",
       "      <td>/oavfuwAr7LNWRTX3qwdPWxV4Ywa.jpg</td>\n",
       "      <td>...</td>\n",
       "      <td>Released</td>\n",
       "      <td>NaN</td>\n",
       "      <td>NaN</td>\n",
       "      <td>NaN</td>\n",
       "      <td>[{'cast_id': 2, 'character': 'Eddie', 'credit_...</td>\n",
       "      <td>[{'credit_id': '552bb9a09251417c29001c7a', 'de...</td>\n",
       "      <td>nan</td>\n",
       "      <td>test</td>\n",
       "      <td>False</td>\n",
       "      <td>True</td>\n",
       "    </tr>\n",
       "    <tr>\n",
       "      <th>6628</th>\n",
       "      <td>6629</td>\n",
       "      <td>NaN</td>\n",
       "      <td>6000000</td>\n",
       "      <td>[{'id': 35, 'name': 'Comedy'}, {'id': 18, 'nam...</td>\n",
       "      <td>http://barefootthemovie.com/</td>\n",
       "      <td>tt2355495</td>\n",
       "      <td>Barefoot</td>\n",
       "      <td>The \"black sheep\" son of a wealthy family meet...</td>\n",
       "      <td>5.94</td>\n",
       "      <td>/m8iFS5IW1LSEX0and2FEWzy6GCX.jpg</td>\n",
       "      <td>...</td>\n",
       "      <td>Released</td>\n",
       "      <td>NaN</td>\n",
       "      <td>NaN</td>\n",
       "      <td>[{'id': 2487, 'name': 'naivety'}, {'id': 9714,...</td>\n",
       "      <td>[{'cast_id': 3, 'character': 'Daisy', 'credit_...</td>\n",
       "      <td>[{'credit_id': '52fe4ec2c3a36847f82a65a7', 'de...</td>\n",
       "      <td>nan</td>\n",
       "      <td>test</td>\n",
       "      <td>True</td>\n",
       "      <td>True</td>\n",
       "    </tr>\n",
       "  </tbody>\n",
       "</table>\n",
       "<p>3 rows × 25 columns</p>\n",
       "</div>"
      ],
      "text/plain": [
       "        id                              belongs_to_collection    budget  \\\n",
       "5398  5399                                                NaN         0   \n",
       "5425  5426  [{'id': 115840, 'name': 'Would I Lie to You? C...  25496629   \n",
       "6628  6629                                                NaN   6000000   \n",
       "\n",
       "                                                 genres  \\\n",
       "5398  [{'id': 18, 'name': 'Drama'}, {'id': 16, 'name...   \n",
       "5425                     [{'id': 35, 'name': 'Comedy'}]   \n",
       "6628  [{'id': 35, 'name': 'Comedy'}, {'id': 18, 'nam...   \n",
       "\n",
       "                                  homepage    imdb_id  \\\n",
       "5398  http://wwws.warnerbros.co.jp/budori/  tt2391821   \n",
       "5425     http://www.laveritesijemens3.com/  tt1794850   \n",
       "6628          http://barefootthemovie.com/  tt2355495   \n",
       "\n",
       "                original_title  \\\n",
       "5398                グスコーブドリの伝記   \n",
       "5425  La Vérité si je Mens ! 3   \n",
       "6628                  Barefoot   \n",
       "\n",
       "                                               overview  popularity  \\\n",
       "5398  Remake of The Life of Guskou Budori (1994).\\n ...        0.39   \n",
       "5425  Eddie, Dov, Yvan et les autres‚Ä¶ Nos chaleure...        3.82   \n",
       "6628  The \"black sheep\" son of a wealthy family meet...        5.94   \n",
       "\n",
       "                           poster_path  ...      status tagline title  \\\n",
       "5398  /hm2z04C3AeerpHeRHqhi9dwu5Gi.jpg  ...    Released     NaN   NaN   \n",
       "5425  /oavfuwAr7LNWRTX3qwdPWxV4Ywa.jpg  ...    Released     NaN   NaN   \n",
       "6628  /m8iFS5IW1LSEX0and2FEWzy6GCX.jpg  ...    Released     NaN   NaN   \n",
       "\n",
       "                                               Keywords  \\\n",
       "5398                                                NaN   \n",
       "5425                                                NaN   \n",
       "6628  [{'id': 2487, 'name': 'naivety'}, {'id': 9714,...   \n",
       "\n",
       "                                                   cast  \\\n",
       "5398  [{'cast_id': 3, 'character': 'Boduri', 'credit...   \n",
       "5425  [{'cast_id': 2, 'character': 'Eddie', 'credit_...   \n",
       "6628  [{'cast_id': 3, 'character': 'Daisy', 'credit_...   \n",
       "\n",
       "                                                   crew revenue dataset  \\\n",
       "5398  [{'credit_id': '52fe4bd7c3a36847f8216183', 'de...     nan    test   \n",
       "5425  [{'credit_id': '552bb9a09251417c29001c7a', 'de...     nan    test   \n",
       "6628  [{'credit_id': '52fe4ec2c3a36847f82a65a7', 'de...     nan    test   \n",
       "\n",
       "     is_english sequel  \n",
       "5398      False   True  \n",
       "5425      False   True  \n",
       "6628       True   True  \n",
       "\n",
       "[3 rows x 25 columns]"
      ]
     },
     "execution_count": 71,
     "metadata": {},
     "output_type": "execute_result"
    }
   ],
   "source": [
    "train[train.title.isnull()]"
   ]
  },
  {
   "cell_type": "code",
   "execution_count": 72,
   "metadata": {},
   "outputs": [
    {
     "data": {
      "text/plain": [
       "0                             Hot Tub Time Machine 2\n",
       "1           The Princess Diaries 2: Royal Engagement\n",
       "11         Revenge of the Nerds 2: Nerds in Paradise\n",
       "19                                     Transporter 2\n",
       "21                            Friday the 13th Part 3\n",
       "33                                   ABCs of Death 2\n",
       "34                                       Rush Hour 3\n",
       "63     Friday the 13th Part 8: Jason Takes Manhattan\n",
       "90                                  Kill Bill:5ol. 1\n",
       "104                                   Recep İvedik 4\n",
       "Name: title, dtype: object"
      ]
     },
     "execution_count": 72,
     "metadata": {},
     "output_type": "execute_result"
    }
   ],
   "source": [
    "train.title.fillna('missing', inplace=True)\n",
    "train[train.title.str.contains(\"\\s\\d$|\\s\\d:\")]['title'].head(10)"
   ]
  },
  {
   "cell_type": "code",
   "execution_count": 73,
   "metadata": {},
   "outputs": [
    {
     "data": {
      "text/plain": [
       "array(['2', '3', '8', '1', '4', '5', '9', '6', '7'], dtype=object)"
      ]
     },
     "execution_count": 73,
     "metadata": {},
     "output_type": "execute_result"
    }
   ],
   "source": [
    "train['part'] = train.title.str.findall(\"\\s\\d$|\\s\\d:\")\n",
    "train.part = train.part.str[0]\n",
    "train.part = train.part.str.replace(\"\\:\", \"\").str.strip()\n",
    "train[train.part.notnull()]['part'].unique()"
   ]
  },
  {
   "cell_type": "code",
   "execution_count": 74,
   "metadata": {},
   "outputs": [],
   "source": [
    "train.part.fillna(1, inplace=True)"
   ]
  },
  {
   "cell_type": "code",
   "execution_count": 75,
   "metadata": {},
   "outputs": [],
   "source": [
    "train['sequel'] = train.part != 1"
   ]
  },
  {
   "cell_type": "code",
   "execution_count": 76,
   "metadata": {},
   "outputs": [
    {
     "data": {
      "text/html": [
       "<div>\n",
       "<style scoped>\n",
       "    .dataframe tbody tr th:only-of-type {\n",
       "        vertical-align: middle;\n",
       "    }\n",
       "\n",
       "    .dataframe tbody tr th {\n",
       "        vertical-align: top;\n",
       "    }\n",
       "\n",
       "    .dataframe thead th {\n",
       "        text-align: right;\n",
       "    }\n",
       "</style>\n",
       "<table border=\"1\" class=\"dataframe\">\n",
       "  <thead>\n",
       "    <tr style=\"text-align: right;\">\n",
       "      <th></th>\n",
       "      <th>sequel</th>\n",
       "      <th>title</th>\n",
       "    </tr>\n",
       "  </thead>\n",
       "  <tbody>\n",
       "    <tr>\n",
       "      <th>0</th>\n",
       "      <td>True</td>\n",
       "      <td>Hot Tub Time Machine 2</td>\n",
       "    </tr>\n",
       "    <tr>\n",
       "      <th>1</th>\n",
       "      <td>True</td>\n",
       "      <td>The Princess Diaries 2: Royal Engagement</td>\n",
       "    </tr>\n",
       "    <tr>\n",
       "      <th>11</th>\n",
       "      <td>True</td>\n",
       "      <td>Revenge of the Nerds 2: Nerds in Paradise</td>\n",
       "    </tr>\n",
       "    <tr>\n",
       "      <th>19</th>\n",
       "      <td>True</td>\n",
       "      <td>Transporter 2</td>\n",
       "    </tr>\n",
       "    <tr>\n",
       "      <th>21</th>\n",
       "      <td>True</td>\n",
       "      <td>Friday the 13th Part 3</td>\n",
       "    </tr>\n",
       "    <tr>\n",
       "      <th>33</th>\n",
       "      <td>True</td>\n",
       "      <td>ABCs of Death 2</td>\n",
       "    </tr>\n",
       "    <tr>\n",
       "      <th>34</th>\n",
       "      <td>True</td>\n",
       "      <td>Rush Hour 3</td>\n",
       "    </tr>\n",
       "    <tr>\n",
       "      <th>63</th>\n",
       "      <td>True</td>\n",
       "      <td>Friday the 13th Part 8: Jason Takes Manhattan</td>\n",
       "    </tr>\n",
       "    <tr>\n",
       "      <th>90</th>\n",
       "      <td>True</td>\n",
       "      <td>Kill Bill:5ol. 1</td>\n",
       "    </tr>\n",
       "    <tr>\n",
       "      <th>104</th>\n",
       "      <td>True</td>\n",
       "      <td>Recep İvedik 4</td>\n",
       "    </tr>\n",
       "  </tbody>\n",
       "</table>\n",
       "</div>"
      ],
      "text/plain": [
       "     sequel                                          title\n",
       "0      True                         Hot Tub Time Machine 2\n",
       "1      True       The Princess Diaries 2: Royal Engagement\n",
       "11     True      Revenge of the Nerds 2: Nerds in Paradise\n",
       "19     True                                  Transporter 2\n",
       "21     True                         Friday the 13th Part 3\n",
       "33     True                                ABCs of Death 2\n",
       "34     True                                    Rush Hour 3\n",
       "63     True  Friday the 13th Part 8: Jason Takes Manhattan\n",
       "90     True                               Kill Bill:5ol. 1\n",
       "104    True                                 Recep İvedik 4"
      ]
     },
     "execution_count": 76,
     "metadata": {},
     "output_type": "execute_result"
    }
   ],
   "source": [
    "train[train.sequel == True][['sequel', 'title']].head(10)"
   ]
  },
  {
   "cell_type": "code",
   "execution_count": 77,
   "metadata": {},
   "outputs": [
    {
     "data": {
      "image/png": "[encoded data removed]",
      "text/plain": [
       "<Figure size 360x360 with 1 Axes>"
      ]
     },
     "metadata": {
      "needs_background": "light"
     },
     "output_type": "display_data"
    }
   ],
   "source": [
    "sns.catplot(x='part', y='revenue', data=train, kind='bar');"
   ]
  },
  {
   "cell_type": "markdown",
   "metadata": {},
   "source": [
    "Nope"
   ]
  },
  {
   "cell_type": "code",
   "execution_count": 78,
   "metadata": {},
   "outputs": [],
   "source": [
    "train.drop('part', axis=1, inplace=True)"
   ]
  },
  {
   "cell_type": "markdown",
   "metadata": {},
   "source": [
    "Let's see if my assumption was correct, that sequels (part >= 2) are worse than originals and bring less revenue"
   ]
  },
  {
   "cell_type": "code",
   "execution_count": 79,
   "metadata": {},
   "outputs": [
    {
     "data": {
      "image/png": "[encoded data removed]",
      "text/plain": [
       "<Figure size 360x360 with 1 Axes>"
      ]
     },
     "metadata": {
      "needs_background": "light"
     },
     "output_type": "display_data"
    }
   ],
   "source": [
    "sns.catplot(x='sequel', y='revenue', data=train, kind='bar');"
   ]
  },
  {
   "cell_type": "markdown",
   "metadata": {},
   "source": [
    "It wasn't, it was exactly the opposite. The reason for this could be, that even if the sequel is worse than part 1, only most famous movies get sequels made, and to see if part 2 is good, people first need to buy a cinema ticket to find out if its good."
   ]
  },
  {
   "cell_type": "code",
   "execution_count": 80,
   "metadata": {},
   "outputs": [
    {
     "data": {
      "text/plain": [
       "<seaborn.axisgrid.FacetGrid at 0x7fe78debe2e8>"
      ]
     },
     "execution_count": 80,
     "metadata": {},
     "output_type": "execute_result"
    },
    {
     "data": {
      "image/png": "[encoded data removed]",
      "text/plain": [
       "<Figure size 360x360 with 1 Axes>"
      ]
     },
     "metadata": {
      "needs_background": "light"
     },
     "output_type": "display_data"
    }
   ],
   "source": [
    "train['has_collection'] = train.belongs_to_collection.notnull();\n",
    "sns.catplot(x='has_collection', y='revenue', data=train, kind='bar')"
   ]
  },
  {
   "cell_type": "markdown",
   "metadata": {},
   "source": [
    "This actually looks like a better feature than the one I created myself."
   ]
  },
  {
   "cell_type": "code",
   "execution_count": 81,
   "metadata": {},
   "outputs": [],
   "source": [
    "train.drop('sequel', axis=1, inplace=True)"
   ]
  },
  {
   "cell_type": "markdown",
   "metadata": {},
   "source": [
    "### Budget"
   ]
  },
  {
   "cell_type": "code",
   "execution_count": 82,
   "metadata": {},
   "outputs": [
    {
     "data": {
      "image/png": "[encoded data removed]",
      "text/plain": [
       "<Figure size 432x288 with 1 Axes>"
      ]
     },
     "metadata": {
      "needs_background": "light"
     },
     "output_type": "display_data"
    }
   ],
   "source": [
    "sns.distplot(train.budget);"
   ]
  },
  {
   "cell_type": "code",
   "execution_count": 83,
   "metadata": {},
   "outputs": [
    {
     "data": {
      "text/plain": [
       "3000           0\n",
       "3001       88000\n",
       "3002           0\n",
       "3003     6800000\n",
       "3004     2000000\n",
       "3005           0\n",
       "3006           0\n",
       "3007    30000000\n",
       "3008    16500000\n",
       "3009    90000000\n",
       "Name: budget, dtype: int64"
      ]
     },
     "execution_count": 83,
     "metadata": {},
     "output_type": "execute_result"
    }
   ],
   "source": [
    "train[train.dataset == 'test']['budget'][:10]"
   ]
  },
  {
   "cell_type": "code",
   "execution_count": 84,
   "metadata": {},
   "outputs": [
    {
     "data": {
      "text/plain": [
       "False    5353\n",
       "True     2000\n",
       "Name: budget, dtype: int64"
      ]
     },
     "execution_count": 84,
     "metadata": {},
     "output_type": "execute_result"
    }
   ],
   "source": [
    "(train.budget == 0).value_counts(dropna=False)"
   ]
  },
  {
   "cell_type": "markdown",
   "metadata": {},
   "source": [
    "We got a lot of missing values, which is a problem, because budget could be one of the strongest predictors of revenue.<br> It's a double whammy, because I have very little data and cannot affort to simply drop these rows."
   ]
  },
  {
   "cell_type": "markdown",
   "metadata": {},
   "source": [
    "First, I need to understand if this feature is missing at random, or if there is some logic to it."
   ]
  },
  {
   "cell_type": "code",
   "execution_count": 85,
   "metadata": {},
   "outputs": [
    {
     "data": {
      "text/plain": [
       "<matplotlib.axes._subplots.AxesSubplot at 0x7fe78f0f36d8>"
      ]
     },
     "execution_count": 85,
     "metadata": {},
     "output_type": "execute_result"
    },
    {
     "data": {
      "image/png": "[encoded data removed]",
      "text/plain": [
       "<Figure size 432x288 with 1 Axes>"
      ]
     },
     "metadata": {
      "needs_background": "light"
     },
     "output_type": "display_data"
    }
   ],
   "source": [
    "sns.boxplot(train[train.budget == 0]['revenue'])"
   ]
  },
  {
   "cell_type": "markdown",
   "metadata": {},
   "source": [
    "It looks random."
   ]
  },
  {
   "cell_type": "code",
   "execution_count": 86,
   "metadata": {},
   "outputs": [
    {
     "data": {
      "text/plain": [
       "(12542266.399239544, 29496149.5)"
      ]
     },
     "execution_count": 86,
     "metadata": {},
     "output_type": "execute_result"
    }
   ],
   "source": [
    "mask = train.budget == 0\n",
    "mask1 = train.dataset == 'train'\n",
    "\n",
    "(train[mask & mask1]['revenue'].mean(), train[~mask & mask1]['revenue'].median())"
   ]
  },
  {
   "cell_type": "markdown",
   "metadata": {},
   "source": [
    "It's 12 mln vs 28 mln. The difference actually is not SO big... but let's make a feature out of it just in case."
   ]
  },
  {
   "cell_type": "code",
   "execution_count": 87,
   "metadata": {},
   "outputs": [],
   "source": [
    "train['missing_budget'] = train.budget == 0"
   ]
  },
  {
   "cell_type": "code",
   "execution_count": 88,
   "metadata": {},
   "outputs": [],
   "source": [
    "bud = train[train.budget > 0]"
   ]
  },
  {
   "cell_type": "code",
   "execution_count": 89,
   "metadata": {},
   "outputs": [
    {
     "data": {
      "text/html": [
       "<div>\n",
       "<style scoped>\n",
       "    .dataframe tbody tr th:only-of-type {\n",
       "        vertical-align: middle;\n",
       "    }\n",
       "\n",
       "    .dataframe tbody tr th {\n",
       "        vertical-align: top;\n",
       "    }\n",
       "\n",
       "    .dataframe thead th {\n",
       "        text-align: right;\n",
       "    }\n",
       "</style>\n",
       "<table border=\"1\" class=\"dataframe\">\n",
       "  <thead>\n",
       "    <tr style=\"text-align: right;\">\n",
       "      <th></th>\n",
       "      <th>budget</th>\n",
       "      <th>revenue</th>\n",
       "    </tr>\n",
       "  </thead>\n",
       "  <tbody>\n",
       "    <tr>\n",
       "      <th>849</th>\n",
       "      <td>1</td>\n",
       "      <td>8500000.00</td>\n",
       "    </tr>\n",
       "    <tr>\n",
       "      <th>796</th>\n",
       "      <td>8</td>\n",
       "      <td>33579813.00</td>\n",
       "    </tr>\n",
       "    <tr>\n",
       "      <th>2695</th>\n",
       "      <td>10</td>\n",
       "      <td>10000000.00</td>\n",
       "    </tr>\n",
       "    <tr>\n",
       "      <th>512</th>\n",
       "      <td>93</td>\n",
       "      <td>2500000.00</td>\n",
       "    </tr>\n",
       "    <tr>\n",
       "      <th>469</th>\n",
       "      <td>113</td>\n",
       "      <td>115103979.00</td>\n",
       "    </tr>\n",
       "    <tr>\n",
       "      <th>...</th>\n",
       "      <td>...</td>\n",
       "      <td>...</td>\n",
       "    </tr>\n",
       "    <tr>\n",
       "      <th>259</th>\n",
       "      <td>24554</td>\n",
       "      <td>140021.00</td>\n",
       "    </tr>\n",
       "    <tr>\n",
       "      <th>1356</th>\n",
       "      <td>25000</td>\n",
       "      <td>25000.00</td>\n",
       "    </tr>\n",
       "    <tr>\n",
       "      <th>267</th>\n",
       "      <td>27000</td>\n",
       "      <td>3151130.00</td>\n",
       "    </tr>\n",
       "    <tr>\n",
       "      <th>746</th>\n",
       "      <td>50000</td>\n",
       "      <td>249905.00</td>\n",
       "    </tr>\n",
       "    <tr>\n",
       "      <th>1679</th>\n",
       "      <td>60000</td>\n",
       "      <td>248000000.00</td>\n",
       "    </tr>\n",
       "  </tbody>\n",
       "</table>\n",
       "<p>20 rows × 2 columns</p>\n",
       "</div>"
      ],
      "text/plain": [
       "      budget      revenue\n",
       "849        1   8500000.00\n",
       "796        8  33579813.00\n",
       "2695      10  10000000.00\n",
       "512       93   2500000.00\n",
       "469      113 115103979.00\n",
       "...      ...          ...\n",
       "259    24554    140021.00\n",
       "1356   25000     25000.00\n",
       "267    27000   3151130.00\n",
       "746    50000    249905.00\n",
       "1679   60000 248000000.00\n",
       "\n",
       "[20 rows x 2 columns]"
      ]
     },
     "execution_count": 89,
     "metadata": {},
     "output_type": "execute_result"
    }
   ],
   "source": [
    "bud[bud.dataset == 'train'].sort_values('budget')[['budget', 'revenue']][:20]"
   ]
  },
  {
   "cell_type": "markdown",
   "metadata": {},
   "source": [
    "Budgets lower than 2500 seems to be wrong too, in some other unit. I prefer to treat them as 0."
   ]
  },
  {
   "cell_type": "code",
   "execution_count": 90,
   "metadata": {},
   "outputs": [],
   "source": [
    "train.loc[ (train.budget < 2500) ]['budget'] = 0"
   ]
  },
  {
   "cell_type": "code",
   "execution_count": 91,
   "metadata": {},
   "outputs": [],
   "source": [
    "bud = train[train.budget > 2000]"
   ]
  },
  {
   "cell_type": "code",
   "execution_count": 92,
   "metadata": {},
   "outputs": [
    {
     "data": {
      "image/png": "[encoded data removed]",
      "text/plain": [
       "<Figure size 432x288 with 1 Axes>"
      ]
     },
     "metadata": {
      "needs_background": "light"
     },
     "output_type": "display_data"
    }
   ],
   "source": [
    "sns.regplot(bud.budget, bud.revenue);"
   ]
  },
  {
   "cell_type": "code",
   "execution_count": 93,
   "metadata": {},
   "outputs": [
    {
     "data": {
      "image/png": "[encoded data removed]",
      "text/plain": [
       "<Figure size 432x288 with 1 Axes>"
      ]
     },
     "metadata": {
      "needs_background": "light"
     },
     "output_type": "display_data"
    }
   ],
   "source": [
    "sns.regplot(bud.budget, bud.revenue, order=2);"
   ]
  },
  {
   "cell_type": "code",
   "execution_count": 94,
   "metadata": {},
   "outputs": [
    {
     "name": "stdout",
     "output_type": "stream",
     "text": [
      "Pearsons correlation: 0.739\n"
     ]
    }
   ],
   "source": [
    "\n",
    "corr, _ = pearsonr(bud[bud.dataset == 'train']['budget'], bud[bud.dataset == 'train']['revenue'])\n",
    "print('Pearsons correlation: %.3f' % corr)"
   ]
  },
  {
   "cell_type": "code",
   "execution_count": 95,
   "metadata": {},
   "outputs": [
    {
     "data": {
      "text/plain": [
       "<matplotlib.axes._subplots.AxesSubplot at 0x7fe79185fd68>"
      ]
     },
     "execution_count": 95,
     "metadata": {},
     "output_type": "execute_result"
    },
    {
     "data": {
      "image/png": "[encoded data removed]",
      "text/plain": [
       "<Figure size 432x288 with 1 Axes>"
      ]
     },
     "metadata": {
      "needs_background": "light"
     },
     "output_type": "display_data"
    }
   ],
   "source": [
    "sns.boxplot(bud.budget)"
   ]
  },
  {
   "cell_type": "markdown",
   "metadata": {},
   "source": [
    "I don't think it's a good idea to just fill these nans with a mean or a median, because the data is really spread out.<br> Given the strong correlation, I will go out on a limb and use ML to guess these missing values. But doing this feels almost like predicting revenue itself."
   ]
  },
  {
   "cell_type": "markdown",
   "metadata": {},
   "source": [
    "### Filling in missing budget values using simple regression"
   ]
  },
  {
   "cell_type": "code",
   "execution_count": 96,
   "metadata": {},
   "outputs": [],
   "source": [
    "model = LinearRegression().fit(X=np.array(bud[bud.dataset == 'train']['revenue']).reshape(-1, 1), \\\n",
    "                               y=np.array(bud[bud.dataset == 'train']['budget']).reshape(-1, 1))"
   ]
  },
  {
   "cell_type": "code",
   "execution_count": 97,
   "metadata": {},
   "outputs": [],
   "source": [
    "budgets_ml = model.predict(np.array(train[(train.budget == 0) & (train.dataset == 'train')]['revenue']).reshape(-1, 1))"
   ]
  },
  {
   "cell_type": "code",
   "execution_count": 98,
   "metadata": {},
   "outputs": [],
   "source": [
    "#train.loc[(train.budget == 0) & (train.dataset == 'train')]['budget'] = budgets_ml.tolist()"
   ]
  },
  {
   "cell_type": "markdown",
   "metadata": {},
   "source": [
    "### Not so fast...."
   ]
  },
  {
   "cell_type": "markdown",
   "metadata": {},
   "source": [
    "The predictions 'work', but are worthless, as the data I used to get them (revenue - my target variable) is present only in the train dataset, of course. So I cannot do the same in the test dataset. To predict budget, I need to use features present in both train and test dataset."
   ]
  },
  {
   "cell_type": "code",
   "execution_count": 99,
   "metadata": {},
   "outputs": [
    {
     "data": {
      "text/html": [
       "<div>\n",
       "<style scoped>\n",
       "    .dataframe tbody tr th:only-of-type {\n",
       "        vertical-align: middle;\n",
       "    }\n",
       "\n",
       "    .dataframe tbody tr th {\n",
       "        vertical-align: top;\n",
       "    }\n",
       "\n",
       "    .dataframe thead th {\n",
       "        text-align: right;\n",
       "    }\n",
       "</style>\n",
       "<table border=\"1\" class=\"dataframe\">\n",
       "  <thead>\n",
       "    <tr style=\"text-align: right;\">\n",
       "      <th></th>\n",
       "      <th>budget</th>\n",
       "      <th>revenue</th>\n",
       "    </tr>\n",
       "  </thead>\n",
       "  <tbody>\n",
       "    <tr>\n",
       "      <th>id</th>\n",
       "      <td>0.00</td>\n",
       "      <td>0.00</td>\n",
       "    </tr>\n",
       "    <tr>\n",
       "      <th>budget</th>\n",
       "      <td>1.00</td>\n",
       "      <td>0.75</td>\n",
       "    </tr>\n",
       "    <tr>\n",
       "      <th>popularity</th>\n",
       "      <td>0.34</td>\n",
       "      <td>0.46</td>\n",
       "    </tr>\n",
       "    <tr>\n",
       "      <th>runtime</th>\n",
       "      <td>0.22</td>\n",
       "      <td>0.22</td>\n",
       "    </tr>\n",
       "    <tr>\n",
       "      <th>revenue</th>\n",
       "      <td>0.75</td>\n",
       "      <td>1.00</td>\n",
       "    </tr>\n",
       "    <tr>\n",
       "      <th>is_english</th>\n",
       "      <td>0.19</td>\n",
       "      <td>0.14</td>\n",
       "    </tr>\n",
       "    <tr>\n",
       "      <th>has_collection</th>\n",
       "      <td>0.22</td>\n",
       "      <td>0.34</td>\n",
       "    </tr>\n",
       "    <tr>\n",
       "      <th>missing_budget</th>\n",
       "      <td>-0.38</td>\n",
       "      <td>-0.24</td>\n",
       "    </tr>\n",
       "  </tbody>\n",
       "</table>\n",
       "</div>"
      ],
      "text/plain": [
       "                budget  revenue\n",
       "id                0.00     0.00\n",
       "budget            1.00     0.75\n",
       "popularity        0.34     0.46\n",
       "runtime           0.22     0.22\n",
       "revenue           0.75     1.00\n",
       "is_english        0.19     0.14\n",
       "has_collection    0.22     0.34\n",
       "missing_budget   -0.38    -0.24"
      ]
     },
     "execution_count": 99,
     "metadata": {},
     "output_type": "execute_result"
    }
   ],
   "source": [
    "train.corr()[['budget', 'revenue']]"
   ]
  },
  {
   "cell_type": "markdown",
   "metadata": {},
   "source": [
    "There is nothing can correlates highly with budget (other than revenue)"
   ]
  },
  {
   "cell_type": "markdown",
   "metadata": {},
   "source": [
    "### Genre"
   ]
  },
  {
   "cell_type": "code",
   "execution_count": 100,
   "metadata": {},
   "outputs": [
    {
     "data": {
      "text/plain": [
       "\"[{'id': 35, 'name': 'Comedy'}]\""
      ]
     },
     "execution_count": 100,
     "metadata": {},
     "output_type": "execute_result"
    }
   ],
   "source": [
    "train.genres[0]"
   ]
  },
  {
   "cell_type": "markdown",
   "metadata": {},
   "source": [
    "Its a string dictionary because the data was uploaded to kaggle as csv and not as pickle :-/ but we got a fix"
   ]
  },
  {
   "cell_type": "code",
   "execution_count": 101,
   "metadata": {},
   "outputs": [
    {
     "data": {
      "text/plain": [
       "[{'id': 35, 'name': 'Comedy'}]"
      ]
     },
     "execution_count": 101,
     "metadata": {},
     "output_type": "execute_result"
    }
   ],
   "source": [
    "\n",
    "ast.literal_eval(train.genres[0])"
   ]
  },
  {
   "cell_type": "code",
   "execution_count": 102,
   "metadata": {},
   "outputs": [],
   "source": [
    "train.genres = train.genres.apply(lambda x: ast.literal_eval(x) if not pd.isna(x) else None)"
   ]
  },
  {
   "cell_type": "code",
   "execution_count": 103,
   "metadata": {},
   "outputs": [
    {
     "data": {
      "text/plain": [
       "23"
      ]
     },
     "execution_count": 103,
     "metadata": {},
     "output_type": "execute_result"
    }
   ],
   "source": [
    "sum(train.genres.isnull())"
   ]
  },
  {
   "cell_type": "code",
   "execution_count": 104,
   "metadata": {},
   "outputs": [],
   "source": [
    "# we can live with that"
   ]
  },
  {
   "cell_type": "code",
   "execution_count": 105,
   "metadata": {},
   "outputs": [],
   "source": [
    "def extract_genres(x):\n",
    "    if x:\n",
    "        return [d['name'] for d in x]\n",
    "\n",
    "train.genres = train.genres.apply(extract_genres)"
   ]
  },
  {
   "cell_type": "code",
   "execution_count": 106,
   "metadata": {},
   "outputs": [
    {
     "data": {
      "text/plain": [
       "0                                      [Comedy]\n",
       "1              [Comedy, Drama, Family, Romance]\n",
       "2                                       [Drama]\n",
       "3                             [Thriller, Drama]\n",
       "4                            [Action, Thriller]\n",
       "5                [Animation, Adventure, Family]\n",
       "6                            [Horror, Thriller]\n",
       "7                                 [Documentary]\n",
       "8    [Action, Comedy, Music, Family, Adventure]\n",
       "9                               [Comedy, Music]\n",
       "Name: genres, dtype: object"
      ]
     },
     "execution_count": 106,
     "metadata": {},
     "output_type": "execute_result"
    }
   ],
   "source": [
    "train.genres[:10]"
   ]
  },
  {
   "cell_type": "markdown",
   "metadata": {},
   "source": [
    "We have to turn the list of genres into onehotencoding"
   ]
  },
  {
   "cell_type": "code",
   "execution_count": 107,
   "metadata": {},
   "outputs": [],
   "source": [
    "\n",
    "genres = [g for g in set(flatten(train.genres.tolist())) if g]"
   ]
  },
  {
   "cell_type": "code",
   "execution_count": 108,
   "metadata": {},
   "outputs": [
    {
     "name": "stdout",
     "output_type": "stream",
     "text": [
      "['Thriller', 'Family', 'Romance', 'Western', 'TV Movie', 'Fantasy', 'Mystery', 'Action', 'Foreign', 'Horror', 'War', 'Adventure', 'Music', 'Animation', 'History', 'Documentary', 'Crime', 'Comedy', 'Drama', 'Science Fiction']\n"
     ]
    }
   ],
   "source": [
    "print(genres)"
   ]
  },
  {
   "cell_type": "code",
   "execution_count": 109,
   "metadata": {},
   "outputs": [],
   "source": [
    "for genre in genres:\n",
    "    train[genre] = 0"
   ]
  },
  {
   "cell_type": "code",
   "execution_count": 110,
   "metadata": {},
   "outputs": [],
   "source": [
    "genre_counts ={}\n",
    "\n",
    "for genre in genres:\n",
    "    train[genre] = train.genres.apply(lambda x: genre in x if x else 0)\n",
    "    genre_counts[genre] = sum(train[train[genre] == 1][genre])"
   ]
  },
  {
   "cell_type": "code",
   "execution_count": 111,
   "metadata": {},
   "outputs": [
    {
     "data": {
      "text/plain": [
       "{'Thriller': 1859,\n",
       " 'Family': 672,\n",
       " 'Romance': 1422,\n",
       " 'Western': 115,\n",
       " 'TV Movie': 1,\n",
       " 'Fantasy': 627,\n",
       " 'Mystery': 549,\n",
       " 'Action': 1726,\n",
       " 'Foreign': 79,\n",
       " 'Horror': 734,\n",
       " 'War': 242,\n",
       " 'Adventure': 1113,\n",
       " 'Music': 265,\n",
       " 'Animation': 381,\n",
       " 'History': 295,\n",
       " 'Documentary': 218,\n",
       " 'Crime': 1079,\n",
       " 'Comedy': 2586,\n",
       " 'Drama': 3653,\n",
       " 'Science Fiction': 744}"
      ]
     },
     "execution_count": 111,
     "metadata": {},
     "output_type": "execute_result"
    }
   ],
   "source": [
    "genre_counts"
   ]
  },
  {
   "cell_type": "code",
   "execution_count": 112,
   "metadata": {},
   "outputs": [
    {
     "data": {
      "text/plain": [
       "94231606.44895054"
      ]
     },
     "execution_count": 112,
     "metadata": {},
     "output_type": "execute_result"
    }
   ],
   "source": [
    "train[(train.dataset == 'train') & (train.Drama == 1)]['revenue'].std()"
   ]
  },
  {
   "cell_type": "code",
   "execution_count": 113,
   "metadata": {},
   "outputs": [],
   "source": [
    "genre_dict = {}\n",
    "\n",
    "for genre in genres:\n",
    "    #print(genre)\n",
    "    #print(sum(train[genre].fillna(0)), \"\\n\\n\")\n",
    "    genre_dict[genre] = ( train[train[genre] == True]['revenue'].mean(),\n",
    "                         train[train[genre] == True]['revenue'].median(),\n",
    "                         train[train[genre] == 1]['revenue'].std(),\n",
    "                         len(train[train[genre] == True])\n",
    "                        ) "
   ]
  },
  {
   "cell_type": "code",
   "execution_count": 114,
   "metadata": {},
   "outputs": [],
   "source": [
    "gen_df = pd.DataFrame(genre_dict).T"
   ]
  },
  {
   "cell_type": "code",
   "execution_count": 115,
   "metadata": {},
   "outputs": [],
   "source": [
    "gen_df.columns = ['mean', 'median', 'std', 'count']"
   ]
  },
  {
   "cell_type": "code",
   "execution_count": 116,
   "metadata": {},
   "outputs": [],
   "source": [
    "gen_df.reset_index(inplace=True)"
   ]
  },
  {
   "cell_type": "code",
   "execution_count": 117,
   "metadata": {},
   "outputs": [
    {
     "data": {
      "text/html": [
       "<div>\n",
       "<style scoped>\n",
       "    .dataframe tbody tr th:only-of-type {\n",
       "        vertical-align: middle;\n",
       "    }\n",
       "\n",
       "    .dataframe tbody tr th {\n",
       "        vertical-align: top;\n",
       "    }\n",
       "\n",
       "    .dataframe thead th {\n",
       "        text-align: right;\n",
       "    }\n",
       "</style>\n",
       "<table border=\"1\" class=\"dataframe\">\n",
       "  <thead>\n",
       "    <tr style=\"text-align: right;\">\n",
       "      <th></th>\n",
       "      <th>index</th>\n",
       "      <th>mean</th>\n",
       "      <th>median</th>\n",
       "      <th>std</th>\n",
       "      <th>count</th>\n",
       "    </tr>\n",
       "  </thead>\n",
       "  <tbody>\n",
       "    <tr>\n",
       "      <th>0</th>\n",
       "      <td>Thriller</td>\n",
       "      <td>69213876.68</td>\n",
       "      <td>22490039.00</td>\n",
       "      <td>116853780.41</td>\n",
       "      <td>1859.00</td>\n",
       "    </tr>\n",
       "    <tr>\n",
       "      <th>1</th>\n",
       "      <td>Family</td>\n",
       "      <td>140519169.60</td>\n",
       "      <td>58662452.00</td>\n",
       "      <td>210595022.71</td>\n",
       "      <td>672.00</td>\n",
       "    </tr>\n",
       "    <tr>\n",
       "      <th>2</th>\n",
       "      <td>Romance</td>\n",
       "      <td>53932900.97</td>\n",
       "      <td>15454665.00</td>\n",
       "      <td>105470533.14</td>\n",
       "      <td>1422.00</td>\n",
       "    </tr>\n",
       "    <tr>\n",
       "      <th>3</th>\n",
       "      <td>Western</td>\n",
       "      <td>53876517.41</td>\n",
       "      <td>9012000.00</td>\n",
       "      <td>109212367.38</td>\n",
       "      <td>115.00</td>\n",
       "    </tr>\n",
       "    <tr>\n",
       "      <th>4</th>\n",
       "      <td>TV Movie</td>\n",
       "      <td>42000000.00</td>\n",
       "      <td>42000000.00</td>\n",
       "      <td>nan</td>\n",
       "      <td>1.00</td>\n",
       "    </tr>\n",
       "    <tr>\n",
       "      <th>...</th>\n",
       "      <td>...</td>\n",
       "      <td>...</td>\n",
       "      <td>...</td>\n",
       "      <td>...</td>\n",
       "      <td>...</td>\n",
       "    </tr>\n",
       "    <tr>\n",
       "      <th>15</th>\n",
       "      <td>Documentary</td>\n",
       "      <td>4803650.29</td>\n",
       "      <td>278012.00</td>\n",
       "      <td>13532656.33</td>\n",
       "      <td>218.00</td>\n",
       "    </tr>\n",
       "    <tr>\n",
       "      <th>16</th>\n",
       "      <td>Crime</td>\n",
       "      <td>60132346.34</td>\n",
       "      <td>25090527.50</td>\n",
       "      <td>105469879.66</td>\n",
       "      <td>1079.00</td>\n",
       "    </tr>\n",
       "    <tr>\n",
       "      <th>17</th>\n",
       "      <td>Comedy</td>\n",
       "      <td>62022064.29</td>\n",
       "      <td>19776159.00</td>\n",
       "      <td>109723433.46</td>\n",
       "      <td>2586.00</td>\n",
       "    </tr>\n",
       "    <tr>\n",
       "      <th>18</th>\n",
       "      <td>Drama</td>\n",
       "      <td>46098606.34</td>\n",
       "      <td>11934723.50</td>\n",
       "      <td>94231606.45</td>\n",
       "      <td>3653.00</td>\n",
       "    </tr>\n",
       "    <tr>\n",
       "      <th>19</th>\n",
       "      <td>Science Fiction</td>\n",
       "      <td>122367176.31</td>\n",
       "      <td>35109301.50</td>\n",
       "      <td>219234188.27</td>\n",
       "      <td>744.00</td>\n",
       "    </tr>\n",
       "  </tbody>\n",
       "</table>\n",
       "<p>20 rows × 5 columns</p>\n",
       "</div>"
      ],
      "text/plain": [
       "              index         mean      median          std   count\n",
       "0          Thriller  69213876.68 22490039.00 116853780.41 1859.00\n",
       "1            Family 140519169.60 58662452.00 210595022.71  672.00\n",
       "2           Romance  53932900.97 15454665.00 105470533.14 1422.00\n",
       "3           Western  53876517.41  9012000.00 109212367.38  115.00\n",
       "4          TV Movie  42000000.00 42000000.00          nan    1.00\n",
       "..              ...          ...         ...          ...     ...\n",
       "15      Documentary   4803650.29   278012.00  13532656.33  218.00\n",
       "16            Crime  60132346.34 25090527.50 105469879.66 1079.00\n",
       "17           Comedy  62022064.29 19776159.00 109723433.46 2586.00\n",
       "18            Drama  46098606.34 11934723.50  94231606.45 3653.00\n",
       "19  Science Fiction 122367176.31 35109301.50 219234188.27  744.00\n",
       "\n",
       "[20 rows x 5 columns]"
      ]
     },
     "execution_count": 117,
     "metadata": {},
     "output_type": "execute_result"
    }
   ],
   "source": [
    "gen_df"
   ]
  },
  {
   "cell_type": "markdown",
   "metadata": {},
   "source": [
    "According to the law of large numbers, we are more likely to see very low or very high averages when the sample size is small.<br> Something to keep in mind here."
   ]
  },
  {
   "cell_type": "code",
   "execution_count": 118,
   "metadata": {},
   "outputs": [
    {
     "data": {
      "text/plain": [
       "<seaborn.axisgrid.FacetGrid at 0x7fe78dc8f7b8>"
      ]
     },
     "execution_count": 118,
     "metadata": {},
     "output_type": "execute_result"
    },
    {
     "data": {
      "image/png": "[encoded data removed]",
      "text/plain": [
       "<Figure size 864x288 with 1 Axes>"
      ]
     },
     "metadata": {
      "needs_background": "light"
     },
     "output_type": "display_data"
    }
   ],
   "source": [
    "f = sns.catplot(x='index', y= 'median', data=gen_df, kind='bar', ci='sd')\n",
    "f.fig.set_size_inches(12, 4)\n",
    "f.set_xticklabels( rotation=45)"
   ]
  },
  {
   "cell_type": "code",
   "execution_count": 119,
   "metadata": {},
   "outputs": [
    {
     "data": {
      "image/png": "[encoded data removed]",
      "text/plain": [
       "<Figure size 1296x1440 with 21 Axes>"
      ]
     },
     "metadata": {
      "needs_background": "light"
     },
     "output_type": "display_data"
    }
   ],
   "source": [
    "f, axes = plt.subplots(7, 3, figsize=(18, 20))\n",
    "plt.suptitle('Boxplots of revenue vs genres')\n",
    "#plt.tight_layout()\n",
    "i = 0\n",
    "for genre in genres:\n",
    "    subset = train[ (train.dataset == 'train') & (train[genre] == 1)]\n",
    "    b = sns.boxplot(subset.revenue, ax=axes[i // 3][i % 3], )\n",
    "    b.set_title(genre)\n",
    "    i += 1\n",
    "    \n",
    "# can't fix the overlapping titles"
   ]
  },
  {
   "cell_type": "code",
   "execution_count": 120,
   "metadata": {},
   "outputs": [],
   "source": [
    "'''\n",
    "for genre in genres:\n",
    "    subset = train[ (train.dataset == 'train') & (train[genre] == 1)]\n",
    "    plt.figure(figsize=(5, 2))\n",
    "    b = sns.boxplot(subset.revenue)\n",
    "    b.figure.suptitle(genre)\n",
    "''';"
   ]
  },
  {
   "cell_type": "markdown",
   "metadata": {},
   "source": [
    "Also in the genre category, we see big outliers."
   ]
  },
  {
   "cell_type": "markdown",
   "metadata": {},
   "source": [
    "### Popularity"
   ]
  },
  {
   "cell_type": "markdown",
   "metadata": {},
   "source": [
    "I'm not sure what popularity is, given the fact that the aim of this competition is to predict revenue PRIOR TO the release of a movie."
   ]
  },
  {
   "cell_type": "code",
   "execution_count": 121,
   "metadata": {},
   "outputs": [
    {
     "name": "stdout",
     "output_type": "stream",
     "text": [
      "Pearsons correlation: 0.460\n"
     ]
    }
   ],
   "source": [
    "corr, _ = pearsonr(train[train.dataset == 'train']['popularity'], train[train.dataset == 'train']['revenue'])\n",
    "print('Pearsons correlation: %.3f' % corr)"
   ]
  },
  {
   "cell_type": "code",
   "execution_count": 122,
   "metadata": {},
   "outputs": [
    {
     "data": {
      "image/png": "[encoded data removed]",
      "text/plain": [
       "<Figure size 720x432 with 1 Axes>"
      ]
     },
     "metadata": {
      "needs_background": "light"
     },
     "output_type": "display_data"
    }
   ],
   "source": [
    "f = sns.regplot(train.popularity, train.revenue, order=2);\n",
    "f.figure.set_size_inches(10, 6)"
   ]
  },
  {
   "cell_type": "code",
   "execution_count": 123,
   "metadata": {},
   "outputs": [
    {
     "data": {
      "image/png": "[encoded data removed]",
      "text/plain": [
       "<Figure size 720x432 with 1 Axes>"
      ]
     },
     "metadata": {
      "needs_background": "light"
     },
     "output_type": "display_data"
    }
   ],
   "source": [
    "#removing outliers\n",
    "\n",
    "no_outliers = train[(train.dataset == 'train') & (train.popularity < 100)]\n",
    "f = sns.regplot(no_outliers.popularity, no_outliers.revenue, order=2);\n",
    "f.figure.set_size_inches(10, 6)"
   ]
  },
  {
   "cell_type": "code",
   "execution_count": 124,
   "metadata": {},
   "outputs": [
    {
     "data": {
      "text/plain": [
       "<matplotlib.axes._subplots.AxesSubplot at 0x7fe78e9c82b0>"
      ]
     },
     "execution_count": 124,
     "metadata": {},
     "output_type": "execute_result"
    },
    {
     "data": {
      "image/png": "[encoded data removed]",
      "text/plain": [
       "<Figure size 432x288 with 1 Axes>"
      ]
     },
     "metadata": {
      "needs_background": "light"
     },
     "output_type": "display_data"
    }
   ],
   "source": [
    "sns.scatterplot(no_outliers.popularity,no_outliers.revenue, alpha=0.2)"
   ]
  },
  {
   "cell_type": "code",
   "execution_count": 125,
   "metadata": {},
   "outputs": [
    {
     "name": "stdout",
     "output_type": "stream",
     "text": [
      "Pearsons correlation: 0.511\n"
     ]
    }
   ],
   "source": [
    "corr, _ = pearsonr(no_outliers.popularity, no_outliers.revenue)\n",
    "print('Pearsons correlation: %.3f' % corr)"
   ]
  },
  {
   "cell_type": "markdown",
   "metadata": {},
   "source": [
    "Looking at it, I am not convinced it is a good feature, fitting a linear regression line, even of a 2nd order, and even dropping the outliers, still looks forced to me. However, the correlation of 0.5 cannot be ignored, plus we have no better feature to use so far."
   ]
  },
  {
   "cell_type": "markdown",
   "metadata": {},
   "source": [
    "### Release Date"
   ]
  },
  {
   "cell_type": "markdown",
   "metadata": {},
   "source": [
    "This could be relevant, because of the inflation and rising prices across the decades, and the entertainment industry as such has been growing exponentially (more $$$)"
   ]
  },
  {
   "cell_type": "code",
   "execution_count": 126,
   "metadata": {},
   "outputs": [
    {
     "data": {
      "text/plain": [
       "0     2/20/15\n",
       "1      8/6/04\n",
       "2    10/10/14\n",
       "3      3/9/12\n",
       "4      2/5/09\n",
       "Name: release_date, dtype: object"
      ]
     },
     "execution_count": 126,
     "metadata": {},
     "output_type": "execute_result"
    }
   ],
   "source": [
    "train.release_date[:5]"
   ]
  },
  {
   "cell_type": "code",
   "execution_count": 127,
   "metadata": {},
   "outputs": [],
   "source": [
    "train.release_date.fillna('8/6/04', inplace=True)"
   ]
  },
  {
   "cell_type": "code",
   "execution_count": 128,
   "metadata": {},
   "outputs": [],
   "source": [
    "#train = train[~train.release_date.isnull()]"
   ]
  },
  {
   "cell_type": "code",
   "execution_count": 129,
   "metadata": {},
   "outputs": [],
   "source": [
    "train['year'] = train.release_date.str[-2:]#.apply(int)\n",
    "train.year = train.year.apply(lambda x: \"20\" + x if int(x) < 20 else \"19\" + x).apply(int)"
   ]
  },
  {
   "cell_type": "code",
   "execution_count": 130,
   "metadata": {},
   "outputs": [
    {
     "data": {
      "text/plain": [
       "2004.0"
      ]
     },
     "execution_count": 130,
     "metadata": {},
     "output_type": "execute_result"
    }
   ],
   "source": [
    "train.year.median()"
   ]
  },
  {
   "cell_type": "code",
   "execution_count": 131,
   "metadata": {},
   "outputs": [
    {
     "data": {
      "text/plain": [
       "<seaborn.axisgrid.FacetGrid at 0x7fe78eb4e710>"
      ]
     },
     "execution_count": 131,
     "metadata": {},
     "output_type": "execute_result"
    },
    {
     "data": {
      "image/png": "[encoded data removed]",
      "text/plain": [
       "<Figure size 1152x288 with 1 Axes>"
      ]
     },
     "metadata": {
      "needs_background": "light"
     },
     "output_type": "display_data"
    }
   ],
   "source": [
    "f = sns.catplot(x='year', y= 'revenue', data=train, kind='bar', ci=None)\n",
    "f.fig.set_size_inches(16, 4)\n",
    "f.set_xticklabels( rotation=80)"
   ]
  },
  {
   "cell_type": "markdown",
   "metadata": {},
   "source": [
    "My hunch was correct!"
   ]
  },
  {
   "cell_type": "code",
   "execution_count": 132,
   "metadata": {},
   "outputs": [
    {
     "data": {
      "text/plain": [
       "id                0.00\n",
       "budget            0.75\n",
       "popularity        0.46\n",
       "runtime           0.22\n",
       "revenue           1.00\n",
       "is_english        0.14\n",
       "has_collection    0.34\n",
       "missing_budget   -0.24\n",
       "year              0.14\n",
       "Name: revenue, dtype: float64"
      ]
     },
     "execution_count": 132,
     "metadata": {},
     "output_type": "execute_result"
    }
   ],
   "source": [
    "train.corr()['revenue']"
   ]
  },
  {
   "cell_type": "markdown",
   "metadata": {},
   "source": [
    "I am surprised why year has no correlation with revenue, if from the graph we can clearly see a relationship."
   ]
  },
  {
   "cell_type": "code",
   "execution_count": 133,
   "metadata": {},
   "outputs": [
    {
     "data": {
      "text/plain": [
       "<matplotlib.axes._subplots.AxesSubplot at 0x7fe78ea46400>"
      ]
     },
     "execution_count": 133,
     "metadata": {},
     "output_type": "execute_result"
    },
    {
     "data": {
      "image/png": "[encoded data removed]",
      "text/plain": [
       "<Figure size 432x288 with 1 Axes>"
      ]
     },
     "metadata": {
      "needs_background": "light"
     },
     "output_type": "display_data"
    }
   ],
   "source": [
    "sns.scatterplot(train.year, train.revenue)"
   ]
  },
  {
   "cell_type": "markdown",
   "metadata": {},
   "source": [
    "I see, even though the averages are clearly correlation, too many low-revenue movies are produced in recent times, which cancels out the correlation."
   ]
  },
  {
   "cell_type": "code",
   "execution_count": null,
   "metadata": {},
   "outputs": [],
   "source": []
  },
  {
   "cell_type": "markdown",
   "metadata": {},
   "source": [
    "I am going to bin this feature, even though the literature says that 9 out of 10, you should not bin as you will throw away important trends. In this case, I don't believe there is a relationship between a specific year, and revenue. What is there, however, is a general trend, with rising revenue and times changing (80s, 90s etc). This is unwanted granularity to me. I want to smooth this trend out, by removing outliers, and this can be achieved by binning, taking the median."
   ]
  },
  {
   "cell_type": "code",
   "execution_count": 134,
   "metadata": {},
   "outputs": [],
   "source": [
    "train['year_bins'] = pd.cut(train.year, bins=11)"
   ]
  },
  {
   "cell_type": "code",
   "execution_count": 135,
   "metadata": {},
   "outputs": [
    {
     "data": {
      "text/plain": [
       "<seaborn.axisgrid.FacetGrid at 0x7fe78ea79668>"
      ]
     },
     "execution_count": 135,
     "metadata": {},
     "output_type": "execute_result"
    },
    {
     "data": {
      "image/png": "[encoded data removed]",
      "text/plain": [
       "<Figure size 720x288 with 1 Axes>"
      ]
     },
     "metadata": {
      "needs_background": "light"
     },
     "output_type": "display_data"
    }
   ],
   "source": [
    "f = sns.catplot(x='year_bins', y= 'revenue', data=train, kind='bar', ci=None, estimator=np.mean)\n",
    "f.fig.set_size_inches(10, 4)\n",
    "f.set_xticklabels( rotation=80)"
   ]
  },
  {
   "cell_type": "markdown",
   "metadata": {},
   "source": [
    "This looks like more meaningful and generizable than without binning. It will also prevent overfitting, in case you have only one or few movies made in e.g. 1974 with super high revenue."
   ]
  },
  {
   "cell_type": "code",
   "execution_count": 136,
   "metadata": {},
   "outputs": [],
   "source": [
    "train['year_bins'] = pd.cut(train.year, bins=11, labels=range(11))"
   ]
  },
  {
   "cell_type": "markdown",
   "metadata": {},
   "source": [
    "This didn't work as I expected, didn't increase the correlation."
   ]
  },
  {
   "cell_type": "code",
   "execution_count": 137,
   "metadata": {},
   "outputs": [],
   "source": [
    "train.drop('release_date', inplace=True, axis=1)"
   ]
  },
  {
   "cell_type": "markdown",
   "metadata": {},
   "source": [
    "### Runtime"
   ]
  },
  {
   "cell_type": "code",
   "execution_count": 138,
   "metadata": {},
   "outputs": [
    {
     "data": {
      "text/plain": [
       "<seaborn.axisgrid.FacetGrid at 0x7fe791ebf6d8>"
      ]
     },
     "execution_count": 138,
     "metadata": {},
     "output_type": "execute_result"
    },
    {
     "data": {
      "image/png": "[encoded data removed]",
      "text/plain": [
       "<Figure size 1152x288 with 1 Axes>"
      ]
     },
     "metadata": {
      "needs_background": "light"
     },
     "output_type": "display_data"
    }
   ],
   "source": [
    "f = sns.catplot(x='runtime', y= 'revenue', data=train, kind='bar', ci=None)\n",
    "f.fig.set_size_inches(16, 4)\n",
    "f.set_xticklabels( rotation=90)"
   ]
  },
  {
   "cell_type": "markdown",
   "metadata": {},
   "source": [
    "The shortest movies never bring much revenue, but with average and long duration, it looks very random. I think that here, just like in the case of production year, smoothing out this feature could result in better generalization of the model."
   ]
  },
  {
   "cell_type": "code",
   "execution_count": 139,
   "metadata": {},
   "outputs": [
    {
     "data": {
      "text/plain": [
       "<matplotlib.axes._subplots.AxesSubplot at 0x7fe78de49748>"
      ]
     },
     "execution_count": 139,
     "metadata": {},
     "output_type": "execute_result"
    },
    {
     "data": {
      "image/png": "[encoded data removed]",
      "text/plain": [
       "<Figure size 432x288 with 1 Axes>"
      ]
     },
     "metadata": {
      "needs_background": "light"
     },
     "output_type": "display_data"
    }
   ],
   "source": [
    "sns.scatterplot(train[train.dataset == 'train']['runtime'], train[train.dataset == 'train']['revenue'], alpha=0.4)"
   ]
  },
  {
   "cell_type": "markdown",
   "metadata": {},
   "source": [
    "Looking at the scatter plot convinced me not to bin this feature."
   ]
  },
  {
   "cell_type": "code",
   "execution_count": 140,
   "metadata": {},
   "outputs": [
    {
     "data": {
      "text/plain": [
       "6"
      ]
     },
     "execution_count": 140,
     "metadata": {},
     "output_type": "execute_result"
    }
   ],
   "source": [
    "len(train[train.runtime.isnull()])"
   ]
  },
  {
   "cell_type": "code",
   "execution_count": 141,
   "metadata": {},
   "outputs": [],
   "source": [
    "train.runtime.fillna(train.runtime.median(), inplace=True)"
   ]
  },
  {
   "cell_type": "markdown",
   "metadata": {},
   "source": [
    "I would like to somehow quantify how good this feature is. I cannot use correlation, because the relationship runtime-revenue is not linear (even though it's quite strong). In a perfect nonlinear relationship (parabola) the correlation will be 0. But what if i slice the dataset in two - below and above the median, and then calculate two correlations? Could this work? Hmm"
   ]
  },
  {
   "cell_type": "code",
   "execution_count": 143,
   "metadata": {},
   "outputs": [
    {
     "name": "stdout",
     "output_type": "stream",
     "text": [
      "Pearsons correlation for short: 0.063\n",
      "Pearsons correlation for long: 0.154\n"
     ]
    }
   ],
   "source": [
    "short = train[train.runtime < train.runtime.median()] \n",
    "long = train[train.runtime > train.runtime.median()] \n",
    "\n",
    "corr, _ = pearsonr(short[short.dataset == 'train'].runtime, short[short.dataset == 'train'].revenue)\n",
    "print('Pearsons correlation for short: %.3f' % corr)\n",
    "\n",
    "corr, _ = pearsonr(long[long.dataset == 'train'].runtime, long[long.dataset == 'train'].revenue)\n",
    "print('Pearsons correlation for long: %.3f' % corr)\n"
   ]
  },
  {
   "cell_type": "code",
   "execution_count": 144,
   "metadata": {},
   "outputs": [
    {
     "data": {
      "text/plain": [
       "<matplotlib.axes._subplots.AxesSubplot at 0x7fe78eb845f8>"
      ]
     },
     "execution_count": 144,
     "metadata": {},
     "output_type": "execute_result"
    },
    {
     "data": {
      "image/png": "[encoded data removed]",
      "text/plain": [
       "<Figure size 432x288 with 1 Axes>"
      ]
     },
     "metadata": {
      "needs_background": "light"
     },
     "output_type": "display_data"
    }
   ],
   "source": [
    "sns.regplot(short.runtime, short.revenue)"
   ]
  },
  {
   "cell_type": "code",
   "execution_count": 145,
   "metadata": {},
   "outputs": [
    {
     "data": {
      "text/plain": [
       "<matplotlib.axes._subplots.AxesSubplot at 0x7fe78ebeb198>"
      ]
     },
     "execution_count": 145,
     "metadata": {},
     "output_type": "execute_result"
    },
    {
     "data": {
      "image/png": "[encoded data removed]",
      "text/plain": [
       "<Figure size 432x288 with 1 Axes>"
      ]
     },
     "metadata": {
      "needs_background": "light"
     },
     "output_type": "display_data"
    }
   ],
   "source": [
    "sns.regplot(long.runtime, long.revenue)"
   ]
  },
  {
   "cell_type": "markdown",
   "metadata": {},
   "source": [
    "Not really. I think I was mislead by the fact that I can see the outliers clearly as dots, but where the color is solid (all dots merge into one), it accounts for most data points."
   ]
  },
  {
   "cell_type": "markdown",
   "metadata": {},
   "source": [
    "### Website"
   ]
  },
  {
   "cell_type": "markdown",
   "metadata": {},
   "source": [
    "I'm not going to scrape the websites, but the missing data might be an indicator of movie's quality."
   ]
  },
  {
   "cell_type": "code",
   "execution_count": 146,
   "metadata": {},
   "outputs": [
    {
     "data": {
      "image/png": "[encoded data removed]",
      "text/plain": [
       "<Figure size 432x288 with 1 Axes>"
      ]
     },
     "metadata": {
      "needs_background": "light"
     },
     "output_type": "display_data"
    }
   ],
   "source": [
    "plt.figure()\n",
    "plt.bar(x=['with website', 'without website'], \n",
    "        height=[train[train.homepage.notnull() & (train.dataset == 'train')]['revenue'].median(), \n",
    "                train[train.homepage.isnull() & (train.dataset == 'train')]['revenue'].median()]);"
   ]
  },
  {
   "cell_type": "code",
   "execution_count": 147,
   "metadata": {},
   "outputs": [],
   "source": [
    "train.homepage = train.homepage.notnull()"
   ]
  },
  {
   "cell_type": "code",
   "execution_count": 148,
   "metadata": {},
   "outputs": [
    {
     "data": {
      "text/plain": [
       "Released           7341\n",
       "Rumored               5\n",
       "Post Production       5\n",
       "Name: status, dtype: int64"
      ]
     },
     "execution_count": 148,
     "metadata": {},
     "output_type": "execute_result"
    }
   ],
   "source": [
    "train.status.value_counts()"
   ]
  },
  {
   "cell_type": "markdown",
   "metadata": {},
   "source": [
    "### Tagline"
   ]
  },
  {
   "cell_type": "code",
   "execution_count": 149,
   "metadata": {},
   "outputs": [
    {
     "data": {
      "text/plain": [
       "['The Laws of Space and Time are About to be Violated.',\n",
       " \"It can take a lifetime to find true love; she's got 30 days!\",\n",
       " 'The road to greatness can take you to the edge.',\n",
       " nan,\n",
       " nan,\n",
       " nan,\n",
       " \"Fear The Demon That Doesn't Fear God\",\n",
       " 'Different channels. Different truths.',\n",
       " 'Set sail for Muppet mayhem!',\n",
       " 'Back together for the first time, again.']"
      ]
     },
     "execution_count": 149,
     "metadata": {},
     "output_type": "execute_result"
    }
   ],
   "source": [
    "train.tagline.tolist()[:10]"
   ]
  },
  {
   "cell_type": "code",
   "execution_count": 150,
   "metadata": {},
   "outputs": [
    {
     "data": {
      "image/png": "[encoded data removed]",
      "text/plain": [
       "<Figure size 432x288 with 1 Axes>"
      ]
     },
     "metadata": {
      "needs_background": "light"
     },
     "output_type": "display_data"
    }
   ],
   "source": [
    "plt.bar(x=['with tagline', 'without tagline'], \n",
    "        height=[train[train.tagline.notnull()]['revenue'].median(), \n",
    "                train[train.tagline.isnull()]['revenue'].median()]);"
   ]
  },
  {
   "cell_type": "code",
   "execution_count": 151,
   "metadata": {},
   "outputs": [],
   "source": [
    "train['has_tagline'] = train.tagline.notnull()"
   ]
  },
  {
   "cell_type": "code",
   "execution_count": 152,
   "metadata": {},
   "outputs": [
    {
     "data": {
      "text/plain": [
       "1440"
      ]
     },
     "execution_count": 152,
     "metadata": {},
     "output_type": "execute_result"
    }
   ],
   "source": [
    "sum(train.tagline.isnull())"
   ]
  },
  {
   "cell_type": "code",
   "execution_count": 153,
   "metadata": {},
   "outputs": [],
   "source": [
    "train['tagline_len'] = train.tagline.apply(lambda x: len(x) if not pd.isna(x) else 0)"
   ]
  },
  {
   "cell_type": "code",
   "execution_count": 154,
   "metadata": {},
   "outputs": [],
   "source": [
    "train['tagline_len_bins'] = pd.cut(train.tagline_len, bins=30)"
   ]
  },
  {
   "cell_type": "code",
   "execution_count": 155,
   "metadata": {},
   "outputs": [
    {
     "data": {
      "image/png": "[encoded data removed]",
      "text/plain": [
       "<Figure size 864x504 with 1 Axes>"
      ]
     },
     "metadata": {
      "needs_background": "light"
     },
     "output_type": "display_data"
    }
   ],
   "source": [
    "f = sns.barplot(train.loc[train.dataset == 'train', 'tagline_len_bins'], \n",
    "            train.loc[train.dataset == 'train', 'revenue'])\n",
    "\n",
    "f.figure.set_size_inches(12, 7)\n",
    "\n",
    "f.set_xticklabels(train.loc[train.dataset == 'train', 'tagline_len_bins'].tolist(), rotation=80,);"
   ]
  },
  {
   "cell_type": "markdown",
   "metadata": {},
   "source": [
    "Looks good to me!<br> 'Free' feature :-)"
   ]
  },
  {
   "cell_type": "markdown",
   "metadata": {},
   "source": [
    "### Production company"
   ]
  },
  {
   "cell_type": "markdown",
   "metadata": {},
   "source": [
    "We already know that english language movies have higher revenue. Production companies could let us further differentiate within english movies."
   ]
  },
  {
   "cell_type": "code",
   "execution_count": 156,
   "metadata": {},
   "outputs": [
    {
     "data": {
      "text/plain": [
       "404"
      ]
     },
     "execution_count": 156,
     "metadata": {},
     "output_type": "execute_result"
    }
   ],
   "source": [
    "sum(train.production_companies.isnull())"
   ]
  },
  {
   "cell_type": "code",
   "execution_count": 157,
   "metadata": {},
   "outputs": [
    {
     "data": {
      "image/png": "[encoded data removed]",
      "text/plain": [
       "<Figure size 432x288 with 1 Axes>"
      ]
     },
     "metadata": {
      "needs_background": "light"
     },
     "output_type": "display_data"
    }
   ],
   "source": [
    "plt.bar(x=['with', 'without'], \n",
    "        height=[train[train.production_companies.notnull()]['revenue'].median(), \n",
    "                train[train.production_companies.isnull()]['revenue'].median()]);"
   ]
  },
  {
   "cell_type": "markdown",
   "metadata": {},
   "source": [
    "It's a good predictor, but the categories are imbalanced."
   ]
  },
  {
   "cell_type": "code",
   "execution_count": 158,
   "metadata": {},
   "outputs": [],
   "source": [
    "train['has_production'] = train.production_companies.notnull()"
   ]
  },
  {
   "cell_type": "code",
   "execution_count": 159,
   "metadata": {},
   "outputs": [],
   "source": [
    "train.production_companies = train.production_companies.apply(lambda x: ast.literal_eval(x) if not pd.isna(x) else None)"
   ]
  },
  {
   "cell_type": "markdown",
   "metadata": {},
   "source": [
    "The first position in the dictionary seems to be the main production company, so I will take only that one."
   ]
  },
  {
   "cell_type": "code",
   "execution_count": 160,
   "metadata": {},
   "outputs": [],
   "source": [
    "train.production_companies = train.production_companies.str[0]"
   ]
  },
  {
   "cell_type": "code",
   "execution_count": 161,
   "metadata": {},
   "outputs": [
    {
     "data": {
      "text/plain": [
       "0                 {'name': 'Paramount Pictures', 'id': 4}\n",
       "1               {'name': 'Walt Disney Pictures', 'id': 2}\n",
       "2                      {'name': 'Bold Films', 'id': 2266}\n",
       "3                                                    None\n",
       "4                                                    None\n",
       "                              ...                        \n",
       "7393              {'name': 'Intermedia Films', 'id': 763}\n",
       "7394              {'name': 'Paramount Pictures', 'id': 4}\n",
       "7395    {'name': 'Twentieth Century Fox Film Corporati...\n",
       "7396        {'name': 'Northern Lights Films', 'id': 8714}\n",
       "7397       {'name': 'Pathé Consortium Cinéma', 'id': 220}\n",
       "Name: production_companies, Length: 7353, dtype: object"
      ]
     },
     "execution_count": 161,
     "metadata": {},
     "output_type": "execute_result"
    }
   ],
   "source": [
    "train.production_companies"
   ]
  },
  {
   "cell_type": "code",
   "execution_count": 162,
   "metadata": {},
   "outputs": [],
   "source": [
    "train['prod_id'] = train.production_companies.apply(lambda x: x['id'] if pd.notnull(x) else None)\n",
    "train['prod_name'] = train.production_companies.apply(lambda x: x['name'] if pd.notnull(x) else None)"
   ]
  },
  {
   "cell_type": "code",
   "execution_count": 163,
   "metadata": {},
   "outputs": [
    {
     "data": {
      "text/plain": [
       "Universal Pictures                        166\n",
       "Paramount Pictures                        155\n",
       "Twentieth Century Fox Film Corporation    122\n",
       "Columbia Pictures                          90\n",
       "New Line Cinema                            69\n",
       "Warner Bros.                               69\n",
       "Walt Disney Pictures                       62\n",
       "Columbia Pictures Corporation              44\n",
       "TriStar Pictures                           43\n",
       "United Artists                             41\n",
       "Name: prod_name, dtype: int64"
      ]
     },
     "execution_count": 163,
     "metadata": {},
     "output_type": "execute_result"
    }
   ],
   "source": [
    "train[train.dataset == 'train'].prod_name.value_counts()[:10]"
   ]
  },
  {
   "cell_type": "markdown",
   "metadata": {},
   "source": [
    "Creating onehotencoding for top 10 biggest production companies"
   ]
  },
  {
   "cell_type": "code",
   "execution_count": 164,
   "metadata": {},
   "outputs": [
    {
     "name": "stdout",
     "output_type": "stream",
     "text": [
      "Universal Pictures\n",
      "Paramount Pictures\n",
      "Twentieth Century Fox Film Corporation\n",
      "Columbia Pictures\n",
      "New Line Cinema\n",
      "Warner Bros.\n",
      "Walt Disney Pictures\n",
      "Columbia Pictures Corporation\n",
      "TriStar Pictures\n",
      "United Artists\n"
     ]
    }
   ],
   "source": [
    "for comp in train[train.dataset == 'train'].prod_name.value_counts()[:10].index:\n",
    "    train[comp] = 0\n",
    "\n",
    "for comp in train[train.dataset == 'train'].prod_name.value_counts()[:10].index:\n",
    "    print(comp)\n",
    "    train.loc[train.prod_name == comp, comp] = 1"
   ]
  },
  {
   "cell_type": "markdown",
   "metadata": {},
   "source": [
    "Production company is an example of categorical data with high cardinality. Normally, I would use onehotencoding for companies, but in this case, it will slow down the model (too many features), given many categories with only 1 member. Moreover, it can be prone to overfitting. <br><br>\n",
    "I can solve this issue by:\n",
    "1. Adding a new column, 'company_avg' which is the average of the revenue within the company group.\n",
    "2. Use onehot only for top n biggest companies\n",
    "3. (trying hard to be creative) Turning this feature into an ordinal feature, 1 - company with lowest revenue mean, N - company with highest revenue mean.\n",
    "\n",
    "<br>\n",
    "The problem options 1 and 3 pose, is that I will have to create this column in the test data too, with values from the train data. But given high cardinality, it will happen that many production companies in the test data are not in the train data, so i have no value to input there."
   ]
  },
  {
   "cell_type": "code",
   "execution_count": 165,
   "metadata": {},
   "outputs": [],
   "source": [
    "x = set(train[train.dataset == 'train']['prod_name'])\n",
    "y = set(train[train.dataset == 'test']['prod_name'])"
   ]
  },
  {
   "cell_type": "code",
   "execution_count": 166,
   "metadata": {},
   "outputs": [
    {
     "data": {
      "text/plain": [
       "939"
      ]
     },
     "execution_count": 166,
     "metadata": {},
     "output_type": "execute_result"
    }
   ],
   "source": [
    "len(y - x)"
   ]
  },
  {
   "cell_type": "code",
   "execution_count": 167,
   "metadata": {},
   "outputs": [
    {
     "data": {
      "text/plain": [
       "1632"
      ]
     },
     "execution_count": 167,
     "metadata": {},
     "output_type": "execute_result"
    }
   ],
   "source": [
    "sum(train.prod_name.value_counts() < 3)"
   ]
  },
  {
   "cell_type": "code",
   "execution_count": 168,
   "metadata": {},
   "outputs": [
    {
     "data": {
      "text/plain": [
       "test     258\n",
       "train    146\n",
       "Name: dataset, dtype: int64"
      ]
     },
     "execution_count": 168,
     "metadata": {},
     "output_type": "execute_result"
    }
   ],
   "source": [
    "train[train.production_companies.isnull()]['dataset'].value_counts()"
   ]
  },
  {
   "cell_type": "code",
   "execution_count": 169,
   "metadata": {},
   "outputs": [
    {
     "data": {
      "text/plain": [
       "3.498992950654582"
      ]
     },
     "execution_count": 169,
     "metadata": {},
     "output_type": "execute_result"
    }
   ],
   "source": [
    "train.prod_name.value_counts().mean()"
   ]
  },
  {
   "cell_type": "code",
   "execution_count": 170,
   "metadata": {},
   "outputs": [
    {
     "data": {
      "text/plain": [
       "1.0"
      ]
     },
     "execution_count": 170,
     "metadata": {},
     "output_type": "execute_result"
    }
   ],
   "source": [
    "train.prod_name.value_counts().median()"
   ]
  },
  {
   "cell_type": "code",
   "execution_count": 171,
   "metadata": {},
   "outputs": [],
   "source": [
    "agg = train.loc[train.dataset == 'train'][['prod_name', 'revenue']].groupby('prod_name').agg({'prod_name' : 'size', \n",
    "                                                                'revenue' : ['mean', list ],\n",
    "                                                               })"
   ]
  },
  {
   "cell_type": "code",
   "execution_count": 172,
   "metadata": {},
   "outputs": [
    {
     "data": {
      "text/html": [
       "<div>\n",
       "<style scoped>\n",
       "    .dataframe tbody tr th:only-of-type {\n",
       "        vertical-align: middle;\n",
       "    }\n",
       "\n",
       "    .dataframe tbody tr th {\n",
       "        vertical-align: top;\n",
       "    }\n",
       "\n",
       "    .dataframe thead tr th {\n",
       "        text-align: left;\n",
       "    }\n",
       "\n",
       "    .dataframe thead tr:last-of-type th {\n",
       "        text-align: right;\n",
       "    }\n",
       "</style>\n",
       "<table border=\"1\" class=\"dataframe\">\n",
       "  <thead>\n",
       "    <tr>\n",
       "      <th></th>\n",
       "      <th>prod_name</th>\n",
       "      <th colspan=\"2\" halign=\"left\">revenue</th>\n",
       "    </tr>\n",
       "    <tr>\n",
       "      <th></th>\n",
       "      <th>size</th>\n",
       "      <th>mean</th>\n",
       "      <th>list</th>\n",
       "    </tr>\n",
       "    <tr>\n",
       "      <th>prod_name</th>\n",
       "      <th></th>\n",
       "      <th></th>\n",
       "      <th></th>\n",
       "    </tr>\n",
       "  </thead>\n",
       "  <tbody>\n",
       "    <tr>\n",
       "      <th>10th Hole Productions</th>\n",
       "      <td>1</td>\n",
       "      <td>123820.00</td>\n",
       "      <td>[123820.0]</td>\n",
       "    </tr>\n",
       "    <tr>\n",
       "      <th>120dB Films</th>\n",
       "      <td>1</td>\n",
       "      <td>1133031.00</td>\n",
       "      <td>[1133031.0]</td>\n",
       "    </tr>\n",
       "    <tr>\n",
       "      <th>1492 Pictures</th>\n",
       "      <td>2</td>\n",
       "      <td>525633616.50</td>\n",
       "      <td>[174578751.0, 876688482.0]</td>\n",
       "    </tr>\n",
       "    <tr>\n",
       "      <th>1818</th>\n",
       "      <td>1</td>\n",
       "      <td>12232628.00</td>\n",
       "      <td>[12232628.0]</td>\n",
       "    </tr>\n",
       "    <tr>\n",
       "      <th>21 Laps Entertainment</th>\n",
       "      <td>1</td>\n",
       "      <td>3305592.00</td>\n",
       "      <td>[3305592.0]</td>\n",
       "    </tr>\n",
       "    <tr>\n",
       "      <th>...</th>\n",
       "      <td>...</td>\n",
       "      <td>...</td>\n",
       "      <td>...</td>\n",
       "    </tr>\n",
       "    <tr>\n",
       "      <th>Вольга</th>\n",
       "      <td>1</td>\n",
       "      <td>2228115.00</td>\n",
       "      <td>[2228115.0]</td>\n",
       "    </tr>\n",
       "    <tr>\n",
       "      <th>Леополис</th>\n",
       "      <td>1</td>\n",
       "      <td>10198357.00</td>\n",
       "      <td>[10198357.0]</td>\n",
       "    </tr>\n",
       "    <tr>\n",
       "      <th>Роскинопрокат</th>\n",
       "      <td>1</td>\n",
       "      <td>234748.00</td>\n",
       "      <td>[234748.0]</td>\n",
       "    </tr>\n",
       "    <tr>\n",
       "      <th>СТВ</th>\n",
       "      <td>1</td>\n",
       "      <td>243000.00</td>\n",
       "      <td>[243000.0]</td>\n",
       "    </tr>\n",
       "    <tr>\n",
       "      <th>Фокс</th>\n",
       "      <td>1</td>\n",
       "      <td>55635037.00</td>\n",
       "      <td>[55635037.0]</td>\n",
       "    </tr>\n",
       "  </tbody>\n",
       "</table>\n",
       "<p>1047 rows × 3 columns</p>\n",
       "</div>"
      ],
      "text/plain": [
       "                      prod_name      revenue                            \n",
       "                           size         mean                        list\n",
       "prod_name                                                               \n",
       "10th Hole Productions         1    123820.00                  [123820.0]\n",
       "120dB Films                   1   1133031.00                 [1133031.0]\n",
       "1492 Pictures                 2 525633616.50  [174578751.0, 876688482.0]\n",
       "1818                          1  12232628.00                [12232628.0]\n",
       "21 Laps Entertainment         1   3305592.00                 [3305592.0]\n",
       "...                         ...          ...                         ...\n",
       "Вольга                        1   2228115.00                 [2228115.0]\n",
       "Леополис                      1  10198357.00                [10198357.0]\n",
       "Роскинопрокат                 1    234748.00                  [234748.0]\n",
       "СТВ                           1    243000.00                  [243000.0]\n",
       "Фокс                          1  55635037.00                [55635037.0]\n",
       "\n",
       "[1047 rows x 3 columns]"
      ]
     },
     "execution_count": 172,
     "metadata": {},
     "output_type": "execute_result"
    }
   ],
   "source": [
    "agg"
   ]
  },
  {
   "cell_type": "code",
   "execution_count": 173,
   "metadata": {},
   "outputs": [
    {
     "data": {
      "text/plain": [
       "1047"
      ]
     },
     "execution_count": 173,
     "metadata": {},
     "output_type": "execute_result"
    }
   ],
   "source": [
    "len(agg.index)"
   ]
  },
  {
   "cell_type": "markdown",
   "metadata": {},
   "source": [
    "Do bigger companies (bigger movie count), have higher average revenue? If so, this solves our problem of not all companies in test set being present in train set, they would just get the count = 1"
   ]
  },
  {
   "cell_type": "code",
   "execution_count": 174,
   "metadata": {},
   "outputs": [],
   "source": [
    "revenue_by_size = agg.groupby( ('prod_name', 'size')).agg({ ('revenue', 'list') : list})"
   ]
  },
  {
   "cell_type": "code",
   "execution_count": 175,
   "metadata": {},
   "outputs": [],
   "source": [
    "# I'm doing these aggregations into a list to avoid working with a mean of a mean."
   ]
  },
  {
   "cell_type": "code",
   "execution_count": 176,
   "metadata": {},
   "outputs": [
    {
     "data": {
      "text/html": [
       "<div>\n",
       "<style scoped>\n",
       "    .dataframe tbody tr th:only-of-type {\n",
       "        vertical-align: middle;\n",
       "    }\n",
       "\n",
       "    .dataframe tbody tr th {\n",
       "        vertical-align: top;\n",
       "    }\n",
       "\n",
       "    .dataframe thead tr th {\n",
       "        text-align: left;\n",
       "    }\n",
       "\n",
       "    .dataframe thead tr:last-of-type th {\n",
       "        text-align: right;\n",
       "    }\n",
       "</style>\n",
       "<table border=\"1\" class=\"dataframe\">\n",
       "  <thead>\n",
       "    <tr>\n",
       "      <th></th>\n",
       "      <th>revenue</th>\n",
       "    </tr>\n",
       "    <tr>\n",
       "      <th></th>\n",
       "      <th>list</th>\n",
       "    </tr>\n",
       "    <tr>\n",
       "      <th>(prod_name, size)</th>\n",
       "      <th></th>\n",
       "    </tr>\n",
       "  </thead>\n",
       "  <tbody>\n",
       "    <tr>\n",
       "      <th>1</th>\n",
       "      <td>[[123820.0], [1133031.0], [12232628.0], [33055...</td>\n",
       "    </tr>\n",
       "    <tr>\n",
       "      <th>2</th>\n",
       "      <td>[[174578751.0, 876688482.0], [13060843.0, 2156...</td>\n",
       "    </tr>\n",
       "    <tr>\n",
       "      <th>3</th>\n",
       "      <td>[[754249.0, 6860853.0, 123384128.0], [2287714....</td>\n",
       "    </tr>\n",
       "    <tr>\n",
       "      <th>4</th>\n",
       "      <td>[[22678555.0, 15400000.0, 89162162.0, 75993061...</td>\n",
       "    </tr>\n",
       "    <tr>\n",
       "      <th>5</th>\n",
       "      <td>[[6673422.0, 3148182.0, 27635305.0, 54600000.0...</td>\n",
       "    </tr>\n",
       "    <tr>\n",
       "      <th>...</th>\n",
       "      <td>...</td>\n",
       "    </tr>\n",
       "    <tr>\n",
       "      <th>69</th>\n",
       "      <td>[[136159423.0, 258022233.0, 25482931.0, 323920...</td>\n",
       "    </tr>\n",
       "    <tr>\n",
       "      <th>90</th>\n",
       "      <td>[[46069568.0, 106260000.0, 5731103.0, 87528173...</td>\n",
       "    </tr>\n",
       "    <tr>\n",
       "      <th>122</th>\n",
       "      <td>[[22642033.0, 85167639.0, 407711549.0, 1400000...</td>\n",
       "    </tr>\n",
       "    <tr>\n",
       "      <th>155</th>\n",
       "      <td>[[12314651.0, 36690067.0, 94935764.0, 24362772...</td>\n",
       "    </tr>\n",
       "    <tr>\n",
       "      <th>166</th>\n",
       "      <td>[[8403433.0, 13129846.0, 158468292.0, 91974818...</td>\n",
       "    </tr>\n",
       "  </tbody>\n",
       "</table>\n",
       "<p>30 rows × 1 columns</p>\n",
       "</div>"
      ],
      "text/plain": [
       "                                                             revenue\n",
       "                                                                list\n",
       "(prod_name, size)                                                   \n",
       "1                  [[123820.0], [1133031.0], [12232628.0], [33055...\n",
       "2                  [[174578751.0, 876688482.0], [13060843.0, 2156...\n",
       "3                  [[754249.0, 6860853.0, 123384128.0], [2287714....\n",
       "4                  [[22678555.0, 15400000.0, 89162162.0, 75993061...\n",
       "5                  [[6673422.0, 3148182.0, 27635305.0, 54600000.0...\n",
       "...                                                              ...\n",
       "69                 [[136159423.0, 258022233.0, 25482931.0, 323920...\n",
       "90                 [[46069568.0, 106260000.0, 5731103.0, 87528173...\n",
       "122                [[22642033.0, 85167639.0, 407711549.0, 1400000...\n",
       "155                [[12314651.0, 36690067.0, 94935764.0, 24362772...\n",
       "166                [[8403433.0, 13129846.0, 158468292.0, 91974818...\n",
       "\n",
       "[30 rows x 1 columns]"
      ]
     },
     "execution_count": 176,
     "metadata": {},
     "output_type": "execute_result"
    }
   ],
   "source": [
    "revenue_by_size"
   ]
  },
  {
   "cell_type": "code",
   "execution_count": 177,
   "metadata": {},
   "outputs": [],
   "source": [
    "revenue_by_size['unique_companies'] = revenue_by_size[ ('revenue', 'list')].apply(len)"
   ]
  },
  {
   "cell_type": "code",
   "execution_count": 178,
   "metadata": {},
   "outputs": [],
   "source": [
    "revenue_by_size[ ('revenue', 'list')] = revenue_by_size[ ('revenue', 'list')].apply(lambda x: list(flatten(x)))"
   ]
  },
  {
   "cell_type": "code",
   "execution_count": 179,
   "metadata": {},
   "outputs": [],
   "source": [
    "revenue_by_size['avg_rev'] = revenue_by_size[ ('revenue', 'list')].apply(lambda x: np.mean(x))"
   ]
  },
  {
   "cell_type": "code",
   "execution_count": 180,
   "metadata": {},
   "outputs": [
    {
     "data": {
      "text/html": [
       "<div>\n",
       "<style scoped>\n",
       "    .dataframe tbody tr th:only-of-type {\n",
       "        vertical-align: middle;\n",
       "    }\n",
       "\n",
       "    .dataframe tbody tr th {\n",
       "        vertical-align: top;\n",
       "    }\n",
       "\n",
       "    .dataframe thead tr th {\n",
       "        text-align: left;\n",
       "    }\n",
       "\n",
       "    .dataframe thead tr:last-of-type th {\n",
       "        text-align: right;\n",
       "    }\n",
       "</style>\n",
       "<table border=\"1\" class=\"dataframe\">\n",
       "  <thead>\n",
       "    <tr>\n",
       "      <th></th>\n",
       "      <th>revenue</th>\n",
       "      <th>unique_companies</th>\n",
       "      <th>avg_rev</th>\n",
       "    </tr>\n",
       "    <tr>\n",
       "      <th></th>\n",
       "      <th>list</th>\n",
       "      <th></th>\n",
       "      <th></th>\n",
       "    </tr>\n",
       "    <tr>\n",
       "      <th>(prod_name, size)</th>\n",
       "      <th></th>\n",
       "      <th></th>\n",
       "      <th></th>\n",
       "    </tr>\n",
       "  </thead>\n",
       "  <tbody>\n",
       "    <tr>\n",
       "      <th>1</th>\n",
       "      <td>[123820.0, 1133031.0, 12232628.0, 3305592.0, 1...</td>\n",
       "      <td>775</td>\n",
       "      <td>23035348.61</td>\n",
       "    </tr>\n",
       "    <tr>\n",
       "      <th>2</th>\n",
       "      <td>[174578751.0, 876688482.0, 13060843.0, 2156785...</td>\n",
       "      <td>126</td>\n",
       "      <td>41410307.74</td>\n",
       "    </tr>\n",
       "    <tr>\n",
       "      <th>3</th>\n",
       "      <td>[754249.0, 6860853.0, 123384128.0, 2287714.0, ...</td>\n",
       "      <td>47</td>\n",
       "      <td>49230052.46</td>\n",
       "    </tr>\n",
       "    <tr>\n",
       "      <th>4</th>\n",
       "      <td>[22678555.0, 15400000.0, 89162162.0, 75993061....</td>\n",
       "      <td>26</td>\n",
       "      <td>61701433.60</td>\n",
       "    </tr>\n",
       "    <tr>\n",
       "      <th>5</th>\n",
       "      <td>[6673422.0, 3148182.0, 27635305.0, 54600000.0,...</td>\n",
       "      <td>14</td>\n",
       "      <td>50874655.09</td>\n",
       "    </tr>\n",
       "    <tr>\n",
       "      <th>...</th>\n",
       "      <td>...</td>\n",
       "      <td>...</td>\n",
       "      <td>...</td>\n",
       "    </tr>\n",
       "    <tr>\n",
       "      <th>69</th>\n",
       "      <td>[136159423.0, 258022233.0, 25482931.0, 3239204...</td>\n",
       "      <td>2</td>\n",
       "      <td>88541850.36</td>\n",
       "    </tr>\n",
       "    <tr>\n",
       "      <th>90</th>\n",
       "      <td>[46069568.0, 106260000.0, 5731103.0, 87528173....</td>\n",
       "      <td>1</td>\n",
       "      <td>117488243.40</td>\n",
       "    </tr>\n",
       "    <tr>\n",
       "      <th>122</th>\n",
       "      <td>[22642033.0, 85167639.0, 407711549.0, 14000000...</td>\n",
       "      <td>1</td>\n",
       "      <td>99185055.70</td>\n",
       "    </tr>\n",
       "    <tr>\n",
       "      <th>155</th>\n",
       "      <td>[12314651.0, 36690067.0, 94935764.0, 24362772....</td>\n",
       "      <td>1</td>\n",
       "      <td>119330744.45</td>\n",
       "    </tr>\n",
       "    <tr>\n",
       "      <th>166</th>\n",
       "      <td>[8403433.0, 13129846.0, 158468292.0, 91974818....</td>\n",
       "      <td>1</td>\n",
       "      <td>107511373.46</td>\n",
       "    </tr>\n",
       "  </tbody>\n",
       "</table>\n",
       "<p>30 rows × 3 columns</p>\n",
       "</div>"
      ],
      "text/plain": [
       "                                                             revenue  \\\n",
       "                                                                list   \n",
       "(prod_name, size)                                                      \n",
       "1                  [123820.0, 1133031.0, 12232628.0, 3305592.0, 1...   \n",
       "2                  [174578751.0, 876688482.0, 13060843.0, 2156785...   \n",
       "3                  [754249.0, 6860853.0, 123384128.0, 2287714.0, ...   \n",
       "4                  [22678555.0, 15400000.0, 89162162.0, 75993061....   \n",
       "5                  [6673422.0, 3148182.0, 27635305.0, 54600000.0,...   \n",
       "...                                                              ...   \n",
       "69                 [136159423.0, 258022233.0, 25482931.0, 3239204...   \n",
       "90                 [46069568.0, 106260000.0, 5731103.0, 87528173....   \n",
       "122                [22642033.0, 85167639.0, 407711549.0, 14000000...   \n",
       "155                [12314651.0, 36690067.0, 94935764.0, 24362772....   \n",
       "166                [8403433.0, 13129846.0, 158468292.0, 91974818....   \n",
       "\n",
       "                  unique_companies      avg_rev  \n",
       "                                                 \n",
       "(prod_name, size)                                \n",
       "1                              775  23035348.61  \n",
       "2                              126  41410307.74  \n",
       "3                               47  49230052.46  \n",
       "4                               26  61701433.60  \n",
       "5                               14  50874655.09  \n",
       "...                            ...          ...  \n",
       "69                               2  88541850.36  \n",
       "90                               1 117488243.40  \n",
       "122                              1  99185055.70  \n",
       "155                              1 119330744.45  \n",
       "166                              1 107511373.46  \n",
       "\n",
       "[30 rows x 3 columns]"
      ]
     },
     "execution_count": 180,
     "metadata": {},
     "output_type": "execute_result"
    }
   ],
   "source": [
    "revenue_by_size"
   ]
  },
  {
   "cell_type": "code",
   "execution_count": 181,
   "metadata": {},
   "outputs": [
    {
     "data": {
      "text/plain": [
       "[(1, 775),\n",
       " (2, 126),\n",
       " (3, 47),\n",
       " (4, 26),\n",
       " (5, 14),\n",
       " (6, 13),\n",
       " (7, 3),\n",
       " (8, 8),\n",
       " (9, 2),\n",
       " (10, 5),\n",
       " (11, 2),\n",
       " (12, 3),\n",
       " (13, 2),\n",
       " (18, 2),\n",
       " (21, 2),\n",
       " (24, 1),\n",
       " (27, 1),\n",
       " (28, 2),\n",
       " (29, 1),\n",
       " (38, 1),\n",
       " (39, 1),\n",
       " (41, 1),\n",
       " (43, 1),\n",
       " (44, 1),\n",
       " (62, 1),\n",
       " (69, 2),\n",
       " (90, 1),\n",
       " (122, 1),\n",
       " (155, 1),\n",
       " (166, 1)]"
      ]
     },
     "execution_count": 181,
     "metadata": {},
     "output_type": "execute_result"
    }
   ],
   "source": [
    "list(zip(revenue_by_size.index, revenue_by_size['unique_companies'].tolist()))"
   ]
  },
  {
   "cell_type": "code",
   "execution_count": 182,
   "metadata": {},
   "outputs": [
    {
     "data": {
      "image/png": "[encoded data removed]",
      "text/plain": [
       "<Figure size 864x432 with 1 Axes>"
      ]
     },
     "metadata": {
      "needs_background": "light"
     },
     "output_type": "display_data"
    }
   ],
   "source": [
    "f = sns.barplot(revenue_by_size.index, revenue_by_size.avg_rev.tolist())\n",
    "f.figure.set_size_inches(12, 6)\n",
    "\n",
    "f.set_xlabel(\"Production Company Size (movies released)\")\n",
    "f.set_ylabel(\"Average Revenue\")\n",
    "f.set_title(\"Revenue VS Company size (size = movies released by them)\");"
   ]
  },
  {
   "cell_type": "markdown",
   "metadata": {},
   "source": [
    "I think this could be a meaningful feature, we see that the revenue rises in the range 1-9, where most datapoint per group are available. Apart from the data, it also makes sense that if a specific company releases many movies, those movies must be more-less successful, otherwise the company would go bankrupt. The graph gets erratic for bigger companies, because there are less data points per group."
   ]
  },
  {
   "cell_type": "code",
   "execution_count": 183,
   "metadata": {},
   "outputs": [],
   "source": [
    "sizes = train.groupby('prod_name').size()"
   ]
  },
  {
   "cell_type": "code",
   "execution_count": 184,
   "metadata": {},
   "outputs": [
    {
     "data": {
      "text/plain": [
       "prod_name\n",
       "100 Bares                2\n",
       "10th Hole Productions    1\n",
       "120dB Films              2\n",
       "1492 Pictures            4\n",
       "1818                     1\n",
       "                        ..\n",
       "Леополис                 1\n",
       "Наше Кино                1\n",
       "Роскинопрокат            1\n",
       "СТВ                      1\n",
       "Фокс                     1\n",
       "Length: 1986, dtype: int64"
      ]
     },
     "execution_count": 184,
     "metadata": {},
     "output_type": "execute_result"
    }
   ],
   "source": [
    "sizes"
   ]
  },
  {
   "cell_type": "code",
   "execution_count": 185,
   "metadata": {},
   "outputs": [],
   "source": [
    "train = pd.merge(train, pd.DataFrame(sizes), on='prod_name', how='left')\n",
    "train.rename({0 : 'comp_size'}, axis=1, inplace=True)"
   ]
  },
  {
   "cell_type": "code",
   "execution_count": 186,
   "metadata": {},
   "outputs": [],
   "source": [
    "# filling with median\n",
    "train.comp_size.fillna(value=1, inplace=True)"
   ]
  },
  {
   "cell_type": "code",
   "execution_count": 187,
   "metadata": {},
   "outputs": [
    {
     "name": "stdout",
     "output_type": "stream",
     "text": [
      "Pearsons correlation: 0.197\n"
     ]
    }
   ],
   "source": [
    "corr, _ = pearsonr(train[train.dataset == 'train']['comp_size'], train[train.dataset == 'train']['revenue'] )\n",
    "print('Pearsons correlation: %.3f' % corr)"
   ]
  },
  {
   "cell_type": "markdown",
   "metadata": {},
   "source": [
    "Unfortunately still very low."
   ]
  },
  {
   "cell_type": "markdown",
   "metadata": {},
   "source": [
    "### Famous people\n",
    "\n",
    "Famous actors start in famous movies, which bring in lots of money. But how can we quantify 'famous'?\n",
    "<br> One way I can think of, is scraping google and harvesting the number search results per actor.<br>\n",
    "Another way is judging popularity by number of movies they star in."
   ]
  },
  {
   "cell_type": "code",
   "execution_count": 188,
   "metadata": {},
   "outputs": [],
   "source": [
    "train['cast'] = train.cast.apply(lambda x: ast.literal_eval(x) if not pd.isna(x) else None)"
   ]
  },
  {
   "cell_type": "code",
   "execution_count": 189,
   "metadata": {},
   "outputs": [],
   "source": [
    "train['actor_1'] = train.cast.str[0].apply(lambda x: x.get('name', None) if type(x) is dict else None)\n",
    "train['actor_2'] = train.cast.str[1].apply(lambda x: x.get('name', None) if type(x) is dict else None)"
   ]
  },
  {
   "cell_type": "code",
   "execution_count": 190,
   "metadata": {},
   "outputs": [],
   "source": [
    "actors1 = train.actor_1.tolist()\n",
    "actors2 = train.actor_2.tolist()\n",
    "\n",
    "actors1.extend(actors2)\n",
    "\n",
    "actors1 = [a for a in actors1 if not pd.isna(a)]\n",
    "actor_count = Counter(actors1)"
   ]
  },
  {
   "cell_type": "code",
   "execution_count": 191,
   "metadata": {},
   "outputs": [
    {
     "data": {
      "text/plain": [
       "[('Robert De Niro', 50),\n",
       " ('Nicolas Cage', 46),\n",
       " ('Bruce Willis', 43),\n",
       " ('Sylvester Stallone', 40),\n",
       " ('Tom Hanks', 39),\n",
       " ('Denzel Washington', 38),\n",
       " ('Clint Eastwood', 37),\n",
       " ('Johnny Depp', 36),\n",
       " ('Matt Damon', 34),\n",
       " ('Tom Cruise', 33),\n",
       " ('Morgan Freeman', 33),\n",
       " ('Mel Gibson', 33),\n",
       " ('Robin Williams', 33),\n",
       " ('John Travolta', 32),\n",
       " ('Eddie Murphy', 32),\n",
       " ('Samuel L. Jackson', 31),\n",
       " ('Harrison Ford', 31),\n",
       " ('Liam Neeson', 31),\n",
       " ('Mark Wahlberg', 30),\n",
       " ('Brad Pitt', 30)]"
      ]
     },
     "execution_count": 191,
     "metadata": {},
     "output_type": "execute_result"
    }
   ],
   "source": [
    "actor_count.most_common()[:20]"
   ]
  },
  {
   "cell_type": "markdown",
   "metadata": {},
   "source": [
    "I will take the product of popularity of two main actors."
   ]
  },
  {
   "cell_type": "code",
   "execution_count": 192,
   "metadata": {},
   "outputs": [],
   "source": [
    "train['actor_popularity'] = np.array(train.actor_1.map(actor_count)) * np.array(train.actor_2.map(actor_count))"
   ]
  },
  {
   "cell_type": "code",
   "execution_count": 193,
   "metadata": {},
   "outputs": [],
   "source": [
    "train.actor_popularity.replace(0, train.actor_popularity.median(), inplace=True)"
   ]
  },
  {
   "cell_type": "code",
   "execution_count": 194,
   "metadata": {},
   "outputs": [
    {
     "data": {
      "text/plain": [
       "<matplotlib.axes._subplots.AxesSubplot at 0x7fe77c6428d0>"
      ]
     },
     "execution_count": 194,
     "metadata": {},
     "output_type": "execute_result"
    },
    {
     "data": {
      "image/png": "[encoded data removed]",
      "text/plain": [
       "<Figure size 432x288 with 1 Axes>"
      ]
     },
     "metadata": {
      "needs_background": "light"
     },
     "output_type": "display_data"
    }
   ],
   "source": [
    "sns.scatterplot(train.actor_popularity, train.revenue, alpha=0.4)"
   ]
  },
  {
   "cell_type": "code",
   "execution_count": 195,
   "metadata": {},
   "outputs": [
    {
     "name": "stdout",
     "output_type": "stream",
     "text": [
      "Pearsons correlation: 0.203\n"
     ]
    }
   ],
   "source": [
    "corr, _ = pearsonr(train[train.dataset == 'train'].actor_popularity, train[train.dataset == 'train'].revenue)\n",
    "print('Pearsons correlation: %.3f' % corr)"
   ]
  },
  {
   "cell_type": "code",
   "execution_count": 196,
   "metadata": {},
   "outputs": [
    {
     "data": {
      "text/plain": [
       "<matplotlib.axes._subplots.AxesSubplot at 0x7fe77c6424e0>"
      ]
     },
     "execution_count": 196,
     "metadata": {},
     "output_type": "execute_result"
    },
    {
     "data": {
      "image/png": "[encoded data removed]",
      "text/plain": [
       "<Figure size 432x288 with 1 Axes>"
      ]
     },
     "metadata": {
      "needs_background": "light"
     },
     "output_type": "display_data"
    }
   ],
   "source": [
    "sns.regplot(train.actor_popularity, train.revenue)"
   ]
  },
  {
   "cell_type": "markdown",
   "metadata": {},
   "source": [
    "In the above plot we see some outliers. What if we could spread out the smaller actor_popularity values more apart? We use take the log of that value"
   ]
  },
  {
   "cell_type": "code",
   "execution_count": 197,
   "metadata": {},
   "outputs": [
    {
     "data": {
      "text/html": [
       "<div>\n",
       "<style scoped>\n",
       "    .dataframe tbody tr th:only-of-type {\n",
       "        vertical-align: middle;\n",
       "    }\n",
       "\n",
       "    .dataframe tbody tr th {\n",
       "        vertical-align: top;\n",
       "    }\n",
       "\n",
       "    .dataframe thead th {\n",
       "        text-align: right;\n",
       "    }\n",
       "</style>\n",
       "<table border=\"1\" class=\"dataframe\">\n",
       "  <thead>\n",
       "    <tr style=\"text-align: right;\">\n",
       "      <th></th>\n",
       "      <th>actor_1</th>\n",
       "      <th>actor_2</th>\n",
       "      <th>actor_popularity</th>\n",
       "      <th>original_title</th>\n",
       "      <th>year</th>\n",
       "      <th>budget</th>\n",
       "      <th>revenue</th>\n",
       "    </tr>\n",
       "  </thead>\n",
       "  <tbody>\n",
       "    <tr>\n",
       "      <th>498</th>\n",
       "      <td>Bruce Willis</td>\n",
       "      <td>Robert De Niro</td>\n",
       "      <td>2150</td>\n",
       "      <td>What Just Happened</td>\n",
       "      <td>2008</td>\n",
       "      <td>25000000</td>\n",
       "      <td>6673422.00</td>\n",
       "    </tr>\n",
       "    <tr>\n",
       "      <th>529</th>\n",
       "      <td>Sean Connery</td>\n",
       "      <td>Nicolas Cage</td>\n",
       "      <td>1150</td>\n",
       "      <td>The Rock</td>\n",
       "      <td>1996</td>\n",
       "      <td>75000000</td>\n",
       "      <td>335062621.00</td>\n",
       "    </tr>\n",
       "    <tr>\n",
       "      <th>900</th>\n",
       "      <td>Clint Eastwood</td>\n",
       "      <td>Gene Hackman</td>\n",
       "      <td>1036</td>\n",
       "      <td>Absolute Power</td>\n",
       "      <td>1997</td>\n",
       "      <td>50000000</td>\n",
       "      <td>50068310.00</td>\n",
       "    </tr>\n",
       "    <tr>\n",
       "      <th>1014</th>\n",
       "      <td>Denzel Washington</td>\n",
       "      <td>Gene Hackman</td>\n",
       "      <td>1064</td>\n",
       "      <td>Crimson Tide</td>\n",
       "      <td>1995</td>\n",
       "      <td>53000000</td>\n",
       "      <td>157387195.00</td>\n",
       "    </tr>\n",
       "    <tr>\n",
       "      <th>1152</th>\n",
       "      <td>Robert De Niro</td>\n",
       "      <td>Meryl Streep</td>\n",
       "      <td>1500</td>\n",
       "      <td>Falling in Love</td>\n",
       "      <td>1984</td>\n",
       "      <td>0</td>\n",
       "      <td>11129057.00</td>\n",
       "    </tr>\n",
       "    <tr>\n",
       "      <th>1159</th>\n",
       "      <td>Denzel Washington</td>\n",
       "      <td>Meryl Streep</td>\n",
       "      <td>1140</td>\n",
       "      <td>The Manchurian Candidate</td>\n",
       "      <td>2004</td>\n",
       "      <td>80000000</td>\n",
       "      <td>96105964.00</td>\n",
       "    </tr>\n",
       "    <tr>\n",
       "      <th>1173</th>\n",
       "      <td>Dustin Hoffman</td>\n",
       "      <td>Robert De Niro</td>\n",
       "      <td>1250</td>\n",
       "      <td>Wag the Dog</td>\n",
       "      <td>1997</td>\n",
       "      <td>15000000</td>\n",
       "      <td>64256513.00</td>\n",
       "    </tr>\n",
       "    <tr>\n",
       "      <th>1197</th>\n",
       "      <td>Ben Stiller</td>\n",
       "      <td>Robert De Niro</td>\n",
       "      <td>1450</td>\n",
       "      <td>Meet the Parents</td>\n",
       "      <td>2000</td>\n",
       "      <td>55000000</td>\n",
       "      <td>330444045.00</td>\n",
       "    </tr>\n",
       "    <tr>\n",
       "      <th>1366</th>\n",
       "      <td>Robert De Niro</td>\n",
       "      <td>Brad Pitt</td>\n",
       "      <td>1500</td>\n",
       "      <td>Sleepers</td>\n",
       "      <td>1996</td>\n",
       "      <td>44000000</td>\n",
       "      <td>165615285.00</td>\n",
       "    </tr>\n",
       "    <tr>\n",
       "      <th>1527</th>\n",
       "      <td>Kevin Costner</td>\n",
       "      <td>Clint Eastwood</td>\n",
       "      <td>1073</td>\n",
       "      <td>A Perfect World</td>\n",
       "      <td>1993</td>\n",
       "      <td>30000000</td>\n",
       "      <td>135130999.00</td>\n",
       "    </tr>\n",
       "    <tr>\n",
       "      <th>1601</th>\n",
       "      <td>Robert De Niro</td>\n",
       "      <td>Julianne Moore</td>\n",
       "      <td>1350</td>\n",
       "      <td>Being Flynn</td>\n",
       "      <td>2012</td>\n",
       "      <td>0</td>\n",
       "      <td>540152.00</td>\n",
       "    </tr>\n",
       "    <tr>\n",
       "      <th>1660</th>\n",
       "      <td>Bruce Willis</td>\n",
       "      <td>Richard Gere</td>\n",
       "      <td>1118</td>\n",
       "      <td>The Jackal</td>\n",
       "      <td>1997</td>\n",
       "      <td>60000000</td>\n",
       "      <td>159330280.00</td>\n",
       "    </tr>\n",
       "    <tr>\n",
       "      <th>2366</th>\n",
       "      <td>Tom Hanks</td>\n",
       "      <td>Bruce Willis</td>\n",
       "      <td>1677</td>\n",
       "      <td>The Bonfire of the Vanities</td>\n",
       "      <td>1990</td>\n",
       "      <td>47000000</td>\n",
       "      <td>15691192.00</td>\n",
       "    </tr>\n",
       "    <tr>\n",
       "      <th>2429</th>\n",
       "      <td>Nicolas Cage</td>\n",
       "      <td>Jim Carrey</td>\n",
       "      <td>1150</td>\n",
       "      <td>Peggy Sue Got Married</td>\n",
       "      <td>1986</td>\n",
       "      <td>18000000</td>\n",
       "      <td>41382841.00</td>\n",
       "    </tr>\n",
       "  </tbody>\n",
       "</table>\n",
       "</div>"
      ],
      "text/plain": [
       "                actor_1         actor_2  actor_popularity  \\\n",
       "498        Bruce Willis  Robert De Niro              2150   \n",
       "529        Sean Connery    Nicolas Cage              1150   \n",
       "900      Clint Eastwood    Gene Hackman              1036   \n",
       "1014  Denzel Washington    Gene Hackman              1064   \n",
       "1152     Robert De Niro    Meryl Streep              1500   \n",
       "1159  Denzel Washington    Meryl Streep              1140   \n",
       "1173     Dustin Hoffman  Robert De Niro              1250   \n",
       "1197        Ben Stiller  Robert De Niro              1450   \n",
       "1366     Robert De Niro       Brad Pitt              1500   \n",
       "1527      Kevin Costner  Clint Eastwood              1073   \n",
       "1601     Robert De Niro  Julianne Moore              1350   \n",
       "1660       Bruce Willis    Richard Gere              1118   \n",
       "2366          Tom Hanks    Bruce Willis              1677   \n",
       "2429       Nicolas Cage      Jim Carrey              1150   \n",
       "\n",
       "                   original_title  year    budget      revenue  \n",
       "498            What Just Happened  2008  25000000   6673422.00  \n",
       "529                      The Rock  1996  75000000 335062621.00  \n",
       "900                Absolute Power  1997  50000000  50068310.00  \n",
       "1014                 Crimson Tide  1995  53000000 157387195.00  \n",
       "1152              Falling in Love  1984         0  11129057.00  \n",
       "1159     The Manchurian Candidate  2004  80000000  96105964.00  \n",
       "1173                  Wag the Dog  1997  15000000  64256513.00  \n",
       "1197             Meet the Parents  2000  55000000 330444045.00  \n",
       "1366                     Sleepers  1996  44000000 165615285.00  \n",
       "1527              A Perfect World  1993  30000000 135130999.00  \n",
       "1601                  Being Flynn  2012         0    540152.00  \n",
       "1660                   The Jackal  1997  60000000 159330280.00  \n",
       "2366  The Bonfire of the Vanities  1990  47000000  15691192.00  \n",
       "2429        Peggy Sue Got Married  1986  18000000  41382841.00  "
      ]
     },
     "execution_count": 197,
     "metadata": {},
     "output_type": "execute_result"
    }
   ],
   "source": [
    "pd.set_option('display.max_rows', 20)\n",
    "train[(train.dataset == 'train') & (train.actor_popularity > 1000)][['actor_1', 'actor_2', 'actor_popularity', 'original_title', 'year', 'budget', 'revenue']]"
   ]
  },
  {
   "cell_type": "code",
   "execution_count": 198,
   "metadata": {},
   "outputs": [],
   "source": [
    "train['actor_popularity_log'] = 0\n",
    "train.loc[(train.actor_popularity > 0), 'actor_popularity_log'] = \\\n",
    "train.loc[train.actor_popularity != 0, 'actor_popularity'].apply(lambda x: math.log1p(x))"
   ]
  },
  {
   "cell_type": "code",
   "execution_count": 199,
   "metadata": {},
   "outputs": [
    {
     "data": {
      "text/plain": [
       "<matplotlib.axes._subplots.AxesSubplot at 0x7fe77c61af60>"
      ]
     },
     "execution_count": 199,
     "metadata": {},
     "output_type": "execute_result"
    },
    {
     "data": {
      "image/png": "[encoded data removed]",
      "text/plain": [
       "<Figure size 432x288 with 1 Axes>"
      ]
     },
     "metadata": {
      "needs_background": "light"
     },
     "output_type": "display_data"
    }
   ],
   "source": [
    "sns.regplot(train.actor_popularity_log, train.revenue)"
   ]
  },
  {
   "cell_type": "code",
   "execution_count": 200,
   "metadata": {},
   "outputs": [
    {
     "name": "stdout",
     "output_type": "stream",
     "text": [
      "Pearsons correlation: 0.279\n"
     ]
    }
   ],
   "source": [
    "corr, _ = pearsonr(train[train.dataset == 'train'].actor_popularity_log, train[train.dataset == 'train'].revenue)\n",
    "print('Pearsons correlation: %.3f' % corr)"
   ]
  },
  {
   "cell_type": "markdown",
   "metadata": {},
   "source": [
    "### Taking log of values with highest skew"
   ]
  },
  {
   "cell_type": "code",
   "execution_count": 201,
   "metadata": {},
   "outputs": [],
   "source": [
    "skews_train = {}\n",
    "skews_test = {}\n",
    "for col in ['budget', 'runtime', 'actor_popularity', 'comp_size', 'tagline_len', 'popularity']:\n",
    "    skews_train[col] = skew(train[train.dataset == 'train'][col])\n",
    "    skews_test[col] = skew(train[train.dataset == 'test'][col])\n",
    "        "
   ]
  },
  {
   "cell_type": "code",
   "execution_count": 202,
   "metadata": {},
   "outputs": [],
   "source": [
    "sk = pd.DataFrame(pd.Series(skews_train), columns=['skew_train'])\n",
    "sk['skew_test'] = pd.Series(skews_test)"
   ]
  },
  {
   "cell_type": "code",
   "execution_count": 203,
   "metadata": {},
   "outputs": [
    {
     "data": {
      "text/html": [
       "<div>\n",
       "<style scoped>\n",
       "    .dataframe tbody tr th:only-of-type {\n",
       "        vertical-align: middle;\n",
       "    }\n",
       "\n",
       "    .dataframe tbody tr th {\n",
       "        vertical-align: top;\n",
       "    }\n",
       "\n",
       "    .dataframe thead th {\n",
       "        text-align: right;\n",
       "    }\n",
       "</style>\n",
       "<table border=\"1\" class=\"dataframe\">\n",
       "  <thead>\n",
       "    <tr style=\"text-align: right;\">\n",
       "      <th></th>\n",
       "      <th>skew_train</th>\n",
       "      <th>skew_test</th>\n",
       "    </tr>\n",
       "  </thead>\n",
       "  <tbody>\n",
       "    <tr>\n",
       "      <th>budget</th>\n",
       "      <td>3.08</td>\n",
       "      <td>2.75</td>\n",
       "    </tr>\n",
       "    <tr>\n",
       "      <th>runtime</th>\n",
       "      <td>1.16</td>\n",
       "      <td>1.20</td>\n",
       "    </tr>\n",
       "    <tr>\n",
       "      <th>actor_popularity</th>\n",
       "      <td>3.29</td>\n",
       "      <td>3.43</td>\n",
       "    </tr>\n",
       "    <tr>\n",
       "      <th>comp_size</th>\n",
       "      <td>1.44</td>\n",
       "      <td>1.46</td>\n",
       "    </tr>\n",
       "    <tr>\n",
       "      <th>tagline_len</th>\n",
       "      <td>1.19</td>\n",
       "      <td>1.37</td>\n",
       "    </tr>\n",
       "    <tr>\n",
       "      <th>popularity</th>\n",
       "      <td>14.34</td>\n",
       "      <td>23.67</td>\n",
       "    </tr>\n",
       "  </tbody>\n",
       "</table>\n",
       "</div>"
      ],
      "text/plain": [
       "                  skew_train  skew_test\n",
       "budget                  3.08       2.75\n",
       "runtime                 1.16       1.20\n",
       "actor_popularity        3.29       3.43\n",
       "comp_size               1.44       1.46\n",
       "tagline_len             1.19       1.37\n",
       "popularity             14.34      23.67"
      ]
     },
     "execution_count": 203,
     "metadata": {},
     "output_type": "execute_result"
    }
   ],
   "source": [
    "sk"
   ]
  },
  {
   "cell_type": "code",
   "execution_count": 306,
   "metadata": {},
   "outputs": [],
   "source": [
    "train['budget_log'] = train.budget.apply(lambda x: np.log1p(x))\n",
    "train['popularity_log'] = train.popularity.apply(lambda x: np.log1p(x))"
   ]
  },
  {
   "cell_type": "markdown",
   "metadata": {},
   "source": [
    "# Filling in missing Budget values"
   ]
  },
  {
   "cell_type": "markdown",
   "metadata": {},
   "source": [
    "### Brief recap:\n",
    "The biggest predictor of revenue is budget. But budget has a lot of missing values. I must fill in these missing values, as I must use budget as one of my features (it's the best one). I cannot use revenue to do that, as revenue is our dependent variable, and it's missing in the test dataset (obviously). So I need to build a model with features other than revenue, that can predict budget, so that I can fill in these NA."
   ]
  },
  {
   "cell_type": "markdown",
   "metadata": {},
   "source": [
    "## Normalization or Standardization?"
   ]
  },
  {
   "cell_type": "markdown",
   "metadata": {},
   "source": [
    "Those are the two main techniques for feature scaling. Standardization handles outliers better.\n",
    "\n",
    "![title](img/minmax.png)\n",
    "![title](img/standard.png)\n",
    "\n",
    "In normalization, the x axis is squeezed onto a small area (0-0.4) while the y axis uses the full range (0-1).<br>\n",
    "https://www.codecademy.com/articles/normalization"
   ]
  },
  {
   "cell_type": "code",
   "execution_count": 205,
   "metadata": {},
   "outputs": [
    {
     "data": {
      "text/plain": [
       "<matplotlib.axes._subplots.AxesSubplot at 0x7fe77c578ba8>"
      ]
     },
     "execution_count": 205,
     "metadata": {},
     "output_type": "execute_result"
    },
    {
     "data": {
      "image/png": "[encoded data removed]",
      "text/plain": [
       "<Figure size 432x288 with 1 Axes>"
      ]
     },
     "metadata": {
      "needs_background": "light"
     },
     "output_type": "display_data"
    }
   ],
   "source": [
    "sns.boxplot(train[train.budget != 0]['budget'])"
   ]
  },
  {
   "cell_type": "markdown",
   "metadata": {},
   "source": [
    "We have a lot of outliers (very high) budgets in our most important feature, so I will choose standardization."
   ]
  },
  {
   "cell_type": "code",
   "execution_count": 345,
   "metadata": {},
   "outputs": [],
   "source": [
    "df = train[[ 'budget', 'runtime', 'year_bins', 'missing_budget',\n",
    "                'has_tagline', 'has_production','actor_popularity', 'actor_popularity_log',\n",
    "               'is_english', 'has_collection', 'comp_size',\n",
    "                'tagline_len', 'popularity', 'popularity_log',\n",
    "            \n",
    "               'Fantasy', 'Animation', 'Thriller', 'Mystery',\n",
    "               'Comedy', 'Action', 'Foreign', 'History', 'Family', 'Horror',\n",
    "               'TV Movie', 'War', 'Western', 'Romance', 'Music', 'Science Fiction',\n",
    "               'Documentary', 'Crime', 'Drama', 'Adventure',\n",
    "           \n",
    "                   'Universal Pictures', 'Paramount Pictures',\n",
    "       'Twentieth Century Fox Film Corporation', 'Columbia Pictures',\n",
    "       'Warner Bros.', 'New Line Cinema', 'Walt Disney Pictures',\n",
    "       'Columbia Pictures Corporation', 'TriStar Pictures', 'United Artists',]]"
   ]
  },
  {
   "cell_type": "code",
   "execution_count": 346,
   "metadata": {},
   "outputs": [],
   "source": [
    "df = df[df.budget != 0]\n",
    "y = df['budget']\n",
    "df.drop('budget', axis=1, inplace=True)"
   ]
  },
  {
   "cell_type": "code",
   "execution_count": 347,
   "metadata": {},
   "outputs": [],
   "source": [
    "# BECAUSE WE HAVE VERY LITTLE DATA, I WILL USE CROSS VALIDATION TO USE IT IN SMARTEST WAY AND FIND THE PARAMS\n",
    "\n",
    "X_train, X_test, y_train, y_test = train_test_split(df, y, test_size=0.2, random_state=0)\n",
    "\n",
    "sc_X = StandardScaler()\n",
    "X_train = sc_X.fit_transform(np.array(X_train))\n",
    "X_test = sc_X.transform(np.array(X_test))"
   ]
  },
  {
   "cell_type": "markdown",
   "metadata": {},
   "source": [
    "## What model to choose?\n",
    "\n",
    "Looking at the data, the relationships look very complex. There are many outliers, in almost every feature. Also, the relationships are often non linear (runtime, popularity, actor_popularity). This makes me think a non-parametric model (like knn) might perform better than linear regression."
   ]
  },
  {
   "cell_type": "markdown",
   "metadata": {},
   "source": [
    "# KNN"
   ]
  },
  {
   "cell_type": "markdown",
   "metadata": {},
   "source": [
    "We can use euclidean distance here because we standardized out features. One thing about knn is that it doesn't do feature selection, like lasso. So the features we feed into it, must be well thought out."
   ]
  },
  {
   "cell_type": "markdown",
   "metadata": {},
   "source": [
    "I will use RandomSearch and not GridSearch, because it is way faster."
   ]
  },
  {
   "cell_type": "code",
   "execution_count": 211,
   "metadata": {},
   "outputs": [
    {
     "data": {
      "text/plain": [
       "{'weights': 'distance', 'n_neighbors': 15}"
      ]
     },
     "execution_count": 211,
     "metadata": {},
     "output_type": "execute_result"
    }
   ],
   "source": [
    "knn = KNeighborsRegressor()\n",
    "\n",
    "param_grid = {'n_neighbors': np.arange(1, 25), 'weights': ['uniform', 'distance'],}\n",
    "# GridSearchCV, by convention, always tries to maximize its score so loss functions like MSE have to be negated\n",
    "knn_gscv = RandomizedSearchCV(knn, param_grid, cv=5,scoring='neg_mean_squared_error')\n",
    "knn_gscv.fit(X_train, y_train)\n",
    "knn_gscv.best_params_"
   ]
  },
  {
   "cell_type": "code",
   "execution_count": 212,
   "metadata": {},
   "outputs": [],
   "source": [
    "best_knn = KNeighborsRegressor(n_neighbors=knn_gscv.best_params_['n_neighbors'], weights='distance')\n",
    "best_knn.fit(X_train, y_train)\n",
    "\n",
    "pred = best_knn.predict(X_test)\n",
    "error = math.sqrt(mean_squared_error(y_test,pred))"
   ]
  },
  {
   "cell_type": "code",
   "execution_count": 213,
   "metadata": {},
   "outputs": [],
   "source": [
    "budget_test_errors = {'knn' : error}"
   ]
  },
  {
   "cell_type": "markdown",
   "metadata": {},
   "source": [
    "# Decision Trees"
   ]
  },
  {
   "cell_type": "code",
   "execution_count": 214,
   "metadata": {},
   "outputs": [
    {
     "data": {
      "text/plain": [
       "{'max_depth': 50}"
      ]
     },
     "execution_count": 214,
     "metadata": {},
     "output_type": "execute_result"
    }
   ],
   "source": [
    "tree = DecisionTreeRegressor()\n",
    "\n",
    "param_grid = {'max_depth': [int(x) for x in np.linspace(1, 100, num=15)] }\n",
    "\n",
    "tree_gscv = RandomizedSearchCV(tree, param_grid, cv=5,scoring='neg_mean_squared_error')\n",
    "tree_gscv.fit(X_train, y_train)\n",
    "tree_gscv.best_params_"
   ]
  },
  {
   "cell_type": "code",
   "execution_count": 215,
   "metadata": {},
   "outputs": [],
   "source": [
    "best_tree = DecisionTreeRegressor(max_depth=tree_gscv.best_params_['max_depth'])\n",
    "\n",
    "best_tree.fit(X_train, y_train)\n",
    "pred = best_tree.predict(X_test)\n",
    "error = math.sqrt(mean_squared_error(y_test,pred))"
   ]
  },
  {
   "cell_type": "code",
   "execution_count": 216,
   "metadata": {},
   "outputs": [],
   "source": [
    "budget_test_errors['tree'] = error"
   ]
  },
  {
   "cell_type": "markdown",
   "metadata": {},
   "source": [
    "# Random Forest"
   ]
  },
  {
   "cell_type": "markdown",
   "metadata": {},
   "source": [
    "They're an example of BAGGING, where a lot of weak models are combined to create a strong model. Those models are not dependent on each other (paralell). Random forests build many trees, and use a majority vote (or a mean of vote) to predict the dependent variable. When building each tree, a random set of rows and features is selected. This makes this model very robust to overfitting."
   ]
  },
  {
   "cell_type": "code",
   "execution_count": 217,
   "metadata": {},
   "outputs": [
    {
     "data": {
      "text/plain": [
       "{'n_estimators': 36}"
      ]
     },
     "execution_count": 217,
     "metadata": {},
     "output_type": "execute_result"
    }
   ],
   "source": [
    "forest = RandomForestRegressor()\n",
    "\n",
    "param_grid = {'n_estimators': [int(x) for x in np.linspace(3, 300, num=10) ]}\n",
    "\n",
    "forest_gscv = RandomizedSearchCV(forest, param_grid, cv=5,scoring='neg_mean_squared_error')\n",
    "forest_gscv.fit(X_train, y_train)\n",
    "forest_gscv.best_params_"
   ]
  },
  {
   "cell_type": "code",
   "execution_count": 218,
   "metadata": {},
   "outputs": [],
   "source": [
    "best_forest = RandomForestRegressor(n_estimators = forest_gscv.best_params_['n_estimators'])\n",
    "\n",
    "best_forest.fit(X_train, y_train)\n",
    "pred = best_forest.predict(X_test)\n",
    "error = math.sqrt(mean_squared_error(y_test,pred))\n",
    "\n",
    "budget_test_errors['forest'] = error"
   ]
  },
  {
   "cell_type": "markdown",
   "metadata": {},
   "source": [
    "# Linear Regression"
   ]
  },
  {
   "cell_type": "code",
   "execution_count": 219,
   "metadata": {},
   "outputs": [],
   "source": [
    "params = {'alpha' : np.linspace(0.1, 500000, num=1000)}\n",
    "\n",
    "lasso = linear_model.Lasso(tol=0.1)\n",
    "lasso_grid = GridSearchCV(lasso, params, cv=5, scoring='neg_mean_squared_error')\n",
    "\n",
    "lasso_grid.fit(X_train, y_train);"
   ]
  },
  {
   "cell_type": "code",
   "execution_count": 220,
   "metadata": {},
   "outputs": [],
   "source": [
    "best_lasso = linear_model.Lasso(alpha=lasso_grid.best_params_['alpha'])\n",
    "\n",
    "best_lasso.fit(X_train, y_train)\n",
    "pred = best_lasso.predict(X_test)\n",
    "error = math.sqrt(mean_squared_error(y_test,pred))"
   ]
  },
  {
   "cell_type": "code",
   "execution_count": 221,
   "metadata": {},
   "outputs": [],
   "source": [
    "budget_test_errors['lasso'] = error"
   ]
  },
  {
   "cell_type": "markdown",
   "metadata": {},
   "source": [
    "### Adaboost"
   ]
  },
  {
   "cell_type": "markdown",
   "metadata": {},
   "source": [
    "Boosting involves creating many weak models, that are dependent on each other (unlike bagging). For every model, the weights are increased on the data points where the previous model got the answers wrong. At the end, every model gets its own importance weight, depending on its accuracy. Then the voting happens."
   ]
  },
  {
   "cell_type": "code",
   "execution_count": 223,
   "metadata": {},
   "outputs": [
    {
     "data": {
      "text/plain": [
       "49"
      ]
     },
     "execution_count": 223,
     "metadata": {},
     "output_type": "execute_result"
    }
   ],
   "source": [
    "ada = AdaBoostRegressor(base_estimator=DecisionTreeRegressor(),\n",
    "                              random_state=0)\n",
    "params = {'n_estimators': range(2, 100)}\n",
    "ada_grid = RandomizedSearchCV(ada, params, cv=5, scoring='neg_mean_squared_error')\n",
    "ada_grid.fit(X_train, y_train);\n",
    "ada_grid.best_params_['n_estimators']"
   ]
  },
  {
   "cell_type": "code",
   "execution_count": 348,
   "metadata": {},
   "outputs": [],
   "source": [
    "best_ada = AdaBoostRegressor(base_estimator=DecisionTreeRegressor(),\n",
    "                              random_state=0, n_estimators=ada_grid.best_params_['n_estimators'])\n",
    "\n",
    "best_ada.fit(X_train, y_train)\n",
    "pred = best_ada.predict(X_test)\n",
    "error = math.sqrt(mean_squared_error(y_test,pred))"
   ]
  },
  {
   "cell_type": "code",
   "execution_count": 225,
   "metadata": {},
   "outputs": [],
   "source": [
    "budget_test_errors['ada'] = error"
   ]
  },
  {
   "cell_type": "markdown",
   "metadata": {},
   "source": [
    "## Predicting budget - model leaderboard"
   ]
  },
  {
   "cell_type": "code",
   "execution_count": 226,
   "metadata": {},
   "outputs": [
    {
     "data": {
      "text/plain": [
       "ada        808260.27\n",
       "tree      1440153.84\n",
       "forest    1891544.28\n",
       "knn      26917802.74\n",
       "lasso    27943820.49\n",
       "dtype: float64"
      ]
     },
     "execution_count": 226,
     "metadata": {},
     "output_type": "execute_result"
    }
   ],
   "source": [
    "pd.Series(budget_test_errors).sort_values()"
   ]
  },
  {
   "cell_type": "code",
   "execution_count": 349,
   "metadata": {},
   "outputs": [],
   "source": [
    "df = train[['id', 'dataset', 'budget', 'runtime', 'year_bins', 'missing_budget',\n",
    "                'has_tagline', 'has_production','actor_popularity', 'actor_popularity_log',\n",
    "               'is_english', 'has_collection', 'comp_size',\n",
    "                'tagline_len', 'popularity', 'popularity_log', 'revenue',\n",
    "            \n",
    "               'Fantasy', 'Animation', 'Thriller', 'Mystery',\n",
    "               'Comedy', 'Action', 'Foreign', 'History', 'Family', 'Horror',\n",
    "               'TV Movie', 'War', 'Western', 'Romance', 'Music', 'Science Fiction',\n",
    "               'Documentary', 'Crime', 'Drama', 'Adventure',\n",
    "           \n",
    "                   'Universal Pictures', 'Paramount Pictures',\n",
    "       'Twentieth Century Fox Film Corporation', 'Columbia Pictures',\n",
    "       'Warner Bros.', 'New Line Cinema', 'Walt Disney Pictures',\n",
    "       'Columbia Pictures Corporation', 'TriStar Pictures', 'United Artists',]]"
   ]
  },
  {
   "cell_type": "code",
   "execution_count": 350,
   "metadata": {},
   "outputs": [],
   "source": [
    "with_budget = df[~df['missing_budget']]\n",
    "no_budget = df[df['missing_budget']]"
   ]
  },
  {
   "cell_type": "code",
   "execution_count": 351,
   "metadata": {},
   "outputs": [],
   "source": [
    "dataset = no_budget.dataset\n",
    "ids = no_budget['id']\n",
    "revenue = no_budget.revenue\n",
    "no_budget.drop(['dataset', 'id', 'budget', 'revenue'], axis=1, inplace=True)\n",
    "\n",
    "sc_X = StandardScaler()\n",
    "X_test = sc_X.fit_transform(np.array(no_budget))\n",
    "preds = best_ada.predict(X_test)\n"
   ]
  },
  {
   "cell_type": "code",
   "execution_count": 352,
   "metadata": {},
   "outputs": [],
   "source": [
    "no_budget['budget'] = list(preds)\n",
    "no_budget['id'] = list(ids)\n",
    "no_budget['dataset'] = list(dataset)\n",
    "no_budget['revenue'] = revenue"
   ]
  },
  {
   "cell_type": "code",
   "execution_count": 354,
   "metadata": {},
   "outputs": [],
   "source": [
    "train_ = with_budget.append(no_budget)"
   ]
  },
  {
   "cell_type": "code",
   "execution_count": 355,
   "metadata": {},
   "outputs": [],
   "source": [
    "train_['budget_log'] = train_['budget'].apply(lambda x: np.log1p(x))"
   ]
  },
  {
   "cell_type": "markdown",
   "metadata": {},
   "source": [
    "# Predicting revenue (at last!)"
   ]
  },
  {
   "cell_type": "markdown",
   "metadata": {},
   "source": [
    "Now have a new feature - budget, that's filled in for all the rows. If I was lazy, to predict the revenue, I would just use the best model from the previous task (budget), however, this would be a mistake. Now we have a new feature, that's in extreme linear relationship to revenue. So now actually the linear models might perform better than before."
   ]
  },
  {
   "cell_type": "code",
   "execution_count": 356,
   "metadata": {},
   "outputs": [],
   "source": [
    "df = train_[[ 'budget', 'budget_log', 'runtime', 'year_bins', 'missing_budget',\n",
    "                'has_tagline', 'has_production', 'actor_popularity', 'actor_popularity_log',\n",
    "               'is_english', 'has_collection', 'comp_size',\n",
    "                'tagline_len', 'popularity', 'popularity_log', 'revenue', 'dataset',\n",
    "            \n",
    "               'Fantasy', 'Animation', 'Thriller', 'Mystery',\n",
    "               'Comedy', 'Action', 'Foreign', 'History', 'Family', 'Horror',\n",
    "               'TV Movie', 'War', 'Western', 'Romance', 'Music', 'Science Fiction',\n",
    "               'Documentary', 'Crime', 'Drama', 'Adventure',\n",
    "           \n",
    "           'Universal Pictures', 'Paramount Pictures',\n",
    "       'Twentieth Century Fox Film Corporation', 'Columbia Pictures',\n",
    "       'Warner Bros.', 'New Line Cinema', 'Walt Disney Pictures',\n",
    "       'Columbia Pictures Corporation', 'TriStar Pictures', 'United Artists',]]\n",
    "\n",
    "df = df[df.dataset == 'train']\n",
    "\n",
    "y = np.log1p(df.revenue)\n",
    "\n",
    "df.drop(['dataset', 'revenue'], axis=1, inplace=True)"
   ]
  },
  {
   "cell_type": "code",
   "execution_count": 357,
   "metadata": {},
   "outputs": [],
   "source": [
    "# BECAUSE WE HAVE VERY LITTLE DATA, I WILL USE CROSS VALIDATION TO USE IT IN SMARTEST WAY AND FIND THE PARAMS\n",
    "\n",
    "X_train, X_test, y_train, y_test = train_test_split(df, y, test_size=0.2, random_state=0)\n",
    "\n",
    "sc_X = StandardScaler()\n",
    "X_train = sc_X.fit_transform(np.array(X_train))\n",
    "X_test = sc_X.transform(np.array(X_test))"
   ]
  },
  {
   "cell_type": "markdown",
   "metadata": {},
   "source": [
    "# KNN"
   ]
  },
  {
   "cell_type": "code",
   "execution_count": 358,
   "metadata": {},
   "outputs": [
    {
     "data": {
      "text/plain": [
       "22"
      ]
     },
     "execution_count": 358,
     "metadata": {},
     "output_type": "execute_result"
    }
   ],
   "source": [
    "knn = KNeighborsRegressor()\n",
    "param_grid = {'n_neighbors': np.arange(1, 25), 'weights': ['uniform', 'distance'],}\n",
    "# GridSearchCV, by convention, always tries to maximize its score so loss functions like MSE have to be negated\n",
    "knn_gscv = RandomizedSearchCV(knn, param_grid, cv=5,scoring='neg_mean_squared_error')\n",
    "knn_gscv.fit(X_train, y_train)\n",
    "knn_gscv.best_params_['n_neighbors']"
   ]
  },
  {
   "cell_type": "code",
   "execution_count": 359,
   "metadata": {},
   "outputs": [
    {
     "data": {
      "text/plain": [
       "'distance'"
      ]
     },
     "execution_count": 359,
     "metadata": {},
     "output_type": "execute_result"
    }
   ],
   "source": [
    "knn_gscv.best_params_['weights']"
   ]
  },
  {
   "cell_type": "code",
   "execution_count": 360,
   "metadata": {},
   "outputs": [],
   "source": [
    "best_knn = KNeighborsRegressor(n_neighbors=knn_gscv.best_params_['n_neighbors'], weights=knn_gscv.best_params_['weights'])\n",
    "best_knn.fit(X_train, y_train)\n",
    "\n",
    "pred = best_knn.predict(X_test)\n",
    "error = math.sqrt(mean_squared_error(y_test,pred))\n",
    "\n",
    "rev_test_errors = {'knn' : error}"
   ]
  },
  {
   "cell_type": "markdown",
   "metadata": {},
   "source": [
    "# Decision Trees"
   ]
  },
  {
   "cell_type": "code",
   "execution_count": 361,
   "metadata": {},
   "outputs": [
    {
     "data": {
      "text/plain": [
       "8"
      ]
     },
     "execution_count": 361,
     "metadata": {},
     "output_type": "execute_result"
    }
   ],
   "source": [
    "tree = DecisionTreeRegressor(random_state=0)\n",
    "param_grid = {'max_depth': [int(x) for x in np.linspace(1, 100, num=15)] }\n",
    "\n",
    "tree_gscv = RandomizedSearchCV(tree, param_grid, cv=5,scoring='neg_mean_squared_error')\n",
    "tree_gscv.fit(X_train, y_train)\n",
    "tree_gscv.best_params_['max_depth']"
   ]
  },
  {
   "cell_type": "code",
   "execution_count": 362,
   "metadata": {},
   "outputs": [],
   "source": [
    "best_tree = DecisionTreeRegressor(max_depth=tree_gscv.best_params_['max_depth'])\n",
    "\n",
    "best_tree.fit(X_train, y_train)\n",
    "pred = best_tree.predict(X_test)\n",
    "error = math.sqrt(mean_squared_error(y_test,pred))"
   ]
  },
  {
   "cell_type": "code",
   "execution_count": 363,
   "metadata": {},
   "outputs": [],
   "source": [
    "rev_test_errors['tree'] = error"
   ]
  },
  {
   "cell_type": "markdown",
   "metadata": {},
   "source": [
    "# Random Forest"
   ]
  },
  {
   "cell_type": "code",
   "execution_count": 245,
   "metadata": {},
   "outputs": [
    {
     "data": {
      "text/plain": [
       "300"
      ]
     },
     "execution_count": 245,
     "metadata": {},
     "output_type": "execute_result"
    }
   ],
   "source": [
    "\n",
    "forest = RandomForestRegressor(random_state=0)\n",
    "param_grid = {'n_estimators': [int(x) for x in np.linspace(3, 300, num=10) ]}\n",
    "\n",
    "forest_gscv = RandomizedSearchCV(forest, param_grid, cv=5,scoring='neg_mean_squared_error')\n",
    "forest_gscv.fit(X_train, y_train)\n",
    "forest_gscv.best_params_['n_estimators']"
   ]
  },
  {
   "cell_type": "code",
   "execution_count": 364,
   "metadata": {},
   "outputs": [],
   "source": [
    "best_forest = RandomForestRegressor(n_estimators = forest_gscv.best_params_['n_estimators'])\n",
    "\n",
    "best_forest.fit(X_train, y_train)\n",
    "pred = best_forest.predict(X_test)\n",
    "error = math.sqrt(mean_squared_error(y_test,pred))\n"
   ]
  },
  {
   "cell_type": "code",
   "execution_count": 365,
   "metadata": {},
   "outputs": [],
   "source": [
    "rev_test_errors['forest'] = error"
   ]
  },
  {
   "cell_type": "markdown",
   "metadata": {},
   "source": [
    "# Linear Regression"
   ]
  },
  {
   "cell_type": "code",
   "execution_count": 366,
   "metadata": {},
   "outputs": [],
   "source": [
    "params = {'alpha' : np.linspace(0.1, 5000000, num=1000)}\n",
    "\n",
    "lasso = linear_model.Lasso(tol=0.1, random_state=0)\n",
    "lasso_grid = RandomizedSearchCV(lasso, params, cv=5, scoring='neg_mean_squared_error')\n",
    "\n",
    "lasso_grid.fit(X_train, y_train);"
   ]
  },
  {
   "cell_type": "code",
   "execution_count": 367,
   "metadata": {},
   "outputs": [],
   "source": [
    "best_lasso = linear_model.Lasso(alpha=lasso_grid.best_params_['alpha'])\n",
    "\n",
    "best_lasso.fit(X_train, y_train)\n",
    "pred = best_lasso.predict(X_test)\n",
    "error = math.sqrt(mean_squared_error(y_test,pred))"
   ]
  },
  {
   "cell_type": "code",
   "execution_count": 368,
   "metadata": {},
   "outputs": [],
   "source": [
    "rev_test_errors['lasso'] = error"
   ]
  },
  {
   "cell_type": "markdown",
   "metadata": {},
   "source": [
    "### Adaboost"
   ]
  },
  {
   "cell_type": "markdown",
   "metadata": {},
   "source": [
    "Boosting involves creating many weak models, that are dependent on each other (unlike bagging). For every model, the weights are increased on the data points where the previous model got the answers wrong. At the end, every model gets its own importance weight, depending on its accuracy. Then the voting happens."
   ]
  },
  {
   "cell_type": "code",
   "execution_count": 369,
   "metadata": {},
   "outputs": [
    {
     "data": {
      "text/plain": [
       "91"
      ]
     },
     "execution_count": 369,
     "metadata": {},
     "output_type": "execute_result"
    }
   ],
   "source": [
    "ada = AdaBoostRegressor(base_estimator=DecisionTreeRegressor(),)\n",
    "params = {'n_estimators': range(2, 100)}\n",
    "ada_grid = RandomizedSearchCV(ada, params, cv=5, scoring='neg_mean_squared_error')\n",
    "ada_grid.fit(X_train, y_train);\n",
    "ada_grid.best_params_['n_estimators']"
   ]
  },
  {
   "cell_type": "code",
   "execution_count": 370,
   "metadata": {},
   "outputs": [],
   "source": [
    "best_ada = AdaBoostRegressor(base_estimator=DecisionTreeRegressor(),\n",
    "                              random_state=0, n_estimators=ada_grid.best_params_['n_estimators'])\n",
    "\n",
    "best_ada.fit(X_train, y_train)\n",
    "pred = best_ada.predict(X_test)\n",
    "error = math.sqrt(mean_squared_error(y_test,pred))"
   ]
  },
  {
   "cell_type": "code",
   "execution_count": 371,
   "metadata": {},
   "outputs": [],
   "source": [
    "rev_test_errors['ada'] = error"
   ]
  },
  {
   "cell_type": "markdown",
   "metadata": {},
   "source": [
    "### Predicting revenue - leaderboard"
   ]
  },
  {
   "cell_type": "code",
   "execution_count": 372,
   "metadata": {},
   "outputs": [
    {
     "data": {
      "text/plain": [
       "ada      1.56\n",
       "forest   1.59\n",
       "knn      1.79\n",
       "tree     1.96\n",
       "lasso    2.64\n",
       "dtype: float64"
      ]
     },
     "execution_count": 372,
     "metadata": {},
     "output_type": "execute_result"
    }
   ],
   "source": [
    "pd.Series(rev_test_errors).sort_values()"
   ]
  },
  {
   "cell_type": "code",
   "execution_count": 373,
   "metadata": {},
   "outputs": [
    {
     "data": {
      "text/html": [
       "\n",
       "    <style>\n",
       "    table.eli5-weights tr:hover {\n",
       "        filter: brightness(85%);\n",
       "    }\n",
       "</style>\n",
       "\n",
       "\n",
       "\n",
       "    \n",
       "\n",
       "    \n",
       "\n",
       "    \n",
       "\n",
       "    \n",
       "\n",
       "    \n",
       "\n",
       "    \n",
       "\n",
       "\n",
       "    \n",
       "\n",
       "    \n",
       "\n",
       "    \n",
       "\n",
       "    \n",
       "\n",
       "    \n",
       "\n",
       "    \n",
       "\n",
       "\n",
       "    \n",
       "\n",
       "    \n",
       "\n",
       "    \n",
       "\n",
       "    \n",
       "\n",
       "    \n",
       "        <table class=\"eli5-weights eli5-feature-importances\" style=\"border-collapse: collapse; border: none; margin-top: 0em; table-layout: auto;\">\n",
       "    <thead>\n",
       "    <tr style=\"border: none;\">\n",
       "        <th style=\"padding: 0 1em 0 0.5em; text-align: right; border: none;\">Weight</th>\n",
       "        <th style=\"padding: 0 0.5em 0 0.5em; text-align: left; border: none;\">Feature</th>\n",
       "    </tr>\n",
       "    </thead>\n",
       "    <tbody>\n",
       "    \n",
       "        <tr style=\"background-color: hsl(120, 100.00%, 80.00%); border: none;\">\n",
       "            <td style=\"padding: 0 1em 0 0.5em; text-align: right; border: none;\">\n",
       "                0.1238\n",
       "                \n",
       "                    &plusmn; 0.1509\n",
       "                \n",
       "            </td>\n",
       "            <td style=\"padding: 0 0.5em 0 0.5em; text-align: left; border: none;\">\n",
       "                popularity_log\n",
       "            </td>\n",
       "        </tr>\n",
       "    \n",
       "        <tr style=\"background-color: hsl(120, 100.00%, 80.52%); border: none;\">\n",
       "            <td style=\"padding: 0 1em 0 0.5em; text-align: right; border: none;\">\n",
       "                0.1192\n",
       "                \n",
       "                    &plusmn; 0.0666\n",
       "                \n",
       "            </td>\n",
       "            <td style=\"padding: 0 0.5em 0 0.5em; text-align: left; border: none;\">\n",
       "                runtime\n",
       "            </td>\n",
       "        </tr>\n",
       "    \n",
       "        <tr style=\"background-color: hsl(120, 100.00%, 81.16%); border: none;\">\n",
       "            <td style=\"padding: 0 1em 0 0.5em; text-align: right; border: none;\">\n",
       "                0.1136\n",
       "                \n",
       "                    &plusmn; 0.1382\n",
       "                \n",
       "            </td>\n",
       "            <td style=\"padding: 0 0.5em 0 0.5em; text-align: left; border: none;\">\n",
       "                popularity\n",
       "            </td>\n",
       "        </tr>\n",
       "    \n",
       "        <tr style=\"background-color: hsl(120, 100.00%, 81.65%); border: none;\">\n",
       "            <td style=\"padding: 0 1em 0 0.5em; text-align: right; border: none;\">\n",
       "                0.1095\n",
       "                \n",
       "                    &plusmn; 0.1020\n",
       "                \n",
       "            </td>\n",
       "            <td style=\"padding: 0 0.5em 0 0.5em; text-align: left; border: none;\">\n",
       "                comp_size\n",
       "            </td>\n",
       "        </tr>\n",
       "    \n",
       "        <tr style=\"background-color: hsl(120, 100.00%, 86.01%); border: none;\">\n",
       "            <td style=\"padding: 0 1em 0 0.5em; text-align: right; border: none;\">\n",
       "                0.0743\n",
       "                \n",
       "                    &plusmn; 0.0734\n",
       "                \n",
       "            </td>\n",
       "            <td style=\"padding: 0 0.5em 0 0.5em; text-align: left; border: none;\">\n",
       "                budget\n",
       "            </td>\n",
       "        </tr>\n",
       "    \n",
       "        <tr style=\"background-color: hsl(120, 100.00%, 86.82%); border: none;\">\n",
       "            <td style=\"padding: 0 1em 0 0.5em; text-align: right; border: none;\">\n",
       "                0.0682\n",
       "                \n",
       "                    &plusmn; 0.0819\n",
       "                \n",
       "            </td>\n",
       "            <td style=\"padding: 0 0.5em 0 0.5em; text-align: left; border: none;\">\n",
       "                missing_budget\n",
       "            </td>\n",
       "        </tr>\n",
       "    \n",
       "        <tr style=\"background-color: hsl(120, 100.00%, 87.05%); border: none;\">\n",
       "            <td style=\"padding: 0 1em 0 0.5em; text-align: right; border: none;\">\n",
       "                0.0665\n",
       "                \n",
       "                    &plusmn; 0.0638\n",
       "                \n",
       "            </td>\n",
       "            <td style=\"padding: 0 0.5em 0 0.5em; text-align: left; border: none;\">\n",
       "                budget_log\n",
       "            </td>\n",
       "        </tr>\n",
       "    \n",
       "        <tr style=\"background-color: hsl(120, 100.00%, 88.45%); border: none;\">\n",
       "            <td style=\"padding: 0 1em 0 0.5em; text-align: right; border: none;\">\n",
       "                0.0565\n",
       "                \n",
       "                    &plusmn; 0.0359\n",
       "                \n",
       "            </td>\n",
       "            <td style=\"padding: 0 0.5em 0 0.5em; text-align: left; border: none;\">\n",
       "                year_bins\n",
       "            </td>\n",
       "        </tr>\n",
       "    \n",
       "        <tr style=\"background-color: hsl(120, 100.00%, 89.91%); border: none;\">\n",
       "            <td style=\"padding: 0 1em 0 0.5em; text-align: right; border: none;\">\n",
       "                0.0466\n",
       "                \n",
       "                    &plusmn; 0.0377\n",
       "                \n",
       "            </td>\n",
       "            <td style=\"padding: 0 0.5em 0 0.5em; text-align: left; border: none;\">\n",
       "                tagline_len\n",
       "            </td>\n",
       "        </tr>\n",
       "    \n",
       "        <tr style=\"background-color: hsl(120, 100.00%, 92.58%); border: none;\">\n",
       "            <td style=\"padding: 0 1em 0 0.5em; text-align: right; border: none;\">\n",
       "                0.0300\n",
       "                \n",
       "                    &plusmn; 0.0297\n",
       "                \n",
       "            </td>\n",
       "            <td style=\"padding: 0 0.5em 0 0.5em; text-align: left; border: none;\">\n",
       "                actor_popularity_log\n",
       "            </td>\n",
       "        </tr>\n",
       "    \n",
       "        <tr style=\"background-color: hsl(120, 100.00%, 92.62%); border: none;\">\n",
       "            <td style=\"padding: 0 1em 0 0.5em; text-align: right; border: none;\">\n",
       "                0.0298\n",
       "                \n",
       "                    &plusmn; 0.0278\n",
       "                \n",
       "            </td>\n",
       "            <td style=\"padding: 0 0.5em 0 0.5em; text-align: left; border: none;\">\n",
       "                actor_popularity\n",
       "            </td>\n",
       "        </tr>\n",
       "    \n",
       "        <tr style=\"background-color: hsl(120, 100.00%, 95.38%); border: none;\">\n",
       "            <td style=\"padding: 0 1em 0 0.5em; text-align: right; border: none;\">\n",
       "                0.0152\n",
       "                \n",
       "                    &plusmn; 0.0198\n",
       "                \n",
       "            </td>\n",
       "            <td style=\"padding: 0 0.5em 0 0.5em; text-align: left; border: none;\">\n",
       "                Drama\n",
       "            </td>\n",
       "        </tr>\n",
       "    \n",
       "        <tr style=\"background-color: hsl(120, 100.00%, 95.51%); border: none;\">\n",
       "            <td style=\"padding: 0 1em 0 0.5em; text-align: right; border: none;\">\n",
       "                0.0147\n",
       "                \n",
       "                    &plusmn; 0.0197\n",
       "                \n",
       "            </td>\n",
       "            <td style=\"padding: 0 0.5em 0 0.5em; text-align: left; border: none;\">\n",
       "                has_collection\n",
       "            </td>\n",
       "        </tr>\n",
       "    \n",
       "        <tr style=\"background-color: hsl(120, 100.00%, 96.01%); border: none;\">\n",
       "            <td style=\"padding: 0 1em 0 0.5em; text-align: right; border: none;\">\n",
       "                0.0124\n",
       "                \n",
       "                    &plusmn; 0.0178\n",
       "                \n",
       "            </td>\n",
       "            <td style=\"padding: 0 0.5em 0 0.5em; text-align: left; border: none;\">\n",
       "                Crime\n",
       "            </td>\n",
       "        </tr>\n",
       "    \n",
       "        <tr style=\"background-color: hsl(120, 100.00%, 96.36%); border: none;\">\n",
       "            <td style=\"padding: 0 1em 0 0.5em; text-align: right; border: none;\">\n",
       "                0.0109\n",
       "                \n",
       "                    &plusmn; 0.0136\n",
       "                \n",
       "            </td>\n",
       "            <td style=\"padding: 0 0.5em 0 0.5em; text-align: left; border: none;\">\n",
       "                is_english\n",
       "            </td>\n",
       "        </tr>\n",
       "    \n",
       "        <tr style=\"background-color: hsl(120, 100.00%, 96.47%); border: none;\">\n",
       "            <td style=\"padding: 0 1em 0 0.5em; text-align: right; border: none;\">\n",
       "                0.0104\n",
       "                \n",
       "                    &plusmn; 0.0142\n",
       "                \n",
       "            </td>\n",
       "            <td style=\"padding: 0 0.5em 0 0.5em; text-align: left; border: none;\">\n",
       "                Comedy\n",
       "            </td>\n",
       "        </tr>\n",
       "    \n",
       "        <tr style=\"background-color: hsl(120, 100.00%, 96.48%); border: none;\">\n",
       "            <td style=\"padding: 0 1em 0 0.5em; text-align: right; border: none;\">\n",
       "                0.0103\n",
       "                \n",
       "                    &plusmn; 0.0146\n",
       "                \n",
       "            </td>\n",
       "            <td style=\"padding: 0 0.5em 0 0.5em; text-align: left; border: none;\">\n",
       "                Action\n",
       "            </td>\n",
       "        </tr>\n",
       "    \n",
       "        <tr style=\"background-color: hsl(120, 100.00%, 96.82%); border: none;\">\n",
       "            <td style=\"padding: 0 1em 0 0.5em; text-align: right; border: none;\">\n",
       "                0.0089\n",
       "                \n",
       "                    &plusmn; 0.0125\n",
       "                \n",
       "            </td>\n",
       "            <td style=\"padding: 0 0.5em 0 0.5em; text-align: left; border: none;\">\n",
       "                Thriller\n",
       "            </td>\n",
       "        </tr>\n",
       "    \n",
       "        <tr style=\"background-color: hsl(120, 100.00%, 97.23%); border: none;\">\n",
       "            <td style=\"padding: 0 1em 0 0.5em; text-align: right; border: none;\">\n",
       "                0.0074\n",
       "                \n",
       "                    &plusmn; 0.0140\n",
       "                \n",
       "            </td>\n",
       "            <td style=\"padding: 0 0.5em 0 0.5em; text-align: left; border: none;\">\n",
       "                Horror\n",
       "            </td>\n",
       "        </tr>\n",
       "    \n",
       "        <tr style=\"background-color: hsl(120, 100.00%, 97.23%); border: none;\">\n",
       "            <td style=\"padding: 0 1em 0 0.5em; text-align: right; border: none;\">\n",
       "                0.0073\n",
       "                \n",
       "                    &plusmn; 0.0093\n",
       "                \n",
       "            </td>\n",
       "            <td style=\"padding: 0 0.5em 0 0.5em; text-align: left; border: none;\">\n",
       "                Romance\n",
       "            </td>\n",
       "        </tr>\n",
       "    \n",
       "    \n",
       "        \n",
       "            <tr style=\"background-color: hsl(120, 100.00%, 97.23%); border: none;\">\n",
       "                <td colspan=\"2\" style=\"padding: 0 0.5em 0 0.5em; text-align: center; border: none; white-space: nowrap;\">\n",
       "                    <i>&hellip; 25 more &hellip;</i>\n",
       "                </td>\n",
       "            </tr>\n",
       "        \n",
       "    \n",
       "    </tbody>\n",
       "</table>\n",
       "    \n",
       "\n",
       "    \n",
       "\n",
       "\n",
       "    \n",
       "\n",
       "    \n",
       "\n",
       "    \n",
       "\n",
       "    \n",
       "\n",
       "    \n",
       "\n",
       "    \n",
       "\n",
       "\n",
       "\n"
      ],
      "text/plain": [
       "<IPython.core.display.HTML object>"
      ]
     },
     "execution_count": 373,
     "metadata": {},
     "output_type": "execute_result"
    }
   ],
   "source": [
    "eli5.show_weights(best_ada, top=20, feature_names=list(df.columns))"
   ]
  },
  {
   "cell_type": "code",
   "execution_count": 333,
   "metadata": {},
   "outputs": [],
   "source": [
    "df = train_[['id', 'budget', 'budget_log', 'runtime', 'year_bins', 'missing_budget',\n",
    "                'has_tagline', 'has_production', 'actor_popularity', 'actor_popularity_log',\n",
    "               'is_english', 'has_collection', 'comp_size',\n",
    "                'tagline_len', 'popularity', 'popularity_log', 'revenue', 'dataset',\n",
    "            \n",
    "               'Fantasy', 'Animation', 'Thriller', 'Mystery',\n",
    "               'Comedy', 'Action', 'Foreign', 'History', 'Family', 'Horror',\n",
    "               'TV Movie', 'War', 'Western', 'Romance', 'Music', 'Science Fiction',\n",
    "               'Documentary', 'Crime', 'Drama', 'Adventure',\n",
    "           \n",
    "           'Universal Pictures', 'Paramount Pictures',\n",
    "       'Twentieth Century Fox Film Corporation', 'Columbia Pictures',\n",
    "       'Warner Bros.', 'New Line Cinema', 'Walt Disney Pictures',\n",
    "       'Columbia Pictures Corporation', 'TriStar Pictures', 'United Artists',]]\n",
    "\n",
    "\n",
    "df = df[df.dataset == 'test']\n",
    "ids = df['id']\n",
    "\n",
    "df.drop(['dataset', 'id', 'revenue'], axis=1, inplace=True)"
   ]
  },
  {
   "cell_type": "code",
   "execution_count": 334,
   "metadata": {},
   "outputs": [],
   "source": [
    "sc_X = StandardScaler()\n",
    "X_train = sc_X.fit_transform(np.array(df))"
   ]
  },
  {
   "cell_type": "code",
   "execution_count": 335,
   "metadata": {},
   "outputs": [],
   "source": [
    "FINAL = pd.DataFrame()\n",
    "FINAL['id'] = ids\n",
    "FINAL['revenue'] = list(best_ada.predict(X_train))\n",
    "FINAL['revenue'] = FINAL['revenue'].apply(lambda x: e ** x)"
   ]
  },
  {
   "cell_type": "code",
   "execution_count": 336,
   "metadata": {},
   "outputs": [],
   "source": [
    "FINAL.reset_index(inplace=True, drop=True)"
   ]
  },
  {
   "cell_type": "code",
   "execution_count": 337,
   "metadata": {},
   "outputs": [],
   "source": [
    "FINAL.to_csv('boxoffice_submission.csv', index=False)"
   ]
  },
  {
   "cell_type": "markdown",
   "metadata": {},
   "source": [
    "# Final remarks"
   ]
  },
  {
   "cell_type": "markdown",
   "metadata": {},
   "source": [
    "To my great surprise, the model with budget NANs filled in using ML performed almost the same as the one with them filled in (I submitted both). I got a kaggle score of 2.20519 which would place me on place 735 out of 1395 participants."
   ]
  }
 ],
 "metadata": {
  "kernelspec": {
   "display_name": "Python 3",
   "language": "python",
   "name": "python3"
  },
  "language_info": {
   "codemirror_mode": {
    "name": "ipython",
    "version": 3
   },
   "file_extension": ".py",
   "mimetype": "text/x-python",
   "name": "python",
   "nbconvert_exporter": "python",
   "pygments_lexer": "ipython3",
   "version": "3.6.9"
  }
 },
 "nbformat": 4,
 "nbformat_minor": 4
}
