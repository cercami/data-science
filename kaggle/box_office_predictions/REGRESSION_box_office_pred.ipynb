{
 "cells": [
  {
   "cell_type": "code",
   "execution_count": 444,
   "metadata": {},
   "outputs": [],
   "source": [
    "#https://www.kaggle.com/c/tmdb-box-office-prediction/data"
   ]
  },
  {
   "cell_type": "code",
   "execution_count": 445,
   "metadata": {},
   "outputs": [],
   "source": [
    "import pandas as pd\n",
    "import numpy as np\n",
    "from sklearn import linear_model\n",
    "import re\n",
    "import matplotlib.pyplot as plt\n",
    "import seaborn as sns\n",
    "pd.set_option('display.float_format', lambda x: '%.2f' % x)\n",
    "pd.options.mode.chained_assignment = None"
   ]
  },
  {
   "cell_type": "code",
   "execution_count": 446,
   "metadata": {},
   "outputs": [],
   "source": [
    "train = pd.read_csv('tmdb-box-office-prediction/train.csv')\n",
    "test = pd.read_csv('tmdb-box-office-prediction/test.csv')"
   ]
  },
  {
   "cell_type": "code",
   "execution_count": 447,
   "metadata": {},
   "outputs": [],
   "source": [
    "train['dataset'] = 'train'\n",
    "test['dataset'] = 'test'\n",
    "\n",
    "train = train.append(test, sort=False);\n",
    "\n",
    "train.reset_index(inplace=True, drop=True)"
   ]
  },
  {
   "cell_type": "markdown",
   "metadata": {},
   "source": [
    "I don't want to repeat any data wrangling twice, I will split the datasets before training the model."
   ]
  },
  {
   "cell_type": "markdown",
   "metadata": {},
   "source": [
    "### Exploratory data analysis"
   ]
  },
  {
   "cell_type": "markdown",
   "metadata": {},
   "source": [
    "First of all, let's get an understanding of our dependent variable"
   ]
  },
  {
   "cell_type": "code",
   "execution_count": 448,
   "metadata": {},
   "outputs": [
    {
     "name": "stderr",
     "output_type": "stream",
     "text": [
      "/usr/local/lib/python3.6/dist-packages/scipy/stats/stats.py:1713: FutureWarning: Using a non-tuple sequence for multidimensional indexing is deprecated; use `arr[tuple(seq)]` instead of `arr[seq]`. In the future this will be interpreted as an array index, `arr[np.array(seq)]`, which will result either in an error or a different result.\n",
      "  return np.add.reduce(sorted[indexer] * weights, axis=axis) / sumval\n"
     ]
    },
    {
     "data": {
      "image/png": "[encoded data removed]",
      "text/plain": [
       "<Figure size 648x216 with 1 Axes>"
      ]
     },
     "metadata": {
      "needs_background": "light"
     },
     "output_type": "display_data"
    }
   ],
   "source": [
    "plt.figure(figsize=(9, 3))\n",
    "g = sns.distplot(train[train.revenue.notnull()]['revenue'])\n",
    "\n",
    "xlabels = ['{:,.0f}'.format(x)  for x in g.get_xticks()/1]\n",
    "\n",
    "\n",
    "g.set_xticklabels(xlabels, rotation=80);"
   ]
  },
  {
   "cell_type": "markdown",
   "metadata": {},
   "source": [
    "The vast majority are productions with little revenue, with a couple of outliers raking in hundreds of millions"
   ]
  },
  {
   "cell_type": "code",
   "execution_count": 449,
   "metadata": {},
   "outputs": [
    {
     "data": {
      "text/html": [
       "<div>\n",
       "<style scoped>\n",
       "    .dataframe tbody tr th:only-of-type {\n",
       "        vertical-align: middle;\n",
       "    }\n",
       "\n",
       "    .dataframe tbody tr th {\n",
       "        vertical-align: top;\n",
       "    }\n",
       "\n",
       "    .dataframe thead th {\n",
       "        text-align: right;\n",
       "    }\n",
       "</style>\n",
       "<table border=\"1\" class=\"dataframe\">\n",
       "  <thead>\n",
       "    <tr style=\"text-align: right;\">\n",
       "      <th></th>\n",
       "      <th>title</th>\n",
       "      <th>revenue</th>\n",
       "      <th>release_date</th>\n",
       "    </tr>\n",
       "  </thead>\n",
       "  <tbody>\n",
       "    <tr>\n",
       "      <th>347</th>\n",
       "      <td>The Wind in the Willows</td>\n",
       "      <td>1.00</td>\n",
       "      <td>10/16/96</td>\n",
       "    </tr>\n",
       "    <tr>\n",
       "      <th>1754</th>\n",
       "      <td>Mute Witness</td>\n",
       "      <td>1.00</td>\n",
       "      <td>9/28/95</td>\n",
       "    </tr>\n",
       "    <tr>\n",
       "      <th>1917</th>\n",
       "      <td>The Merry Widow</td>\n",
       "      <td>1.00</td>\n",
       "      <td>8/26/25</td>\n",
       "    </tr>\n",
       "    <tr>\n",
       "      <th>1874</th>\n",
       "      <td>Missing</td>\n",
       "      <td>1.00</td>\n",
       "      <td>1/1/07</td>\n",
       "    </tr>\n",
       "    <tr>\n",
       "      <th>695</th>\n",
       "      <td>Tere Naam</td>\n",
       "      <td>2.00</td>\n",
       "      <td>8/15/03</td>\n",
       "    </tr>\n",
       "    <tr>\n",
       "      <th>334</th>\n",
       "      <td>Saamy</td>\n",
       "      <td>3.00</td>\n",
       "      <td>5/5/03</td>\n",
       "    </tr>\n",
       "    <tr>\n",
       "      <th>1541</th>\n",
       "      <td>All at Once</td>\n",
       "      <td>3.00</td>\n",
       "      <td>6/5/14</td>\n",
       "    </tr>\n",
       "    <tr>\n",
       "      <th>2383</th>\n",
       "      <td>Borsalino</td>\n",
       "      <td>3.00</td>\n",
       "      <td>5/19/70</td>\n",
       "    </tr>\n",
       "    <tr>\n",
       "      <th>2117</th>\n",
       "      <td>American Adobo</td>\n",
       "      <td>4.00</td>\n",
       "      <td>9/29/01</td>\n",
       "    </tr>\n",
       "    <tr>\n",
       "      <th>1346</th>\n",
       "      <td>East of Eden</td>\n",
       "      <td>5.00</td>\n",
       "      <td>3/9/55</td>\n",
       "    </tr>\n",
       "  </tbody>\n",
       "</table>\n",
       "</div>"
      ],
      "text/plain": [
       "                        title  revenue release_date\n",
       "347   The Wind in the Willows     1.00     10/16/96\n",
       "1754             Mute Witness     1.00      9/28/95\n",
       "1917          The Merry Widow     1.00      8/26/25\n",
       "1874                  Missing     1.00       1/1/07\n",
       "695                 Tere Naam     2.00      8/15/03\n",
       "334                     Saamy     3.00       5/5/03\n",
       "1541              All at Once     3.00       6/5/14\n",
       "2383                Borsalino     3.00      5/19/70\n",
       "2117           American Adobo     4.00      9/29/01\n",
       "1346             East of Eden     5.00       3/9/55"
      ]
     },
     "execution_count": 449,
     "metadata": {},
     "output_type": "execute_result"
    }
   ],
   "source": [
    "train.sort_values(\"revenue\")[['title', 'revenue', 'release_date']].head(10)"
   ]
  },
  {
   "cell_type": "markdown",
   "metadata": {},
   "source": [
    "I'm having doubts about such low revenue values... How can a movie have revenue of 1? <br>\n",
    "Unless what is meant here is profit, and not revenue?"
   ]
  },
  {
   "cell_type": "code",
   "execution_count": 450,
   "metadata": {},
   "outputs": [
    {
     "data": {
      "image/png": "[encoded data removed]",
      "text/plain": [
       "<Figure size 432x288 with 1 Axes>"
      ]
     },
     "metadata": {
      "needs_background": "light"
     },
     "output_type": "display_data"
    }
   ],
   "source": [
    "(n, bins, patches) = plt.hist(train[train.revenue < 10000]['revenue'])\n",
    "plt.ticklabel_format(style='plain')"
   ]
  },
  {
   "cell_type": "markdown",
   "metadata": {},
   "source": [
    "From the histogram it's visible that plotting the movies with low revenue (less than 10k), the smallest bin\n",
    "is biggest. <br>This suggests the data was input wrongly (i.e. 12 means 12 thousand). Otherwise we would see\n",
    "a more-less smooth, continuous distribution. Keeping these data points in, will drive the regression coefficients towards zero, \n",
    "acting a bit like an L2 penalty, which prevents overfitting, but in our case it would simply mean wrong predictions. I will drop the values in the smallest bin."
   ]
  },
  {
   "cell_type": "markdown",
   "metadata": {},
   "source": [
    "### Problem\n",
    "If the test data true y labels also have some 0s in them, it will seriously jeopardize accuracy of my predictions."
   ]
  },
  {
   "cell_type": "markdown",
   "metadata": {},
   "source": [
    "Let's hone in on the exact cut off point for data with too low (wrong budget)"
   ]
  },
  {
   "cell_type": "code",
   "execution_count": 451,
   "metadata": {},
   "outputs": [
    {
     "data": {
      "image/png": "[encoded data removed]",
      "text/plain": [
       "<Figure size 720x432 with 1 Axes>"
      ]
     },
     "metadata": {
      "needs_background": "light"
     },
     "output_type": "display_data"
    }
   ],
   "source": [
    "plt.figure(figsize=(10, 6))\n",
    "(n, bins, patches) = plt.hist(train[train.revenue < 10000]['revenue'], bins=60)\n",
    "plt.ticklabel_format(style='plain')"
   ]
  },
  {
   "cell_type": "code",
   "execution_count": 452,
   "metadata": {},
   "outputs": [
    {
     "data": {
      "text/plain": [
       "157.51666666666668"
      ]
     },
     "execution_count": 452,
     "metadata": {},
     "output_type": "execute_result"
    }
   ],
   "source": [
    "bins[1]"
   ]
  },
  {
   "cell_type": "code",
   "execution_count": 453,
   "metadata": {},
   "outputs": [
    {
     "data": {
      "text/plain": [
       "45"
      ]
     },
     "execution_count": 453,
     "metadata": {},
     "output_type": "execute_result"
    }
   ],
   "source": [
    "len(train[train.revenue < bins[1]])"
   ]
  },
  {
   "cell_type": "code",
   "execution_count": 454,
   "metadata": {},
   "outputs": [
    {
     "data": {
      "text/html": [
       "<div>\n",
       "<style scoped>\n",
       "    .dataframe tbody tr th:only-of-type {\n",
       "        vertical-align: middle;\n",
       "    }\n",
       "\n",
       "    .dataframe tbody tr th {\n",
       "        vertical-align: top;\n",
       "    }\n",
       "\n",
       "    .dataframe thead th {\n",
       "        text-align: right;\n",
       "    }\n",
       "</style>\n",
       "<table border=\"1\" class=\"dataframe\">\n",
       "  <thead>\n",
       "    <tr style=\"text-align: right;\">\n",
       "      <th></th>\n",
       "      <th>budget</th>\n",
       "      <th>revenue</th>\n",
       "    </tr>\n",
       "  </thead>\n",
       "  <tbody>\n",
       "    <tr>\n",
       "      <th>150</th>\n",
       "      <td>0</td>\n",
       "      <td>18.00</td>\n",
       "    </tr>\n",
       "    <tr>\n",
       "      <th>269</th>\n",
       "      <td>0</td>\n",
       "      <td>20.00</td>\n",
       "    </tr>\n",
       "    <tr>\n",
       "      <th>280</th>\n",
       "      <td>0</td>\n",
       "      <td>10.00</td>\n",
       "    </tr>\n",
       "    <tr>\n",
       "      <th>312</th>\n",
       "      <td>16000000</td>\n",
       "      <td>12.00</td>\n",
       "    </tr>\n",
       "    <tr>\n",
       "      <th>334</th>\n",
       "      <td>1</td>\n",
       "      <td>3.00</td>\n",
       "    </tr>\n",
       "    <tr>\n",
       "      <th>347</th>\n",
       "      <td>12</td>\n",
       "      <td>1.00</td>\n",
       "    </tr>\n",
       "    <tr>\n",
       "      <th>450</th>\n",
       "      <td>23000000</td>\n",
       "      <td>12.00</td>\n",
       "    </tr>\n",
       "    <tr>\n",
       "      <th>498</th>\n",
       "      <td>0</td>\n",
       "      <td>25.00</td>\n",
       "    </tr>\n",
       "    <tr>\n",
       "      <th>579</th>\n",
       "      <td>0</td>\n",
       "      <td>88.00</td>\n",
       "    </tr>\n",
       "    <tr>\n",
       "      <th>639</th>\n",
       "      <td>6</td>\n",
       "      <td>8.00</td>\n",
       "    </tr>\n",
       "    <tr>\n",
       "      <th>...</th>\n",
       "      <td>...</td>\n",
       "      <td>...</td>\n",
       "    </tr>\n",
       "    <tr>\n",
       "      <th>2383</th>\n",
       "      <td>0</td>\n",
       "      <td>3.00</td>\n",
       "    </tr>\n",
       "    <tr>\n",
       "      <th>2399</th>\n",
       "      <td>0</td>\n",
       "      <td>15.00</td>\n",
       "    </tr>\n",
       "    <tr>\n",
       "      <th>2433</th>\n",
       "      <td>0</td>\n",
       "      <td>32.00</td>\n",
       "    </tr>\n",
       "    <tr>\n",
       "      <th>2474</th>\n",
       "      <td>0</td>\n",
       "      <td>79.00</td>\n",
       "    </tr>\n",
       "    <tr>\n",
       "      <th>2490</th>\n",
       "      <td>6400000</td>\n",
       "      <td>6.00</td>\n",
       "    </tr>\n",
       "    <tr>\n",
       "      <th>2577</th>\n",
       "      <td>0</td>\n",
       "      <td>97.00</td>\n",
       "    </tr>\n",
       "    <tr>\n",
       "      <th>2582</th>\n",
       "      <td>0</td>\n",
       "      <td>8.00</td>\n",
       "    </tr>\n",
       "    <tr>\n",
       "      <th>2759</th>\n",
       "      <td>0</td>\n",
       "      <td>13.00</td>\n",
       "    </tr>\n",
       "    <tr>\n",
       "      <th>2864</th>\n",
       "      <td>410000</td>\n",
       "      <td>100.00</td>\n",
       "    </tr>\n",
       "    <tr>\n",
       "      <th>2874</th>\n",
       "      <td>0</td>\n",
       "      <td>25.00</td>\n",
       "    </tr>\n",
       "  </tbody>\n",
       "</table>\n",
       "<p>45 rows × 2 columns</p>\n",
       "</div>"
      ],
      "text/plain": [
       "        budget  revenue\n",
       "150          0    18.00\n",
       "269          0    20.00\n",
       "280          0    10.00\n",
       "312   16000000    12.00\n",
       "334          1     3.00\n",
       "347         12     1.00\n",
       "450   23000000    12.00\n",
       "498          0    25.00\n",
       "579          0    88.00\n",
       "639          6     8.00\n",
       "...        ...      ...\n",
       "2383         0     3.00\n",
       "2399         0    15.00\n",
       "2433         0    32.00\n",
       "2474         0    79.00\n",
       "2490   6400000     6.00\n",
       "2577         0    97.00\n",
       "2582         0     8.00\n",
       "2759         0    13.00\n",
       "2864    410000   100.00\n",
       "2874         0    25.00\n",
       "\n",
       "[45 rows x 2 columns]"
      ]
     },
     "execution_count": 454,
     "metadata": {},
     "output_type": "execute_result"
    }
   ],
   "source": [
    "train[train.revenue < bins[1]][['budget', 'revenue']]"
   ]
  },
  {
   "cell_type": "code",
   "execution_count": 455,
   "metadata": {},
   "outputs": [],
   "source": [
    "pd.set_option('display.max_rows', 10)\n",
    "mask1 = train.revenue.notnull()\n",
    "mask2 = train.revenue < bins[1]\n",
    "train = train[~ (mask1 & mask2)]"
   ]
  },
  {
   "cell_type": "markdown",
   "metadata": {},
   "source": [
    "### Language"
   ]
  },
  {
   "cell_type": "code",
   "execution_count": 456,
   "metadata": {},
   "outputs": [],
   "source": [
    "train['is_english'] = train.original_language == 'en'"
   ]
  },
  {
   "cell_type": "code",
   "execution_count": 457,
   "metadata": {},
   "outputs": [
    {
     "data": {
      "image/png": "[encoded data removed]",
      "text/plain": [
       "<Figure size 360x360 with 1 Axes>"
      ]
     },
     "metadata": {
      "needs_background": "light"
     },
     "output_type": "display_data"
    }
   ],
   "source": [
    "sns.catplot(x=\"is_english\", y='revenue', data=train, kind='bar', );"
   ]
  },
  {
   "cell_type": "code",
   "execution_count": 458,
   "metadata": {},
   "outputs": [
    {
     "data": {
      "image/png": "[encoded data removed]",
      "text/plain": [
       "<Figure size 720x216 with 1 Axes>"
      ]
     },
     "metadata": {
      "needs_background": "light"
     },
     "output_type": "display_data"
    },
    {
     "data": {
      "image/png": "[encoded data removed]",
      "text/plain": [
       "<Figure size 720x216 with 1 Axes>"
      ]
     },
     "metadata": {
      "needs_background": "light"
     },
     "output_type": "display_data"
    },
    {
     "data": {
      "image/png": "[encoded data removed]",
      "text/plain": [
       "<Figure size 720x216 with 1 Axes>"
      ]
     },
     "metadata": {
      "needs_background": "light"
     },
     "output_type": "display_data"
    }
   ],
   "source": [
    "cat = sns.catplot(x=\"original_language\", y='revenue', data=train, kind='bar', ci=None);\n",
    "cat.fig.set_size_inches(10, 3)\n",
    "cat.fig.suptitle(\"Mean revenue per language\")\n",
    "\n",
    "cat = sns.catplot(x=\"original_language\", y='revenue', data=train, kind='bar', ci='sd');\n",
    "cat.fig.set_size_inches(10, 3)\n",
    "cat.fig.suptitle(\"Mean revenue per language WITH std bars\")\n",
    "\n",
    "cat = sns.catplot(x=\"original_language\", data=train, kind='count',ci=None );\n",
    "cat.fig.set_size_inches(10, 3)\n",
    "cat.fig.suptitle(\"Movie count per language\");"
   ]
  },
  {
   "cell_type": "markdown",
   "metadata": {},
   "source": [
    "English language movies bring in most revenue on average, but turkish or chinese ones rank high too.<br>\n",
    "However, we don't have enough data points for those non-english movies to generalize well.<br>\n",
    "We also see that the STD is really big. This is because std (just like correlation, which uses std) is sensitive to outliers. (Interquantile range is largely immune to outliers and we can use it instead).<br>"
   ]
  },
  {
   "cell_type": "code",
   "execution_count": 459,
   "metadata": {},
   "outputs": [
    {
     "data": {
      "text/plain": [
       "en    6316\n",
       "fr     198\n",
       "hi     116\n",
       "ru     108\n",
       "es      95\n",
       "      ... \n",
       "cn      41\n",
       "ta      30\n",
       "sv      19\n",
       "da      17\n",
       "pt      13\n",
       "Name: original_language, Length: 15, dtype: int64"
      ]
     },
     "execution_count": 459,
     "metadata": {},
     "output_type": "execute_result"
    }
   ],
   "source": [
    "train.original_language.value_counts()[:15]"
   ]
  },
  {
   "cell_type": "code",
   "execution_count": 460,
   "metadata": {},
   "outputs": [],
   "source": [
    "langs = list(train.original_language.value_counts()[:15].index)"
   ]
  },
  {
   "cell_type": "code",
   "execution_count": 461,
   "metadata": {},
   "outputs": [
    {
     "data": {
      "image/png": "[encoded data removed]",
      "text/plain": [
       "<Figure size 1152x1152 with 1 Axes>"
      ]
     },
     "metadata": {
      "needs_background": "light"
     },
     "output_type": "display_data"
    }
   ],
   "source": [
    "b = sns.boxplot(y='revenue', x='original_language', \n",
    "                 data=train[(train.dataset == 'train') & (train.original_language.isin(langs))], \n",
    "                 palette=\"colorblind\",\n",
    "                 )\n",
    "b.figure.set_size_inches(16, 16)"
   ]
  },
  {
   "cell_type": "markdown",
   "metadata": {},
   "source": [
    "We see A LOT of outliers. The task won't be easy. Even though english movies have a much higher average revenue than non-english ones, the variance is just huge. It's also way too many of them to delete. I'm no longer so sure it's a good feature."
   ]
  },
  {
   "cell_type": "code",
   "execution_count": 462,
   "metadata": {},
   "outputs": [],
   "source": [
    "train.drop('original_language', axis=1, inplace=True)"
   ]
  },
  {
   "cell_type": "markdown",
   "metadata": {},
   "source": [
    "### Sequels"
   ]
  },
  {
   "cell_type": "markdown",
   "metadata": {},
   "source": [
    "It could be that sequels fetch less/more money than original movies  as they generally tend to be worse.<br> On the other hand, only movies that perform well, get to have a sequel.\n",
    "I have a column telling me if a movie belongs to a collection, but it doesn't tell me if it's the first movie, or a subsequent one"
   ]
  },
  {
   "cell_type": "code",
   "execution_count": 463,
   "metadata": {},
   "outputs": [],
   "source": [
    "train['sequel'] = train.title.str.findall(\"\\s\\d$\").apply(bool)"
   ]
  },
  {
   "cell_type": "code",
   "execution_count": 464,
   "metadata": {},
   "outputs": [],
   "source": [
    "train.title = train.title.str.replace(\"VIII\", \"8\")\n",
    "train.title = train.title.str.replace(\"VII\", \"7\")\n",
    "train.title = train.title.str.replace(\"VI\", \"6\", case=True)\n",
    "train.title = train.title.str.replace(\"\\sV\", \"5\")\n",
    "train.title = train.title.str.replace(\"IV\", \"4\")\n",
    "\n",
    "train.title = train.title.str.replace(\"III\", \"3\")\n",
    "train.title = train.title.str.replace(\"II\", \"2\")\n",
    "train.title = train.title.str.replace(\"\\sI[\\s:]\", \"1\")"
   ]
  },
  {
   "cell_type": "code",
   "execution_count": 465,
   "metadata": {},
   "outputs": [
    {
     "data": {
      "text/html": [
       "<div>\n",
       "<style scoped>\n",
       "    .dataframe tbody tr th:only-of-type {\n",
       "        vertical-align: middle;\n",
       "    }\n",
       "\n",
       "    .dataframe tbody tr th {\n",
       "        vertical-align: top;\n",
       "    }\n",
       "\n",
       "    .dataframe thead th {\n",
       "        text-align: right;\n",
       "    }\n",
       "</style>\n",
       "<table border=\"1\" class=\"dataframe\">\n",
       "  <thead>\n",
       "    <tr style=\"text-align: right;\">\n",
       "      <th></th>\n",
       "      <th>id</th>\n",
       "      <th>belongs_to_collection</th>\n",
       "      <th>budget</th>\n",
       "      <th>genres</th>\n",
       "      <th>homepage</th>\n",
       "      <th>imdb_id</th>\n",
       "      <th>original_title</th>\n",
       "      <th>overview</th>\n",
       "      <th>popularity</th>\n",
       "      <th>poster_path</th>\n",
       "      <th>...</th>\n",
       "      <th>status</th>\n",
       "      <th>tagline</th>\n",
       "      <th>title</th>\n",
       "      <th>Keywords</th>\n",
       "      <th>cast</th>\n",
       "      <th>crew</th>\n",
       "      <th>revenue</th>\n",
       "      <th>dataset</th>\n",
       "      <th>is_english</th>\n",
       "      <th>sequel</th>\n",
       "    </tr>\n",
       "  </thead>\n",
       "  <tbody>\n",
       "    <tr>\n",
       "      <th>5398</th>\n",
       "      <td>5399</td>\n",
       "      <td>NaN</td>\n",
       "      <td>0</td>\n",
       "      <td>[{'id': 18, 'name': 'Drama'}, {'id': 16, 'name...</td>\n",
       "      <td>http://wwws.warnerbros.co.jp/budori/</td>\n",
       "      <td>tt2391821</td>\n",
       "      <td>グスコーブドリの伝記</td>\n",
       "      <td>Remake of The Life of Guskou Budori (1994).\\n ...</td>\n",
       "      <td>0.39</td>\n",
       "      <td>/hm2z04C3AeerpHeRHqhi9dwu5Gi.jpg</td>\n",
       "      <td>...</td>\n",
       "      <td>Released</td>\n",
       "      <td>NaN</td>\n",
       "      <td>NaN</td>\n",
       "      <td>NaN</td>\n",
       "      <td>[{'cast_id': 3, 'character': 'Boduri', 'credit...</td>\n",
       "      <td>[{'credit_id': '52fe4bd7c3a36847f8216183', 'de...</td>\n",
       "      <td>nan</td>\n",
       "      <td>test</td>\n",
       "      <td>False</td>\n",
       "      <td>True</td>\n",
       "    </tr>\n",
       "    <tr>\n",
       "      <th>5425</th>\n",
       "      <td>5426</td>\n",
       "      <td>[{'id': 115840, 'name': 'Would I Lie to You? C...</td>\n",
       "      <td>25496629</td>\n",
       "      <td>[{'id': 35, 'name': 'Comedy'}]</td>\n",
       "      <td>http://www.laveritesijemens3.com/</td>\n",
       "      <td>tt1794850</td>\n",
       "      <td>La Vérité si je Mens ! 3</td>\n",
       "      <td>Eddie, Dov, Yvan et les autres‚Ä¶ Nos chaleure...</td>\n",
       "      <td>3.82</td>\n",
       "      <td>/oavfuwAr7LNWRTX3qwdPWxV4Ywa.jpg</td>\n",
       "      <td>...</td>\n",
       "      <td>Released</td>\n",
       "      <td>NaN</td>\n",
       "      <td>NaN</td>\n",
       "      <td>NaN</td>\n",
       "      <td>[{'cast_id': 2, 'character': 'Eddie', 'credit_...</td>\n",
       "      <td>[{'credit_id': '552bb9a09251417c29001c7a', 'de...</td>\n",
       "      <td>nan</td>\n",
       "      <td>test</td>\n",
       "      <td>False</td>\n",
       "      <td>True</td>\n",
       "    </tr>\n",
       "    <tr>\n",
       "      <th>6628</th>\n",
       "      <td>6629</td>\n",
       "      <td>NaN</td>\n",
       "      <td>6000000</td>\n",
       "      <td>[{'id': 35, 'name': 'Comedy'}, {'id': 18, 'nam...</td>\n",
       "      <td>http://barefootthemovie.com/</td>\n",
       "      <td>tt2355495</td>\n",
       "      <td>Barefoot</td>\n",
       "      <td>The \"black sheep\" son of a wealthy family meet...</td>\n",
       "      <td>5.94</td>\n",
       "      <td>/m8iFS5IW1LSEX0and2FEWzy6GCX.jpg</td>\n",
       "      <td>...</td>\n",
       "      <td>Released</td>\n",
       "      <td>NaN</td>\n",
       "      <td>NaN</td>\n",
       "      <td>[{'id': 2487, 'name': 'naivety'}, {'id': 9714,...</td>\n",
       "      <td>[{'cast_id': 3, 'character': 'Daisy', 'credit_...</td>\n",
       "      <td>[{'credit_id': '52fe4ec2c3a36847f82a65a7', 'de...</td>\n",
       "      <td>nan</td>\n",
       "      <td>test</td>\n",
       "      <td>True</td>\n",
       "      <td>True</td>\n",
       "    </tr>\n",
       "  </tbody>\n",
       "</table>\n",
       "<p>3 rows × 25 columns</p>\n",
       "</div>"
      ],
      "text/plain": [
       "        id                              belongs_to_collection    budget  \\\n",
       "5398  5399                                                NaN         0   \n",
       "5425  5426  [{'id': 115840, 'name': 'Would I Lie to You? C...  25496629   \n",
       "6628  6629                                                NaN   6000000   \n",
       "\n",
       "                                                 genres  \\\n",
       "5398  [{'id': 18, 'name': 'Drama'}, {'id': 16, 'name...   \n",
       "5425                     [{'id': 35, 'name': 'Comedy'}]   \n",
       "6628  [{'id': 35, 'name': 'Comedy'}, {'id': 18, 'nam...   \n",
       "\n",
       "                                  homepage    imdb_id  \\\n",
       "5398  http://wwws.warnerbros.co.jp/budori/  tt2391821   \n",
       "5425     http://www.laveritesijemens3.com/  tt1794850   \n",
       "6628          http://barefootthemovie.com/  tt2355495   \n",
       "\n",
       "                original_title  \\\n",
       "5398                グスコーブドリの伝記   \n",
       "5425  La Vérité si je Mens ! 3   \n",
       "6628                  Barefoot   \n",
       "\n",
       "                                               overview  popularity  \\\n",
       "5398  Remake of The Life of Guskou Budori (1994).\\n ...        0.39   \n",
       "5425  Eddie, Dov, Yvan et les autres‚Ä¶ Nos chaleure...        3.82   \n",
       "6628  The \"black sheep\" son of a wealthy family meet...        5.94   \n",
       "\n",
       "                           poster_path  ...      status tagline title  \\\n",
       "5398  /hm2z04C3AeerpHeRHqhi9dwu5Gi.jpg  ...    Released     NaN   NaN   \n",
       "5425  /oavfuwAr7LNWRTX3qwdPWxV4Ywa.jpg  ...    Released     NaN   NaN   \n",
       "6628  /m8iFS5IW1LSEX0and2FEWzy6GCX.jpg  ...    Released     NaN   NaN   \n",
       "\n",
       "                                               Keywords  \\\n",
       "5398                                                NaN   \n",
       "5425                                                NaN   \n",
       "6628  [{'id': 2487, 'name': 'naivety'}, {'id': 9714,...   \n",
       "\n",
       "                                                   cast  \\\n",
       "5398  [{'cast_id': 3, 'character': 'Boduri', 'credit...   \n",
       "5425  [{'cast_id': 2, 'character': 'Eddie', 'credit_...   \n",
       "6628  [{'cast_id': 3, 'character': 'Daisy', 'credit_...   \n",
       "\n",
       "                                                   crew revenue dataset  \\\n",
       "5398  [{'credit_id': '52fe4bd7c3a36847f8216183', 'de...     nan    test   \n",
       "5425  [{'credit_id': '552bb9a09251417c29001c7a', 'de...     nan    test   \n",
       "6628  [{'credit_id': '52fe4ec2c3a36847f82a65a7', 'de...     nan    test   \n",
       "\n",
       "     is_english sequel  \n",
       "5398      False   True  \n",
       "5425      False   True  \n",
       "6628       True   True  \n",
       "\n",
       "[3 rows x 25 columns]"
      ]
     },
     "execution_count": 465,
     "metadata": {},
     "output_type": "execute_result"
    }
   ],
   "source": [
    "train[train.title.isnull()]"
   ]
  },
  {
   "cell_type": "code",
   "execution_count": 466,
   "metadata": {},
   "outputs": [
    {
     "data": {
      "text/plain": [
       "0                             Hot Tub Time Machine 2\n",
       "1           The Princess Diaries 2: Royal Engagement\n",
       "11         Revenge of the Nerds 2: Nerds in Paradise\n",
       "19                                     Transporter 2\n",
       "21                            Friday the 13th Part 3\n",
       "33                                   ABCs of Death 2\n",
       "34                                       Rush Hour 3\n",
       "63     Friday the 13th Part 8: Jason Takes Manhattan\n",
       "90                                  Kill Bill:5ol. 1\n",
       "104                                   Recep İvedik 4\n",
       "Name: title, dtype: object"
      ]
     },
     "execution_count": 466,
     "metadata": {},
     "output_type": "execute_result"
    }
   ],
   "source": [
    "train.title.fillna('missing', inplace=True)\n",
    "train[train.title.str.contains(\"\\s\\d$|\\s\\d:\")]['title'].head(10)"
   ]
  },
  {
   "cell_type": "code",
   "execution_count": 467,
   "metadata": {},
   "outputs": [
    {
     "data": {
      "text/plain": [
       "array(['2', '3', '8', '1', '4', '5', '9', '6', '7'], dtype=object)"
      ]
     },
     "execution_count": 467,
     "metadata": {},
     "output_type": "execute_result"
    }
   ],
   "source": [
    "train['part'] = train.title.str.findall(\"\\s\\d$|\\s\\d:\")\n",
    "train.part = train.part.str[0]\n",
    "train.part = train.part.str.replace(\"\\:\", \"\").str.strip()\n",
    "train[train.part.notnull()]['part'].unique()"
   ]
  },
  {
   "cell_type": "code",
   "execution_count": 468,
   "metadata": {},
   "outputs": [],
   "source": [
    "train.part.fillna(1, inplace=True)"
   ]
  },
  {
   "cell_type": "code",
   "execution_count": 469,
   "metadata": {},
   "outputs": [],
   "source": [
    "train['sequel'] = train.part != 1"
   ]
  },
  {
   "cell_type": "code",
   "execution_count": 470,
   "metadata": {},
   "outputs": [
    {
     "data": {
      "text/html": [
       "<div>\n",
       "<style scoped>\n",
       "    .dataframe tbody tr th:only-of-type {\n",
       "        vertical-align: middle;\n",
       "    }\n",
       "\n",
       "    .dataframe tbody tr th {\n",
       "        vertical-align: top;\n",
       "    }\n",
       "\n",
       "    .dataframe thead th {\n",
       "        text-align: right;\n",
       "    }\n",
       "</style>\n",
       "<table border=\"1\" class=\"dataframe\">\n",
       "  <thead>\n",
       "    <tr style=\"text-align: right;\">\n",
       "      <th></th>\n",
       "      <th>sequel</th>\n",
       "      <th>title</th>\n",
       "    </tr>\n",
       "  </thead>\n",
       "  <tbody>\n",
       "    <tr>\n",
       "      <th>0</th>\n",
       "      <td>True</td>\n",
       "      <td>Hot Tub Time Machine 2</td>\n",
       "    </tr>\n",
       "    <tr>\n",
       "      <th>1</th>\n",
       "      <td>True</td>\n",
       "      <td>The Princess Diaries 2: Royal Engagement</td>\n",
       "    </tr>\n",
       "    <tr>\n",
       "      <th>11</th>\n",
       "      <td>True</td>\n",
       "      <td>Revenge of the Nerds 2: Nerds in Paradise</td>\n",
       "    </tr>\n",
       "    <tr>\n",
       "      <th>19</th>\n",
       "      <td>True</td>\n",
       "      <td>Transporter 2</td>\n",
       "    </tr>\n",
       "    <tr>\n",
       "      <th>21</th>\n",
       "      <td>True</td>\n",
       "      <td>Friday the 13th Part 3</td>\n",
       "    </tr>\n",
       "    <tr>\n",
       "      <th>33</th>\n",
       "      <td>True</td>\n",
       "      <td>ABCs of Death 2</td>\n",
       "    </tr>\n",
       "    <tr>\n",
       "      <th>34</th>\n",
       "      <td>True</td>\n",
       "      <td>Rush Hour 3</td>\n",
       "    </tr>\n",
       "    <tr>\n",
       "      <th>63</th>\n",
       "      <td>True</td>\n",
       "      <td>Friday the 13th Part 8: Jason Takes Manhattan</td>\n",
       "    </tr>\n",
       "    <tr>\n",
       "      <th>90</th>\n",
       "      <td>True</td>\n",
       "      <td>Kill Bill:5ol. 1</td>\n",
       "    </tr>\n",
       "    <tr>\n",
       "      <th>104</th>\n",
       "      <td>True</td>\n",
       "      <td>Recep İvedik 4</td>\n",
       "    </tr>\n",
       "  </tbody>\n",
       "</table>\n",
       "</div>"
      ],
      "text/plain": [
       "     sequel                                          title\n",
       "0      True                         Hot Tub Time Machine 2\n",
       "1      True       The Princess Diaries 2: Royal Engagement\n",
       "11     True      Revenge of the Nerds 2: Nerds in Paradise\n",
       "19     True                                  Transporter 2\n",
       "21     True                         Friday the 13th Part 3\n",
       "33     True                                ABCs of Death 2\n",
       "34     True                                    Rush Hour 3\n",
       "63     True  Friday the 13th Part 8: Jason Takes Manhattan\n",
       "90     True                               Kill Bill:5ol. 1\n",
       "104    True                                 Recep İvedik 4"
      ]
     },
     "execution_count": 470,
     "metadata": {},
     "output_type": "execute_result"
    }
   ],
   "source": [
    "train[train.sequel == True][['sequel', 'title']].head(10)"
   ]
  },
  {
   "cell_type": "code",
   "execution_count": 471,
   "metadata": {},
   "outputs": [
    {
     "name": "stderr",
     "output_type": "stream",
     "text": [
      "/usr/local/lib/python3.6/dist-packages/scipy/stats/stats.py:1713: FutureWarning: Using a non-tuple sequence for multidimensional indexing is deprecated; use `arr[tuple(seq)]` instead of `arr[seq]`. In the future this will be interpreted as an array index, `arr[np.array(seq)]`, which will result either in an error or a different result.\n",
      "  return np.add.reduce(sorted[indexer] * weights, axis=axis) / sumval\n"
     ]
    },
    {
     "data": {
      "image/png": "[encoded data removed]",
      "text/plain": [
       "<Figure size 360x360 with 1 Axes>"
      ]
     },
     "metadata": {
      "needs_background": "light"
     },
     "output_type": "display_data"
    }
   ],
   "source": [
    "sns.catplot(x='part', y='revenue', data=train, kind='bar');"
   ]
  },
  {
   "cell_type": "markdown",
   "metadata": {},
   "source": [
    "Nope"
   ]
  },
  {
   "cell_type": "code",
   "execution_count": 472,
   "metadata": {},
   "outputs": [],
   "source": [
    "train.drop('part', axis=1, inplace=True)"
   ]
  },
  {
   "cell_type": "markdown",
   "metadata": {},
   "source": [
    "Let's see if my assumption was correct, that sequels (part >= 2) are worse than originals and bring less revenue"
   ]
  },
  {
   "cell_type": "code",
   "execution_count": 473,
   "metadata": {},
   "outputs": [
    {
     "data": {
      "image/png": "[encoded data removed]",
      "text/plain": [
       "<Figure size 360x360 with 1 Axes>"
      ]
     },
     "metadata": {
      "needs_background": "light"
     },
     "output_type": "display_data"
    }
   ],
   "source": [
    "sns.catplot(x='sequel', y='revenue', data=train, kind='bar');"
   ]
  },
  {
   "cell_type": "markdown",
   "metadata": {},
   "source": [
    "It wasn't, it was exactly the opposite. The reason for this could be, that even if the sequel is worse than part 1, only most famous movies get sequels made, and to see if part 2 is good, people first need to buy a cinema ticket to find out if its good."
   ]
  },
  {
   "cell_type": "code",
   "execution_count": 474,
   "metadata": {},
   "outputs": [
    {
     "data": {
      "text/plain": [
       "<seaborn.axisgrid.FacetGrid at 0x7fcf6ce72dd8>"
      ]
     },
     "execution_count": 474,
     "metadata": {},
     "output_type": "execute_result"
    },
    {
     "data": {
      "image/png": "[encoded data removed]",
      "text/plain": [
       "<Figure size 360x360 with 1 Axes>"
      ]
     },
     "metadata": {
      "needs_background": "light"
     },
     "output_type": "display_data"
    }
   ],
   "source": [
    "train['has_collection'] = train.belongs_to_collection.notnull();\n",
    "sns.catplot(x='has_collection', y='revenue', data=train, kind='bar')"
   ]
  },
  {
   "cell_type": "markdown",
   "metadata": {},
   "source": [
    "This actually looks like a better feature than the one I created myself."
   ]
  },
  {
   "cell_type": "code",
   "execution_count": 475,
   "metadata": {},
   "outputs": [],
   "source": [
    "train.drop('sequel', axis=1, inplace=True)"
   ]
  },
  {
   "cell_type": "markdown",
   "metadata": {},
   "source": [
    "### Budget"
   ]
  },
  {
   "cell_type": "code",
   "execution_count": 476,
   "metadata": {},
   "outputs": [
    {
     "data": {
      "image/png": "[encoded data removed]",
      "text/plain": [
       "<Figure size 432x288 with 1 Axes>"
      ]
     },
     "metadata": {
      "needs_background": "light"
     },
     "output_type": "display_data"
    }
   ],
   "source": [
    "sns.distplot(train.budget);"
   ]
  },
  {
   "cell_type": "code",
   "execution_count": 477,
   "metadata": {},
   "outputs": [
    {
     "data": {
      "text/plain": [
       "3000           0\n",
       "3001       88000\n",
       "3002           0\n",
       "3003     6800000\n",
       "3004     2000000\n",
       "3005           0\n",
       "3006           0\n",
       "3007    30000000\n",
       "3008    16500000\n",
       "3009    90000000\n",
       "Name: budget, dtype: int64"
      ]
     },
     "execution_count": 477,
     "metadata": {},
     "output_type": "execute_result"
    }
   ],
   "source": [
    "train[train.dataset == 'test']['budget'][:10]"
   ]
  },
  {
   "cell_type": "code",
   "execution_count": 478,
   "metadata": {},
   "outputs": [
    {
     "data": {
      "text/plain": [
       "False    5353\n",
       "True     2000\n",
       "Name: budget, dtype: int64"
      ]
     },
     "execution_count": 478,
     "metadata": {},
     "output_type": "execute_result"
    }
   ],
   "source": [
    "(train.budget == 0).value_counts(dropna=False)"
   ]
  },
  {
   "cell_type": "markdown",
   "metadata": {},
   "source": [
    "We got a lot of missing values, which is a problem, because budget could be one of the strongest predictors of revenue.<br> It's a double whammy, because I have very little data and cannot affort to simply drop these rows."
   ]
  },
  {
   "cell_type": "markdown",
   "metadata": {},
   "source": [
    "First, I need to understand if this feature is missing at random, or if there is some logic to it."
   ]
  },
  {
   "cell_type": "code",
   "execution_count": 479,
   "metadata": {},
   "outputs": [
    {
     "data": {
      "text/plain": [
       "<matplotlib.axes._subplots.AxesSubplot at 0x7fcf76eb3d68>"
      ]
     },
     "execution_count": 479,
     "metadata": {},
     "output_type": "execute_result"
    },
    {
     "data": {
      "image/png": "[encoded data removed]",
      "text/plain": [
       "<Figure size 432x288 with 1 Axes>"
      ]
     },
     "metadata": {
      "needs_background": "light"
     },
     "output_type": "display_data"
    }
   ],
   "source": [
    "sns.boxplot(train[train.budget == 0]['revenue'])"
   ]
  },
  {
   "cell_type": "markdown",
   "metadata": {},
   "source": [
    "It looks random."
   ]
  },
  {
   "cell_type": "code",
   "execution_count": 480,
   "metadata": {},
   "outputs": [
    {
     "data": {
      "text/plain": [
       "(12542266.399239544, 29496149.5)"
      ]
     },
     "execution_count": 480,
     "metadata": {},
     "output_type": "execute_result"
    }
   ],
   "source": [
    "mask = train.budget == 0\n",
    "mask1 = train.dataset == 'train'\n",
    "\n",
    "(train[mask & mask1]['revenue'].mean(), train[~mask & mask1]['revenue'].median())"
   ]
  },
  {
   "cell_type": "markdown",
   "metadata": {},
   "source": [
    "It's 12 mln vs 28 mln. The difference actually is not SO big... but let's make a feature out of it just in case."
   ]
  },
  {
   "cell_type": "code",
   "execution_count": 481,
   "metadata": {},
   "outputs": [],
   "source": [
    "train['missing_budget'] = train.budget == 0"
   ]
  },
  {
   "cell_type": "code",
   "execution_count": 482,
   "metadata": {},
   "outputs": [],
   "source": [
    "bud = train[train.budget > 0]"
   ]
  },
  {
   "cell_type": "code",
   "execution_count": 483,
   "metadata": {},
   "outputs": [
    {
     "data": {
      "text/html": [
       "<div>\n",
       "<style scoped>\n",
       "    .dataframe tbody tr th:only-of-type {\n",
       "        vertical-align: middle;\n",
       "    }\n",
       "\n",
       "    .dataframe tbody tr th {\n",
       "        vertical-align: top;\n",
       "    }\n",
       "\n",
       "    .dataframe thead th {\n",
       "        text-align: right;\n",
       "    }\n",
       "</style>\n",
       "<table border=\"1\" class=\"dataframe\">\n",
       "  <thead>\n",
       "    <tr style=\"text-align: right;\">\n",
       "      <th></th>\n",
       "      <th>budget</th>\n",
       "      <th>revenue</th>\n",
       "    </tr>\n",
       "  </thead>\n",
       "  <tbody>\n",
       "    <tr>\n",
       "      <th>849</th>\n",
       "      <td>1</td>\n",
       "      <td>8500000.00</td>\n",
       "    </tr>\n",
       "    <tr>\n",
       "      <th>796</th>\n",
       "      <td>8</td>\n",
       "      <td>33579813.00</td>\n",
       "    </tr>\n",
       "    <tr>\n",
       "      <th>2695</th>\n",
       "      <td>10</td>\n",
       "      <td>10000000.00</td>\n",
       "    </tr>\n",
       "    <tr>\n",
       "      <th>512</th>\n",
       "      <td>93</td>\n",
       "      <td>2500000.00</td>\n",
       "    </tr>\n",
       "    <tr>\n",
       "      <th>469</th>\n",
       "      <td>113</td>\n",
       "      <td>115103979.00</td>\n",
       "    </tr>\n",
       "    <tr>\n",
       "      <th>...</th>\n",
       "      <td>...</td>\n",
       "      <td>...</td>\n",
       "    </tr>\n",
       "    <tr>\n",
       "      <th>259</th>\n",
       "      <td>24554</td>\n",
       "      <td>140021.00</td>\n",
       "    </tr>\n",
       "    <tr>\n",
       "      <th>1356</th>\n",
       "      <td>25000</td>\n",
       "      <td>25000.00</td>\n",
       "    </tr>\n",
       "    <tr>\n",
       "      <th>267</th>\n",
       "      <td>27000</td>\n",
       "      <td>3151130.00</td>\n",
       "    </tr>\n",
       "    <tr>\n",
       "      <th>746</th>\n",
       "      <td>50000</td>\n",
       "      <td>249905.00</td>\n",
       "    </tr>\n",
       "    <tr>\n",
       "      <th>1679</th>\n",
       "      <td>60000</td>\n",
       "      <td>248000000.00</td>\n",
       "    </tr>\n",
       "  </tbody>\n",
       "</table>\n",
       "<p>20 rows × 2 columns</p>\n",
       "</div>"
      ],
      "text/plain": [
       "      budget      revenue\n",
       "849        1   8500000.00\n",
       "796        8  33579813.00\n",
       "2695      10  10000000.00\n",
       "512       93   2500000.00\n",
       "469      113 115103979.00\n",
       "...      ...          ...\n",
       "259    24554    140021.00\n",
       "1356   25000     25000.00\n",
       "267    27000   3151130.00\n",
       "746    50000    249905.00\n",
       "1679   60000 248000000.00\n",
       "\n",
       "[20 rows x 2 columns]"
      ]
     },
     "execution_count": 483,
     "metadata": {},
     "output_type": "execute_result"
    }
   ],
   "source": [
    "bud[bud.dataset == 'train'].sort_values('budget')[['budget', 'revenue']][:20]"
   ]
  },
  {
   "cell_type": "markdown",
   "metadata": {},
   "source": [
    "Budgets lower than 2500 seems to be wrong too, in some other unit. I prefer to treat them as 0."
   ]
  },
  {
   "cell_type": "code",
   "execution_count": 484,
   "metadata": {},
   "outputs": [],
   "source": [
    "train.loc[ (train.budget < 2500) ]['budget'] = 0"
   ]
  },
  {
   "cell_type": "code",
   "execution_count": 485,
   "metadata": {},
   "outputs": [],
   "source": [
    "bud = train[train.budget > 2000]"
   ]
  },
  {
   "cell_type": "code",
   "execution_count": 486,
   "metadata": {},
   "outputs": [
    {
     "name": "stderr",
     "output_type": "stream",
     "text": [
      "/usr/local/lib/python3.6/dist-packages/scipy/stats/stats.py:1713: FutureWarning: Using a non-tuple sequence for multidimensional indexing is deprecated; use `arr[tuple(seq)]` instead of `arr[seq]`. In the future this will be interpreted as an array index, `arr[np.array(seq)]`, which will result either in an error or a different result.\n",
      "  return np.add.reduce(sorted[indexer] * weights, axis=axis) / sumval\n"
     ]
    },
    {
     "data": {
      "image/png": "[encoded data removed]",
      "text/plain": [
       "<Figure size 432x288 with 1 Axes>"
      ]
     },
     "metadata": {
      "needs_background": "light"
     },
     "output_type": "display_data"
    }
   ],
   "source": [
    "sns.regplot(bud.budget, bud.revenue);"
   ]
  },
  {
   "cell_type": "code",
   "execution_count": 487,
   "metadata": {},
   "outputs": [
    {
     "data": {
      "image/png": "[encoded data removed]",
      "text/plain": [
       "<Figure size 432x288 with 1 Axes>"
      ]
     },
     "metadata": {
      "needs_background": "light"
     },
     "output_type": "display_data"
    }
   ],
   "source": [
    "sns.regplot(bud.budget, bud.revenue, order=2);"
   ]
  },
  {
   "cell_type": "code",
   "execution_count": 488,
   "metadata": {},
   "outputs": [
    {
     "name": "stdout",
     "output_type": "stream",
     "text": [
      "Pearsons correlation: 0.739\n"
     ]
    }
   ],
   "source": [
    "from scipy.stats import pearsonr\n",
    "corr, _ = pearsonr(bud[bud.dataset == 'train']['budget'], bud[bud.dataset == 'train']['revenue'])\n",
    "print('Pearsons correlation: %.3f' % corr)"
   ]
  },
  {
   "cell_type": "code",
   "execution_count": 489,
   "metadata": {},
   "outputs": [
    {
     "data": {
      "text/plain": [
       "<matplotlib.axes._subplots.AxesSubplot at 0x7fcf772e84e0>"
      ]
     },
     "execution_count": 489,
     "metadata": {},
     "output_type": "execute_result"
    },
    {
     "data": {
      "image/png": "[encoded data removed]",
      "text/plain": [
       "<Figure size 432x288 with 1 Axes>"
      ]
     },
     "metadata": {
      "needs_background": "light"
     },
     "output_type": "display_data"
    }
   ],
   "source": [
    "sns.boxplot(bud.budget)"
   ]
  },
  {
   "cell_type": "markdown",
   "metadata": {},
   "source": [
    "I don't think it's a good idea to just fill these nans with a mean or a median, because the data is really spread out.<br> Given the strong correlation, I will go out on a limb and use ML to guess these missing values. But doing this feels almost like predicting revenue itself."
   ]
  },
  {
   "cell_type": "markdown",
   "metadata": {},
   "source": [
    "### Filling in missing budget values using simple regression"
   ]
  },
  {
   "cell_type": "code",
   "execution_count": 490,
   "metadata": {},
   "outputs": [],
   "source": [
    "from sklearn.linear_model import LinearRegression\n",
    "\n",
    "model = LinearRegression().fit(X=np.array(bud[bud.dataset == 'train']['revenue']).reshape(-1, 1), \\\n",
    "                               y=np.array(bud[bud.dataset == 'train']['budget']).reshape(-1, 1))"
   ]
  },
  {
   "cell_type": "code",
   "execution_count": 491,
   "metadata": {},
   "outputs": [],
   "source": [
    "budgets_ml = model.predict(np.array(train[(train.budget == 0) & (train.dataset == 'train')]['revenue']).reshape(-1, 1))"
   ]
  },
  {
   "cell_type": "code",
   "execution_count": 492,
   "metadata": {},
   "outputs": [],
   "source": [
    "#train.loc[(train.budget == 0) & (train.dataset == 'train')]['budget'] = budgets_ml.tolist()"
   ]
  },
  {
   "cell_type": "markdown",
   "metadata": {},
   "source": [
    "### Not so fast...."
   ]
  },
  {
   "cell_type": "markdown",
   "metadata": {},
   "source": [
    "The predictions 'work', but are worthless, as the data I used to get them (revenue - my target variable) is present only in the train dataset, of course. So I cannot do the same in the test dataset. To predict budget, I need to use features present in both train and test dataset."
   ]
  },
  {
   "cell_type": "code",
   "execution_count": 493,
   "metadata": {},
   "outputs": [
    {
     "data": {
      "text/html": [
       "<div>\n",
       "<style scoped>\n",
       "    .dataframe tbody tr th:only-of-type {\n",
       "        vertical-align: middle;\n",
       "    }\n",
       "\n",
       "    .dataframe tbody tr th {\n",
       "        vertical-align: top;\n",
       "    }\n",
       "\n",
       "    .dataframe thead th {\n",
       "        text-align: right;\n",
       "    }\n",
       "</style>\n",
       "<table border=\"1\" class=\"dataframe\">\n",
       "  <thead>\n",
       "    <tr style=\"text-align: right;\">\n",
       "      <th></th>\n",
       "      <th>budget</th>\n",
       "      <th>revenue</th>\n",
       "    </tr>\n",
       "  </thead>\n",
       "  <tbody>\n",
       "    <tr>\n",
       "      <th>id</th>\n",
       "      <td>0.00</td>\n",
       "      <td>0.00</td>\n",
       "    </tr>\n",
       "    <tr>\n",
       "      <th>budget</th>\n",
       "      <td>1.00</td>\n",
       "      <td>0.75</td>\n",
       "    </tr>\n",
       "    <tr>\n",
       "      <th>popularity</th>\n",
       "      <td>0.34</td>\n",
       "      <td>0.46</td>\n",
       "    </tr>\n",
       "    <tr>\n",
       "      <th>runtime</th>\n",
       "      <td>0.22</td>\n",
       "      <td>0.22</td>\n",
       "    </tr>\n",
       "    <tr>\n",
       "      <th>revenue</th>\n",
       "      <td>0.75</td>\n",
       "      <td>1.00</td>\n",
       "    </tr>\n",
       "    <tr>\n",
       "      <th>is_english</th>\n",
       "      <td>0.19</td>\n",
       "      <td>0.14</td>\n",
       "    </tr>\n",
       "    <tr>\n",
       "      <th>has_collection</th>\n",
       "      <td>0.22</td>\n",
       "      <td>0.34</td>\n",
       "    </tr>\n",
       "    <tr>\n",
       "      <th>missing_budget</th>\n",
       "      <td>-0.38</td>\n",
       "      <td>-0.24</td>\n",
       "    </tr>\n",
       "  </tbody>\n",
       "</table>\n",
       "</div>"
      ],
      "text/plain": [
       "                budget  revenue\n",
       "id                0.00     0.00\n",
       "budget            1.00     0.75\n",
       "popularity        0.34     0.46\n",
       "runtime           0.22     0.22\n",
       "revenue           0.75     1.00\n",
       "is_english        0.19     0.14\n",
       "has_collection    0.22     0.34\n",
       "missing_budget   -0.38    -0.24"
      ]
     },
     "execution_count": 493,
     "metadata": {},
     "output_type": "execute_result"
    }
   ],
   "source": [
    "train.corr()[['budget', 'revenue']]"
   ]
  },
  {
   "cell_type": "markdown",
   "metadata": {},
   "source": [
    "There is nothing can correlates highly with budget (other than revenue)"
   ]
  },
  {
   "cell_type": "markdown",
   "metadata": {},
   "source": [
    "### Genre"
   ]
  },
  {
   "cell_type": "code",
   "execution_count": 494,
   "metadata": {},
   "outputs": [
    {
     "data": {
      "text/plain": [
       "\"[{'id': 35, 'name': 'Comedy'}]\""
      ]
     },
     "execution_count": 494,
     "metadata": {},
     "output_type": "execute_result"
    }
   ],
   "source": [
    "train.genres[0]"
   ]
  },
  {
   "cell_type": "markdown",
   "metadata": {},
   "source": [
    "Its a string dictionary because the data was uploaded to kaggle as csv and not as pickle :-/ but we got a fix"
   ]
  },
  {
   "cell_type": "code",
   "execution_count": 495,
   "metadata": {},
   "outputs": [
    {
     "data": {
      "text/plain": [
       "[{'id': 35, 'name': 'Comedy'}]"
      ]
     },
     "execution_count": 495,
     "metadata": {},
     "output_type": "execute_result"
    }
   ],
   "source": [
    "import ast\n",
    "ast.literal_eval(train.genres[0])"
   ]
  },
  {
   "cell_type": "code",
   "execution_count": 496,
   "metadata": {},
   "outputs": [],
   "source": [
    "train.genres = train.genres.apply(lambda x: ast.literal_eval(x) if not pd.isna(x) else None)"
   ]
  },
  {
   "cell_type": "code",
   "execution_count": 497,
   "metadata": {},
   "outputs": [
    {
     "data": {
      "text/plain": [
       "23"
      ]
     },
     "execution_count": 497,
     "metadata": {},
     "output_type": "execute_result"
    }
   ],
   "source": [
    "sum(train.genres.isnull())"
   ]
  },
  {
   "cell_type": "code",
   "execution_count": 498,
   "metadata": {},
   "outputs": [],
   "source": [
    "# we can live with that"
   ]
  },
  {
   "cell_type": "code",
   "execution_count": 499,
   "metadata": {},
   "outputs": [],
   "source": [
    "def extract_genres(x):\n",
    "    if x:\n",
    "        return [d['name'] for d in x]\n",
    "\n",
    "train.genres = train.genres.apply(extract_genres)"
   ]
  },
  {
   "cell_type": "code",
   "execution_count": 500,
   "metadata": {},
   "outputs": [
    {
     "data": {
      "text/plain": [
       "0                                      [Comedy]\n",
       "1              [Comedy, Drama, Family, Romance]\n",
       "2                                       [Drama]\n",
       "3                             [Thriller, Drama]\n",
       "4                            [Action, Thriller]\n",
       "5                [Animation, Adventure, Family]\n",
       "6                            [Horror, Thriller]\n",
       "7                                 [Documentary]\n",
       "8    [Action, Comedy, Music, Family, Adventure]\n",
       "9                               [Comedy, Music]\n",
       "Name: genres, dtype: object"
      ]
     },
     "execution_count": 500,
     "metadata": {},
     "output_type": "execute_result"
    }
   ],
   "source": [
    "train.genres[:10]"
   ]
  },
  {
   "cell_type": "markdown",
   "metadata": {},
   "source": [
    "We have to turn the list of genres into onehotencoding"
   ]
  },
  {
   "cell_type": "code",
   "execution_count": 501,
   "metadata": {},
   "outputs": [],
   "source": [
    "from pandas.core.common import flatten\n",
    "genres = [g for g in set(flatten(train.genres.tolist())) if g]"
   ]
  },
  {
   "cell_type": "code",
   "execution_count": 502,
   "metadata": {},
   "outputs": [
    {
     "name": "stdout",
     "output_type": "stream",
     "text": [
      "['Music', 'Horror', 'Science Fiction', 'Action', 'Fantasy', 'History', 'Thriller', 'War', 'Western', 'Crime', 'Mystery', 'TV Movie', 'Foreign', 'Animation', 'Family', 'Romance', 'Drama', 'Adventure', 'Documentary', 'Comedy']\n"
     ]
    }
   ],
   "source": [
    "print(genres)"
   ]
  },
  {
   "cell_type": "code",
   "execution_count": 503,
   "metadata": {},
   "outputs": [],
   "source": [
    "for genre in genres:\n",
    "    train[genre] = 0"
   ]
  },
  {
   "cell_type": "code",
   "execution_count": 504,
   "metadata": {},
   "outputs": [],
   "source": [
    "genre_counts ={}\n",
    "\n",
    "for genre in genres:\n",
    "    train[genre] = train.genres.apply(lambda x: genre in x if x else 0)\n",
    "    genre_counts[genre] = sum(train[train[genre] == 1][genre])"
   ]
  },
  {
   "cell_type": "code",
   "execution_count": 505,
   "metadata": {},
   "outputs": [
    {
     "data": {
      "text/plain": [
       "{'Music': 265,\n",
       " 'Horror': 734,\n",
       " 'Science Fiction': 744,\n",
       " 'Action': 1726,\n",
       " 'Fantasy': 627,\n",
       " 'History': 295,\n",
       " 'Thriller': 1859,\n",
       " 'War': 242,\n",
       " 'Western': 115,\n",
       " 'Crime': 1079,\n",
       " 'Mystery': 549,\n",
       " 'TV Movie': 1,\n",
       " 'Foreign': 79,\n",
       " 'Animation': 381,\n",
       " 'Family': 672,\n",
       " 'Romance': 1422,\n",
       " 'Drama': 3653,\n",
       " 'Adventure': 1113,\n",
       " 'Documentary': 218,\n",
       " 'Comedy': 2586}"
      ]
     },
     "execution_count": 505,
     "metadata": {},
     "output_type": "execute_result"
    }
   ],
   "source": [
    "genre_counts"
   ]
  },
  {
   "cell_type": "code",
   "execution_count": 506,
   "metadata": {},
   "outputs": [
    {
     "data": {
      "text/plain": [
       "94231606.44895054"
      ]
     },
     "execution_count": 506,
     "metadata": {},
     "output_type": "execute_result"
    }
   ],
   "source": [
    "train[(train.dataset == 'train') & (train.Drama == 1)]['revenue'].std()"
   ]
  },
  {
   "cell_type": "code",
   "execution_count": 507,
   "metadata": {},
   "outputs": [],
   "source": [
    "genre_dict = {}\n",
    "\n",
    "for genre in genres:\n",
    "    #print(genre)\n",
    "    #print(sum(train[genre].fillna(0)), \"\\n\\n\")\n",
    "    genre_dict[genre] = ( train[train[genre] == True]['revenue'].mean(),\n",
    "                         train[train[genre] == True]['revenue'].median(),\n",
    "                         train[train[genre] == 1]['revenue'].std(),\n",
    "                         len(train[train[genre] == True])\n",
    "                        ) "
   ]
  },
  {
   "cell_type": "code",
   "execution_count": 508,
   "metadata": {},
   "outputs": [],
   "source": [
    "gen_df = pd.DataFrame(genre_dict).T"
   ]
  },
  {
   "cell_type": "code",
   "execution_count": 509,
   "metadata": {},
   "outputs": [],
   "source": [
    "gen_df.columns = ['mean', 'median', 'std', 'count']"
   ]
  },
  {
   "cell_type": "code",
   "execution_count": 510,
   "metadata": {},
   "outputs": [],
   "source": [
    "gen_df.reset_index(inplace=True)"
   ]
  },
  {
   "cell_type": "code",
   "execution_count": 511,
   "metadata": {},
   "outputs": [
    {
     "data": {
      "text/html": [
       "<div>\n",
       "<style scoped>\n",
       "    .dataframe tbody tr th:only-of-type {\n",
       "        vertical-align: middle;\n",
       "    }\n",
       "\n",
       "    .dataframe tbody tr th {\n",
       "        vertical-align: top;\n",
       "    }\n",
       "\n",
       "    .dataframe thead th {\n",
       "        text-align: right;\n",
       "    }\n",
       "</style>\n",
       "<table border=\"1\" class=\"dataframe\">\n",
       "  <thead>\n",
       "    <tr style=\"text-align: right;\">\n",
       "      <th></th>\n",
       "      <th>index</th>\n",
       "      <th>mean</th>\n",
       "      <th>median</th>\n",
       "      <th>std</th>\n",
       "      <th>count</th>\n",
       "    </tr>\n",
       "  </thead>\n",
       "  <tbody>\n",
       "    <tr>\n",
       "      <th>0</th>\n",
       "      <td>Music</td>\n",
       "      <td>43745812.48</td>\n",
       "      <td>14127141.50</td>\n",
       "      <td>75485830.69</td>\n",
       "      <td>265.00</td>\n",
       "    </tr>\n",
       "    <tr>\n",
       "      <th>1</th>\n",
       "      <td>Horror</td>\n",
       "      <td>52884767.69</td>\n",
       "      <td>17065170.00</td>\n",
       "      <td>87323889.52</td>\n",
       "      <td>734.00</td>\n",
       "    </tr>\n",
       "    <tr>\n",
       "      <th>2</th>\n",
       "      <td>Science Fiction</td>\n",
       "      <td>122367176.31</td>\n",
       "      <td>35109301.50</td>\n",
       "      <td>219234188.27</td>\n",
       "      <td>744.00</td>\n",
       "    </tr>\n",
       "    <tr>\n",
       "      <th>3</th>\n",
       "      <td>Action</td>\n",
       "      <td>112408734.28</td>\n",
       "      <td>36893973.00</td>\n",
       "      <td>197619774.08</td>\n",
       "      <td>1726.00</td>\n",
       "    </tr>\n",
       "    <tr>\n",
       "      <th>4</th>\n",
       "      <td>Fantasy</td>\n",
       "      <td>148606478.00</td>\n",
       "      <td>49998613.00</td>\n",
       "      <td>237545082.01</td>\n",
       "      <td>627.00</td>\n",
       "    </tr>\n",
       "    <tr>\n",
       "      <th>...</th>\n",
       "      <td>...</td>\n",
       "      <td>...</td>\n",
       "      <td>...</td>\n",
       "      <td>...</td>\n",
       "      <td>...</td>\n",
       "    </tr>\n",
       "    <tr>\n",
       "      <th>15</th>\n",
       "      <td>Romance</td>\n",
       "      <td>53932900.97</td>\n",
       "      <td>15454665.00</td>\n",
       "      <td>105470533.14</td>\n",
       "      <td>1422.00</td>\n",
       "    </tr>\n",
       "    <tr>\n",
       "      <th>16</th>\n",
       "      <td>Drama</td>\n",
       "      <td>46098606.34</td>\n",
       "      <td>11934723.50</td>\n",
       "      <td>94231606.45</td>\n",
       "      <td>3653.00</td>\n",
       "    </tr>\n",
       "    <tr>\n",
       "      <th>17</th>\n",
       "      <td>Adventure</td>\n",
       "      <td>177019197.00</td>\n",
       "      <td>60920515.00</td>\n",
       "      <td>256368284.65</td>\n",
       "      <td>1113.00</td>\n",
       "    </tr>\n",
       "    <tr>\n",
       "      <th>18</th>\n",
       "      <td>Documentary</td>\n",
       "      <td>4803650.29</td>\n",
       "      <td>278012.00</td>\n",
       "      <td>13532656.33</td>\n",
       "      <td>218.00</td>\n",
       "    </tr>\n",
       "    <tr>\n",
       "      <th>19</th>\n",
       "      <td>Comedy</td>\n",
       "      <td>62022064.29</td>\n",
       "      <td>19776159.00</td>\n",
       "      <td>109723433.46</td>\n",
       "      <td>2586.00</td>\n",
       "    </tr>\n",
       "  </tbody>\n",
       "</table>\n",
       "<p>20 rows × 5 columns</p>\n",
       "</div>"
      ],
      "text/plain": [
       "              index         mean      median          std   count\n",
       "0             Music  43745812.48 14127141.50  75485830.69  265.00\n",
       "1            Horror  52884767.69 17065170.00  87323889.52  734.00\n",
       "2   Science Fiction 122367176.31 35109301.50 219234188.27  744.00\n",
       "3            Action 112408734.28 36893973.00 197619774.08 1726.00\n",
       "4           Fantasy 148606478.00 49998613.00 237545082.01  627.00\n",
       "..              ...          ...         ...          ...     ...\n",
       "15          Romance  53932900.97 15454665.00 105470533.14 1422.00\n",
       "16            Drama  46098606.34 11934723.50  94231606.45 3653.00\n",
       "17        Adventure 177019197.00 60920515.00 256368284.65 1113.00\n",
       "18      Documentary   4803650.29   278012.00  13532656.33  218.00\n",
       "19           Comedy  62022064.29 19776159.00 109723433.46 2586.00\n",
       "\n",
       "[20 rows x 5 columns]"
      ]
     },
     "execution_count": 511,
     "metadata": {},
     "output_type": "execute_result"
    }
   ],
   "source": [
    "gen_df"
   ]
  },
  {
   "cell_type": "markdown",
   "metadata": {},
   "source": [
    "According to the law of large numbers, we are more likely to see very low or very high averages when the sample size is small.<br> Something to keep in mind here."
   ]
  },
  {
   "cell_type": "code",
   "execution_count": 512,
   "metadata": {},
   "outputs": [
    {
     "data": {
      "text/plain": [
       "<seaborn.axisgrid.FacetGrid at 0x7fcf716ef400>"
      ]
     },
     "execution_count": 512,
     "metadata": {},
     "output_type": "execute_result"
    },
    {
     "data": {
      "image/png": "[encoded data removed]",
      "text/plain": [
       "<Figure size 864x288 with 1 Axes>"
      ]
     },
     "metadata": {
      "needs_background": "light"
     },
     "output_type": "display_data"
    }
   ],
   "source": [
    "f = sns.catplot(x='index', y= 'median', data=gen_df, kind='bar', ci='sd')\n",
    "f.fig.set_size_inches(12, 4)\n",
    "f.set_xticklabels( rotation=45)"
   ]
  },
  {
   "cell_type": "code",
   "execution_count": 513,
   "metadata": {},
   "outputs": [
    {
     "data": {
      "image/png": "[encoded data removed]",
      "text/plain": [
       "<Figure size 360x144 with 1 Axes>"
      ]
     },
     "metadata": {
      "needs_background": "light"
     },
     "output_type": "display_data"
    },
    {
     "data": {
      "image/png": "[encoded data removed]",
      "text/plain": [
       "<Figure size 360x144 with 1 Axes>"
      ]
     },
     "metadata": {
      "needs_background": "light"
     },
     "output_type": "display_data"
    },
    {
     "data": {
      "image/png": "[encoded data removed]",
      "text/plain": [
       "<Figure size 360x144 with 1 Axes>"
      ]
     },
     "metadata": {
      "needs_background": "light"
     },
     "output_type": "display_data"
    },
    {
     "data": {
      "image/png": "[encoded data removed]",
      "text/plain": [
       "<Figure size 360x144 with 1 Axes>"
      ]
     },
     "metadata": {
      "needs_background": "light"
     },
     "output_type": "display_data"
    },
    {
     "data": {
      "image/png": "[encoded data removed]",
      "text/plain": [
       "<Figure size 360x144 with 1 Axes>"
      ]
     },
     "metadata": {
      "needs_background": "light"
     },
     "output_type": "display_data"
    },
    {
     "data": {
      "image/png": "[encoded data removed]",
      "text/plain": [
       "<Figure size 360x144 with 1 Axes>"
      ]
     },
     "metadata": {
      "needs_background": "light"
     },
     "output_type": "display_data"
    },
    {
     "data": {
      "image/png": "[encoded data removed]",
      "text/plain": [
       "<Figure size 360x144 with 1 Axes>"
      ]
     },
     "metadata": {
      "needs_background": "light"
     },
     "output_type": "display_data"
    },
    {
     "data": {
      "image/png": "[encoded data removed]",
      "text/plain": [
       "<Figure size 360x144 with 1 Axes>"
      ]
     },
     "metadata": {
      "needs_background": "light"
     },
     "output_type": "display_data"
    },
    {
     "data": {
      "image/png": "[encoded data removed]",
      "text/plain": [
       "<Figure size 360x144 with 1 Axes>"
      ]
     },
     "metadata": {
      "needs_background": "light"
     },
     "output_type": "display_data"
    },
    {
     "data": {
      "image/png": "[encoded data removed]",
      "text/plain": [
       "<Figure size 360x144 with 1 Axes>"
      ]
     },
     "metadata": {
      "needs_background": "light"
     },
     "output_type": "display_data"
    },
    {
     "data": {
      "image/png": "[encoded data removed]",
      "text/plain": [
       "<Figure size 360x144 with 1 Axes>"
      ]
     },
     "metadata": {
      "needs_background": "light"
     },
     "output_type": "display_data"
    },
    {
     "data": {
      "image/png": "[encoded data removed]",
      "text/plain": [
       "<Figure size 360x144 with 1 Axes>"
      ]
     },
     "metadata": {
      "needs_background": "light"
     },
     "output_type": "display_data"
    },
    {
     "data": {
      "image/png": "[encoded data removed]",
      "text/plain": [
       "<Figure size 360x144 with 1 Axes>"
      ]
     },
     "metadata": {
      "needs_background": "light"
     },
     "output_type": "display_data"
    },
    {
     "data": {
      "image/png": "[encoded data removed]",
      "text/plain": [
       "<Figure size 360x144 with 1 Axes>"
      ]
     },
     "metadata": {
      "needs_background": "light"
     },
     "output_type": "display_data"
    },
    {
     "data": {
      "image/png": "[encoded data removed]",
      "text/plain": [
       "<Figure size 360x144 with 1 Axes>"
      ]
     },
     "metadata": {
      "needs_background": "light"
     },
     "output_type": "display_data"
    },
    {
     "data": {
      "image/png": "[encoded data removed]",
      "text/plain": [
       "<Figure size 360x144 with 1 Axes>"
      ]
     },
     "metadata": {
      "needs_background": "light"
     },
     "output_type": "display_data"
    },
    {
     "data": {
      "image/png": "[encoded data removed]",
      "text/plain": [
       "<Figure size 360x144 with 1 Axes>"
      ]
     },
     "metadata": {
      "needs_background": "light"
     },
     "output_type": "display_data"
    },
    {
     "data": {
      "image/png": "[encoded data removed]",
      "text/plain": [
       "<Figure size 360x144 with 1 Axes>"
      ]
     },
     "metadata": {
      "needs_background": "light"
     },
     "output_type": "display_data"
    },
    {
     "data": {
      "image/png": "[encoded data removed]",
      "text/plain": [
       "<Figure size 360x144 with 1 Axes>"
      ]
     },
     "metadata": {
      "needs_background": "light"
     },
     "output_type": "display_data"
    },
    {
     "data": {
      "image/png": "[encoded data removed]",
      "text/plain": [
       "<Figure size 360x144 with 1 Axes>"
      ]
     },
     "metadata": {
      "needs_background": "light"
     },
     "output_type": "display_data"
    }
   ],
   "source": [
    "for genre in genres:\n",
    "    subset = train[ (train.dataset == 'train') & (train[genre] == 1)]\n",
    "    plt.figure(figsize=(5, 2))\n",
    "    b = sns.boxplot(subset.revenue)\n",
    "    b.figure.suptitle(genre)"
   ]
  },
  {
   "cell_type": "markdown",
   "metadata": {},
   "source": [
    "Also in the genre category, we see big outliers."
   ]
  },
  {
   "cell_type": "markdown",
   "metadata": {},
   "source": [
    "### Popularity"
   ]
  },
  {
   "cell_type": "markdown",
   "metadata": {},
   "source": [
    "I'm not sure what popularity is, given the fact that the aim of this competition is to predict revenue PRIOR TO the release of a movie."
   ]
  },
  {
   "cell_type": "code",
   "execution_count": 514,
   "metadata": {},
   "outputs": [
    {
     "name": "stdout",
     "output_type": "stream",
     "text": [
      "Pearsons correlation: 0.460\n"
     ]
    }
   ],
   "source": [
    "corr, _ = pearsonr(train[train.dataset == 'train']['popularity'], train[train.dataset == 'train']['revenue'])\n",
    "print('Pearsons correlation: %.3f' % corr)"
   ]
  },
  {
   "cell_type": "code",
   "execution_count": 515,
   "metadata": {},
   "outputs": [
    {
     "name": "stderr",
     "output_type": "stream",
     "text": [
      "/usr/local/lib/python3.6/dist-packages/scipy/stats/stats.py:1713: FutureWarning: Using a non-tuple sequence for multidimensional indexing is deprecated; use `arr[tuple(seq)]` instead of `arr[seq]`. In the future this will be interpreted as an array index, `arr[np.array(seq)]`, which will result either in an error or a different result.\n",
      "  return np.add.reduce(sorted[indexer] * weights, axis=axis) / sumval\n"
     ]
    },
    {
     "data": {
      "image/png": "[encoded data removed]",
      "text/plain": [
       "<Figure size 720x432 with 1 Axes>"
      ]
     },
     "metadata": {
      "needs_background": "light"
     },
     "output_type": "display_data"
    }
   ],
   "source": [
    "f = sns.regplot(train.popularity, train.revenue, order=2);\n",
    "f.figure.set_size_inches(10, 6)"
   ]
  },
  {
   "cell_type": "code",
   "execution_count": 516,
   "metadata": {},
   "outputs": [
    {
     "data": {
      "image/png": "[encoded data removed]",
      "text/plain": [
       "<Figure size 720x432 with 1 Axes>"
      ]
     },
     "metadata": {
      "needs_background": "light"
     },
     "output_type": "display_data"
    }
   ],
   "source": [
    "#removing outliers\n",
    "\n",
    "no_outliers = train[(train.dataset == 'train') & (train.popularity < 100)]\n",
    "f = sns.regplot(no_outliers.popularity, no_outliers.revenue, order=2);\n",
    "f.figure.set_size_inches(10, 6)"
   ]
  },
  {
   "cell_type": "code",
   "execution_count": 517,
   "metadata": {},
   "outputs": [
    {
     "data": {
      "text/plain": [
       "<matplotlib.axes._subplots.AxesSubplot at 0x7fcf74250048>"
      ]
     },
     "execution_count": 517,
     "metadata": {},
     "output_type": "execute_result"
    },
    {
     "data": {
      "image/png": "[encoded data removed]",
      "text/plain": [
       "<Figure size 432x288 with 1 Axes>"
      ]
     },
     "metadata": {
      "needs_background": "light"
     },
     "output_type": "display_data"
    }
   ],
   "source": [
    "sns.scatterplot(no_outliers.popularity,no_outliers.revenue, alpha=0.2)"
   ]
  },
  {
   "cell_type": "code",
   "execution_count": 518,
   "metadata": {},
   "outputs": [
    {
     "name": "stdout",
     "output_type": "stream",
     "text": [
      "Pearsons correlation: 0.511\n"
     ]
    }
   ],
   "source": [
    "corr, _ = pearsonr(no_outliers.popularity, no_outliers.revenue)\n",
    "print('Pearsons correlation: %.3f' % corr)"
   ]
  },
  {
   "cell_type": "markdown",
   "metadata": {},
   "source": [
    "Looking at it, I am not convinced it is a good feature, fitting a linear regression line, even of a 2nd order, and even dropping the outliers, still looks forced to me. However, the correlation of 0.5 cannot be ignored, plus we have no better feature to use so far."
   ]
  },
  {
   "cell_type": "markdown",
   "metadata": {},
   "source": [
    "### Release Date"
   ]
  },
  {
   "cell_type": "markdown",
   "metadata": {},
   "source": [
    "This could be relevant, because of the inflation and rising prices across the decades, and the entertainment industry as such has been growing exponentially (more $$$)"
   ]
  },
  {
   "cell_type": "code",
   "execution_count": 519,
   "metadata": {},
   "outputs": [
    {
     "data": {
      "text/plain": [
       "0     2/20/15\n",
       "1      8/6/04\n",
       "2    10/10/14\n",
       "3      3/9/12\n",
       "4      2/5/09\n",
       "Name: release_date, dtype: object"
      ]
     },
     "execution_count": 519,
     "metadata": {},
     "output_type": "execute_result"
    }
   ],
   "source": [
    "train.release_date[:5]"
   ]
  },
  {
   "cell_type": "code",
   "execution_count": 520,
   "metadata": {},
   "outputs": [],
   "source": [
    "train = train[~train.release_date.isnull()]"
   ]
  },
  {
   "cell_type": "code",
   "execution_count": 521,
   "metadata": {},
   "outputs": [],
   "source": [
    "train['year'] = train.release_date.str[-2:]#.apply(int)\n",
    "train.year = train.year.apply(lambda x: \"20\" + x if int(x) < 20 else \"19\" + x).apply(int)"
   ]
  },
  {
   "cell_type": "code",
   "execution_count": 522,
   "metadata": {},
   "outputs": [
    {
     "data": {
      "text/plain": [
       "<seaborn.axisgrid.FacetGrid at 0x7fcf720b7908>"
      ]
     },
     "execution_count": 522,
     "metadata": {},
     "output_type": "execute_result"
    },
    {
     "data": {
      "image/png": "[encoded data removed]",
      "text/plain": [
       "<Figure size 1152x288 with 1 Axes>"
      ]
     },
     "metadata": {
      "needs_background": "light"
     },
     "output_type": "display_data"
    }
   ],
   "source": [
    "f = sns.catplot(x='year', y= 'revenue', data=train, kind='bar', ci=None)\n",
    "f.fig.set_size_inches(16, 4)\n",
    "f.set_xticklabels( rotation=80)"
   ]
  },
  {
   "cell_type": "markdown",
   "metadata": {},
   "source": [
    "My hunch was correct!"
   ]
  },
  {
   "cell_type": "code",
   "execution_count": 523,
   "metadata": {},
   "outputs": [
    {
     "data": {
      "text/plain": [
       "id                0.00\n",
       "budget            0.75\n",
       "popularity        0.46\n",
       "runtime           0.22\n",
       "revenue           1.00\n",
       "is_english        0.14\n",
       "has_collection    0.34\n",
       "missing_budget   -0.24\n",
       "year              0.14\n",
       "Name: revenue, dtype: float64"
      ]
     },
     "execution_count": 523,
     "metadata": {},
     "output_type": "execute_result"
    }
   ],
   "source": [
    "train.corr()['revenue']"
   ]
  },
  {
   "cell_type": "markdown",
   "metadata": {},
   "source": [
    "I am surprised why year has no correlation with revenue, if from the graph we can clearly see a relationship."
   ]
  },
  {
   "cell_type": "code",
   "execution_count": 524,
   "metadata": {},
   "outputs": [
    {
     "data": {
      "text/plain": [
       "<matplotlib.axes._subplots.AxesSubplot at 0x7fcf6d55c860>"
      ]
     },
     "execution_count": 524,
     "metadata": {},
     "output_type": "execute_result"
    },
    {
     "data": {
      "image/png": "[encoded data removed]",
      "text/plain": [
       "<Figure size 432x288 with 1 Axes>"
      ]
     },
     "metadata": {
      "needs_background": "light"
     },
     "output_type": "display_data"
    }
   ],
   "source": [
    "sns.scatterplot(train.year, train.revenue)"
   ]
  },
  {
   "cell_type": "markdown",
   "metadata": {},
   "source": [
    "I see, even though the averages are clearly correlation, too many low-revenue movies are produced in recent times, which cancels out the correlation."
   ]
  },
  {
   "cell_type": "code",
   "execution_count": null,
   "metadata": {},
   "outputs": [],
   "source": []
  },
  {
   "cell_type": "markdown",
   "metadata": {},
   "source": [
    "I am going to bin this feature, even though the literature says that 9 out of 10, you should not bin as you will throw away important trends. In this case, I don't believe there is a relationship between a specific year, and revenue. What is there, however, is a general trend, with rising revenue and times changing (80s, 90s etc). This is unwanted granularity to me. I want to smooth this trend out, by removing outliers, and this can be achieved by binning, taking the median."
   ]
  },
  {
   "cell_type": "code",
   "execution_count": 525,
   "metadata": {},
   "outputs": [],
   "source": [
    "train['year_bins'] = pd.cut(train.year, bins=11)"
   ]
  },
  {
   "cell_type": "code",
   "execution_count": 526,
   "metadata": {},
   "outputs": [
    {
     "data": {
      "text/plain": [
       "<seaborn.axisgrid.FacetGrid at 0x7fcf6ef5aa90>"
      ]
     },
     "execution_count": 526,
     "metadata": {},
     "output_type": "execute_result"
    },
    {
     "data": {
      "image/png": "[encoded data removed]",
      "text/plain": [
       "<Figure size 720x288 with 1 Axes>"
      ]
     },
     "metadata": {
      "needs_background": "light"
     },
     "output_type": "display_data"
    }
   ],
   "source": [
    "f = sns.catplot(x='year_bins', y= 'revenue', data=train, kind='bar', ci=None, estimator=np.mean)\n",
    "f.fig.set_size_inches(10, 4)\n",
    "f.set_xticklabels( rotation=80)"
   ]
  },
  {
   "cell_type": "markdown",
   "metadata": {},
   "source": [
    "This looks like more meaningful and generizable than without binning. It will also prevent overfitting, in case you have only one or few movies made in e.g. 1974 with super high revenue."
   ]
  },
  {
   "cell_type": "code",
   "execution_count": 527,
   "metadata": {},
   "outputs": [],
   "source": [
    "train['year_bins'] = pd.cut(train.year, bins=11, labels=range(11))"
   ]
  },
  {
   "cell_type": "markdown",
   "metadata": {},
   "source": [
    "This didn't work as I expected, didn't increase the correlation."
   ]
  },
  {
   "cell_type": "code",
   "execution_count": 528,
   "metadata": {},
   "outputs": [],
   "source": [
    "train.drop('release_date', inplace=True, axis=1)"
   ]
  },
  {
   "cell_type": "markdown",
   "metadata": {},
   "source": [
    "### Runtime"
   ]
  },
  {
   "cell_type": "code",
   "execution_count": 529,
   "metadata": {},
   "outputs": [
    {
     "data": {
      "text/plain": [
       "<seaborn.axisgrid.FacetGrid at 0x7fcf77b28710>"
      ]
     },
     "execution_count": 529,
     "metadata": {},
     "output_type": "execute_result"
    },
    {
     "data": {
      "image/png": "[encoded data removed]",
      "text/plain": [
       "<Figure size 1152x288 with 1 Axes>"
      ]
     },
     "metadata": {
      "needs_background": "light"
     },
     "output_type": "display_data"
    }
   ],
   "source": [
    "f = sns.catplot(x='runtime', y= 'revenue', data=train, kind='bar', ci=None)\n",
    "f.fig.set_size_inches(16, 4)\n",
    "f.set_xticklabels( rotation=90)"
   ]
  },
  {
   "cell_type": "markdown",
   "metadata": {},
   "source": [
    "The shortest movies never bring much revenue, but with average and long duration, it looks very random. I think that here, just like in the case of production year, smoothing out this feature could result in better generalization of the model."
   ]
  },
  {
   "cell_type": "code",
   "execution_count": 530,
   "metadata": {},
   "outputs": [
    {
     "data": {
      "text/plain": [
       "<matplotlib.axes._subplots.AxesSubplot at 0x7fcf76ce3748>"
      ]
     },
     "execution_count": 530,
     "metadata": {},
     "output_type": "execute_result"
    },
    {
     "data": {
      "image/png": "[encoded data removed]",
      "text/plain": [
       "<Figure size 432x288 with 1 Axes>"
      ]
     },
     "metadata": {
      "needs_background": "light"
     },
     "output_type": "display_data"
    }
   ],
   "source": [
    "sns.scatterplot(train[train.dataset == 'train']['runtime'], train[train.dataset == 'train']['revenue'], alpha=0.4)"
   ]
  },
  {
   "cell_type": "markdown",
   "metadata": {},
   "source": [
    "Looking at the scatter plot convinced me not to bin this feature."
   ]
  },
  {
   "cell_type": "code",
   "execution_count": 531,
   "metadata": {},
   "outputs": [
    {
     "data": {
      "text/plain": [
       "6"
      ]
     },
     "execution_count": 531,
     "metadata": {},
     "output_type": "execute_result"
    }
   ],
   "source": [
    "len(train[train.runtime.isnull()])"
   ]
  },
  {
   "cell_type": "code",
   "execution_count": 532,
   "metadata": {},
   "outputs": [],
   "source": [
    "train.runtime.fillna(train.runtime.median(), inplace=True)"
   ]
  },
  {
   "cell_type": "markdown",
   "metadata": {},
   "source": [
    "I would like to somehow quantify how good this feature is. I cannot use correlation, because the relationship runtime-revenue is not linear (even though it's quite strong). In a perfect nonlinear relationship (parabola) the correlation will be 0. But what if i slice the dataset in two - below and above the median, and then calculate two correlations? Could this work? Hmm"
   ]
  },
  {
   "cell_type": "code",
   "execution_count": 533,
   "metadata": {},
   "outputs": [
    {
     "name": "stdout",
     "output_type": "stream",
     "text": [
      "Pearsons correlation for short: nan\n",
      "Pearsons correlation for long: nan\n"
     ]
    }
   ],
   "source": [
    "short = train[train.runtime < train.runtime.median()] \n",
    "long = train[train.runtime > train.runtime.median()] \n",
    "\n",
    "corr, _ = pearsonr(short.runtime, short.revenue)\n",
    "print('Pearsons correlation for short: %.3f' % corr)\n",
    "\n",
    "corr, _ = pearsonr(long.runtime, long.revenue)\n",
    "print('Pearsons correlation for long: %.3f' % corr)\n"
   ]
  },
  {
   "cell_type": "code",
   "execution_count": 534,
   "metadata": {},
   "outputs": [
    {
     "name": "stderr",
     "output_type": "stream",
     "text": [
      "/usr/local/lib/python3.6/dist-packages/scipy/stats/stats.py:1713: FutureWarning: Using a non-tuple sequence for multidimensional indexing is deprecated; use `arr[tuple(seq)]` instead of `arr[seq]`. In the future this will be interpreted as an array index, `arr[np.array(seq)]`, which will result either in an error or a different result.\n",
      "  return np.add.reduce(sorted[indexer] * weights, axis=axis) / sumval\n"
     ]
    },
    {
     "data": {
      "text/plain": [
       "<matplotlib.axes._subplots.AxesSubplot at 0x7fcf7336bcf8>"
      ]
     },
     "execution_count": 534,
     "metadata": {},
     "output_type": "execute_result"
    },
    {
     "data": {
      "image/png": "[encoded data removed]",
      "text/plain": [
       "<Figure size 432x288 with 1 Axes>"
      ]
     },
     "metadata": {
      "needs_background": "light"
     },
     "output_type": "display_data"
    }
   ],
   "source": [
    "sns.regplot(short.runtime, short.revenue)"
   ]
  },
  {
   "cell_type": "code",
   "execution_count": 535,
   "metadata": {},
   "outputs": [
    {
     "data": {
      "text/plain": [
       "<matplotlib.axes._subplots.AxesSubplot at 0x7fcf6de9b278>"
      ]
     },
     "execution_count": 535,
     "metadata": {},
     "output_type": "execute_result"
    },
    {
     "data": {
      "image/png": "[encoded data removed]",
      "text/plain": [
       "<Figure size 432x288 with 1 Axes>"
      ]
     },
     "metadata": {
      "needs_background": "light"
     },
     "output_type": "display_data"
    }
   ],
   "source": [
    "sns.regplot(long.runtime, long.revenue)"
   ]
  },
  {
   "cell_type": "markdown",
   "metadata": {},
   "source": [
    "Not really. I think I was mislead by the fact that I can see the outliers clearly as dots, but where the color is solid (all dots merge into one), it accounts for most data points."
   ]
  },
  {
   "cell_type": "markdown",
   "metadata": {},
   "source": [
    "### Website"
   ]
  },
  {
   "cell_type": "markdown",
   "metadata": {},
   "source": [
    "I'm not going to scrape the websites, but the missing data might be an indicator of movie's quality."
   ]
  },
  {
   "cell_type": "code",
   "execution_count": 536,
   "metadata": {},
   "outputs": [
    {
     "data": {
      "image/png": "[encoded data removed]",
      "text/plain": [
       "<Figure size 432x288 with 1 Axes>"
      ]
     },
     "metadata": {
      "needs_background": "light"
     },
     "output_type": "display_data"
    }
   ],
   "source": [
    "plt.figure()\n",
    "plt.bar(x=['with website', 'without website'], \n",
    "        height=[train[train.homepage.notnull() & (train.dataset == 'train')]['revenue'].median(), \n",
    "                train[train.homepage.isnull() & (train.dataset == 'train')]['revenue'].median()]);"
   ]
  },
  {
   "cell_type": "code",
   "execution_count": 537,
   "metadata": {},
   "outputs": [],
   "source": [
    "train.homepage = train.homepage.notnull()"
   ]
  },
  {
   "cell_type": "code",
   "execution_count": 538,
   "metadata": {},
   "outputs": [
    {
     "data": {
      "text/plain": [
       "Released           7341\n",
       "Rumored               5\n",
       "Post Production       5\n",
       "Name: status, dtype: int64"
      ]
     },
     "execution_count": 538,
     "metadata": {},
     "output_type": "execute_result"
    }
   ],
   "source": [
    "train.status.value_counts()"
   ]
  },
  {
   "cell_type": "markdown",
   "metadata": {},
   "source": [
    "### Tagline"
   ]
  },
  {
   "cell_type": "code",
   "execution_count": 539,
   "metadata": {},
   "outputs": [
    {
     "data": {
      "text/plain": [
       "['The Laws of Space and Time are About to be Violated.',\n",
       " \"It can take a lifetime to find true love; she's got 30 days!\",\n",
       " 'The road to greatness can take you to the edge.',\n",
       " nan,\n",
       " nan,\n",
       " nan,\n",
       " \"Fear The Demon That Doesn't Fear God\",\n",
       " 'Different channels. Different truths.',\n",
       " 'Set sail for Muppet mayhem!',\n",
       " 'Back together for the first time, again.']"
      ]
     },
     "execution_count": 539,
     "metadata": {},
     "output_type": "execute_result"
    }
   ],
   "source": [
    "train.tagline.tolist()[:10]"
   ]
  },
  {
   "cell_type": "code",
   "execution_count": 540,
   "metadata": {},
   "outputs": [
    {
     "data": {
      "image/png": "[encoded data removed]",
      "text/plain": [
       "<Figure size 432x288 with 1 Axes>"
      ]
     },
     "metadata": {
      "needs_background": "light"
     },
     "output_type": "display_data"
    }
   ],
   "source": [
    "plt.bar(x=['with tagline', 'without tagline'], \n",
    "        height=[train[train.tagline.notnull()]['revenue'].median(), \n",
    "                train[train.tagline.isnull()]['revenue'].median()]);"
   ]
  },
  {
   "cell_type": "code",
   "execution_count": 541,
   "metadata": {},
   "outputs": [],
   "source": [
    "train['has_tagline'] = train.tagline.notnull()"
   ]
  },
  {
   "cell_type": "code",
   "execution_count": 542,
   "metadata": {},
   "outputs": [
    {
     "data": {
      "text/plain": [
       "1440"
      ]
     },
     "execution_count": 542,
     "metadata": {},
     "output_type": "execute_result"
    }
   ],
   "source": [
    "sum(train.tagline.isnull())"
   ]
  },
  {
   "cell_type": "code",
   "execution_count": 543,
   "metadata": {},
   "outputs": [],
   "source": [
    "train['tagline_len'] = train.tagline.apply(lambda x: len(x) if not pd.isna(x) else 0)"
   ]
  },
  {
   "cell_type": "code",
   "execution_count": 544,
   "metadata": {},
   "outputs": [],
   "source": [
    "train['tagline_len_bins'] = pd.cut(train.tagline_len, bins=30)"
   ]
  },
  {
   "cell_type": "code",
   "execution_count": 545,
   "metadata": {},
   "outputs": [
    {
     "name": "stderr",
     "output_type": "stream",
     "text": [
      "/usr/local/lib/python3.6/dist-packages/scipy/stats/stats.py:1713: FutureWarning: Using a non-tuple sequence for multidimensional indexing is deprecated; use `arr[tuple(seq)]` instead of `arr[seq]`. In the future this will be interpreted as an array index, `arr[np.array(seq)]`, which will result either in an error or a different result.\n",
      "  return np.add.reduce(sorted[indexer] * weights, axis=axis) / sumval\n"
     ]
    },
    {
     "data": {
      "image/png": "[encoded data removed]",
      "text/plain": [
       "<Figure size 864x504 with 1 Axes>"
      ]
     },
     "metadata": {
      "needs_background": "light"
     },
     "output_type": "display_data"
    }
   ],
   "source": [
    "f = sns.barplot(train.loc[train.dataset == 'train', 'tagline_len_bins'], \n",
    "            train.loc[train.dataset == 'train', 'revenue'])\n",
    "\n",
    "f.figure.set_size_inches(12, 7)\n",
    "\n",
    "f.set_xticklabels(train.loc[train.dataset == 'train', 'tagline_len_bins'].tolist(), rotation=80,);"
   ]
  },
  {
   "cell_type": "markdown",
   "metadata": {},
   "source": [
    "Looks good to me!<br> 'Free' feature :-)"
   ]
  },
  {
   "cell_type": "markdown",
   "metadata": {},
   "source": [
    "### Production company"
   ]
  },
  {
   "cell_type": "markdown",
   "metadata": {},
   "source": [
    "We already know that english language movies have higher revenue. Production companies could let us further differentiate within english movies."
   ]
  },
  {
   "cell_type": "code",
   "execution_count": 546,
   "metadata": {},
   "outputs": [
    {
     "data": {
      "text/plain": [
       "403"
      ]
     },
     "execution_count": 546,
     "metadata": {},
     "output_type": "execute_result"
    }
   ],
   "source": [
    "sum(train.production_companies.isnull())"
   ]
  },
  {
   "cell_type": "code",
   "execution_count": 547,
   "metadata": {},
   "outputs": [
    {
     "data": {
      "image/png": "[encoded data removed]",
      "text/plain": [
       "<Figure size 432x288 with 1 Axes>"
      ]
     },
     "metadata": {
      "needs_background": "light"
     },
     "output_type": "display_data"
    }
   ],
   "source": [
    "plt.bar(x=['with', 'without'], \n",
    "        height=[train[train.production_companies.notnull()]['revenue'].median(), \n",
    "                train[train.production_companies.isnull()]['revenue'].median()]);"
   ]
  },
  {
   "cell_type": "markdown",
   "metadata": {},
   "source": [
    "It's a good predictor, but the categories are imbalanced."
   ]
  },
  {
   "cell_type": "code",
   "execution_count": 548,
   "metadata": {},
   "outputs": [],
   "source": [
    "train['has_production'] = train.production_companies.notnull()"
   ]
  },
  {
   "cell_type": "code",
   "execution_count": 549,
   "metadata": {},
   "outputs": [],
   "source": [
    "train.production_companies = train.production_companies.apply(lambda x: ast.literal_eval(x) if not pd.isna(x) else None)"
   ]
  },
  {
   "cell_type": "markdown",
   "metadata": {},
   "source": [
    "The first position in the dictionary seems to be the main production company, so I will take only that one."
   ]
  },
  {
   "cell_type": "code",
   "execution_count": 550,
   "metadata": {},
   "outputs": [],
   "source": [
    "train.production_companies = train.production_companies.str[0]"
   ]
  },
  {
   "cell_type": "code",
   "execution_count": 551,
   "metadata": {},
   "outputs": [
    {
     "data": {
      "text/plain": [
       "0                 {'name': 'Paramount Pictures', 'id': 4}\n",
       "1               {'name': 'Walt Disney Pictures', 'id': 2}\n",
       "2                      {'name': 'Bold Films', 'id': 2266}\n",
       "3                                                    None\n",
       "4                                                    None\n",
       "                              ...                        \n",
       "7393              {'name': 'Intermedia Films', 'id': 763}\n",
       "7394              {'name': 'Paramount Pictures', 'id': 4}\n",
       "7395    {'name': 'Twentieth Century Fox Film Corporati...\n",
       "7396        {'name': 'Northern Lights Films', 'id': 8714}\n",
       "7397       {'name': 'Pathé Consortium Cinéma', 'id': 220}\n",
       "Name: production_companies, Length: 7352, dtype: object"
      ]
     },
     "execution_count": 551,
     "metadata": {},
     "output_type": "execute_result"
    }
   ],
   "source": [
    "train.production_companies"
   ]
  },
  {
   "cell_type": "code",
   "execution_count": 552,
   "metadata": {},
   "outputs": [],
   "source": [
    "train['prod_id'] = train.production_companies.apply(lambda x: x['id'] if pd.notnull(x) else None)\n",
    "train['prod_name'] = train.production_companies.apply(lambda x: x['name'] if pd.notnull(x) else None)"
   ]
  },
  {
   "cell_type": "code",
   "execution_count": 553,
   "metadata": {},
   "outputs": [
    {
     "data": {
      "text/plain": [
       "Universal Pictures                        166\n",
       "Paramount Pictures                        155\n",
       "Twentieth Century Fox Film Corporation    122\n",
       "Columbia Pictures                          90\n",
       "New Line Cinema                            69\n",
       "Warner Bros.                               69\n",
       "Walt Disney Pictures                       62\n",
       "Columbia Pictures Corporation              44\n",
       "TriStar Pictures                           43\n",
       "United Artists                             41\n",
       "Name: prod_name, dtype: int64"
      ]
     },
     "execution_count": 553,
     "metadata": {},
     "output_type": "execute_result"
    }
   ],
   "source": [
    "train[train.dataset == 'train'].prod_name.value_counts()[:10]"
   ]
  },
  {
   "cell_type": "markdown",
   "metadata": {},
   "source": [
    "Production company is an example of categorical data with high cardinality. Normally, I would use onehotencoding, but in this case, it will slow down the model (too many features), given many categories with only 1 member. Moreover, it can be prone to overfitting. <br><br>\n",
    "I can solve this issue by:\n",
    "1. Adding a new column, 'company_avg' which is the average of the revenue within the company group.\n",
    "2. Keep only biggest companies, and encode others as 'miscellaneous'\n",
    "3. (trying hard to be creative) Turning this feature into an ordinal feature, 1 - company with lowest revenue mean, N - company with highest revenue mean.\n",
    "\n",
    "<br>\n",
    "The problem option 1 poses, is that I will have to create this column in the test data too, with values from the train data. But given high cardinality, it will happen that many production companies in the test data are not in the train data, so i have no value to input there."
   ]
  },
  {
   "cell_type": "code",
   "execution_count": 554,
   "metadata": {},
   "outputs": [],
   "source": [
    "x = set(train[train.dataset == 'train']['prod_name'])\n",
    "y = set(train[train.dataset == 'test']['prod_name'])"
   ]
  },
  {
   "cell_type": "code",
   "execution_count": 555,
   "metadata": {},
   "outputs": [
    {
     "data": {
      "text/plain": [
       "939"
      ]
     },
     "execution_count": 555,
     "metadata": {},
     "output_type": "execute_result"
    }
   ],
   "source": [
    "len(y - x)"
   ]
  },
  {
   "cell_type": "code",
   "execution_count": 556,
   "metadata": {},
   "outputs": [
    {
     "data": {
      "text/plain": [
       "1632"
      ]
     },
     "execution_count": 556,
     "metadata": {},
     "output_type": "execute_result"
    }
   ],
   "source": [
    "sum(train.prod_name.value_counts() < 3)"
   ]
  },
  {
   "cell_type": "code",
   "execution_count": 557,
   "metadata": {},
   "outputs": [],
   "source": [
    "agg = train.loc[train.dataset == 'train'][['prod_name', 'revenue']].groupby('prod_name').agg({'prod_name' : 'size', \n",
    "                                                                'revenue' : ['mean', list ],\n",
    "                                                               })"
   ]
  },
  {
   "cell_type": "code",
   "execution_count": 558,
   "metadata": {},
   "outputs": [
    {
     "data": {
      "text/html": [
       "<div>\n",
       "<style scoped>\n",
       "    .dataframe tbody tr th:only-of-type {\n",
       "        vertical-align: middle;\n",
       "    }\n",
       "\n",
       "    .dataframe tbody tr th {\n",
       "        vertical-align: top;\n",
       "    }\n",
       "\n",
       "    .dataframe thead tr th {\n",
       "        text-align: left;\n",
       "    }\n",
       "\n",
       "    .dataframe thead tr:last-of-type th {\n",
       "        text-align: right;\n",
       "    }\n",
       "</style>\n",
       "<table border=\"1\" class=\"dataframe\">\n",
       "  <thead>\n",
       "    <tr>\n",
       "      <th></th>\n",
       "      <th>prod_name</th>\n",
       "      <th colspan=\"2\" halign=\"left\">revenue</th>\n",
       "    </tr>\n",
       "    <tr>\n",
       "      <th></th>\n",
       "      <th>size</th>\n",
       "      <th>mean</th>\n",
       "      <th>list</th>\n",
       "    </tr>\n",
       "    <tr>\n",
       "      <th>prod_name</th>\n",
       "      <th></th>\n",
       "      <th></th>\n",
       "      <th></th>\n",
       "    </tr>\n",
       "  </thead>\n",
       "  <tbody>\n",
       "    <tr>\n",
       "      <th>10th Hole Productions</th>\n",
       "      <td>1</td>\n",
       "      <td>123820.00</td>\n",
       "      <td>[123820.0]</td>\n",
       "    </tr>\n",
       "    <tr>\n",
       "      <th>120dB Films</th>\n",
       "      <td>1</td>\n",
       "      <td>1133031.00</td>\n",
       "      <td>[1133031.0]</td>\n",
       "    </tr>\n",
       "    <tr>\n",
       "      <th>1492 Pictures</th>\n",
       "      <td>2</td>\n",
       "      <td>525633616.50</td>\n",
       "      <td>[174578751.0, 876688482.0]</td>\n",
       "    </tr>\n",
       "    <tr>\n",
       "      <th>1818</th>\n",
       "      <td>1</td>\n",
       "      <td>12232628.00</td>\n",
       "      <td>[12232628.0]</td>\n",
       "    </tr>\n",
       "    <tr>\n",
       "      <th>21 Laps Entertainment</th>\n",
       "      <td>1</td>\n",
       "      <td>3305592.00</td>\n",
       "      <td>[3305592.0]</td>\n",
       "    </tr>\n",
       "    <tr>\n",
       "      <th>...</th>\n",
       "      <td>...</td>\n",
       "      <td>...</td>\n",
       "      <td>...</td>\n",
       "    </tr>\n",
       "    <tr>\n",
       "      <th>Вольга</th>\n",
       "      <td>1</td>\n",
       "      <td>2228115.00</td>\n",
       "      <td>[2228115.0]</td>\n",
       "    </tr>\n",
       "    <tr>\n",
       "      <th>Леополис</th>\n",
       "      <td>1</td>\n",
       "      <td>10198357.00</td>\n",
       "      <td>[10198357.0]</td>\n",
       "    </tr>\n",
       "    <tr>\n",
       "      <th>Роскинопрокат</th>\n",
       "      <td>1</td>\n",
       "      <td>234748.00</td>\n",
       "      <td>[234748.0]</td>\n",
       "    </tr>\n",
       "    <tr>\n",
       "      <th>СТВ</th>\n",
       "      <td>1</td>\n",
       "      <td>243000.00</td>\n",
       "      <td>[243000.0]</td>\n",
       "    </tr>\n",
       "    <tr>\n",
       "      <th>Фокс</th>\n",
       "      <td>1</td>\n",
       "      <td>55635037.00</td>\n",
       "      <td>[55635037.0]</td>\n",
       "    </tr>\n",
       "  </tbody>\n",
       "</table>\n",
       "<p>1047 rows × 3 columns</p>\n",
       "</div>"
      ],
      "text/plain": [
       "                      prod_name      revenue                            \n",
       "                           size         mean                        list\n",
       "prod_name                                                               \n",
       "10th Hole Productions         1    123820.00                  [123820.0]\n",
       "120dB Films                   1   1133031.00                 [1133031.0]\n",
       "1492 Pictures                 2 525633616.50  [174578751.0, 876688482.0]\n",
       "1818                          1  12232628.00                [12232628.0]\n",
       "21 Laps Entertainment         1   3305592.00                 [3305592.0]\n",
       "...                         ...          ...                         ...\n",
       "Вольга                        1   2228115.00                 [2228115.0]\n",
       "Леополис                      1  10198357.00                [10198357.0]\n",
       "Роскинопрокат                 1    234748.00                  [234748.0]\n",
       "СТВ                           1    243000.00                  [243000.0]\n",
       "Фокс                          1  55635037.00                [55635037.0]\n",
       "\n",
       "[1047 rows x 3 columns]"
      ]
     },
     "execution_count": 558,
     "metadata": {},
     "output_type": "execute_result"
    }
   ],
   "source": [
    "agg"
   ]
  },
  {
   "cell_type": "code",
   "execution_count": 559,
   "metadata": {},
   "outputs": [
    {
     "data": {
      "text/plain": [
       "1047"
      ]
     },
     "execution_count": 559,
     "metadata": {},
     "output_type": "execute_result"
    }
   ],
   "source": [
    "len(agg.index)"
   ]
  },
  {
   "cell_type": "markdown",
   "metadata": {},
   "source": [
    "Do bigger companies (bigger movie count), have higher average revenue? If so, this solves our problem of not all companies in test set being present in train set, they would just get the count = 1"
   ]
  },
  {
   "cell_type": "code",
   "execution_count": 560,
   "metadata": {},
   "outputs": [],
   "source": [
    "revenue_by_size = agg.groupby( ('prod_name', 'size')).agg({ ('revenue', 'list') : list})"
   ]
  },
  {
   "cell_type": "code",
   "execution_count": 561,
   "metadata": {},
   "outputs": [],
   "source": [
    "# I'm doing these aggregations into a list to avoid working with a mean of a mean."
   ]
  },
  {
   "cell_type": "code",
   "execution_count": 562,
   "metadata": {},
   "outputs": [
    {
     "data": {
      "text/html": [
       "<div>\n",
       "<style scoped>\n",
       "    .dataframe tbody tr th:only-of-type {\n",
       "        vertical-align: middle;\n",
       "    }\n",
       "\n",
       "    .dataframe tbody tr th {\n",
       "        vertical-align: top;\n",
       "    }\n",
       "\n",
       "    .dataframe thead tr th {\n",
       "        text-align: left;\n",
       "    }\n",
       "\n",
       "    .dataframe thead tr:last-of-type th {\n",
       "        text-align: right;\n",
       "    }\n",
       "</style>\n",
       "<table border=\"1\" class=\"dataframe\">\n",
       "  <thead>\n",
       "    <tr>\n",
       "      <th></th>\n",
       "      <th>revenue</th>\n",
       "    </tr>\n",
       "    <tr>\n",
       "      <th></th>\n",
       "      <th>list</th>\n",
       "    </tr>\n",
       "    <tr>\n",
       "      <th>(prod_name, size)</th>\n",
       "      <th></th>\n",
       "    </tr>\n",
       "  </thead>\n",
       "  <tbody>\n",
       "    <tr>\n",
       "      <th>1</th>\n",
       "      <td>[[123820.0], [1133031.0], [12232628.0], [33055...</td>\n",
       "    </tr>\n",
       "    <tr>\n",
       "      <th>2</th>\n",
       "      <td>[[174578751.0, 876688482.0], [13060843.0, 2156...</td>\n",
       "    </tr>\n",
       "    <tr>\n",
       "      <th>3</th>\n",
       "      <td>[[754249.0, 6860853.0, 123384128.0], [2287714....</td>\n",
       "    </tr>\n",
       "    <tr>\n",
       "      <th>4</th>\n",
       "      <td>[[22678555.0, 15400000.0, 89162162.0, 75993061...</td>\n",
       "    </tr>\n",
       "    <tr>\n",
       "      <th>5</th>\n",
       "      <td>[[6673422.0, 3148182.0, 27635305.0, 54600000.0...</td>\n",
       "    </tr>\n",
       "    <tr>\n",
       "      <th>...</th>\n",
       "      <td>...</td>\n",
       "    </tr>\n",
       "    <tr>\n",
       "      <th>69</th>\n",
       "      <td>[[136159423.0, 258022233.0, 25482931.0, 323920...</td>\n",
       "    </tr>\n",
       "    <tr>\n",
       "      <th>90</th>\n",
       "      <td>[[46069568.0, 106260000.0, 5731103.0, 87528173...</td>\n",
       "    </tr>\n",
       "    <tr>\n",
       "      <th>122</th>\n",
       "      <td>[[22642033.0, 85167639.0, 407711549.0, 1400000...</td>\n",
       "    </tr>\n",
       "    <tr>\n",
       "      <th>155</th>\n",
       "      <td>[[12314651.0, 36690067.0, 94935764.0, 24362772...</td>\n",
       "    </tr>\n",
       "    <tr>\n",
       "      <th>166</th>\n",
       "      <td>[[8403433.0, 13129846.0, 158468292.0, 91974818...</td>\n",
       "    </tr>\n",
       "  </tbody>\n",
       "</table>\n",
       "<p>30 rows × 1 columns</p>\n",
       "</div>"
      ],
      "text/plain": [
       "                                                             revenue\n",
       "                                                                list\n",
       "(prod_name, size)                                                   \n",
       "1                  [[123820.0], [1133031.0], [12232628.0], [33055...\n",
       "2                  [[174578751.0, 876688482.0], [13060843.0, 2156...\n",
       "3                  [[754249.0, 6860853.0, 123384128.0], [2287714....\n",
       "4                  [[22678555.0, 15400000.0, 89162162.0, 75993061...\n",
       "5                  [[6673422.0, 3148182.0, 27635305.0, 54600000.0...\n",
       "...                                                              ...\n",
       "69                 [[136159423.0, 258022233.0, 25482931.0, 323920...\n",
       "90                 [[46069568.0, 106260000.0, 5731103.0, 87528173...\n",
       "122                [[22642033.0, 85167639.0, 407711549.0, 1400000...\n",
       "155                [[12314651.0, 36690067.0, 94935764.0, 24362772...\n",
       "166                [[8403433.0, 13129846.0, 158468292.0, 91974818...\n",
       "\n",
       "[30 rows x 1 columns]"
      ]
     },
     "execution_count": 562,
     "metadata": {},
     "output_type": "execute_result"
    }
   ],
   "source": [
    "revenue_by_size"
   ]
  },
  {
   "cell_type": "code",
   "execution_count": 563,
   "metadata": {},
   "outputs": [],
   "source": [
    "revenue_by_size['unique_companies'] = revenue_by_size[ ('revenue', 'list')].apply(len)"
   ]
  },
  {
   "cell_type": "code",
   "execution_count": 564,
   "metadata": {},
   "outputs": [],
   "source": [
    "revenue_by_size[ ('revenue', 'list')] = revenue_by_size[ ('revenue', 'list')].apply(lambda x: list(flatten(x)))"
   ]
  },
  {
   "cell_type": "code",
   "execution_count": 565,
   "metadata": {},
   "outputs": [],
   "source": [
    "revenue_by_size['avg_rev'] = revenue_by_size[ ('revenue', 'list')].apply(lambda x: np.mean(x))"
   ]
  },
  {
   "cell_type": "code",
   "execution_count": 566,
   "metadata": {},
   "outputs": [
    {
     "data": {
      "text/html": [
       "<div>\n",
       "<style scoped>\n",
       "    .dataframe tbody tr th:only-of-type {\n",
       "        vertical-align: middle;\n",
       "    }\n",
       "\n",
       "    .dataframe tbody tr th {\n",
       "        vertical-align: top;\n",
       "    }\n",
       "\n",
       "    .dataframe thead tr th {\n",
       "        text-align: left;\n",
       "    }\n",
       "\n",
       "    .dataframe thead tr:last-of-type th {\n",
       "        text-align: right;\n",
       "    }\n",
       "</style>\n",
       "<table border=\"1\" class=\"dataframe\">\n",
       "  <thead>\n",
       "    <tr>\n",
       "      <th></th>\n",
       "      <th>revenue</th>\n",
       "      <th>unique_companies</th>\n",
       "      <th>avg_rev</th>\n",
       "    </tr>\n",
       "    <tr>\n",
       "      <th></th>\n",
       "      <th>list</th>\n",
       "      <th></th>\n",
       "      <th></th>\n",
       "    </tr>\n",
       "    <tr>\n",
       "      <th>(prod_name, size)</th>\n",
       "      <th></th>\n",
       "      <th></th>\n",
       "      <th></th>\n",
       "    </tr>\n",
       "  </thead>\n",
       "  <tbody>\n",
       "    <tr>\n",
       "      <th>1</th>\n",
       "      <td>[123820.0, 1133031.0, 12232628.0, 3305592.0, 1...</td>\n",
       "      <td>775</td>\n",
       "      <td>23035348.61</td>\n",
       "    </tr>\n",
       "    <tr>\n",
       "      <th>2</th>\n",
       "      <td>[174578751.0, 876688482.0, 13060843.0, 2156785...</td>\n",
       "      <td>126</td>\n",
       "      <td>41410307.74</td>\n",
       "    </tr>\n",
       "    <tr>\n",
       "      <th>3</th>\n",
       "      <td>[754249.0, 6860853.0, 123384128.0, 2287714.0, ...</td>\n",
       "      <td>47</td>\n",
       "      <td>49230052.46</td>\n",
       "    </tr>\n",
       "    <tr>\n",
       "      <th>4</th>\n",
       "      <td>[22678555.0, 15400000.0, 89162162.0, 75993061....</td>\n",
       "      <td>26</td>\n",
       "      <td>61701433.60</td>\n",
       "    </tr>\n",
       "    <tr>\n",
       "      <th>5</th>\n",
       "      <td>[6673422.0, 3148182.0, 27635305.0, 54600000.0,...</td>\n",
       "      <td>14</td>\n",
       "      <td>50874655.09</td>\n",
       "    </tr>\n",
       "    <tr>\n",
       "      <th>...</th>\n",
       "      <td>...</td>\n",
       "      <td>...</td>\n",
       "      <td>...</td>\n",
       "    </tr>\n",
       "    <tr>\n",
       "      <th>69</th>\n",
       "      <td>[136159423.0, 258022233.0, 25482931.0, 3239204...</td>\n",
       "      <td>2</td>\n",
       "      <td>88541850.36</td>\n",
       "    </tr>\n",
       "    <tr>\n",
       "      <th>90</th>\n",
       "      <td>[46069568.0, 106260000.0, 5731103.0, 87528173....</td>\n",
       "      <td>1</td>\n",
       "      <td>117488243.40</td>\n",
       "    </tr>\n",
       "    <tr>\n",
       "      <th>122</th>\n",
       "      <td>[22642033.0, 85167639.0, 407711549.0, 14000000...</td>\n",
       "      <td>1</td>\n",
       "      <td>99185055.70</td>\n",
       "    </tr>\n",
       "    <tr>\n",
       "      <th>155</th>\n",
       "      <td>[12314651.0, 36690067.0, 94935764.0, 24362772....</td>\n",
       "      <td>1</td>\n",
       "      <td>119330744.45</td>\n",
       "    </tr>\n",
       "    <tr>\n",
       "      <th>166</th>\n",
       "      <td>[8403433.0, 13129846.0, 158468292.0, 91974818....</td>\n",
       "      <td>1</td>\n",
       "      <td>107511373.46</td>\n",
       "    </tr>\n",
       "  </tbody>\n",
       "</table>\n",
       "<p>30 rows × 3 columns</p>\n",
       "</div>"
      ],
      "text/plain": [
       "                                                             revenue  \\\n",
       "                                                                list   \n",
       "(prod_name, size)                                                      \n",
       "1                  [123820.0, 1133031.0, 12232628.0, 3305592.0, 1...   \n",
       "2                  [174578751.0, 876688482.0, 13060843.0, 2156785...   \n",
       "3                  [754249.0, 6860853.0, 123384128.0, 2287714.0, ...   \n",
       "4                  [22678555.0, 15400000.0, 89162162.0, 75993061....   \n",
       "5                  [6673422.0, 3148182.0, 27635305.0, 54600000.0,...   \n",
       "...                                                              ...   \n",
       "69                 [136159423.0, 258022233.0, 25482931.0, 3239204...   \n",
       "90                 [46069568.0, 106260000.0, 5731103.0, 87528173....   \n",
       "122                [22642033.0, 85167639.0, 407711549.0, 14000000...   \n",
       "155                [12314651.0, 36690067.0, 94935764.0, 24362772....   \n",
       "166                [8403433.0, 13129846.0, 158468292.0, 91974818....   \n",
       "\n",
       "                  unique_companies      avg_rev  \n",
       "                                                 \n",
       "(prod_name, size)                                \n",
       "1                              775  23035348.61  \n",
       "2                              126  41410307.74  \n",
       "3                               47  49230052.46  \n",
       "4                               26  61701433.60  \n",
       "5                               14  50874655.09  \n",
       "...                            ...          ...  \n",
       "69                               2  88541850.36  \n",
       "90                               1 117488243.40  \n",
       "122                              1  99185055.70  \n",
       "155                              1 119330744.45  \n",
       "166                              1 107511373.46  \n",
       "\n",
       "[30 rows x 3 columns]"
      ]
     },
     "execution_count": 566,
     "metadata": {},
     "output_type": "execute_result"
    }
   ],
   "source": [
    "revenue_by_size"
   ]
  },
  {
   "cell_type": "code",
   "execution_count": 567,
   "metadata": {},
   "outputs": [
    {
     "data": {
      "text/plain": [
       "[(1, 775),\n",
       " (2, 126),\n",
       " (3, 47),\n",
       " (4, 26),\n",
       " (5, 14),\n",
       " (6, 13),\n",
       " (7, 3),\n",
       " (8, 8),\n",
       " (9, 2),\n",
       " (10, 5),\n",
       " (11, 2),\n",
       " (12, 3),\n",
       " (13, 2),\n",
       " (18, 2),\n",
       " (21, 2),\n",
       " (24, 1),\n",
       " (27, 1),\n",
       " (28, 2),\n",
       " (29, 1),\n",
       " (38, 1),\n",
       " (39, 1),\n",
       " (41, 1),\n",
       " (43, 1),\n",
       " (44, 1),\n",
       " (62, 1),\n",
       " (69, 2),\n",
       " (90, 1),\n",
       " (122, 1),\n",
       " (155, 1),\n",
       " (166, 1)]"
      ]
     },
     "execution_count": 567,
     "metadata": {},
     "output_type": "execute_result"
    }
   ],
   "source": [
    "list(zip(revenue_by_size.index, revenue_by_size['unique_companies'].tolist()))"
   ]
  },
  {
   "cell_type": "code",
   "execution_count": 568,
   "metadata": {},
   "outputs": [
    {
     "data": {
      "image/png": "[encoded data removed]",
      "text/plain": [
       "<Figure size 864x432 with 1 Axes>"
      ]
     },
     "metadata": {
      "needs_background": "light"
     },
     "output_type": "display_data"
    }
   ],
   "source": [
    "f = sns.barplot(revenue_by_size.index, revenue_by_size.avg_rev.tolist())\n",
    "f.figure.set_size_inches(12, 6)\n",
    "\n",
    "f.set_xlabel(\"Production Company Size (movies released)\")\n",
    "f.set_ylabel(\"Average Revenue\")\n",
    "f.set_title(\"Revenue VS Company size (size = movies released by them)\");"
   ]
  },
  {
   "cell_type": "markdown",
   "metadata": {},
   "source": [
    "I think this could be a meaningful feature, we see that the revenue rises in the range 1-9, where most datapoint per group are available. Apart from the data, it also makes sense that if a specific company releases many movies, those movies must be more-less successful, otherwise the company would go bankrupt. The graph gets erratic for bigger companies, because there are less data points per group."
   ]
  },
  {
   "cell_type": "code",
   "execution_count": 569,
   "metadata": {},
   "outputs": [],
   "source": [
    "sizes = train.groupby('prod_name').size()"
   ]
  },
  {
   "cell_type": "code",
   "execution_count": 570,
   "metadata": {},
   "outputs": [
    {
     "data": {
      "text/plain": [
       "prod_name\n",
       "100 Bares                2\n",
       "10th Hole Productions    1\n",
       "120dB Films              2\n",
       "1492 Pictures            4\n",
       "1818                     1\n",
       "                        ..\n",
       "Леополис                 1\n",
       "Наше Кино                1\n",
       "Роскинопрокат            1\n",
       "СТВ                      1\n",
       "Фокс                     1\n",
       "Length: 1986, dtype: int64"
      ]
     },
     "execution_count": 570,
     "metadata": {},
     "output_type": "execute_result"
    }
   ],
   "source": [
    "sizes"
   ]
  },
  {
   "cell_type": "code",
   "execution_count": 571,
   "metadata": {},
   "outputs": [],
   "source": [
    "train = pd.merge(train, pd.DataFrame(sizes), on='prod_name')\n",
    "train.rename({0 : 'comp_size'}, axis=1, inplace=True)"
   ]
  },
  {
   "cell_type": "code",
   "execution_count": 572,
   "metadata": {},
   "outputs": [
    {
     "name": "stdout",
     "output_type": "stream",
     "text": [
      "Pearsons correlation: 0.184\n"
     ]
    }
   ],
   "source": [
    "corr, _ = pearsonr(train[train.dataset == 'train']['comp_size'], train[train.dataset == 'train']['revenue'] )\n",
    "print('Pearsons correlation: %.3f' % corr)"
   ]
  },
  {
   "cell_type": "markdown",
   "metadata": {},
   "source": [
    "Unfortunately still very low."
   ]
  },
  {
   "cell_type": "markdown",
   "metadata": {},
   "source": [
    "### Famous people\n",
    "\n",
    "Famous actors start in famous movies, which bring in lots of money. But how can we quantify 'famous'?\n",
    "<br> One way I can think of, is scraping google and harvesting the number search results per actor.<br>\n",
    "Another way is judging popularity by number of movies they star in."
   ]
  },
  {
   "cell_type": "code",
   "execution_count": 573,
   "metadata": {},
   "outputs": [],
   "source": [
    "train['cast'] = train.cast.apply(lambda x: ast.literal_eval(x) if not pd.isna(x) else None)"
   ]
  },
  {
   "cell_type": "code",
   "execution_count": 574,
   "metadata": {},
   "outputs": [],
   "source": [
    "import ast\n",
    "from collections import Counter\n",
    "\n",
    "train['actor_1'] = train.cast.str[0].apply(lambda x: x.get('name', None) if type(x) is dict else None)\n",
    "train['actor_2'] = train.cast.str[1].apply(lambda x: x.get('name', None) if type(x) is dict else None)"
   ]
  },
  {
   "cell_type": "code",
   "execution_count": 575,
   "metadata": {},
   "outputs": [],
   "source": [
    "actors1 = train.actor_1.tolist()\n",
    "actors2 = train.actor_2.tolist()\n",
    "\n",
    "actors1.extend(actors2)\n",
    "\n",
    "actors1 = [a for a in actors1 if not pd.isna(a)]\n",
    "actor_count = Counter(actors1)"
   ]
  },
  {
   "cell_type": "code",
   "execution_count": 576,
   "metadata": {},
   "outputs": [
    {
     "data": {
      "text/plain": [
       "[('Robert De Niro', 50),\n",
       " ('Nicolas Cage', 46),\n",
       " ('Bruce Willis', 43),\n",
       " ('Sylvester Stallone', 40),\n",
       " ('Tom Hanks', 39),\n",
       " ('Denzel Washington', 37),\n",
       " ('Clint Eastwood', 37),\n",
       " ('Johnny Depp', 36),\n",
       " ('Matt Damon', 34),\n",
       " ('Tom Cruise', 33),\n",
       " ('Morgan Freeman', 33),\n",
       " ('Robin Williams', 33),\n",
       " ('Mel Gibson', 32),\n",
       " ('John Travolta', 32),\n",
       " ('Eddie Murphy', 32),\n",
       " ('Harrison Ford', 31),\n",
       " ('Samuel L. Jackson', 31),\n",
       " ('Liam Neeson', 31),\n",
       " ('Brad Pitt', 30),\n",
       " ('Mark Wahlberg', 30)]"
      ]
     },
     "execution_count": 576,
     "metadata": {},
     "output_type": "execute_result"
    }
   ],
   "source": [
    "actor_count.most_common()[:20]"
   ]
  },
  {
   "cell_type": "markdown",
   "metadata": {},
   "source": [
    "I will take the product of popularity of two main actors."
   ]
  },
  {
   "cell_type": "code",
   "execution_count": 577,
   "metadata": {},
   "outputs": [],
   "source": [
    "train['actor_popularity'] = np.array(train.actor_1.map(actor_count)) * np.array(train.actor_2.map(actor_count))"
   ]
  },
  {
   "cell_type": "code",
   "execution_count": 578,
   "metadata": {},
   "outputs": [],
   "source": [
    "train.actor_popularity.replace(0, train.actor_popularity.median(), inplace=True)"
   ]
  },
  {
   "cell_type": "code",
   "execution_count": 579,
   "metadata": {},
   "outputs": [
    {
     "data": {
      "text/plain": [
       "<matplotlib.axes._subplots.AxesSubplot at 0x7fcf6e5f3d30>"
      ]
     },
     "execution_count": 579,
     "metadata": {},
     "output_type": "execute_result"
    },
    {
     "data": {
      "image/png": "[encoded data removed]",
      "text/plain": [
       "<Figure size 432x288 with 1 Axes>"
      ]
     },
     "metadata": {
      "needs_background": "light"
     },
     "output_type": "display_data"
    }
   ],
   "source": [
    "sns.scatterplot(train.actor_popularity, train.revenue, alpha=0.4)"
   ]
  },
  {
   "cell_type": "code",
   "execution_count": 580,
   "metadata": {},
   "outputs": [
    {
     "name": "stdout",
     "output_type": "stream",
     "text": [
      "Pearsons correlation: 0.194\n"
     ]
    }
   ],
   "source": [
    "corr, _ = pearsonr(train[train.dataset == 'train'].actor_popularity, train[train.dataset == 'train'].revenue)\n",
    "print('Pearsons correlation: %.3f' % corr)"
   ]
  },
  {
   "cell_type": "code",
   "execution_count": 581,
   "metadata": {},
   "outputs": [
    {
     "name": "stderr",
     "output_type": "stream",
     "text": [
      "/usr/local/lib/python3.6/dist-packages/scipy/stats/stats.py:1713: FutureWarning: Using a non-tuple sequence for multidimensional indexing is deprecated; use `arr[tuple(seq)]` instead of `arr[seq]`. In the future this will be interpreted as an array index, `arr[np.array(seq)]`, which will result either in an error or a different result.\n",
      "  return np.add.reduce(sorted[indexer] * weights, axis=axis) / sumval\n"
     ]
    },
    {
     "data": {
      "text/plain": [
       "<matplotlib.axes._subplots.AxesSubplot at 0x7fcf681c6ac8>"
      ]
     },
     "execution_count": 581,
     "metadata": {},
     "output_type": "execute_result"
    },
    {
     "data": {
      "image/png": "[encoded data removed]",
      "text/plain": [
       "<Figure size 432x288 with 1 Axes>"
      ]
     },
     "metadata": {
      "needs_background": "light"
     },
     "output_type": "display_data"
    }
   ],
   "source": [
    "sns.regplot(train.actor_popularity, train.revenue)"
   ]
  },
  {
   "cell_type": "markdown",
   "metadata": {},
   "source": [
    "In the above plot we see some outliers. What if we could spread out the smaller actor_popularity values more apart? We use take the log of that value"
   ]
  },
  {
   "cell_type": "code",
   "execution_count": 582,
   "metadata": {},
   "outputs": [
    {
     "data": {
      "text/html": [
       "<div>\n",
       "<style scoped>\n",
       "    .dataframe tbody tr th:only-of-type {\n",
       "        vertical-align: middle;\n",
       "    }\n",
       "\n",
       "    .dataframe tbody tr th {\n",
       "        vertical-align: top;\n",
       "    }\n",
       "\n",
       "    .dataframe thead th {\n",
       "        text-align: right;\n",
       "    }\n",
       "</style>\n",
       "<table border=\"1\" class=\"dataframe\">\n",
       "  <thead>\n",
       "    <tr style=\"text-align: right;\">\n",
       "      <th></th>\n",
       "      <th>actor_1</th>\n",
       "      <th>actor_2</th>\n",
       "      <th>actor_popularity</th>\n",
       "      <th>original_title</th>\n",
       "      <th>year</th>\n",
       "      <th>budget</th>\n",
       "      <th>revenue</th>\n",
       "    </tr>\n",
       "  </thead>\n",
       "  <tbody>\n",
       "    <tr>\n",
       "      <th>60</th>\n",
       "      <td>Robert De Niro</td>\n",
       "      <td>Meryl Streep</td>\n",
       "      <td>1500</td>\n",
       "      <td>Falling in Love</td>\n",
       "      <td>1984</td>\n",
       "      <td>0</td>\n",
       "      <td>11129057.00</td>\n",
       "    </tr>\n",
       "    <tr>\n",
       "      <th>61</th>\n",
       "      <td>Denzel Washington</td>\n",
       "      <td>Meryl Streep</td>\n",
       "      <td>1110</td>\n",
       "      <td>The Manchurian Candidate</td>\n",
       "      <td>2004</td>\n",
       "      <td>80000000</td>\n",
       "      <td>96105964.00</td>\n",
       "    </tr>\n",
       "    <tr>\n",
       "      <th>965</th>\n",
       "      <td>Ben Stiller</td>\n",
       "      <td>Robert De Niro</td>\n",
       "      <td>1450</td>\n",
       "      <td>Meet the Parents</td>\n",
       "      <td>2000</td>\n",
       "      <td>55000000</td>\n",
       "      <td>330444045.00</td>\n",
       "    </tr>\n",
       "    <tr>\n",
       "      <th>1108</th>\n",
       "      <td>Dustin Hoffman</td>\n",
       "      <td>Robert De Niro</td>\n",
       "      <td>1250</td>\n",
       "      <td>Wag the Dog</td>\n",
       "      <td>1997</td>\n",
       "      <td>15000000</td>\n",
       "      <td>64256513.00</td>\n",
       "    </tr>\n",
       "    <tr>\n",
       "      <th>1379</th>\n",
       "      <td>Bruce Willis</td>\n",
       "      <td>Richard Gere</td>\n",
       "      <td>1075</td>\n",
       "      <td>The Jackal</td>\n",
       "      <td>1997</td>\n",
       "      <td>60000000</td>\n",
       "      <td>159330280.00</td>\n",
       "    </tr>\n",
       "    <tr>\n",
       "      <th>1944</th>\n",
       "      <td>Tom Hanks</td>\n",
       "      <td>Bruce Willis</td>\n",
       "      <td>1677</td>\n",
       "      <td>The Bonfire of the Vanities</td>\n",
       "      <td>1990</td>\n",
       "      <td>47000000</td>\n",
       "      <td>15691192.00</td>\n",
       "    </tr>\n",
       "    <tr>\n",
       "      <th>2202</th>\n",
       "      <td>Clint Eastwood</td>\n",
       "      <td>Gene Hackman</td>\n",
       "      <td>1036</td>\n",
       "      <td>Absolute Power</td>\n",
       "      <td>1997</td>\n",
       "      <td>50000000</td>\n",
       "      <td>50068310.00</td>\n",
       "    </tr>\n",
       "    <tr>\n",
       "      <th>2419</th>\n",
       "      <td>Sean Connery</td>\n",
       "      <td>Nicolas Cage</td>\n",
       "      <td>1150</td>\n",
       "      <td>The Rock</td>\n",
       "      <td>1996</td>\n",
       "      <td>75000000</td>\n",
       "      <td>335062621.00</td>\n",
       "    </tr>\n",
       "    <tr>\n",
       "      <th>2424</th>\n",
       "      <td>Denzel Washington</td>\n",
       "      <td>Gene Hackman</td>\n",
       "      <td>1036</td>\n",
       "      <td>Crimson Tide</td>\n",
       "      <td>1995</td>\n",
       "      <td>53000000</td>\n",
       "      <td>157387195.00</td>\n",
       "    </tr>\n",
       "    <tr>\n",
       "      <th>3772</th>\n",
       "      <td>Robert De Niro</td>\n",
       "      <td>Brad Pitt</td>\n",
       "      <td>1500</td>\n",
       "      <td>Sleepers</td>\n",
       "      <td>1996</td>\n",
       "      <td>44000000</td>\n",
       "      <td>165615285.00</td>\n",
       "    </tr>\n",
       "    <tr>\n",
       "      <th>3920</th>\n",
       "      <td>Bruce Willis</td>\n",
       "      <td>Robert De Niro</td>\n",
       "      <td>2150</td>\n",
       "      <td>What Just Happened</td>\n",
       "      <td>2008</td>\n",
       "      <td>25000000</td>\n",
       "      <td>6673422.00</td>\n",
       "    </tr>\n",
       "    <tr>\n",
       "      <th>4149</th>\n",
       "      <td>Kevin Costner</td>\n",
       "      <td>Clint Eastwood</td>\n",
       "      <td>1073</td>\n",
       "      <td>A Perfect World</td>\n",
       "      <td>1993</td>\n",
       "      <td>30000000</td>\n",
       "      <td>135130999.00</td>\n",
       "    </tr>\n",
       "    <tr>\n",
       "      <th>4411</th>\n",
       "      <td>Nicolas Cage</td>\n",
       "      <td>Jim Carrey</td>\n",
       "      <td>1150</td>\n",
       "      <td>Peggy Sue Got Married</td>\n",
       "      <td>1986</td>\n",
       "      <td>18000000</td>\n",
       "      <td>41382841.00</td>\n",
       "    </tr>\n",
       "    <tr>\n",
       "      <th>5157</th>\n",
       "      <td>Robert De Niro</td>\n",
       "      <td>Julianne Moore</td>\n",
       "      <td>1350</td>\n",
       "      <td>Being Flynn</td>\n",
       "      <td>2012</td>\n",
       "      <td>0</td>\n",
       "      <td>540152.00</td>\n",
       "    </tr>\n",
       "  </tbody>\n",
       "</table>\n",
       "</div>"
      ],
      "text/plain": [
       "                actor_1         actor_2  actor_popularity  \\\n",
       "60       Robert De Niro    Meryl Streep              1500   \n",
       "61    Denzel Washington    Meryl Streep              1110   \n",
       "965         Ben Stiller  Robert De Niro              1450   \n",
       "1108     Dustin Hoffman  Robert De Niro              1250   \n",
       "1379       Bruce Willis    Richard Gere              1075   \n",
       "1944          Tom Hanks    Bruce Willis              1677   \n",
       "2202     Clint Eastwood    Gene Hackman              1036   \n",
       "2419       Sean Connery    Nicolas Cage              1150   \n",
       "2424  Denzel Washington    Gene Hackman              1036   \n",
       "3772     Robert De Niro       Brad Pitt              1500   \n",
       "3920       Bruce Willis  Robert De Niro              2150   \n",
       "4149      Kevin Costner  Clint Eastwood              1073   \n",
       "4411       Nicolas Cage      Jim Carrey              1150   \n",
       "5157     Robert De Niro  Julianne Moore              1350   \n",
       "\n",
       "                   original_title  year    budget      revenue  \n",
       "60                Falling in Love  1984         0  11129057.00  \n",
       "61       The Manchurian Candidate  2004  80000000  96105964.00  \n",
       "965              Meet the Parents  2000  55000000 330444045.00  \n",
       "1108                  Wag the Dog  1997  15000000  64256513.00  \n",
       "1379                   The Jackal  1997  60000000 159330280.00  \n",
       "1944  The Bonfire of the Vanities  1990  47000000  15691192.00  \n",
       "2202               Absolute Power  1997  50000000  50068310.00  \n",
       "2419                     The Rock  1996  75000000 335062621.00  \n",
       "2424                 Crimson Tide  1995  53000000 157387195.00  \n",
       "3772                     Sleepers  1996  44000000 165615285.00  \n",
       "3920           What Just Happened  2008  25000000   6673422.00  \n",
       "4149              A Perfect World  1993  30000000 135130999.00  \n",
       "4411        Peggy Sue Got Married  1986  18000000  41382841.00  \n",
       "5157                  Being Flynn  2012         0    540152.00  "
      ]
     },
     "execution_count": 582,
     "metadata": {},
     "output_type": "execute_result"
    }
   ],
   "source": [
    "pd.set_option('display.max_rows', 20)\n",
    "train[(train.dataset == 'train') & (train.actor_popularity > 1000)][['actor_1', 'actor_2', 'actor_popularity', 'original_title', 'year', 'budget', 'revenue']]"
   ]
  },
  {
   "cell_type": "code",
   "execution_count": 583,
   "metadata": {},
   "outputs": [],
   "source": [
    "import math\n",
    "\n",
    "train['actor_popularity_log'] = 0\n",
    "train.loc[(train.actor_popularity > 0), 'actor_popularity_log'] = \\\n",
    "train.loc[train.actor_popularity != 0, 'actor_popularity'].apply(lambda x: math.log(x))"
   ]
  },
  {
   "cell_type": "code",
   "execution_count": 584,
   "metadata": {},
   "outputs": [
    {
     "data": {
      "text/plain": [
       "<matplotlib.axes._subplots.AxesSubplot at 0x7fcf681079e8>"
      ]
     },
     "execution_count": 584,
     "metadata": {},
     "output_type": "execute_result"
    },
    {
     "data": {
      "image/png": "[encoded data removed]",
      "text/plain": [
       "<Figure size 432x288 with 1 Axes>"
      ]
     },
     "metadata": {
      "needs_background": "light"
     },
     "output_type": "display_data"
    }
   ],
   "source": [
    "sns.regplot(train.actor_popularity_log, train.revenue)"
   ]
  },
  {
   "cell_type": "code",
   "execution_count": 585,
   "metadata": {},
   "outputs": [
    {
     "name": "stdout",
     "output_type": "stream",
     "text": [
      "Pearsons correlation: 0.269\n"
     ]
    }
   ],
   "source": [
    "corr, _ = pearsonr(train[train.dataset == 'train'].actor_popularity_log, train[train.dataset == 'train'].revenue)\n",
    "print('Pearsons correlation: %.3f' % corr)"
   ]
  },
  {
   "cell_type": "markdown",
   "metadata": {},
   "source": [
    "# Filling in missing Budget values"
   ]
  },
  {
   "cell_type": "markdown",
   "metadata": {},
   "source": [
    "### Brief recap:\n",
    "The biggest predictor of revenue is budget. But budget has a lot of missing values. I must fill in these missing values, as I must use budget as one of my features (it's the best one). I cannot use revenue to do that, as revenue is our dependent variable, and it's missing in the test dataset (obviously). So I need to build a model with features other than revenue, that can predict budget, so that I can fill in these NA."
   ]
  },
  {
   "cell_type": "markdown",
   "metadata": {},
   "source": [
    "## Normalization or Standardization?"
   ]
  },
  {
   "cell_type": "markdown",
   "metadata": {},
   "source": [
    "Those are the two main techniques for feature scaling. Standardization handles outliers better.\n",
    "\n",
    "![title](img/minmax.png)\n",
    "![title](img/standard.png)\n",
    "\n",
    "In normalization, the x axis is squeezed onto a small area (0-0.4) while the y axis uses the full range (0-1).<br>\n",
    "https://www.codecademy.com/articles/normalization"
   ]
  },
  {
   "cell_type": "code",
   "execution_count": 586,
   "metadata": {},
   "outputs": [
    {
     "data": {
      "text/plain": [
       "<matplotlib.axes._subplots.AxesSubplot at 0x7fcf68060ba8>"
      ]
     },
     "execution_count": 586,
     "metadata": {},
     "output_type": "execute_result"
    },
    {
     "data": {
      "image/png": "[encoded data removed]",
      "text/plain": [
       "<Figure size 432x288 with 1 Axes>"
      ]
     },
     "metadata": {
      "needs_background": "light"
     },
     "output_type": "display_data"
    }
   ],
   "source": [
    "sns.boxplot(train[train.budget != 0]['budget'])"
   ]
  },
  {
   "cell_type": "markdown",
   "metadata": {},
   "source": [
    "We have a lot of outliers (very high) budgets in our most important feature, so I will choose standardization."
   ]
  },
  {
   "cell_type": "code",
   "execution_count": 587,
   "metadata": {},
   "outputs": [],
   "source": [
    "from sklearn.model_selection import train_test_split\n",
    "from sklearn.preprocessing import StandardScaler"
   ]
  },
  {
   "cell_type": "code",
   "execution_count": 588,
   "metadata": {},
   "outputs": [
    {
     "data": {
      "text/plain": [
       "Index(['id', 'belongs_to_collection', 'budget', 'genres', 'homepage',\n",
       "       'imdb_id', 'original_title', 'overview', 'popularity', 'poster_path',\n",
       "       'production_companies', 'production_countries', 'runtime',\n",
       "       'spoken_languages', 'status', 'tagline', 'title', 'Keywords', 'cast',\n",
       "       'crew', 'revenue', 'dataset', 'is_english', 'has_collection',\n",
       "       'missing_budget', 'Music', 'Horror', 'Science Fiction', 'Action',\n",
       "       'Fantasy', 'History', 'Thriller', 'War', 'Western', 'Crime', 'Mystery',\n",
       "       'TV Movie', 'Foreign', 'Animation', 'Family', 'Romance', 'Drama',\n",
       "       'Adventure', 'Documentary', 'Comedy', 'year', 'year_bins',\n",
       "       'has_tagline', 'tagline_len', 'tagline_len_bins', 'has_production',\n",
       "       'prod_id', 'prod_name', 'comp_size', 'actor_1', 'actor_2',\n",
       "       'actor_popularity', 'actor_popularity_log'],\n",
       "      dtype='object')"
      ]
     },
     "execution_count": 588,
     "metadata": {},
     "output_type": "execute_result"
    }
   ],
   "source": [
    "train.columns"
   ]
  },
  {
   "cell_type": "code",
   "execution_count": 601,
   "metadata": {},
   "outputs": [],
   "source": [
    "df = train[[ 'budget', 'runtime', 'year_bins', 'missing_budget',\n",
    "                'has_tagline', 'has_production', 'actor_popularity_log',\n",
    "               'is_english', 'has_collection', 'comp_size',\n",
    "                'tagline_len', 'popularity', \n",
    "            \n",
    "               'Fantasy', 'Animation', 'Thriller', 'Mystery',\n",
    "               'Comedy', 'Action', 'Foreign', 'History', 'Family', 'Horror',\n",
    "               'TV Movie', 'War', 'Western', 'Romance', 'Music', 'Science Fiction',\n",
    "               'Documentary', 'Crime', 'Drama', 'Adventure']]\n",
    "\n",
    "df = df[df.budget != 0]\n",
    "y = df['budget']\n",
    "df.drop('budget', axis=1, inplace=True)"
   ]
  },
  {
   "cell_type": "code",
   "execution_count": 602,
   "metadata": {},
   "outputs": [
    {
     "name": "stderr",
     "output_type": "stream",
     "text": [
      "/usr/local/lib/python3.6/dist-packages/sklearn/utils/validation.py:590: DataConversionWarning: Data with input dtype object was converted to float64 by StandardScaler.\n",
      "  warnings.warn(msg, DataConversionWarning)\n",
      "/usr/local/lib/python3.6/dist-packages/sklearn/utils/validation.py:590: DataConversionWarning: Data with input dtype object was converted to float64 by StandardScaler.\n",
      "  warnings.warn(msg, DataConversionWarning)\n",
      "/usr/local/lib/python3.6/dist-packages/sklearn/utils/validation.py:590: DataConversionWarning: Data with input dtype object was converted to float64 by StandardScaler.\n",
      "  warnings.warn(msg, DataConversionWarning)\n"
     ]
    }
   ],
   "source": [
    "# BECAUSE WE HAVE VERY LITTLE DATA, I WILL USE CROSS VALIDATION TO USE IT IN SMARTEST WAY AND FIND THE PARAMS\n",
    "\n",
    "X_train, X_test, y_train, y_test = train_test_split(df, y, test_size=0.2)\n",
    "\n",
    "sc_X = StandardScaler()\n",
    "X_train = sc_X.fit_transform(np.array(X_train))\n",
    "X_test = sc_X.transform(np.array(X_test))"
   ]
  },
  {
   "cell_type": "markdown",
   "metadata": {},
   "source": [
    "## What model to choose?\n",
    "\n",
    "Looking at the data, the relationships look very complex. There are many outliers, in almost every feature. Also, the relationships are often non linear (runtime, popularity, actor_popularity). This makes me think a non-parametric model (like knn) might perform better than linear regression."
   ]
  },
  {
   "cell_type": "markdown",
   "metadata": {},
   "source": [
    "# KNN"
   ]
  },
  {
   "cell_type": "markdown",
   "metadata": {},
   "source": [
    "We can use euclidean distance here because we standardized out features. One thing about knn is that it doesn't do feature selection, like lasso. So the features we feed into it, must be well thought out."
   ]
  },
  {
   "cell_type": "code",
   "execution_count": 149,
   "metadata": {},
   "outputs": [
    {
     "data": {
      "text/plain": [
       "{'n_neighbors': 19, 'weights': 'distance'}"
      ]
     },
     "execution_count": 149,
     "metadata": {},
     "output_type": "execute_result"
    }
   ],
   "source": [
    "from sklearn.model_selection import GridSearchCV\n",
    "from sklearn.neighbors import KNeighborsRegressor\n",
    "from sklearn.metrics import mean_squared_error\n",
    "\n",
    "knn = KNeighborsRegressor()\n",
    "\n",
    "param_grid = {'n_neighbors': np.arange(1, 25), 'weights': ['uniform', 'distance'],}\n",
    "\n",
    "# GridSearchCV, by convention, always tries to maximize its score so loss functions like MSE have to be negated\n",
    "knn_gscv = GridSearchCV(knn, param_grid, cv=5,scoring='neg_mean_squared_error')\n",
    "knn_gscv.fit(X_train, y_train)\n",
    "knn_gscv.best_params_"
   ]
  },
  {
   "cell_type": "code",
   "execution_count": 150,
   "metadata": {},
   "outputs": [
    {
     "name": "stdout",
     "output_type": "stream",
     "text": [
      "27,736,482\n"
     ]
    }
   ],
   "source": [
    "print(f\"{int(math.sqrt(abs(knn_gscv.best_score_))):,d}\")"
   ]
  },
  {
   "cell_type": "code",
   "execution_count": 612,
   "metadata": {},
   "outputs": [
    {
     "data": {
      "text/plain": [
       "KNeighborsRegressor(algorithm='auto', leaf_size=30, metric='minkowski',\n",
       "          metric_params=None, n_jobs=None, n_neighbors=22, p=2,\n",
       "          weights='distance')"
      ]
     },
     "execution_count": 612,
     "metadata": {},
     "output_type": "execute_result"
    }
   ],
   "source": [
    "best_knn = KNeighborsRegressor(n_neighbors=22, weights='distance')\n",
    "best_knn.fit(X_train, y_train)"
   ]
  },
  {
   "cell_type": "code",
   "execution_count": 613,
   "metadata": {},
   "outputs": [],
   "source": [
    "from sklearn.metrics import mean_squared_error\n",
    "pred = best_knn.predict(X_test)\n",
    "error = math.sqrt(mean_squared_error(y_test,pred))\n"
   ]
  },
  {
   "cell_type": "code",
   "execution_count": 614,
   "metadata": {},
   "outputs": [
    {
     "name": "stdout",
     "output_type": "stream",
     "text": [
      "28,496,019\n"
     ]
    }
   ],
   "source": [
    "print(f\"{int(error):,d}\")"
   ]
  },
  {
   "cell_type": "code",
   "execution_count": 615,
   "metadata": {},
   "outputs": [],
   "source": [
    "test_errors = {'knn' : error}"
   ]
  },
  {
   "cell_type": "markdown",
   "metadata": {},
   "source": [
    "# Decision Trees"
   ]
  },
  {
   "cell_type": "code",
   "execution_count": 155,
   "metadata": {},
   "outputs": [
    {
     "data": {
      "text/plain": [
       "{'max_depth': 6}"
      ]
     },
     "execution_count": 155,
     "metadata": {},
     "output_type": "execute_result"
    }
   ],
   "source": [
    "from sklearn.tree import DecisionTreeRegressor\n",
    "\n",
    "tree = DecisionTreeRegressor()\n",
    "\n",
    "param_grid = {'max_depth': np.arange(1, 100), }\n",
    "\n",
    "tree_gscv = GridSearchCV(tree, param_grid, cv=5,scoring='neg_mean_squared_error')\n",
    "tree_gscv.fit(X_train, y_train)\n",
    "tree_gscv.best_params_"
   ]
  },
  {
   "cell_type": "code",
   "execution_count": 156,
   "metadata": {},
   "outputs": [
    {
     "name": "stdout",
     "output_type": "stream",
     "text": [
      "31,116,235\n"
     ]
    }
   ],
   "source": [
    "print(f\"{int(math.sqrt(abs(tree_gscv.best_score_))):,d}\")"
   ]
  },
  {
   "cell_type": "code",
   "execution_count": 616,
   "metadata": {},
   "outputs": [],
   "source": [
    "best_tree = DecisionTreeRegressor(max_depth=5)\n",
    "\n",
    "best_tree.fit(X_train, y_train)\n",
    "pred = best_tree.predict(X_test)\n",
    "error = math.sqrt(mean_squared_error(y_test,pred))"
   ]
  },
  {
   "cell_type": "code",
   "execution_count": 617,
   "metadata": {},
   "outputs": [
    {
     "name": "stdout",
     "output_type": "stream",
     "text": [
      "28,980,165\n"
     ]
    }
   ],
   "source": [
    "print(f\"{int(error):,d}\")"
   ]
  },
  {
   "cell_type": "code",
   "execution_count": 618,
   "metadata": {},
   "outputs": [],
   "source": [
    "test_errors['tree'] = error"
   ]
  },
  {
   "cell_type": "markdown",
   "metadata": {},
   "source": [
    "# Random Forest"
   ]
  },
  {
   "cell_type": "markdown",
   "metadata": {},
   "source": [
    "They're an example of BAGGING, where a lot of weak models are combined to create a strong model. Those models are not dependent on each other (paralell). Random forests build many trees, and use a majority vote (or a mean of vote) to predict the dependent variable. When building each tree, a random set of rows and features is selected. This makes this model very robust to overfitting."
   ]
  },
  {
   "cell_type": "code",
   "execution_count": 160,
   "metadata": {},
   "outputs": [
    {
     "data": {
      "text/plain": [
       "{'n_estimators': 168}"
      ]
     },
     "execution_count": 160,
     "metadata": {},
     "output_type": "execute_result"
    }
   ],
   "source": [
    "from sklearn.ensemble import RandomForestRegressor\n",
    "forest = RandomForestRegressor()\n",
    "\n",
    "param_grid = {'n_estimators': [int(x) for x in np.linspace(3, 300, num=10) ]}\n",
    "\n",
    "forest_gscv = GridSearchCV(forest, param_grid, cv=5,scoring='neg_mean_squared_error')\n",
    "forest_gscv.fit(X_train, y_train)\n",
    "forest_gscv.best_params_"
   ]
  },
  {
   "cell_type": "code",
   "execution_count": 161,
   "metadata": {},
   "outputs": [
    {
     "name": "stdout",
     "output_type": "stream",
     "text": [
      "25,248,490\n"
     ]
    }
   ],
   "source": [
    "print(f\"{int(math.sqrt(abs(forest_gscv.best_score_))):,d}\")"
   ]
  },
  {
   "cell_type": "code",
   "execution_count": 627,
   "metadata": {},
   "outputs": [
    {
     "name": "stdout",
     "output_type": "stream",
     "text": [
      "23,805,099\n"
     ]
    }
   ],
   "source": [
    "best_forest = RandomForestRegressor(n_estimators = 201)\n",
    "\n",
    "best_forest.fit(X_train, y_train)\n",
    "pred = best_forest.predict(X_test)\n",
    "error = math.sqrt(mean_squared_error(y_test,pred))\n",
    "\n",
    "print(f\"{int(error):,d}\")"
   ]
  },
  {
   "cell_type": "code",
   "execution_count": 628,
   "metadata": {},
   "outputs": [],
   "source": [
    "test_errors['forest'] = error"
   ]
  },
  {
   "cell_type": "code",
   "execution_count": null,
   "metadata": {},
   "outputs": [],
   "source": []
  },
  {
   "cell_type": "code",
   "execution_count": null,
   "metadata": {},
   "outputs": [],
   "source": []
  },
  {
   "cell_type": "markdown",
   "metadata": {},
   "source": [
    "# Linear Regression"
   ]
  },
  {
   "cell_type": "code",
   "execution_count": 164,
   "metadata": {},
   "outputs": [],
   "source": [
    "from sklearn import linear_model\n",
    "from sklearn.model_selection import GridSearchCV\n",
    "\n",
    "params = {'alpha' : np.linspace(0.1, 5000000, num=1000)}\n",
    "\n",
    "lasso = linear_model.Lasso(tol=0.1)\n",
    "lasso_grid = GridSearchCV(lasso, params, cv=5, scoring='neg_mean_squared_error')\n",
    "\n",
    "lasso_grid.fit(X_train, y_train);"
   ]
  },
  {
   "cell_type": "code",
   "execution_count": 165,
   "metadata": {},
   "outputs": [
    {
     "data": {
      "text/plain": [
       "125125.22262262262"
      ]
     },
     "execution_count": 165,
     "metadata": {},
     "output_type": "execute_result"
    }
   ],
   "source": [
    "lasso_grid.best_params_['alpha']"
   ]
  },
  {
   "cell_type": "code",
   "execution_count": 166,
   "metadata": {},
   "outputs": [
    {
     "name": "stdout",
     "output_type": "stream",
     "text": [
      "29,206,118\n"
     ]
    }
   ],
   "source": [
    "print(f\"{int(math.sqrt(abs(lasso_grid.best_score_))):,d}\")"
   ]
  },
  {
   "cell_type": "code",
   "execution_count": 629,
   "metadata": {},
   "outputs": [],
   "source": [
    "best_lasso = linear_model.Lasso(alpha=lasso_grid.best_params_['alpha'])\n",
    "\n",
    "best_lasso.fit(X_train, y_train)\n",
    "pred = best_lasso.predict(X_test)\n",
    "error = math.sqrt(mean_squared_error(y_test,pred))"
   ]
  },
  {
   "cell_type": "code",
   "execution_count": 630,
   "metadata": {},
   "outputs": [
    {
     "name": "stdout",
     "output_type": "stream",
     "text": [
      "30,084,759\n"
     ]
    }
   ],
   "source": [
    "print(f\"{int(error):,d}\")"
   ]
  },
  {
   "cell_type": "code",
   "execution_count": 631,
   "metadata": {},
   "outputs": [],
   "source": [
    "test_errors['lasso'] = error"
   ]
  },
  {
   "cell_type": "markdown",
   "metadata": {},
   "source": [
    "# SVM"
   ]
  },
  {
   "cell_type": "markdown",
   "metadata": {},
   "source": [
    "### Trying different degrees for linear kernel"
   ]
  },
  {
   "cell_type": "code",
   "execution_count": 170,
   "metadata": {},
   "outputs": [
    {
     "name": "stderr",
     "output_type": "stream",
     "text": [
      "/usr/local/lib/python3.6/dist-packages/sklearn/model_selection/_split.py:626: Warning: The least populated class in y has only 1 members, which is too few. The minimum number of members in any class cannot be less than n_splits=5.\n",
      "  % (min_groups, self.n_splits)), Warning)\n",
      "/usr/local/lib/python3.6/dist-packages/sklearn/model_selection/_search.py:841: DeprecationWarning: The default of the `iid` parameter will change from True to False in version 0.22 and will be removed in 0.24. This will change numeric results when test-set sizes are unequal.\n",
      "  DeprecationWarning)\n"
     ]
    },
    {
     "data": {
      "text/plain": [
       "1"
      ]
     },
     "execution_count": 170,
     "metadata": {},
     "output_type": "execute_result"
    }
   ],
   "source": [
    "from sklearn.svm import SVC\n",
    "\n",
    "params = {'degree' : [1, 2, 3]}\n",
    "\n",
    "svm = SVC(kernel='poly', gamma='scale')\n",
    "svm_grid = GridSearchCV(svm, params, cv=5, scoring='neg_mean_squared_error')\n",
    "\n",
    "svm_grid.fit(X_train, y_train);\n",
    "svm_grid.best_params_['degree']"
   ]
  },
  {
   "cell_type": "code",
   "execution_count": 171,
   "metadata": {},
   "outputs": [
    {
     "name": "stdout",
     "output_type": "stream",
     "text": [
      "31,718,230\n"
     ]
    }
   ],
   "source": [
    "print(f\"{int(math.sqrt(abs(svm_grid.best_score_))):,d}\")"
   ]
  },
  {
   "cell_type": "markdown",
   "metadata": {},
   "source": [
    "### Trying different kernels"
   ]
  },
  {
   "cell_type": "code",
   "execution_count": 172,
   "metadata": {},
   "outputs": [
    {
     "name": "stderr",
     "output_type": "stream",
     "text": [
      "/usr/local/lib/python3.6/dist-packages/sklearn/model_selection/_split.py:626: Warning: The least populated class in y has only 1 members, which is too few. The minimum number of members in any class cannot be less than n_splits=5.\n",
      "  % (min_groups, self.n_splits)), Warning)\n",
      "/usr/local/lib/python3.6/dist-packages/sklearn/model_selection/_search.py:841: DeprecationWarning: The default of the `iid` parameter will change from True to False in version 0.22 and will be removed in 0.24. This will change numeric results when test-set sizes are unequal.\n",
      "  DeprecationWarning)\n"
     ]
    },
    {
     "data": {
      "text/plain": [
       "'rbf'"
      ]
     },
     "execution_count": 172,
     "metadata": {},
     "output_type": "execute_result"
    }
   ],
   "source": [
    "from sklearn.svm import SVC\n",
    "\n",
    "params = {'kernel' : ['rbf', 'sigmoid']}\n",
    "\n",
    "svm = SVC(gamma='scale')\n",
    "svm_grid = GridSearchCV(svm, params, cv=5, scoring='neg_mean_squared_error')\n",
    "\n",
    "svm_grid.fit(X_train, y_train);\n",
    "svm_grid.best_params_['kernel']"
   ]
  },
  {
   "cell_type": "code",
   "execution_count": 173,
   "metadata": {},
   "outputs": [
    {
     "name": "stdout",
     "output_type": "stream",
     "text": [
      "33,228,115\n"
     ]
    }
   ],
   "source": [
    "print(f\"{int(math.sqrt(abs(svm_grid.best_score_))):,d}\")"
   ]
  },
  {
   "cell_type": "code",
   "execution_count": 632,
   "metadata": {},
   "outputs": [],
   "source": [
    "best_svm = SVC(gamma='scale', kernel='rbf')\n",
    "\n",
    "best_svm.fit(X_train, y_train)\n",
    "pred = best_svm.predict(X_test)\n",
    "error = math.sqrt(mean_squared_error(y_test,pred))"
   ]
  },
  {
   "cell_type": "code",
   "execution_count": 633,
   "metadata": {},
   "outputs": [
    {
     "data": {
      "text/plain": [
       "33760075.78132308"
      ]
     },
     "execution_count": 633,
     "metadata": {},
     "output_type": "execute_result"
    }
   ],
   "source": [
    "error"
   ]
  },
  {
   "cell_type": "code",
   "execution_count": 634,
   "metadata": {},
   "outputs": [],
   "source": [
    "test_errors['svm'] = error"
   ]
  },
  {
   "cell_type": "markdown",
   "metadata": {},
   "source": [
    "### Adaboost"
   ]
  },
  {
   "cell_type": "markdown",
   "metadata": {},
   "source": [
    "Boosting involves creating many weak models, that are dependent on each other (unlike bagging). For every model, the weights are increased on the data points where the previous model got the answers wrong. At the end, every model gets its own importance weight, depending on its accuracy. Then the voting happens."
   ]
  },
  {
   "cell_type": "code",
   "execution_count": 437,
   "metadata": {},
   "outputs": [
    {
     "data": {
      "text/plain": [
       "78"
      ]
     },
     "execution_count": 437,
     "metadata": {},
     "output_type": "execute_result"
    }
   ],
   "source": [
    "ada = AdaBoostRegressor(base_estimator=DecisionTreeRegressor(),\n",
    "                              random_state=0)\n",
    "params = {'n_estimators': range(2, 100)}\n",
    "ada_grid = GridSearchCV(ada, params, cv=5, scoring='neg_mean_squared_error')\n",
    "ada_grid.fit(X_train, y_train);\n",
    "ada_grid.best_params_['n_estimators']"
   ]
  },
  {
   "cell_type": "code",
   "execution_count": 430,
   "metadata": {},
   "outputs": [
    {
     "data": {
      "text/plain": [
       "-631523433328032.5"
      ]
     },
     "execution_count": 430,
     "metadata": {},
     "output_type": "execute_result"
    }
   ],
   "source": [
    "ada_grid.best_score_"
   ]
  },
  {
   "cell_type": "code",
   "execution_count": 431,
   "metadata": {},
   "outputs": [
    {
     "name": "stdout",
     "output_type": "stream",
     "text": [
      "25,130,129\n"
     ]
    }
   ],
   "source": [
    "print(f\"{int(math.sqrt(abs(ada_grid.best_score_))):,d}\")"
   ]
  },
  {
   "cell_type": "code",
   "execution_count": 635,
   "metadata": {},
   "outputs": [],
   "source": [
    "best_ada = AdaBoostRegressor(base_estimator=DecisionTreeRegressor(),\n",
    "                              random_state=0, n_estimators=78)\n",
    "\n",
    "best_ada.fit(X_train, y_train)\n",
    "pred = best_ada.predict(X_test)\n",
    "error = math.sqrt(mean_squared_error(y_test,pred))"
   ]
  },
  {
   "cell_type": "code",
   "execution_count": 636,
   "metadata": {},
   "outputs": [
    {
     "data": {
      "text/plain": [
       "23516444.513882678"
      ]
     },
     "execution_count": 636,
     "metadata": {},
     "output_type": "execute_result"
    }
   ],
   "source": [
    "error"
   ]
  },
  {
   "cell_type": "code",
   "execution_count": 637,
   "metadata": {},
   "outputs": [],
   "source": [
    "test_errors['ada'] = error"
   ]
  },
  {
   "cell_type": "code",
   "execution_count": 638,
   "metadata": {},
   "outputs": [
    {
     "data": {
      "text/plain": [
       "ada      23516444.51\n",
       "forest   23805099.57\n",
       "knn      28496019.61\n",
       "tree     28980165.08\n",
       "lasso    30084759.66\n",
       "svm      33760075.78\n",
       "dtype: float64"
      ]
     },
     "execution_count": 638,
     "metadata": {},
     "output_type": "execute_result"
    }
   ],
   "source": [
    "pd.Series(test_errors).sort_values()"
   ]
  },
  {
   "cell_type": "code",
   "execution_count": 639,
   "metadata": {},
   "outputs": [],
   "source": [
    "df = train[['id', 'dataset', 'budget', 'runtime', 'year_bins', 'missing_budget',\n",
    "                'has_tagline', 'has_production', 'actor_popularity_log',\n",
    "               'is_english', 'has_collection', 'comp_size',\n",
    "                'tagline_len', 'popularity', \n",
    "            \n",
    "               'Fantasy', 'Animation', 'Thriller', 'Mystery',\n",
    "               'Comedy', 'Action', 'Foreign', 'History', 'Family', 'Horror',\n",
    "               'TV Movie', 'War', 'Western', 'Romance', 'Music', 'Science Fiction',\n",
    "               'Documentary', 'Crime', 'Drama', 'Adventure']]\n",
    "\n"
   ]
  },
  {
   "cell_type": "code",
   "execution_count": 640,
   "metadata": {},
   "outputs": [],
   "source": [
    "with_budget = df[~df['missing_budget']]\n",
    "no_budget = df[df['missing_budget']]"
   ]
  },
  {
   "cell_type": "code",
   "execution_count": 641,
   "metadata": {},
   "outputs": [
    {
     "name": "stderr",
     "output_type": "stream",
     "text": [
      "/usr/local/lib/python3.6/dist-packages/sklearn/utils/validation.py:590: DataConversionWarning: Data with input dtype object was converted to float64 by StandardScaler.\n",
      "  warnings.warn(msg, DataConversionWarning)\n",
      "/usr/local/lib/python3.6/dist-packages/sklearn/utils/validation.py:590: DataConversionWarning: Data with input dtype object was converted to float64 by StandardScaler.\n",
      "  warnings.warn(msg, DataConversionWarning)\n"
     ]
    }
   ],
   "source": [
    "dataset = no_budget.dataset\n",
    "ids = no_budget['id']\n",
    "\n",
    "no_budget.drop(['dataset', 'id', 'budget'], axis=1, inplace=True)\n",
    "\n",
    "sc_X = StandardScaler()\n",
    "X_test = sc_X.fit_transform(np.array(no_budget))\n",
    "preds = best_ada.predict(X_test)\n"
   ]
  },
  {
   "cell_type": "code",
   "execution_count": 642,
   "metadata": {},
   "outputs": [],
   "source": [
    "no_budget['budget'] = list(preds)\n",
    "no_budget['id'] = list(ids)\n",
    "no_budget['dataset'] = list(dataset)"
   ]
  },
  {
   "cell_type": "code",
   "execution_count": 647,
   "metadata": {},
   "outputs": [
    {
     "data": {
      "text/plain": [
       "0"
      ]
     },
     "execution_count": 647,
     "metadata": {},
     "output_type": "execute_result"
    }
   ],
   "source": [
    "sum(with_budget.append(no_budget)['budget'] == 0)"
   ]
  },
  {
   "cell_type": "code",
   "execution_count": 648,
   "metadata": {},
   "outputs": [
    {
     "name": "stderr",
     "output_type": "stream",
     "text": [
      "/usr/local/lib/python3.6/dist-packages/pandas/core/frame.py:6211: FutureWarning: Sorting because non-concatenation axis is not aligned. A future version\n",
      "of pandas will change to not sort by default.\n",
      "\n",
      "To accept the future behavior, pass 'sort=False'.\n",
      "\n",
      "To retain the current behavior and silence the warning, pass 'sort=True'.\n",
      "\n",
      "  sort=sort)\n"
     ]
    }
   ],
   "source": [
    "train_ = with_budget.append(no_budget)"
   ]
  },
  {
   "cell_type": "markdown",
   "metadata": {},
   "source": [
    "# Predicting revenue (at last!)"
   ]
  },
  {
   "cell_type": "markdown",
   "metadata": {},
   "source": [
    "Now have a new feature - budget, that's filled in for all the rows. If I was lazy, to predict the revenue, I would just use the best model from the previous task (budget), however, this would be a mistake. Now we have a new feature, that's in extreme linear relationship to revenue. So now actually the linear models might perform better than before."
   ]
  },
  {
   "cell_type": "code",
   "execution_count": null,
   "metadata": {},
   "outputs": [],
   "source": []
  }
 ],
 "metadata": {
  "kernelspec": {
   "display_name": "Python 3",
   "language": "python",
   "name": "python3"
  },
  "language_info": {
   "codemirror_mode": {
    "name": "ipython",
    "version": 3
   },
   "file_extension": ".py",
   "mimetype": "text/x-python",
   "name": "python",
   "nbconvert_exporter": "python",
   "pygments_lexer": "ipython3",
   "version": "3.6.9"
  }
 },
 "nbformat": 4,
 "nbformat_minor": 4
}
