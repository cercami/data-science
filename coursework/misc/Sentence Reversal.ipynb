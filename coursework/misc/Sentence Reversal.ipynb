{
 "cells": [
  {
   "cell_type": "markdown",
   "metadata": {},
   "source": [
    "# Sentence Reversal\n",
    "\n",
    "## Problem\n",
    "\n",
    "Given a string of words, reverse all the words. For example:\n",
    "\n",
    "Given:\n",
    "    \n",
    "    'This is the best'\n",
    "\n",
    "Return:\n",
    "\n",
    "    'best the is This'\n",
    "\n",
    "As part of this exercise you should remove all leading and trailing whitespace. So that inputs such as:\n",
    "\n",
    "    '  space here'  and 'space here      '\n",
    "\n",
    "both become:\n",
    "\n",
    "    'here space'\n",
    "\n",
    "## Solution\n",
    "\n",
    "Fill out your solution below:"
   ]
  },
  {
   "cell_type": "code",
   "execution_count": 42,
   "metadata": {},
   "outputs": [
    {
     "data": {
      "text/plain": [
       "['Hi', 'John,', 'are', 'you', 'ready', 'to', 'go?']"
      ]
     },
     "execution_count": 42,
     "metadata": {},
     "output_type": "execute_result"
    }
   ],
   "source": [
    "parts"
   ]
  },
  {
   "cell_type": "code",
   "execution_count": 43,
   "metadata": {},
   "outputs": [
    {
     "data": {
      "text/plain": [
       "['go?', 'to', 'ready', 'you', 'are', 'John,', 'Hi']"
      ]
     },
     "execution_count": 43,
     "metadata": {},
     "output_type": "execute_result"
    }
   ],
   "source": [
    "parts[::-1]"
   ]
  },
  {
   "cell_type": "code",
   "execution_count": null,
   "metadata": {},
   "outputs": [],
   "source": []
  },
  {
   "cell_type": "code",
   "execution_count": 39,
   "metadata": {},
   "outputs": [],
   "source": [
    "# EASY WAY\n",
    "\n",
    "def rev_word(s):\n",
    "    \n",
    "    s = s.strip()\n",
    "    parts = s.split()\n",
    "    \n",
    "    new = []\n",
    "    for i in range(len(parts)):\n",
    "        new.append(parts[-(i+1)])\n",
    "    return \" \".join(new)"
   ]
  },
  {
   "cell_type": "code",
   "execution_count": 28,
   "metadata": {},
   "outputs": [],
   "source": [
    "# HARD WAY\n",
    "\n",
    "ex = '   Hello John        how are you   '\n",
    "\n",
    "def stripp(s):\n",
    "    s = s.replace(\"  \", \" \")\n",
    "    if s[0] == ' ':\n",
    "        s = s[1:]\n",
    "    \n",
    "    if s[-1] == ' ':\n",
    "        s = s[: len(s) -1]\n",
    "        \n",
    "    if \"  \" in s:\n",
    "        return stripp(s)\n",
    "    else:\n",
    "        return s\n",
    "        \n",
    "        \n",
    "def rev_word(s):\n",
    "    s = stripp(s)\n",
    "    \n",
    "    \n",
    "    # Cut the sentence into words\n",
    "    words = []\n",
    "    space_index = []\n",
    "    for i in range(len(s)):\n",
    "        if s[i] == ' ':\n",
    "            space_index.append(i)\n",
    "\n",
    "    for i in range(len(space_index) ):\n",
    "        if i == 0:\n",
    "            words.append(s[:space_index[0]])\n",
    "            words.append(s[ space_index[0] +1  : space_index[1]] )\n",
    "\n",
    "        elif i == len(space_index) - 1:\n",
    "            words.append(s[space_index[i ] +1:])\n",
    "\n",
    "        else:\n",
    "            start_space = space_index[i] +1\n",
    "            end_space = space_index[i + 1]\n",
    "            words.append(s[start_space : end_space])\n",
    "            \n",
    "    rev = []\n",
    "    for i in range(len(words)):\n",
    "        rev.append(words[-(i +1)])\n",
    "        \n",
    "    rev = \" \".join(rev)\n",
    "        \n",
    "    return rev\n",
    "    "
   ]
  },
  {
   "cell_type": "code",
   "execution_count": 29,
   "metadata": {
    "collapsed": false,
    "jupyter": {
     "outputs_hidden": false
    }
   },
   "outputs": [
    {
     "data": {
      "text/plain": [
       "'you are how John Hello'"
      ]
     },
     "execution_count": 29,
     "metadata": {},
     "output_type": "execute_result"
    }
   ],
   "source": [
    "rev_word('   Hello John    how are you   ')"
   ]
  },
  {
   "cell_type": "code",
   "execution_count": 30,
   "metadata": {
    "collapsed": false,
    "jupyter": {
     "outputs_hidden": false
    }
   },
   "outputs": [
    {
     "data": {
      "text/plain": [
       "'before space '"
      ]
     },
     "execution_count": 30,
     "metadata": {},
     "output_type": "execute_result"
    }
   ],
   "source": [
    "rev_word('    space before')"
   ]
  },
  {
   "cell_type": "markdown",
   "metadata": {},
   "source": [
    "_____"
   ]
  },
  {
   "cell_type": "markdown",
   "metadata": {},
   "source": [
    "# Test Your Solution"
   ]
  },
  {
   "cell_type": "code",
   "execution_count": 41,
   "metadata": {
    "collapsed": false,
    "jupyter": {
     "outputs_hidden": false
    }
   },
   "outputs": [
    {
     "name": "stdout",
     "output_type": "stream",
     "text": [
      "ALL TEST CASES PASSED\n"
     ]
    }
   ],
   "source": [
    "\"\"\"\n",
    "RUN THIS CELL TO TEST YOUR SOLUTION\n",
    "\"\"\"\n",
    "\n",
    "from nose.tools import assert_equal\n",
    "\n",
    "class ReversalTest(object):\n",
    "    \n",
    "    def test(self,sol):\n",
    "        assert_equal(sol('    space before'),'before space')\n",
    "        assert_equal(sol('space after     '),'after space')\n",
    "        assert_equal(sol('   Hello John    how are you   '),'you are how John Hello')\n",
    "        assert_equal(sol('1'),'1')\n",
    "        print(\"ALL TEST CASES PASSED\")\n",
    "        \n",
    "# Run and test\n",
    "t = ReversalTest()\n",
    "t.test(rev_word)"
   ]
  },
  {
   "cell_type": "markdown",
   "metadata": {},
   "source": [
    "## Good Job!"
   ]
  }
 ],
 "metadata": {
  "kernelspec": {
   "display_name": "Python 3",
   "language": "python",
   "name": "python3"
  },
  "language_info": {
   "codemirror_mode": {
    "name": "ipython",
    "version": 3
   },
   "file_extension": ".py",
   "mimetype": "text/x-python",
   "name": "python",
   "nbconvert_exporter": "python",
   "pygments_lexer": "ipython3",
   "version": "3.6.9"
  }
 },
 "nbformat": 4,
 "nbformat_minor": 4
}
