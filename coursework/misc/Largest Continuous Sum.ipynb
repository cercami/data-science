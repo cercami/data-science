{
 "cells": [
  {
   "cell_type": "markdown",
   "metadata": {},
   "source": [
    "# Largest Continuous Sum\n",
    "\n",
    "## Problem\n",
    "Given an array of integers (positive and negative) find the largest continuous sum. \n",
    "\n",
    "## Solution\n",
    "\n",
    "Fill out your solution below:"
   ]
  },
  {
   "cell_type": "code",
   "execution_count": 28,
   "metadata": {},
   "outputs": [],
   "source": [
    "def large_cont_sum(arr):\n",
    "    \n",
    "    if all([x > 0 for x in arr]):\n",
    "        return sum(arr)\n",
    "    \n",
    "    highest = 0\n",
    "    \n",
    "    # take first two, first three, first four ....\n",
    "    # take last one, last two, last three, last four ...\n",
    "    \n",
    "    #THIS SOLUTION IS WRONG, \n",
    "    # as it only takes first n and last n elements into consideration\n",
    "    # What if the largest sum is [-2, -3, <<<4, -1, -2, 1, 5,>>> -3]   ???\n",
    "    \n",
    "    for i in range(len(arr)):\n",
    "        suma_front = sum(arr[: i+1])\n",
    "        suma_back = sum(arr[(i+1) * -1:])\n",
    "        if max(suma_front, suma_back) > highest:\n",
    "            highest = max(suma_front, suma_back, )\n",
    "    \n",
    "    return highest"
   ]
  },
  {
   "cell_type": "code",
   "execution_count": null,
   "metadata": {},
   "outputs": [],
   "source": []
  },
  {
   "cell_type": "markdown",
   "metadata": {},
   "source": [
    "You can think of this problem geometrically, trying to cut different slices of the array, and check their sum. This means cutting a very large number of subsets."
   ]
  },
  {
   "cell_type": "markdown",
   "metadata": {},
   "source": [
    "But you can also think of it in a continous way. You walk from start, and add the next element. If the sum of a + b is higher than c, you go on. If not, you stop summing up, and your current sum is only element c."
   ]
  },
  {
   "cell_type": "code",
   "execution_count": 10,
   "metadata": {},
   "outputs": [
    {
     "data": {
      "text/plain": [
       "6"
      ]
     },
     "execution_count": 10,
     "metadata": {},
     "output_type": "execute_result"
    }
   ],
   "source": [
    "# if adding the next element to the total sum results in a sum \n",
    "# thats lower than the next element itself,\n",
    "# abort addition, and start over, starting summing up from that next element onwards.\n",
    "\n",
    "# the thing is, when we hit -5, we cant just stop adding, because the number after -5\n",
    "# could be 100. so we never know when to stop. we are only sure we can stop, if\n",
    "# the sum of current and next element is lower than the next element itself.\n",
    "# this is why we need a list of sums and then take its max val.\n",
    "\n",
    "def cont_sum(array):\n",
    "    \n",
    "    sums = []\n",
    "    curr_sum = array[0]\n",
    "    \n",
    "    for idx, num in enumerate(array):\n",
    "\n",
    "        if (curr_sum + array[idx + 1]) > array[idx + 1]:\n",
    "            curr_sum += array[idx + 1]\n",
    "            sums.append(curr_sum)\n",
    "        else:\n",
    "\n",
    "            curr_sum = array[idx +1]\n",
    "\n",
    "        if idx == len(array) -2:\n",
    "            return max(sums)\n",
    "    \n",
    "    \n",
    "cont_sum([-2,1,-3,4,-1,2,1,-5,4])"
   ]
  },
  {
   "cell_type": "markdown",
   "metadata": {},
   "source": [
    "____\n",
    "Many times in an interview setting the question also requires you to report back the start and end points of the sum. Keep this in mind and see if you can solve that problem, we'll see it in the mock interview section of the course!"
   ]
  },
  {
   "cell_type": "markdown",
   "metadata": {},
   "source": [
    "# Test Your Solution"
   ]
  },
  {
   "cell_type": "code",
   "execution_count": 25,
   "metadata": {
    "collapsed": false,
    "jupyter": {
     "outputs_hidden": false
    }
   },
   "outputs": [
    {
     "name": "stdout",
     "output_type": "stream",
     "text": [
      "ALL TEST CASES PASSED\n"
     ]
    }
   ],
   "source": [
    "from nose.tools import assert_equal\n",
    "\n",
    "class LargeContTest(object):\n",
    "    def test(self,sol):\n",
    "        assert_equal(sol([1,2,-1,3,4,-1]),9)\n",
    "        assert_equal(sol([1,2,-1,3,4,10,10,-10,-1]),29)\n",
    "        assert_equal(sol([-1,1]),1)\n",
    "        print('ALL TEST CASES PASSED')\n",
    "        \n",
    "#Run Test\n",
    "t = LargeContTest()\n",
    "t.test(large_cont_sum)"
   ]
  },
  {
   "cell_type": "markdown",
   "metadata": {},
   "source": [
    "## Good Job!"
   ]
  },
  {
   "cell_type": "code",
   "execution_count": null,
   "metadata": {},
   "outputs": [],
   "source": []
  },
  {
   "cell_type": "code",
   "execution_count": null,
   "metadata": {},
   "outputs": [],
   "source": []
  },
  {
   "cell_type": "markdown",
   "metadata": {},
   "source": [
    "# Largest sum of array ( not necessarily continous )"
   ]
  },
  {
   "cell_type": "code",
   "execution_count": null,
   "metadata": {},
   "outputs": [],
   "source": [
    "arr = [1,2,-1,3,4,-1]\n",
    "\n",
    "\n"
   ]
  }
 ],
 "metadata": {
  "kernelspec": {
   "display_name": "Python 3",
   "language": "python",
   "name": "python3"
  },
  "language_info": {
   "codemirror_mode": {
    "name": "ipython",
    "version": 3
   },
   "file_extension": ".py",
   "mimetype": "text/x-python",
   "name": "python",
   "nbconvert_exporter": "python",
   "pygments_lexer": "ipython3",
   "version": "3.6.9"
  }
 },
 "nbformat": 4,
 "nbformat_minor": 4
}
