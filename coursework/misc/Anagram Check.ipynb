{
 "cells": [
  {
   "cell_type": "markdown",
   "metadata": {},
   "source": [
    "# Anagram Check\n",
    "\n",
    "## Problem\n",
    "\n",
    "Given two strings, check to see if they are anagrams. An anagram is when the two strings can be written using the exact same letters (so you can just rearrange the letters to get a different phrase or word). \n",
    "\n",
    "For example:\n",
    "\n",
    "    \"public relations\" is an anagram of \"crap built on lies.\"\n",
    "    \n",
    "    \"clint eastwood\" is an anagram of \"old west action\"\n",
    "    \n",
    "**Note: Ignore spaces and capitalization. So \"d go\" is an anagram of \"God\" and \"dog\" and \"o d g\".**\n",
    "\n",
    "## Solution\n",
    "\n",
    "Fill out your solution below:"
   ]
  },
  {
   "cell_type": "code",
   "execution_count": 20,
   "metadata": {
    "collapsed": false,
    "jupyter": {
     "outputs_hidden": false
    }
   },
   "outputs": [],
   "source": [
    "# FIRST TRY\n",
    "\n",
    "def anagram(s1,s2):\n",
    "    \n",
    "    s1 = s1.replace(\" \", \"\")\n",
    "    s2 = s2.replace(\" \", \"\")\n",
    "    \n",
    "    # If any letter is missing in one array, for sure False\n",
    "    \n",
    "    for letter in s1:\n",
    "        if letter not in s2:\n",
    "            return False\n",
    "    \n",
    "    for letter in s2:\n",
    "        if letter not in s1:\n",
    "            return False\n",
    "        \n",
    "    # If both arrays include the same letters, but in different quantities\n",
    "        \n",
    "\n",
    "    \n",
    "    for letter in set(s1 + s2):\n",
    "        s1_count = 0\n",
    "        s2_count = 0\n",
    "    \n",
    "        for sub_let in s1:\n",
    "            if letter == sub_let:\n",
    "                s1_count += 1\n",
    "        \n",
    "        for sub_let in s2:\n",
    "            if letter == sub_let:\n",
    "                s2_count += 1\n",
    "                \n",
    "        if s1_count != s2_count:\n",
    "            return False\n",
    "        \n",
    "    return True"
   ]
  },
  {
   "cell_type": "code",
   "execution_count": 56,
   "metadata": {},
   "outputs": [],
   "source": [
    "# SECOND\n",
    "\n",
    "def anagram(s1,s2):\n",
    "    \n",
    "    s1 = s1.replace(\" \", \"\")\n",
    "    s2 = s2.replace(\" \", \"\")\n",
    "    \n",
    "    # If any letter is missing in one array, for sure False\n",
    "    \n",
    "    if (set(s1) - set(s2)) or ( set(s2) - set(s1)):\n",
    "        return False\n",
    "        \n",
    "    # If both arrays include the same letters, but in different quantities\n",
    "    \n",
    "    for letter in s1:\n",
    "            if letter in count:\n",
    "                count[letter] += 1\n",
    "            else:\n",
    "                count[letter] = 1\n",
    "\n",
    "    # Fill dictionary for second string (subtract counts)\n",
    "    for letter in s2:\n",
    "        if letter in count:\n",
    "            count[letter] -= 1\n",
    "        else:\n",
    "            count[letter] = 1\n",
    "\n",
    "    # Check that all counts are 0\n",
    "    for k in count:\n",
    "        if count[k] != 0:\n",
    "            return False\n",
    "\n",
    "    # Otherwise they're anagrams\n",
    "    return True"
   ]
  },
  {
   "cell_type": "code",
   "execution_count": 7,
   "metadata": {},
   "outputs": [],
   "source": [
    "def anagram(s1,s2):\n",
    "    \n",
    "    s1 = s1.replace(\" \", \"\")\n",
    "    s2 = s2.replace(\" \", \"\")\n",
    "    \n",
    "    s1 = sorted(s1)\n",
    "    s2 = sorted(s2)\n",
    "    \n",
    "    return s1 == s2"
   ]
  },
  {
   "cell_type": "code",
   "execution_count": 8,
   "metadata": {
    "collapsed": false,
    "jupyter": {
     "outputs_hidden": false
    }
   },
   "outputs": [
    {
     "data": {
      "text/plain": [
       "True"
      ]
     },
     "execution_count": 8,
     "metadata": {},
     "output_type": "execute_result"
    }
   ],
   "source": [
    "anagram('clint eastwood','old west action')"
   ]
  },
  {
   "cell_type": "code",
   "execution_count": 9,
   "metadata": {
    "collapsed": false,
    "jupyter": {
     "outputs_hidden": false
    }
   },
   "outputs": [
    {
     "data": {
      "text/plain": [
       "False"
      ]
     },
     "execution_count": 9,
     "metadata": {},
     "output_type": "execute_result"
    }
   ],
   "source": [
    "anagram('aa','bb')"
   ]
  },
  {
   "cell_type": "code",
   "execution_count": 10,
   "metadata": {},
   "outputs": [
    {
     "data": {
      "text/plain": [
       "False"
      ]
     },
     "execution_count": 10,
     "metadata": {},
     "output_type": "execute_result"
    }
   ],
   "source": [
    "anagram('aab', 'bba')"
   ]
  },
  {
   "cell_type": "markdown",
   "metadata": {},
   "source": [
    "# Test Your Solution\n",
    "Run the cell below to test your solution"
   ]
  },
  {
   "cell_type": "code",
   "execution_count": 36,
   "metadata": {
    "collapsed": false,
    "jupyter": {
     "outputs_hidden": false
    }
   },
   "outputs": [
    {
     "name": "stdout",
     "output_type": "stream",
     "text": [
      "ALL TEST CASES PASSED\n"
     ]
    }
   ],
   "source": [
    "\"\"\"\n",
    "RUN THIS CELL TO TEST YOUR SOLUTION\n",
    "\"\"\"\n",
    "from nose.tools import assert_equal\n",
    "\n",
    "class AnagramTest(object):\n",
    "    \n",
    "    def test(self,sol):\n",
    "        assert_equal(sol('go go go','gggooo'),True)\n",
    "        assert_equal(sol('abc','cba'),True)\n",
    "        assert_equal(sol('hi man','hi     man'),True)\n",
    "        assert_equal(sol('aabbcc','aabbc'),False)\n",
    "        assert_equal(sol('123','1 2'),False)\n",
    "        print(\"ALL TEST CASES PASSED\")\n",
    "\n",
    "# Run Tests\n",
    "t = AnagramTest()\n",
    "t.test(anagram)"
   ]
  },
  {
   "cell_type": "code",
   "execution_count": null,
   "metadata": {},
   "outputs": [],
   "source": []
  },
  {
   "cell_type": "code",
   "execution_count": null,
   "metadata": {},
   "outputs": [],
   "source": [
    "def anagram(s1, s2):\n",
    "    s1 = s1.replace(\" \", \"\")\n",
    "    s2 = s2.replace(\" \", \"\")\n",
    "    \n",
    "    set_diffs = [ len( set(s1) - set(s2)),\n",
    "                len( set(s2) - set(s1))]\n",
    "    \n",
    "    return 1 not in set_diffs"
   ]
  },
  {
   "cell_type": "code",
   "execution_count": 1,
   "metadata": {},
   "outputs": [],
   "source": [
    "from collections import defaultdict"
   ]
  },
  {
   "cell_type": "code",
   "execution_count": 5,
   "metadata": {},
   "outputs": [],
   "source": [
    "def anagram(s1, s2):\n",
    "\n",
    "    \n",
    "    counter1 = defaultdict(int)\n",
    "    counter2 = defaultdict(int)\n",
    "    s1 = s1.replace(\" \", \"\")\n",
    "    s2 = s2.replace(\" \", \"\")\n",
    "    \n",
    "    for char in s1:\n",
    "        counter1[char] += 1\n",
    "        \n",
    "    for char in s2:\n",
    "        counter2[char] += 1\n",
    "        \n",
    "    return counter1 == counter2"
   ]
  },
  {
   "cell_type": "code",
   "execution_count": null,
   "metadata": {},
   "outputs": [],
   "source": [
    "def anagram(s1, s2):\n",
    "    return sorted(s1) == sorted(s2)"
   ]
  },
  {
   "cell_type": "code",
   "execution_count": 7,
   "metadata": {},
   "outputs": [
    {
     "data": {
      "text/plain": [
       "True"
      ]
     },
     "execution_count": 7,
     "metadata": {},
     "output_type": "execute_result"
    }
   ],
   "source": [
    "anagram('bbaac','aabbc')"
   ]
  },
  {
   "cell_type": "markdown",
   "metadata": {},
   "source": [
    "# Good Job!"
   ]
  }
 ],
 "metadata": {
  "kernelspec": {
   "display_name": "Python 3",
   "language": "python",
   "name": "python3"
  },
  "language_info": {
   "codemirror_mode": {
    "name": "ipython",
    "version": 3
   },
   "file_extension": ".py",
   "mimetype": "text/x-python",
   "name": "python",
   "nbconvert_exporter": "python",
   "pygments_lexer": "ipython3",
   "version": "3.6.9"
  }
 },
 "nbformat": 4,
 "nbformat_minor": 4
}
