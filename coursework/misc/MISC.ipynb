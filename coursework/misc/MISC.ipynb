{
 "cells": [
  {
   "cell_type": "markdown",
   "metadata": {},
   "source": [
    "# Reverse a string"
   ]
  },
  {
   "cell_type": "code",
   "execution_count": 18,
   "metadata": {},
   "outputs": [],
   "source": [
    "s = \"emil\""
   ]
  },
  {
   "cell_type": "code",
   "execution_count": 21,
   "metadata": {},
   "outputs": [
    {
     "data": {
      "text/plain": [
       "'lime'"
      ]
     },
     "execution_count": 21,
     "metadata": {},
     "output_type": "execute_result"
    }
   ],
   "source": [
    "# FIRST WAY \n",
    "rev = []\n",
    "for i in range(len(s)):\n",
    "    rev.append(s[- (i +1) ])\n",
    "\"\".join(rev)"
   ]
  },
  {
   "cell_type": "code",
   "execution_count": 15,
   "metadata": {},
   "outputs": [
    {
     "data": {
      "text/plain": [
       "'lime'"
      ]
     },
     "execution_count": 15,
     "metadata": {},
     "output_type": "execute_result"
    }
   ],
   "source": [
    "s[::-1]"
   ]
  },
  {
   "cell_type": "code",
   "execution_count": 22,
   "metadata": {},
   "outputs": [],
   "source": [
    "# SECOND WAY\n",
    "\n",
    "new = \"\"\n",
    "\n",
    "for char in s:\n",
    "    new = char + new"
   ]
  },
  {
   "cell_type": "markdown",
   "metadata": {},
   "source": [
    "# First recurring character"
   ]
  },
  {
   "cell_type": "code",
   "execution_count": 2,
   "metadata": {},
   "outputs": [],
   "source": [
    "def first_rec(s):\n",
    "    seen = []\n",
    "    \n",
    "    for char in s:\n",
    "        if char not in seen:\n",
    "            seen.append(char)\n",
    "        else:\n",
    "            return char\n",
    "            "
   ]
  },
  {
   "cell_type": "code",
   "execution_count": 6,
   "metadata": {},
   "outputs": [
    {
     "data": {
      "text/plain": [
       "'a'"
      ]
     },
     "execution_count": 6,
     "metadata": {},
     "output_type": "execute_result"
    }
   ],
   "source": [
    "first_rec(\"abca\")"
   ]
  },
  {
   "cell_type": "code",
   "execution_count": 7,
   "metadata": {},
   "outputs": [
    {
     "data": {
      "text/plain": [
       "'b'"
      ]
     },
     "execution_count": 7,
     "metadata": {},
     "output_type": "execute_result"
    }
   ],
   "source": [
    "first_rec(\"bcaba\")"
   ]
  },
  {
   "cell_type": "code",
   "execution_count": 8,
   "metadata": {},
   "outputs": [],
   "source": [
    "def first_rec(s):\n",
    "    for i in range(len(s)):\n",
    "        current = s[i]\n",
    "        for n in range(len(s)):\n",
    "            if current == s[n+i]:\n",
    "                return current"
   ]
  },
  {
   "cell_type": "markdown",
   "metadata": {},
   "source": [
    "# Reverse all words in a string"
   ]
  },
  {
   "cell_type": "code",
   "execution_count": 2,
   "metadata": {},
   "outputs": [],
   "source": [
    "# 'This is the best' >>> 'best the is This'"
   ]
  },
  {
   "cell_type": "code",
   "execution_count": 20,
   "metadata": {},
   "outputs": [
    {
     "name": "stdout",
     "output_type": "stream",
     "text": [
      "best the is This \n"
     ]
    }
   ],
   "source": [
    "s = 'This is the best'\n",
    "\n",
    "new = \"\"\n",
    "for word in s.split():\n",
    "    new = word + \" \" + new\n",
    "\n",
    "print(new)"
   ]
  },
  {
   "cell_type": "code",
   "execution_count": null,
   "metadata": {},
   "outputs": [],
   "source": [
    "# SECOND WAY, no python built ins"
   ]
  },
  {
   "cell_type": "code",
   "execution_count": 18,
   "metadata": {},
   "outputs": [],
   "source": [
    "words = []\n",
    "word = \"\"\n",
    "for idx, char in enumerate(s):\n",
    "    if char != \" \":\n",
    "        word = word + char\n",
    "        if idx == len(s) - 1:\n",
    "            words.append(word)\n",
    "\n",
    "    elif char == \" \":\n",
    "        words.append(word)\n",
    "        word = \"\"\n",
    "    "
   ]
  },
  {
   "cell_type": "code",
   "execution_count": 19,
   "metadata": {},
   "outputs": [
    {
     "data": {
      "text/plain": [
       "['This', 'is', 'the', 'best']"
      ]
     },
     "execution_count": 19,
     "metadata": {},
     "output_type": "execute_result"
    }
   ],
   "source": [
    "words"
   ]
  },
  {
   "cell_type": "code",
   "execution_count": 23,
   "metadata": {},
   "outputs": [],
   "source": [
    "new_str = \"\"\n",
    "for word in words:\n",
    "    new_str = word + \" \" + new_str\n",
    "    "
   ]
  },
  {
   "cell_type": "code",
   "execution_count": 24,
   "metadata": {},
   "outputs": [
    {
     "data": {
      "text/plain": [
       "'best the is This '"
      ]
     },
     "execution_count": 24,
     "metadata": {},
     "output_type": "execute_result"
    }
   ],
   "source": [
    "new_str"
   ]
  },
  {
   "cell_type": "markdown",
   "metadata": {},
   "source": [
    "# Array rotation"
   ]
  },
  {
   "cell_type": "markdown",
   "metadata": {},
   "source": [
    "Write a function rotate(ar[], d, n) that rotates arr[] of size n by d elements."
   ]
  },
  {
   "cell_type": "code",
   "execution_count": 25,
   "metadata": {},
   "outputs": [],
   "source": [
    "# [1, 2, 3, 4, 5, 6, 7]\n",
    "# rotated by 2, becomes:\n",
    "# [3, 4, 5, 6, 7, 1, 2]"
   ]
  },
  {
   "cell_type": "code",
   "execution_count": 51,
   "metadata": {},
   "outputs": [],
   "source": [
    "# Using slicing:"
   ]
  },
  {
   "cell_type": "code",
   "execution_count": 54,
   "metadata": {},
   "outputs": [
    {
     "data": {
      "text/plain": [
       "[3, 4, 5, 6, 7, 1, 2]"
      ]
     },
     "execution_count": 54,
     "metadata": {},
     "output_type": "execute_result"
    }
   ],
   "source": [
    "\n",
    "def rotate(arr, d):\n",
    "    return arr[d:] + arr[:d]\n",
    "\n",
    "rotate([1, 2, 3, 4, 5, 6, 7], 2)\n"
   ]
  },
  {
   "cell_type": "code",
   "execution_count": 61,
   "metadata": {},
   "outputs": [],
   "source": [
    "# BRUTE FORCE\n",
    "# Check if two arrays are rotations of one another:\n",
    "\n",
    "arr1 = [1, 2, 3, 4, 5, 6, 7]\n",
    "arr2 = [3, 4, 5, 6, 7, 1, 2]\n",
    "\n",
    "#arr2 = [ 2, 3, 4, 5, 6, 7, 1]\n",
    "\n",
    "def check_if_rotated(arr1, arr2):\n",
    "    for i in range(len(arr1)- 1):\n",
    "        new = rotate(arr1, i + 1)\n",
    "        if arr2 == new:\n",
    "            return True\n",
    "    return False"
   ]
  },
  {
   "cell_type": "code",
   "execution_count": 62,
   "metadata": {},
   "outputs": [
    {
     "data": {
      "text/plain": [
       "True"
      ]
     },
     "execution_count": 62,
     "metadata": {},
     "output_type": "execute_result"
    }
   ],
   "source": [
    "check_if_rotated(arr1, arr2)"
   ]
  },
  {
   "cell_type": "code",
   "execution_count": 71,
   "metadata": {},
   "outputs": [],
   "source": [
    "# SMARTER WAY\n",
    "# Find the index of the first element in arr1 in arr2.\n",
    "# Based on that calculate the shift\n",
    "\n",
    "arr1 = [1, 2, 3, 4, 5, 6, 7]\n",
    "arr2 = [3, 4, 5, 6, 7, 1, 2]\n",
    "\n",
    "def check_if_rotated(arr1, arr2):\n",
    "    \n",
    "    shift = len(arr2) - arr2.index(arr1[0])\n",
    "    new = rotate(arr1, shift)\n",
    "    return arr2 == new"
   ]
  },
  {
   "cell_type": "code",
   "execution_count": 72,
   "metadata": {},
   "outputs": [
    {
     "data": {
      "text/plain": [
       "True"
      ]
     },
     "execution_count": 72,
     "metadata": {},
     "output_type": "execute_result"
    }
   ],
   "source": [
    "check_if_rotated(arr1, arr2)"
   ]
  },
  {
   "cell_type": "markdown",
   "metadata": {},
   "source": [
    "# Common elements of two sorted arrays"
   ]
  },
  {
   "cell_type": "code",
   "execution_count": 91,
   "metadata": {},
   "outputs": [],
   "source": [
    "arr1= [1, 3, 4, 6, 7, 9]\n",
    "arr2= [1, 2, 4, 5, 8, 9]\n",
    "\n",
    "# [1, 4, 9]"
   ]
  },
  {
   "cell_type": "code",
   "execution_count": 92,
   "metadata": {},
   "outputs": [],
   "source": [
    "def brute_force(arr1, arr2):\n",
    "    common = []\n",
    "    for val in arr1:\n",
    "        if val in arr2:\n",
    "            common.append(val)\n",
    "    return common"
   ]
  },
  {
   "cell_type": "code",
   "execution_count": 93,
   "metadata": {},
   "outputs": [
    {
     "data": {
      "text/plain": [
       "[1, 4, 9]"
      ]
     },
     "execution_count": 93,
     "metadata": {},
     "output_type": "execute_result"
    }
   ],
   "source": [
    "brute_force(arr1, arr2)"
   ]
  },
  {
   "cell_type": "markdown",
   "metadata": {},
   "source": [
    "I immediately think of this problem as operation on vectors. If we transform those two arrays, so that all the indexes align, we could multiply the two arrays and check which indexes are non 0. These are its common elements."
   ]
  },
  {
   "cell_type": "code",
   "execution_count": 81,
   "metadata": {},
   "outputs": [],
   "source": [
    "new_arr1 = []\n",
    "new_arr2 = []\n",
    "\n",
    "for i in range(max(arr1)+1):\n",
    "    if i in arr1:\n",
    "        new_arr1.append(1)\n",
    "    else:\n",
    "        new_arr1.append(0)\n",
    "        \n",
    "for i in range(max(arr2)+1):\n",
    "    if i in arr2:\n",
    "        new_arr2.append(1)\n",
    "    else:\n",
    "        new_arr2.append(0)"
   ]
  },
  {
   "cell_type": "code",
   "execution_count": 82,
   "metadata": {},
   "outputs": [
    {
     "data": {
      "text/plain": [
       "[0, 1, 0, 1, 1, 0, 1, 1, 0, 1]"
      ]
     },
     "execution_count": 82,
     "metadata": {},
     "output_type": "execute_result"
    }
   ],
   "source": [
    "new_arr1"
   ]
  },
  {
   "cell_type": "code",
   "execution_count": 83,
   "metadata": {},
   "outputs": [
    {
     "data": {
      "text/plain": [
       "[0, 1, 1, 0, 1, 1, 0, 0, 1, 1]"
      ]
     },
     "execution_count": 83,
     "metadata": {},
     "output_type": "execute_result"
    }
   ],
   "source": [
    "new_arr2"
   ]
  },
  {
   "cell_type": "code",
   "execution_count": 86,
   "metadata": {},
   "outputs": [],
   "source": [
    "import numpy as np\n",
    "res = np.array(new_arr1) * np.array(new_arr2)"
   ]
  },
  {
   "cell_type": "code",
   "execution_count": 90,
   "metadata": {},
   "outputs": [
    {
     "data": {
      "text/plain": [
       "array([0, 1, 0, 0, 1, 0, 0, 0, 0, 1])"
      ]
     },
     "execution_count": 90,
     "metadata": {},
     "output_type": "execute_result"
    }
   ],
   "source": [
    "res"
   ]
  },
  {
   "cell_type": "code",
   "execution_count": 88,
   "metadata": {},
   "outputs": [],
   "source": [
    "common = []\n",
    "for idx, val in enumerate(res):\n",
    "    if val == 1:\n",
    "        common.append(idx)"
   ]
  },
  {
   "cell_type": "code",
   "execution_count": 89,
   "metadata": {},
   "outputs": [
    {
     "data": {
      "text/plain": [
       "[1, 4, 9]"
      ]
     },
     "execution_count": 89,
     "metadata": {},
     "output_type": "execute_result"
    }
   ],
   "source": [
    "common"
   ]
  },
  {
   "cell_type": "markdown",
   "metadata": {},
   "source": [
    "# Character that never repeats"
   ]
  },
  {
   "cell_type": "code",
   "execution_count": 102,
   "metadata": {},
   "outputs": [],
   "source": [
    "# Dumb solution:\n",
    "# You can do it using dict counters for each letter and return letter\n",
    "# with value 1"
   ]
  },
  {
   "cell_type": "code",
   "execution_count": 94,
   "metadata": {},
   "outputs": [],
   "source": [
    "s = \"aabbccdee\""
   ]
  },
  {
   "cell_type": "code",
   "execution_count": 100,
   "metadata": {},
   "outputs": [],
   "source": [
    "chars = set()\n",
    "copy_s = s\n",
    "\n",
    "for char in s:\n",
    "    if char in chars:\n",
    "        copy_s = copy_s.replace(char, \"\")\n",
    "    else:\n",
    "        chars.add(char)"
   ]
  },
  {
   "cell_type": "code",
   "execution_count": 101,
   "metadata": {},
   "outputs": [
    {
     "data": {
      "text/plain": [
       "'d'"
      ]
     },
     "execution_count": 101,
     "metadata": {},
     "output_type": "execute_result"
    }
   ],
   "source": [
    "copy_s"
   ]
  },
  {
   "cell_type": "markdown",
   "metadata": {},
   "source": [
    "# Binary Search"
   ]
  },
  {
   "cell_type": "markdown",
   "metadata": {},
   "source": [
    "Binary search works on sorted lists, where it looks for the value cutting the array in half, and half etc."
   ]
  },
  {
   "cell_type": "code",
   "execution_count": 106,
   "metadata": {},
   "outputs": [],
   "source": [
    "# ITERATIVELY"
   ]
  },
  {
   "cell_type": "code",
   "execution_count": 135,
   "metadata": {},
   "outputs": [
    {
     "data": {
      "text/plain": [
       "False"
      ]
     },
     "execution_count": 135,
     "metadata": {},
     "output_type": "execute_result"
    }
   ],
   "source": [
    "lista = [1, 3, 4, 5, 6, 10, 16, 25, 26, 27, 25]\n",
    "\n",
    "target = 17\n",
    "\n",
    "def binary_iter(lista, target):\n",
    "\n",
    "    while len(lista) > 1:\n",
    "        middle = len(lista) // 2\n",
    "\n",
    "        if lista[middle] < target:\n",
    "            lista = lista[middle:]\n",
    "\n",
    "        elif lista[middle] > target:\n",
    "            lista = lista[:middle]\n",
    "\n",
    "        elif lista[middle] == target:\n",
    "            return True\n",
    "\n",
    "    return False\n",
    "        \n",
    "binary_iter(lista, target)"
   ]
  },
  {
   "cell_type": "code",
   "execution_count": 115,
   "metadata": {},
   "outputs": [],
   "source": [
    "# RECURSION"
   ]
  },
  {
   "cell_type": "code",
   "execution_count": 146,
   "metadata": {},
   "outputs": [],
   "source": [
    "lista = [1, 3, 4, 5, 6, 10, 16, 25, 26, 27, 25]\n",
    "\n",
    "target = 10"
   ]
  },
  {
   "cell_type": "code",
   "execution_count": 147,
   "metadata": {},
   "outputs": [],
   "source": [
    "def binary_rec(lista, target):\n",
    "    if len(lista) == 1 and lista[0] != target:\n",
    "        return False\n",
    "\n",
    "    elif lista[0] == target:\n",
    "        return True\n",
    "\n",
    "    else:\n",
    "        middle = len(lista) // 2\n",
    "        if lista[middle] > target:\n",
    "            lista = lista[:middle]\n",
    "        elif lista[middle] == target:\n",
    "            return True\n",
    "        \n",
    "        else:\n",
    "            lista = lista[middle:]\n",
    "\n",
    "    return binary_rec(lista, target)"
   ]
  },
  {
   "cell_type": "code",
   "execution_count": 148,
   "metadata": {},
   "outputs": [],
   "source": [
    "x = binary_rec(lista, target)"
   ]
  },
  {
   "cell_type": "code",
   "execution_count": 149,
   "metadata": {},
   "outputs": [
    {
     "data": {
      "text/plain": [
       "True"
      ]
     },
     "execution_count": 149,
     "metadata": {},
     "output_type": "execute_result"
    }
   ],
   "source": [
    "x"
   ]
  },
  {
   "cell_type": "markdown",
   "metadata": {},
   "source": [
    "# Bubble sort"
   ]
  },
  {
   "cell_type": "markdown",
   "metadata": {},
   "source": [
    "You look at your neighbor, and you switch places."
   ]
  },
  {
   "cell_type": "code",
   "execution_count": null,
   "metadata": {},
   "outputs": [],
   "source": [
    "arr = [1, 24, 12, 5, 2, 52, 66, 88]"
   ]
  },
  {
   "cell_type": "code",
   "execution_count": null,
   "metadata": {},
   "outputs": [],
   "source": [
    "def bubble_sort(arr):\n",
    "    unsorted = True\n",
    "    while unsorted:\n",
    "        changes = 0\n",
    "        for idx, num in enumerate(arr):\n",
    "\n",
    "            if idx == len(arr) - 2:\n",
    "                break\n",
    "\n",
    "            next = arr[idx+1]\n",
    "\n",
    "            if next < num:\n",
    "                arr[idx] = next\n",
    "                arr[idx + 1] = num\n",
    "                changes += 1\n",
    "        unsorted = changes\n",
    "    return arr"
   ]
  },
  {
   "cell_type": "markdown",
   "metadata": {},
   "source": [
    "# Select sort"
   ]
  },
  {
   "cell_type": "code",
   "execution_count": null,
   "metadata": {},
   "outputs": [],
   "source": [
    "def select_sort(arr):\n",
    "\n",
    "    for idx, current_val in enumerate(arr):\n",
    "        min_index = arr.index(min(arr[idx:]))\n",
    "        arr[idx] = arr[min_index]\n",
    "        arr[min_index] = current_val\n",
    "    return arr"
   ]
  },
  {
   "cell_type": "code",
   "execution_count": null,
   "metadata": {},
   "outputs": [],
   "source": []
  },
  {
   "cell_type": "code",
   "execution_count": 155,
   "metadata": {},
   "outputs": [
    {
     "data": {
      "text/plain": [
       "49"
      ]
     },
     "execution_count": 155,
     "metadata": {},
     "output_type": "execute_result"
    }
   ],
   "source": [
    "ord(\"1\")"
   ]
  },
  {
   "cell_type": "code",
   "execution_count": 159,
   "metadata": {},
   "outputs": [
    {
     "data": {
      "text/plain": [
       "35"
      ]
     },
     "execution_count": 159,
     "metadata": {},
     "output_type": "execute_result"
    }
   ],
   "source": [
    "ord(\"#\")"
   ]
  },
  {
   "cell_type": "code",
   "execution_count": 152,
   "metadata": {},
   "outputs": [
    {
     "data": {
      "text/plain": [
       "True"
      ]
     },
     "execution_count": 152,
     "metadata": {},
     "output_type": "execute_result"
    }
   ],
   "source": [
    "\"1\" < \"2\""
   ]
  },
  {
   "cell_type": "markdown",
   "metadata": {},
   "source": [
    "# Staircase"
   ]
  },
  {
   "cell_type": "code",
   "execution_count": 9,
   "metadata": {},
   "outputs": [],
   "source": [
    "def num_ways(n):\n",
    "    stair = list(range(n))"
   ]
  },
  {
   "cell_type": "code",
   "execution_count": 10,
   "metadata": {},
   "outputs": [],
   "source": [
    "stair = list(range(4))"
   ]
  },
  {
   "cell_type": "code",
   "execution_count": 11,
   "metadata": {},
   "outputs": [
    {
     "data": {
      "text/plain": [
       "[0, 1, 2, 3]"
      ]
     },
     "execution_count": 11,
     "metadata": {},
     "output_type": "execute_result"
    }
   ],
   "source": [
    "stair"
   ]
  },
  {
   "cell_type": "code",
   "execution_count": null,
   "metadata": {},
   "outputs": [],
   "source": [
    "[1, 2, 3, 4] # all 1 step\n",
    "[   2,    4] # all 2 step\n",
    "\n",
    "[1,    3, 4] # 1 - 2- 1\n",
    "[   2, 3, 4] # 2 - 1 - 1"
   ]
  }
 ],
 "metadata": {
  "kernelspec": {
   "display_name": "Python 3",
   "language": "python",
   "name": "python3"
  },
  "language_info": {
   "codemirror_mode": {
    "name": "ipython",
    "version": 3
   },
   "file_extension": ".py",
   "mimetype": "text/x-python",
   "name": "python",
   "nbconvert_exporter": "python",
   "pygments_lexer": "ipython3",
   "version": "3.6.9"
  }
 },
 "nbformat": 4,
 "nbformat_minor": 4
}
