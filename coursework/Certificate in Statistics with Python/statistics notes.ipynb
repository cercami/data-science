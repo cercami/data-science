{
 "cells": [
  {
   "cell_type": "markdown",
   "metadata": {},
   "source": [
    "### Data types\n",
    "1. **Quantitative**\n",
    "    - Continuous (can be expressed as float, e.g. height, weight, time)\n",
    "    - Discrete (can be expressed as integer, e.g. kids in household, number of wives)\n",
    "    \n",
    "2. **Categorical (Qualitative)**\n",
    "    - Ordinal (it's a ranking, e.g. high school grade, happiness scale 1-5)\n",
    "    - Nominal (not a ranking, e.g. 1 for males, 2 for females)"
   ]
  },
  {
   "cell_type": "markdown",
   "metadata": {},
   "source": [
    "### Quartiles\n",
    "1. **1st Quartile**<br>\n",
    "25% of the data falls below this number.\n",
    "2. **2nd Quartile (= median)**<br>\n",
    "50% of the data falls below this number.\n",
    "3. **3rd Quartile**<br>\n",
    "75% of the data falls below this number\n",
    "\n",
    "### IQR (Inter-quartile range)\n",
    "It is another measure of spread (which is max - min).<br>\n",
    "It tells us where the most of the data falls.\n",
    "It is calculated as Q3 - Q1.\n",
    "\n",
    "### Standard deviation\n",
    "Average distance that the data falls from the mean.\n",
    "\n",
    "### Standard score (z-score)\n",
    "For a bell-shaped distribution:\n",
    "- 68% of the data falls within 1 std from the mean\n",
    "- 95% of the data falls within 2 stds from the mean\n",
    "- 99.7% of the data falls within 3 stds from the mean\n",
    "\n",
    "If you sleep 10 hours a day, and the mean is 7 hours, and the std is, the z-score is:<br>\n",
    "10 - 7 / 1.7 = 1.76<br><br>\n",
    "If you sleep 6 hours a day, it is:<br>\n",
    "6 - 7 / 1.7 = -0.59"
   ]
  },
  {
   "cell_type": "markdown",
   "metadata": {},
   "source": [
    "### Effect of skew on median and mean\n",
    "Positive skew:\n",
    "![title](img/positive_skew.gif)\n",
    "Negative skew:\n",
    "![title](img/negative_skew.gif)"
   ]
  },
  {
   "cell_type": "code",
   "execution_count": null,
   "metadata": {},
   "outputs": [],
   "source": []
  }
 ],
 "metadata": {
  "kernelspec": {
   "display_name": "Python 3",
   "language": "python",
   "name": "python3"
  },
  "language_info": {
   "codemirror_mode": {
    "name": "ipython",
    "version": 3
   },
   "file_extension": ".py",
   "mimetype": "text/x-python",
   "name": "python",
   "nbconvert_exporter": "python",
   "pygments_lexer": "ipython3",
   "version": "3.6.7"
  }
 },
 "nbformat": 4,
 "nbformat_minor": 2
}
