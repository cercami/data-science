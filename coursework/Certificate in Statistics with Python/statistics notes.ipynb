{
 "cells": [
  {
   "cell_type": "markdown",
   "metadata": {},
   "source": [
    "### Data types\n",
    "1. **Quantitative**\n",
    "    - Continuous (can be expressed as float, e.g. height, weight, time)\n",
    "    - Discrete (can be expressed as integer, e.g. kids in household, number of wives)\n",
    "    \n",
    "2. **Categorical (Qualitative)**\n",
    "    - Ordinal (it's a ranking, e.g. high school grade, happiness scale 1-5)\n",
    "    - Nominal (not a ranking, e.g. 1 for males, 2 for females)"
   ]
  },
  {
   "cell_type": "markdown",
   "metadata": {},
   "source": [
    "### Quartiles\n",
    "1. **1st Quartile**<br>\n",
    "25% of the data falls below this number.\n",
    "2. **2nd Quartile (= median)**<br>\n",
    "50% of the data falls below this number.\n",
    "3. **3rd Quartile**<br>\n",
    "75% of the data falls below this number\n",
    "\n",
    "### IQR (Inter-quartile range)\n",
    "It is another measure of spread (which is max - min).<br>\n",
    "It tells us where the most of the data falls.\n",
    "It is calculated as Q3 - Q1.\n",
    "\n",
    "### Standard deviation\n",
    "Average distance that the data falls from the mean.\n",
    "\n",
    "### Standard score (z-score)\n",
    "For a bell-shaped distribution:\n",
    "- 68% of the data falls within 1 std from the mean\n",
    "- 95% of the data falls within 2 stds from the mean\n",
    "- 99.7% of the data falls within 3 stds from the mean\n",
    "\n",
    "If you sleep 10 hours a day, and the mean is 7 hours, and the std is, the z-score is:<br>\n",
    "10 - 7 / 1.7 = 1.76<br><br>\n",
    "If you sleep 6 hours a day, it is:<br>\n",
    "6 - 7 / 1.7 = -0.59"
   ]
  },
  {
   "cell_type": "markdown",
   "metadata": {},
   "source": [
    "### Effect of skew on median and mean\n",
    "Positive skew:\n",
    "![title](img/positive_skew.gif)\n",
    "Negative skew:\n",
    "![title](img/negative_skew.gif)"
   ]
  },
  {
   "cell_type": "code",
   "execution_count": 1,
   "metadata": {},
   "outputs": [],
   "source": [
    "from scipy import stats\n",
    "import matplotlib.pyplot as plt\n",
    "import seaborn as sns\n",
    "import pandas as pd\n",
    "import random\n",
    "import numpy as np\n",
    "sns.set_style(\"darkgrid\")"
   ]
  },
  {
   "cell_type": "code",
   "execution_count": 4,
   "metadata": {},
   "outputs": [
    {
     "data": {
      "text/html": [
       "<div>\n",
       "<style scoped>\n",
       "    .dataframe tbody tr th:only-of-type {\n",
       "        vertical-align: middle;\n",
       "    }\n",
       "\n",
       "    .dataframe tbody tr th {\n",
       "        vertical-align: top;\n",
       "    }\n",
       "\n",
       "    .dataframe thead th {\n",
       "        text-align: right;\n",
       "    }\n",
       "</style>\n",
       "<table border=\"1\" class=\"dataframe\">\n",
       "  <thead>\n",
       "    <tr style=\"text-align: right;\">\n",
       "      <th></th>\n",
       "      <th>total_bill</th>\n",
       "      <th>tip</th>\n",
       "      <th>sex</th>\n",
       "      <th>smoker</th>\n",
       "      <th>day</th>\n",
       "      <th>time</th>\n",
       "      <th>size</th>\n",
       "    </tr>\n",
       "  </thead>\n",
       "  <tbody>\n",
       "    <tr>\n",
       "      <th>0</th>\n",
       "      <td>16.99</td>\n",
       "      <td>1.01</td>\n",
       "      <td>Female</td>\n",
       "      <td>No</td>\n",
       "      <td>Sun</td>\n",
       "      <td>Dinner</td>\n",
       "      <td>2</td>\n",
       "    </tr>\n",
       "    <tr>\n",
       "      <th>1</th>\n",
       "      <td>10.34</td>\n",
       "      <td>1.66</td>\n",
       "      <td>Male</td>\n",
       "      <td>No</td>\n",
       "      <td>Sun</td>\n",
       "      <td>Dinner</td>\n",
       "      <td>3</td>\n",
       "    </tr>\n",
       "    <tr>\n",
       "      <th>2</th>\n",
       "      <td>21.01</td>\n",
       "      <td>3.50</td>\n",
       "      <td>Male</td>\n",
       "      <td>No</td>\n",
       "      <td>Sun</td>\n",
       "      <td>Dinner</td>\n",
       "      <td>3</td>\n",
       "    </tr>\n",
       "    <tr>\n",
       "      <th>3</th>\n",
       "      <td>23.68</td>\n",
       "      <td>3.31</td>\n",
       "      <td>Male</td>\n",
       "      <td>No</td>\n",
       "      <td>Sun</td>\n",
       "      <td>Dinner</td>\n",
       "      <td>2</td>\n",
       "    </tr>\n",
       "    <tr>\n",
       "      <th>4</th>\n",
       "      <td>24.59</td>\n",
       "      <td>3.61</td>\n",
       "      <td>Female</td>\n",
       "      <td>No</td>\n",
       "      <td>Sun</td>\n",
       "      <td>Dinner</td>\n",
       "      <td>4</td>\n",
       "    </tr>\n",
       "  </tbody>\n",
       "</table>\n",
       "</div>"
      ],
      "text/plain": [
       "   total_bill   tip     sex smoker  day    time  size\n",
       "0       16.99  1.01  Female     No  Sun  Dinner     2\n",
       "1       10.34  1.66    Male     No  Sun  Dinner     3\n",
       "2       21.01  3.50    Male     No  Sun  Dinner     3\n",
       "3       23.68  3.31    Male     No  Sun  Dinner     2\n",
       "4       24.59  3.61  Female     No  Sun  Dinner     4"
      ]
     },
     "execution_count": 4,
     "metadata": {},
     "output_type": "execute_result"
    }
   ],
   "source": [
    "df = sns.load_dataset(\"tips\")\n",
    "df.head()"
   ]
  },
  {
   "cell_type": "code",
   "execution_count": 5,
   "metadata": {},
   "outputs": [
    {
     "data": {
      "text/html": [
       "<div>\n",
       "<style scoped>\n",
       "    .dataframe tbody tr th:only-of-type {\n",
       "        vertical-align: middle;\n",
       "    }\n",
       "\n",
       "    .dataframe tbody tr th {\n",
       "        vertical-align: top;\n",
       "    }\n",
       "\n",
       "    .dataframe thead th {\n",
       "        text-align: right;\n",
       "    }\n",
       "</style>\n",
       "<table border=\"1\" class=\"dataframe\">\n",
       "  <thead>\n",
       "    <tr style=\"text-align: right;\">\n",
       "      <th></th>\n",
       "      <th>total_bill</th>\n",
       "      <th>tip</th>\n",
       "      <th>size</th>\n",
       "    </tr>\n",
       "  </thead>\n",
       "  <tbody>\n",
       "    <tr>\n",
       "      <th>count</th>\n",
       "      <td>244.000000</td>\n",
       "      <td>244.000000</td>\n",
       "      <td>244.000000</td>\n",
       "    </tr>\n",
       "    <tr>\n",
       "      <th>mean</th>\n",
       "      <td>19.785943</td>\n",
       "      <td>2.998279</td>\n",
       "      <td>2.569672</td>\n",
       "    </tr>\n",
       "    <tr>\n",
       "      <th>std</th>\n",
       "      <td>8.902412</td>\n",
       "      <td>1.383638</td>\n",
       "      <td>0.951100</td>\n",
       "    </tr>\n",
       "    <tr>\n",
       "      <th>min</th>\n",
       "      <td>3.070000</td>\n",
       "      <td>1.000000</td>\n",
       "      <td>1.000000</td>\n",
       "    </tr>\n",
       "    <tr>\n",
       "      <th>25%</th>\n",
       "      <td>13.347500</td>\n",
       "      <td>2.000000</td>\n",
       "      <td>2.000000</td>\n",
       "    </tr>\n",
       "    <tr>\n",
       "      <th>50%</th>\n",
       "      <td>17.795000</td>\n",
       "      <td>2.900000</td>\n",
       "      <td>2.000000</td>\n",
       "    </tr>\n",
       "    <tr>\n",
       "      <th>75%</th>\n",
       "      <td>24.127500</td>\n",
       "      <td>3.562500</td>\n",
       "      <td>3.000000</td>\n",
       "    </tr>\n",
       "    <tr>\n",
       "      <th>max</th>\n",
       "      <td>50.810000</td>\n",
       "      <td>10.000000</td>\n",
       "      <td>6.000000</td>\n",
       "    </tr>\n",
       "  </tbody>\n",
       "</table>\n",
       "</div>"
      ],
      "text/plain": [
       "       total_bill         tip        size\n",
       "count  244.000000  244.000000  244.000000\n",
       "mean    19.785943    2.998279    2.569672\n",
       "std      8.902412    1.383638    0.951100\n",
       "min      3.070000    1.000000    1.000000\n",
       "25%     13.347500    2.000000    2.000000\n",
       "50%     17.795000    2.900000    2.000000\n",
       "75%     24.127500    3.562500    3.000000\n",
       "max     50.810000   10.000000    6.000000"
      ]
     },
     "execution_count": 5,
     "metadata": {},
     "output_type": "execute_result"
    }
   ],
   "source": [
    "df.describe()"
   ]
  },
  {
   "cell_type": "code",
   "execution_count": 6,
   "metadata": {},
   "outputs": [
    {
     "name": "stderr",
     "output_type": "stream",
     "text": [
      "/usr/local/lib/python3.6/dist-packages/scipy/stats/stats.py:1713: FutureWarning: Using a non-tuple sequence for multidimensional indexing is deprecated; use `arr[tuple(seq)]` instead of `arr[seq]`. In the future this will be interpreted as an array index, `arr[np.array(seq)]`, which will result either in an error or a different result.\n",
      "  return np.add.reduce(sorted[indexer] * weights, axis=axis) / sumval\n"
     ]
    },
    {
     "data": {
      "image/png": "[encoded data removed]",
      "text/plain": [
       "<Figure size 432x288 with 1 Axes>"
      ]
     },
     "metadata": {
      "needs_background": "light"
     },
     "output_type": "display_data"
    }
   ],
   "source": [
    "# Histogram\n",
    "\n",
    "sns.distplot(df.total_bill).set(title=\"Histogram of Total Bill\",\n",
    "                               );"
   ]
  },
  {
   "cell_type": "code",
   "execution_count": 7,
   "metadata": {},
   "outputs": [
    {
     "data": {
      "image/png": "[encoded data removed]",
      "text/plain": [
       "<Figure size 432x288 with 1 Axes>"
      ]
     },
     "metadata": {
      "needs_background": "light"
     },
     "output_type": "display_data"
    }
   ],
   "source": [
    "# Box Plot\n",
    "\n",
    "sns.boxplot(df.total_bill);"
   ]
  },
  {
   "cell_type": "code",
   "execution_count": 8,
   "metadata": {},
   "outputs": [
    {
     "data": {
      "image/png": "[encoded data removed]",
      "text/plain": [
       "<Figure size 432x288 with 1 Axes>"
      ]
     },
     "metadata": {
      "needs_background": "light"
     },
     "output_type": "display_data"
    }
   ],
   "source": [
    "sns.boxplot(df.tip);"
   ]
  },
  {
   "cell_type": "markdown",
   "metadata": {},
   "source": [
    "Two datasets might have the same median mean and mode, but they can be spread out very differently.<br>\n",
    "Box plots let you see how spread out the data is. You can see that Powder Valley has more consitent snowfalls, whereas Mad Mountain is unpredictable.\n",
    "\n",
    "![title](img/box_plot.png)\n"
   ]
  },
  {
   "cell_type": "code",
   "execution_count": 9,
   "metadata": {},
   "outputs": [
    {
     "data": {
      "image/png": "[encoded data removed]",
      "text/plain": [
       "<Figure size 432x288 with 1 Axes>"
      ]
     },
     "metadata": {
      "needs_background": "light"
     },
     "output_type": "display_data"
    }
   ],
   "source": [
    "sns.boxplot(x=df.tip, y=df.sex);"
   ]
  },
  {
   "cell_type": "code",
   "execution_count": 10,
   "metadata": {},
   "outputs": [
    {
     "data": {
      "image/png": "[encoded data removed]",
      "text/plain": [
       "<Figure size 432x288 with 1 Axes>"
      ]
     },
     "metadata": {
      "needs_background": "light"
     },
     "output_type": "display_data"
    }
   ],
   "source": [
    "sns.boxplot(x=df.tip, y=df.day);"
   ]
  },
  {
   "cell_type": "code",
   "execution_count": 11,
   "metadata": {},
   "outputs": [
    {
     "data": {
      "image/png": "[encoded data removed]",
      "text/plain": [
       "<Figure size 216x432 with 2 Axes>"
      ]
     },
     "metadata": {
      "needs_background": "light"
     },
     "output_type": "display_data"
    }
   ],
   "source": [
    "# Compare two histograms by categorical data\n",
    "\n",
    "g = sns.FacetGrid(df, row=\"smoker\")\n",
    "g.map(plt.hist, \"tip\");\n",
    "\n",
    "# this works too\n",
    "#g.map(sns.distplot, \"tip\")"
   ]
  },
  {
   "cell_type": "code",
   "execution_count": 12,
   "metadata": {},
   "outputs": [
    {
     "data": {
      "image/png": "[encoded data removed]",
      "text/plain": [
       "<Figure size 216x432 with 2 Axes>"
      ]
     },
     "metadata": {
      "needs_background": "light"
     },
     "output_type": "display_data"
    }
   ],
   "source": [
    "g = sns.FacetGrid(df, row=\"time\")\n",
    "g.map(plt.hist, \"tip\");"
   ]
  },
  {
   "cell_type": "code",
   "execution_count": 36,
   "metadata": {},
   "outputs": [
    {
     "data": {
      "image/png": "[encoded data removed]",
      "text/plain": [
       "<Figure size 432x288 with 1 Axes>"
      ]
     },
     "metadata": {},
     "output_type": "display_data"
    }
   ],
   "source": [
    "sns.boxplot(x=df.tip, y=df.time);"
   ]
  },
  {
   "cell_type": "code",
   "execution_count": 39,
   "metadata": {},
   "outputs": [
    {
     "data": {
      "image/png": "[encoded data removed]",
      "text/plain": [
       "<Figure size 432x288 with 1 Axes>"
      ]
     },
     "metadata": {},
     "output_type": "display_data"
    }
   ],
   "source": [
    "sns.boxplot(x=df.total_bill, y=df.time);\n",
    "\n",
    "# Lunch always costs roughly the same, while dinners vary greatly."
   ]
  },
  {
   "cell_type": "markdown",
   "metadata": {},
   "source": [
    "### Linearity and Correlation\n",
    "\n",
    "![title](img/association_strength.png)\n",
    "![title](img/correlation.png)"
   ]
  },
  {
   "cell_type": "markdown",
   "metadata": {},
   "source": [
    "### Cartwheel data"
   ]
  },
  {
   "cell_type": "code",
   "execution_count": 19,
   "metadata": {},
   "outputs": [
    {
     "data": {
      "text/html": [
       "<div>\n",
       "<style scoped>\n",
       "    .dataframe tbody tr th:only-of-type {\n",
       "        vertical-align: middle;\n",
       "    }\n",
       "\n",
       "    .dataframe tbody tr th {\n",
       "        vertical-align: top;\n",
       "    }\n",
       "\n",
       "    .dataframe thead th {\n",
       "        text-align: right;\n",
       "    }\n",
       "</style>\n",
       "<table border=\"1\" class=\"dataframe\">\n",
       "  <thead>\n",
       "    <tr style=\"text-align: right;\">\n",
       "      <th></th>\n",
       "      <th>ID</th>\n",
       "      <th>Age</th>\n",
       "      <th>Gender</th>\n",
       "      <th>GenderGroup</th>\n",
       "      <th>Glasses</th>\n",
       "      <th>GlassesGroup</th>\n",
       "      <th>Height</th>\n",
       "      <th>Wingspan</th>\n",
       "      <th>CWDistance</th>\n",
       "      <th>Complete</th>\n",
       "      <th>CompleteGroup</th>\n",
       "      <th>Score</th>\n",
       "    </tr>\n",
       "  </thead>\n",
       "  <tbody>\n",
       "    <tr>\n",
       "      <th>0</th>\n",
       "      <td>1</td>\n",
       "      <td>56</td>\n",
       "      <td>F</td>\n",
       "      <td>1</td>\n",
       "      <td>Y</td>\n",
       "      <td>1</td>\n",
       "      <td>62.0</td>\n",
       "      <td>61.0</td>\n",
       "      <td>79</td>\n",
       "      <td>Y</td>\n",
       "      <td>1</td>\n",
       "      <td>7</td>\n",
       "    </tr>\n",
       "    <tr>\n",
       "      <th>1</th>\n",
       "      <td>2</td>\n",
       "      <td>26</td>\n",
       "      <td>F</td>\n",
       "      <td>1</td>\n",
       "      <td>Y</td>\n",
       "      <td>1</td>\n",
       "      <td>62.0</td>\n",
       "      <td>60.0</td>\n",
       "      <td>70</td>\n",
       "      <td>Y</td>\n",
       "      <td>1</td>\n",
       "      <td>8</td>\n",
       "    </tr>\n",
       "    <tr>\n",
       "      <th>2</th>\n",
       "      <td>3</td>\n",
       "      <td>33</td>\n",
       "      <td>F</td>\n",
       "      <td>1</td>\n",
       "      <td>Y</td>\n",
       "      <td>1</td>\n",
       "      <td>66.0</td>\n",
       "      <td>64.0</td>\n",
       "      <td>85</td>\n",
       "      <td>Y</td>\n",
       "      <td>1</td>\n",
       "      <td>7</td>\n",
       "    </tr>\n",
       "    <tr>\n",
       "      <th>3</th>\n",
       "      <td>4</td>\n",
       "      <td>39</td>\n",
       "      <td>F</td>\n",
       "      <td>1</td>\n",
       "      <td>N</td>\n",
       "      <td>0</td>\n",
       "      <td>64.0</td>\n",
       "      <td>63.0</td>\n",
       "      <td>87</td>\n",
       "      <td>Y</td>\n",
       "      <td>1</td>\n",
       "      <td>10</td>\n",
       "    </tr>\n",
       "    <tr>\n",
       "      <th>4</th>\n",
       "      <td>5</td>\n",
       "      <td>27</td>\n",
       "      <td>M</td>\n",
       "      <td>2</td>\n",
       "      <td>N</td>\n",
       "      <td>0</td>\n",
       "      <td>73.0</td>\n",
       "      <td>75.0</td>\n",
       "      <td>72</td>\n",
       "      <td>N</td>\n",
       "      <td>0</td>\n",
       "      <td>4</td>\n",
       "    </tr>\n",
       "  </tbody>\n",
       "</table>\n",
       "</div>"
      ],
      "text/plain": [
       "   ID  Age Gender  GenderGroup Glasses  GlassesGroup  Height  Wingspan  \\\n",
       "0   1   56      F            1       Y             1    62.0      61.0   \n",
       "1   2   26      F            1       Y             1    62.0      60.0   \n",
       "2   3   33      F            1       Y             1    66.0      64.0   \n",
       "3   4   39      F            1       N             0    64.0      63.0   \n",
       "4   5   27      M            2       N             0    73.0      75.0   \n",
       "\n",
       "   CWDistance Complete  CompleteGroup  Score  \n",
       "0          79        Y              1      7  \n",
       "1          70        Y              1      8  \n",
       "2          85        Y              1      7  \n",
       "3          87        Y              1     10  \n",
       "4          72        N              0      4  "
      ]
     },
     "execution_count": 19,
     "metadata": {},
     "output_type": "execute_result"
    }
   ],
   "source": [
    "df = pd.read_csv(\"cartwheel.csv\")\n",
    "df.head()"
   ]
  },
  {
   "cell_type": "code",
   "execution_count": 25,
   "metadata": {},
   "outputs": [
    {
     "data": {
      "image/png": "[encoded data removed]",
      "text/plain": [
       "<Figure size 432x288 with 1 Axes>"
      ]
     },
     "metadata": {},
     "output_type": "display_data"
    }
   ],
   "source": [
    "sns.scatterplot(df.Height, df.Wingspan, hue=df.Gender);"
   ]
  },
  {
   "cell_type": "code",
   "execution_count": 21,
   "metadata": {},
   "outputs": [],
   "source": [
    "from scipy import stats as stats"
   ]
  },
  {
   "cell_type": "code",
   "execution_count": 23,
   "metadata": {},
   "outputs": [
    {
     "data": {
      "text/plain": [
       "0.9540180704953922"
      ]
     },
     "execution_count": 23,
     "metadata": {},
     "output_type": "execute_result"
    }
   ],
   "source": [
    "stats.pearsonr(df.Wingspan, df.Height)[0]"
   ]
  },
  {
   "cell_type": "code",
   "execution_count": 28,
   "metadata": {},
   "outputs": [
    {
     "data": {
      "image/png": "[encoded data removed]",
      "text/plain": [
       "<Figure size 432x288 with 1 Axes>"
      ]
     },
     "metadata": {},
     "output_type": "display_data"
    }
   ],
   "source": [
    "sns.scatterplot(df.Wingspan, df.CWDistance);\n",
    "# Seemingly not linear data"
   ]
  },
  {
   "cell_type": "code",
   "execution_count": 30,
   "metadata": {},
   "outputs": [
    {
     "name": "stderr",
     "output_type": "stream",
     "text": [
      "/usr/local/lib/python3.6/dist-packages/scipy/stats/stats.py:1713: FutureWarning: Using a non-tuple sequence for multidimensional indexing is deprecated; use `arr[tuple(seq)]` instead of `arr[seq]`. In the future this will be interpreted as an array index, `arr[np.array(seq)]`, which will result either in an error or a different result.\n",
      "  return np.add.reduce(sorted[indexer] * weights, axis=axis) / sumval\n"
     ]
    },
    {
     "data": {
      "image/png": "[encoded data removed]",
      "text/plain": [
       "<Figure size 432x288 with 1 Axes>"
      ]
     },
     "metadata": {},
     "output_type": "display_data"
    }
   ],
   "source": [
    "sns.regplot(x=\"CWDistance\", y=\"Wingspan\", data=df);"
   ]
  },
  {
   "cell_type": "code",
   "execution_count": 39,
   "metadata": {},
   "outputs": [
    {
     "data": {
      "image/png": "[encoded data removed]",
      "text/plain": [
       "<Figure size 432x288 with 1 Axes>"
      ]
     },
     "metadata": {},
     "output_type": "display_data"
    }
   ],
   "source": [
    "sns.scatterplot(df.Wingspan, df.CWDistance, hue=df.Gender );"
   ]
  },
  {
   "cell_type": "code",
   "execution_count": 40,
   "metadata": {},
   "outputs": [
    {
     "name": "stdout",
     "output_type": "stream",
     "text": [
      "0.4581210007849479\n",
      "0.27476207389072843\n"
     ]
    }
   ],
   "source": [
    "print(stats.pearsonr(df.loc[df.Gender == \"F\", 'CWDistance'], df.loc[df.Gender == \"F\", 'Wingspan'])[0])\n",
    "print(stats.pearsonr(df.loc[df.Gender == \"M\", 'CWDistance'], df.loc[df.Gender == \"M\", 'Wingspan'])[0])\n",
    "\n",
    "# But more linear for females than for males"
   ]
  },
  {
   "cell_type": "code",
   "execution_count": 37,
   "metadata": {},
   "outputs": [
    {
     "data": {
      "image/png": "[encoded data removed]",
      "text/plain": [
       "<Figure size 432x288 with 1 Axes>"
      ]
     },
     "metadata": {},
     "output_type": "display_data"
    }
   ],
   "source": [
    "# Make a Seaborn barplot with x = glasses and y = cartwheel distance\n",
    "\n",
    "sns.barplot(df.Glasses, df.CWDistance, );"
   ]
  },
  {
   "cell_type": "markdown",
   "metadata": {},
   "source": [
    "### Side-by-side Barchart"
   ]
  },
  {
   "cell_type": "code",
   "execution_count": 36,
   "metadata": {},
   "outputs": [
    {
     "data": {
      "image/png": "[encoded data removed]",
      "text/plain": [
       "<Figure size 432x288 with 1 Axes>"
      ]
     },
     "metadata": {},
     "output_type": "display_data"
    }
   ],
   "source": [
    "# Make the same Seaborn boxplot as above, but include gender for the hue argument\n",
    "\n",
    "sns.barplot(df.Glasses, df.CWDistance, hue=df.Gender);"
   ]
  },
  {
   "cell_type": "markdown",
   "metadata": {},
   "source": [
    "### Bitwise vs Boolean operators"
   ]
  },
  {
   "cell_type": "markdown",
   "metadata": {},
   "source": [
    "Boolean operators short-circuit, meaning that if the first evaluation is True, and the operator is \"or\", the second part will not be evaluated at all.<br>Compare:"
   ]
  },
  {
   "cell_type": "code",
   "execution_count": 1,
   "metadata": {},
   "outputs": [
    {
     "name": "stdout",
     "output_type": "stream",
     "text": [
      "ok\n"
     ]
    }
   ],
   "source": [
    "x = 5\n",
    "\n",
    "if x or undefined_var:\n",
    "    print(\"ok\")"
   ]
  },
  {
   "cell_type": "code",
   "execution_count": 2,
   "metadata": {},
   "outputs": [
    {
     "ename": "NameError",
     "evalue": "name 'undefined_var' is not defined",
     "output_type": "error",
     "traceback": [
      "\u001b[0;31m---------------------------------------------------------------------------\u001b[0m",
      "\u001b[0;31mNameError\u001b[0m                                 Traceback (most recent call last)",
      "\u001b[0;32m<ipython-input-2-2c92d70ee501>\u001b[0m in \u001b[0;36m<module>\u001b[0;34m\u001b[0m\n\u001b[1;32m      1\u001b[0m \u001b[0mx\u001b[0m \u001b[0;34m=\u001b[0m \u001b[0;36m5\u001b[0m\u001b[0;34m\u001b[0m\u001b[0;34m\u001b[0m\u001b[0m\n\u001b[1;32m      2\u001b[0m \u001b[0;34m\u001b[0m\u001b[0m\n\u001b[0;32m----> 3\u001b[0;31m \u001b[0;32mif\u001b[0m \u001b[0mx\u001b[0m \u001b[0;34m|\u001b[0m \u001b[0mundefined_var\u001b[0m\u001b[0;34m:\u001b[0m\u001b[0;34m\u001b[0m\u001b[0;34m\u001b[0m\u001b[0m\n\u001b[0m\u001b[1;32m      4\u001b[0m     \u001b[0mprint\u001b[0m\u001b[0;34m(\u001b[0m\u001b[0;34m\"ok\"\u001b[0m\u001b[0;34m)\u001b[0m\u001b[0;34m\u001b[0m\u001b[0;34m\u001b[0m\u001b[0m\n",
      "\u001b[0;31mNameError\u001b[0m: name 'undefined_var' is not defined"
     ]
    }
   ],
   "source": [
    "x = 5\n",
    "\n",
    "if x | undefined_var:\n",
    "    print(\"ok\")"
   ]
  },
  {
   "cell_type": "code",
   "execution_count": 5,
   "metadata": {},
   "outputs": [],
   "source": [
    "x = []\n",
    "\n",
    "if x and undefined_var:\n",
    "    print(\"ok\")"
   ]
  },
  {
   "cell_type": "code",
   "execution_count": 6,
   "metadata": {},
   "outputs": [
    {
     "ename": "NameError",
     "evalue": "name 'undefined_var' is not defined",
     "output_type": "error",
     "traceback": [
      "\u001b[0;31m---------------------------------------------------------------------------\u001b[0m",
      "\u001b[0;31mNameError\u001b[0m                                 Traceback (most recent call last)",
      "\u001b[0;32m<ipython-input-6-56dcaa6fcc54>\u001b[0m in \u001b[0;36m<module>\u001b[0;34m\u001b[0m\n\u001b[1;32m      1\u001b[0m \u001b[0mx\u001b[0m \u001b[0;34m=\u001b[0m \u001b[0;34m[\u001b[0m\u001b[0;34m]\u001b[0m\u001b[0;34m\u001b[0m\u001b[0;34m\u001b[0m\u001b[0m\n\u001b[1;32m      2\u001b[0m \u001b[0;34m\u001b[0m\u001b[0m\n\u001b[0;32m----> 3\u001b[0;31m \u001b[0;32mif\u001b[0m \u001b[0mx\u001b[0m \u001b[0;34m&\u001b[0m \u001b[0mundefined_var\u001b[0m\u001b[0;34m:\u001b[0m\u001b[0;34m\u001b[0m\u001b[0;34m\u001b[0m\u001b[0m\n\u001b[0m\u001b[1;32m      4\u001b[0m     \u001b[0mprint\u001b[0m\u001b[0;34m(\u001b[0m\u001b[0;34m\"ok\"\u001b[0m\u001b[0;34m)\u001b[0m\u001b[0;34m\u001b[0m\u001b[0;34m\u001b[0m\u001b[0m\n",
      "\u001b[0;31mNameError\u001b[0m: name 'undefined_var' is not defined"
     ]
    }
   ],
   "source": [
    "x = []\n",
    "\n",
    "if x & undefined_var:\n",
    "    print(\"ok\")"
   ]
  },
  {
   "cell_type": "markdown",
   "metadata": {},
   "source": [
    "##### Bitwise vs Boolean in practice\n",
    "\n",
    "**and** and **or** come straight from boolean logic (and therefore operate on two booleans to produce a boolean), while & and | apply the boolean and/or to the individual bits of integers"
   ]
  },
  {
   "cell_type": "code",
   "execution_count": 29,
   "metadata": {},
   "outputs": [],
   "source": [
    "test = pd.DataFrame()\n",
    "test['age'] = [random.choice(range(90)) for x in range(20)] \n",
    "test['weight'] = [random.choice(range(50, 150)) for x in range(20)] \n",
    "test['smoker'] =  [random.choice([True, False]) for x in range(20)]\n",
    "test['married'] =  [random.choice([True, False]) for x in range(20)] "
   ]
  },
  {
   "cell_type": "code",
   "execution_count": 30,
   "metadata": {},
   "outputs": [
    {
     "data": {
      "text/html": [
       "<div>\n",
       "<style scoped>\n",
       "    .dataframe tbody tr th:only-of-type {\n",
       "        vertical-align: middle;\n",
       "    }\n",
       "\n",
       "    .dataframe tbody tr th {\n",
       "        vertical-align: top;\n",
       "    }\n",
       "\n",
       "    .dataframe thead th {\n",
       "        text-align: right;\n",
       "    }\n",
       "</style>\n",
       "<table border=\"1\" class=\"dataframe\">\n",
       "  <thead>\n",
       "    <tr style=\"text-align: right;\">\n",
       "      <th></th>\n",
       "      <th>age</th>\n",
       "      <th>weight</th>\n",
       "      <th>smoker</th>\n",
       "      <th>married</th>\n",
       "    </tr>\n",
       "  </thead>\n",
       "  <tbody>\n",
       "    <tr>\n",
       "      <th>0</th>\n",
       "      <td>78</td>\n",
       "      <td>145</td>\n",
       "      <td>True</td>\n",
       "      <td>False</td>\n",
       "    </tr>\n",
       "    <tr>\n",
       "      <th>1</th>\n",
       "      <td>80</td>\n",
       "      <td>63</td>\n",
       "      <td>True</td>\n",
       "      <td>True</td>\n",
       "    </tr>\n",
       "    <tr>\n",
       "      <th>2</th>\n",
       "      <td>12</td>\n",
       "      <td>147</td>\n",
       "      <td>False</td>\n",
       "      <td>False</td>\n",
       "    </tr>\n",
       "    <tr>\n",
       "      <th>3</th>\n",
       "      <td>62</td>\n",
       "      <td>115</td>\n",
       "      <td>False</td>\n",
       "      <td>False</td>\n",
       "    </tr>\n",
       "    <tr>\n",
       "      <th>4</th>\n",
       "      <td>7</td>\n",
       "      <td>51</td>\n",
       "      <td>False</td>\n",
       "      <td>True</td>\n",
       "    </tr>\n",
       "  </tbody>\n",
       "</table>\n",
       "</div>"
      ],
      "text/plain": [
       "   age  weight  smoker  married\n",
       "0   78     145    True    False\n",
       "1   80      63    True     True\n",
       "2   12     147   False    False\n",
       "3   62     115   False    False\n",
       "4    7      51   False     True"
      ]
     },
     "execution_count": 30,
     "metadata": {},
     "output_type": "execute_result"
    }
   ],
   "source": [
    "test.head()"
   ]
  },
  {
   "cell_type": "code",
   "execution_count": 31,
   "metadata": {},
   "outputs": [
    {
     "ename": "ValueError",
     "evalue": "The truth value of a Series is ambiguous. Use a.empty, a.bool(), a.item(), a.any() or a.all().",
     "output_type": "error",
     "traceback": [
      "\u001b[0;31m---------------------------------------------------------------------------\u001b[0m",
      "\u001b[0;31mValueError\u001b[0m                                Traceback (most recent call last)",
      "\u001b[0;32m<ipython-input-31-641b3baf160c>\u001b[0m in \u001b[0;36m<module>\u001b[0;34m\u001b[0m\n\u001b[0;32m----> 1\u001b[0;31m \u001b[0mtest\u001b[0m\u001b[0;34m[\u001b[0m\u001b[0;34m(\u001b[0m\u001b[0mtest\u001b[0m\u001b[0;34m.\u001b[0m\u001b[0mage\u001b[0m \u001b[0;34m>\u001b[0m \u001b[0;36m20\u001b[0m\u001b[0;34m)\u001b[0m \u001b[0;32mand\u001b[0m \u001b[0;34m(\u001b[0m\u001b[0mtest\u001b[0m\u001b[0;34m.\u001b[0m\u001b[0mweight\u001b[0m \u001b[0;34m>\u001b[0m \u001b[0;36m100\u001b[0m\u001b[0;34m)\u001b[0m\u001b[0;34m]\u001b[0m\u001b[0;34m\u001b[0m\u001b[0;34m\u001b[0m\u001b[0m\n\u001b[0m",
      "\u001b[0;32m/usr/local/lib/python3.6/dist-packages/pandas/core/generic.py\u001b[0m in \u001b[0;36m__nonzero__\u001b[0;34m(self)\u001b[0m\n\u001b[1;32m   1574\u001b[0m         raise ValueError(\"The truth value of a {0} is ambiguous. \"\n\u001b[1;32m   1575\u001b[0m                          \u001b[0;34m\"Use a.empty, a.bool(), a.item(), a.any() or a.all().\"\u001b[0m\u001b[0;34m\u001b[0m\u001b[0;34m\u001b[0m\u001b[0m\n\u001b[0;32m-> 1576\u001b[0;31m                          .format(self.__class__.__name__))\n\u001b[0m\u001b[1;32m   1577\u001b[0m \u001b[0;34m\u001b[0m\u001b[0m\n\u001b[1;32m   1578\u001b[0m     \u001b[0m__bool__\u001b[0m \u001b[0;34m=\u001b[0m \u001b[0m__nonzero__\u001b[0m\u001b[0;34m\u001b[0m\u001b[0;34m\u001b[0m\u001b[0m\n",
      "\u001b[0;31mValueError\u001b[0m: The truth value of a Series is ambiguous. Use a.empty, a.bool(), a.item(), a.any() or a.all()."
     ]
    }
   ],
   "source": [
    "test[(test.age > 20) and (test.weight > 100)]"
   ]
  },
  {
   "cell_type": "code",
   "execution_count": 22,
   "metadata": {},
   "outputs": [
    {
     "data": {
      "text/html": [
       "<div>\n",
       "<style scoped>\n",
       "    .dataframe tbody tr th:only-of-type {\n",
       "        vertical-align: middle;\n",
       "    }\n",
       "\n",
       "    .dataframe tbody tr th {\n",
       "        vertical-align: top;\n",
       "    }\n",
       "\n",
       "    .dataframe thead th {\n",
       "        text-align: right;\n",
       "    }\n",
       "</style>\n",
       "<table border=\"1\" class=\"dataframe\">\n",
       "  <thead>\n",
       "    <tr style=\"text-align: right;\">\n",
       "      <th></th>\n",
       "      <th>age</th>\n",
       "      <th>weight</th>\n",
       "    </tr>\n",
       "  </thead>\n",
       "  <tbody>\n",
       "    <tr>\n",
       "      <th>0</th>\n",
       "      <td>43</td>\n",
       "      <td>131</td>\n",
       "    </tr>\n",
       "    <tr>\n",
       "      <th>1</th>\n",
       "      <td>55</td>\n",
       "      <td>110</td>\n",
       "    </tr>\n",
       "    <tr>\n",
       "      <th>3</th>\n",
       "      <td>79</td>\n",
       "      <td>136</td>\n",
       "    </tr>\n",
       "    <tr>\n",
       "      <th>9</th>\n",
       "      <td>45</td>\n",
       "      <td>115</td>\n",
       "    </tr>\n",
       "    <tr>\n",
       "      <th>10</th>\n",
       "      <td>49</td>\n",
       "      <td>137</td>\n",
       "    </tr>\n",
       "    <tr>\n",
       "      <th>13</th>\n",
       "      <td>68</td>\n",
       "      <td>141</td>\n",
       "    </tr>\n",
       "    <tr>\n",
       "      <th>15</th>\n",
       "      <td>35</td>\n",
       "      <td>106</td>\n",
       "    </tr>\n",
       "    <tr>\n",
       "      <th>17</th>\n",
       "      <td>56</td>\n",
       "      <td>135</td>\n",
       "    </tr>\n",
       "    <tr>\n",
       "      <th>18</th>\n",
       "      <td>51</td>\n",
       "      <td>112</td>\n",
       "    </tr>\n",
       "  </tbody>\n",
       "</table>\n",
       "</div>"
      ],
      "text/plain": [
       "    age  weight\n",
       "0    43     131\n",
       "1    55     110\n",
       "3    79     136\n",
       "9    45     115\n",
       "10   49     137\n",
       "13   68     141\n",
       "15   35     106\n",
       "17   56     135\n",
       "18   51     112"
      ]
     },
     "execution_count": 22,
     "metadata": {},
     "output_type": "execute_result"
    }
   ],
   "source": [
    "test[(test.age > 20) & (test.weight > 100)]"
   ]
  },
  {
   "cell_type": "markdown",
   "metadata": {},
   "source": [
    "### Sampling\n",
    "\n"
   ]
  },
  {
   "cell_type": "code",
   "execution_count": null,
   "metadata": {},
   "outputs": [],
   "source": [
    "### Central Limit Theorem"
   ]
  },
  {
   "cell_type": "code",
   "execution_count": 8,
   "metadata": {},
   "outputs": [
    {
     "name": "stderr",
     "output_type": "stream",
     "text": [
      "/usr/local/lib/python3.6/dist-packages/scipy/stats/stats.py:1713: FutureWarning: Using a non-tuple sequence for multidimensional indexing is deprecated; use `arr[tuple(seq)]` instead of `arr[seq]`. In the future this will be interpreted as an array index, `arr[np.array(seq)]`, which will result either in an error or a different result.\n",
      "  return np.add.reduce(sorted[indexer] * weights, axis=axis) / sumval\n"
     ]
    },
    {
     "data": {
      "image/png": "[encoded data removed]",
      "text/plain": [
       "<Figure size 720x864 with 3 Axes>"
      ]
     },
     "metadata": {},
     "output_type": "display_data"
    }
   ],
   "source": [
    "# Import the packages that we will be using for the tutorial\n",
    "import numpy as np # for sampling for the distributions\n",
    "import matplotlib.pyplot as plt # for basic plotting \n",
    "import seaborn as sns; sns.set() # for plotting of the histograms\n",
    "\n",
    "# Recreate the simulations from the video \n",
    "mean_uofm = 155\n",
    "sd_uofm = 5\n",
    "mean_gym = 185 \n",
    "sd_gym = 5 \n",
    "gymperc = .3\n",
    "totalPopSize = 40000\n",
    "\n",
    "# Create the two subgroups\n",
    "uofm_students = np.random.normal(mean_uofm, sd_uofm, int(totalPopSize * (1 - gymperc)))\n",
    "students_at_gym = np.random.normal(mean_gym, sd_gym, int(totalPopSize * (gymperc)))\n",
    "\n",
    "# Create the population from the subgroups\n",
    "population = np.append(uofm_students, students_at_gym)\n",
    "\n",
    "# Set up the figure for plotting\n",
    "plt.figure(figsize=(10,12))\n",
    "\n",
    "# Plot the UofM students only\n",
    "plt.subplot(3,1,1)\n",
    "sns.distplot(uofm_students)\n",
    "plt.title(\"UofM Students Only\")\n",
    "plt.xlim([140,200])\n",
    "\n",
    "# Plot the Gym Goers only\n",
    "plt.subplot(3,1,2)\n",
    "sns.distplot(students_at_gym)\n",
    "plt.title(\"Gym Goers Only\")\n",
    "plt.xlim([140,200])\n",
    "\n",
    "# Plot both groups together\n",
    "plt.subplot(3,1,3)\n",
    "sns.distplot(population)\n",
    "plt.title(\"Full Population of UofM Students\")\n",
    "plt.axvline(x = np.mean(population))\n",
    "plt.xlim([140,200])\n",
    "\n",
    "plt.show()"
   ]
  },
  {
   "cell_type": "code",
   "execution_count": 13,
   "metadata": {},
   "outputs": [],
   "source": [
    "np.random.seed(123)\n",
    "population = range(1, 101)\n",
    "np.random.choice(population, 10)"
   ]
  },
  {
   "cell_type": "code",
   "execution_count": 14,
   "metadata": {},
   "outputs": [
    {
     "data": {
      "text/plain": [
       "array([67, 93, 99, 18, 84, 58, 87, 98, 97, 48])"
      ]
     },
     "execution_count": 14,
     "metadata": {},
     "output_type": "execute_result"
    }
   ],
   "source": []
  },
  {
   "cell_type": "code",
   "execution_count": 19,
   "metadata": {},
   "outputs": [],
   "source": [
    "nums = [random.uniform(1, 10) for i in range(1000)]"
   ]
  },
  {
   "cell_type": "code",
   "execution_count": 20,
   "metadata": {},
   "outputs": [
    {
     "name": "stderr",
     "output_type": "stream",
     "text": [
      "/usr/local/lib/python3.6/dist-packages/scipy/stats/stats.py:1713: FutureWarning: Using a non-tuple sequence for multidimensional indexing is deprecated; use `arr[tuple(seq)]` instead of `arr[seq]`. In the future this will be interpreted as an array index, `arr[np.array(seq)]`, which will result either in an error or a different result.\n",
      "  return np.add.reduce(sorted[indexer] * weights, axis=axis) / sumval\n"
     ]
    },
    {
     "data": {
      "text/plain": [
       "<matplotlib.axes._subplots.AxesSubplot at 0x7f69b7475160>"
      ]
     },
     "execution_count": 20,
     "metadata": {},
     "output_type": "execute_result"
    },
    {
     "data": {
      "image/png": "[encoded data removed]",
      "text/plain": [
       "<Figure size 432x288 with 1 Axes>"
      ]
     },
     "metadata": {},
     "output_type": "display_data"
    }
   ],
   "source": [
    "sns.distplot(nums)"
   ]
  },
  {
   "cell_type": "markdown",
   "metadata": {},
   "source": [
    "### Lists vs Arrays"
   ]
  },
  {
   "cell_type": "markdown",
   "metadata": {},
   "source": [
    "Doing arithmetic on the entire list / array."
   ]
  },
  {
   "cell_type": "code",
   "execution_count": 3,
   "metadata": {},
   "outputs": [],
   "source": [
    "my_list = [1, 2, 3]\n",
    "my_array = np.array([1, 2, 3])"
   ]
  },
  {
   "cell_type": "code",
   "execution_count": 4,
   "metadata": {},
   "outputs": [
    {
     "data": {
      "text/plain": [
       "array([0.33333333, 0.66666667, 1.        ])"
      ]
     },
     "execution_count": 4,
     "metadata": {},
     "output_type": "execute_result"
    }
   ],
   "source": [
    "my_array / 3"
   ]
  },
  {
   "cell_type": "code",
   "execution_count": 5,
   "metadata": {},
   "outputs": [
    {
     "ename": "TypeError",
     "evalue": "unsupported operand type(s) for /: 'list' and 'int'",
     "output_type": "error",
     "traceback": [
      "\u001b[0;31m---------------------------------------------------------------------------\u001b[0m",
      "\u001b[0;31mTypeError\u001b[0m                                 Traceback (most recent call last)",
      "\u001b[0;32m<ipython-input-5-f67332c1aa39>\u001b[0m in \u001b[0;36m<module>\u001b[0;34m\u001b[0m\n\u001b[0;32m----> 1\u001b[0;31m \u001b[0mmy_list\u001b[0m \u001b[0;34m/\u001b[0m \u001b[0;36m3\u001b[0m\u001b[0;34m\u001b[0m\u001b[0;34m\u001b[0m\u001b[0m\n\u001b[0m",
      "\u001b[0;31mTypeError\u001b[0m: unsupported operand type(s) for /: 'list' and 'int'"
     ]
    }
   ],
   "source": [
    "my_list / 3"
   ]
  },
  {
   "cell_type": "code",
   "execution_count": 6,
   "metadata": {},
   "outputs": [
    {
     "data": {
      "text/plain": [
       "[1, 2, 3, 5]"
      ]
     },
     "execution_count": 6,
     "metadata": {},
     "output_type": "execute_result"
    }
   ],
   "source": [
    "my_list.append(5) # inplace\n",
    "my_list"
   ]
  },
  {
   "cell_type": "code",
   "execution_count": 7,
   "metadata": {},
   "outputs": [
    {
     "data": {
      "text/plain": [
       "array([1, 2, 3, 5])"
      ]
     },
     "execution_count": 7,
     "metadata": {},
     "output_type": "execute_result"
    }
   ],
   "source": [
    "my_array = np.append(my_array, 5) # cannot do inplace because not always contiguous memory\n",
    "my_array"
   ]
  },
  {
   "cell_type": "markdown",
   "metadata": {},
   "source": [
    "### Confidence Intervals - one proportion"
   ]
  },
  {
   "cell_type": "code",
   "execution_count": 1,
   "metadata": {},
   "outputs": [
    {
     "data": {
      "text/plain": [
       "61.62134629636939"
      ]
     },
     "execution_count": 1,
     "metadata": {},
     "output_type": "execute_result"
    }
   ],
   "source": [
    "import numpy as np\n",
    "62.5 - (1.96472941 * (10 / np.sqrt(500)))"
   ]
  },
  {
   "cell_type": "markdown",
   "metadata": {},
   "source": [
    "Given a sample statistic, we want to construct a statement about the population statistic. Confidence interval is a range, which is our best estimate (sample statistic), plus minus the margin or error. So if we go out in the street and ask 100 people if they do yoga, and 8 of them say yes, we want to estimate what proportion of all inhabitants of this city do yoga.\n",
    "\n",
    "To calulate the margin of error, we must decide what confidence interval we want to use:\n",
    "\n",
    "Desired Confidence Interval - Z Score\n",
    "\n",
    "\n",
    "\n",
    "90% - 1.645<br>\n",
    "95% - 1.96<br>\n",
    "99% - 2.576<br>\n",
    "\n",
    "<img src=\"img/margin_of_error_calc.png\" style=\"width: 450px;\"/>\n",
    "\n",
    "\n"
   ]
  },
  {
   "cell_type": "markdown",
   "metadata": {},
   "source": [
    "So the confidence interval has a lower and upper bound, and its center is the p-hat (sample mean). Depending on our chosen confidence, the range is wider or narrower. The range is bigger, if you need to be 99% confident that the population falls into it, and the range is stricter (narrower) if you need to be\n",
    "\n",
    "90% = 0.023<br>\n",
    "95% = 0.027<br>\n",
    "99% = 0.036<br>\n",
    "\n",
    "\"With 90% confidence, the population mean is estimated to lie between 0.827\tand 0.873\"\n",
    "<br><br>\n",
    "\"With 95% confidence, the population mean is estimated to lie between 0.823\tand 0.877\"\n",
    "<br><br>\n",
    "\"With 99% confidence, the population mean is estimated to lie between 0.814\tand 0.886\"\n",
    "<br><br>\n",
    "\n",
    "The higher the confidence interval, the wider the range.<br><br>\n",
    "You should have at least 10 yes and 10 no in your sample to meet the minimum requirements."
   ]
  },
  {
   "cell_type": "markdown",
   "metadata": {},
   "source": [
    "### Conservative Confidence Interval\n",
    "\n",
    "The conservative approach, wants to maximize the standard error, in order to be on the safer side.<br> The concern here is: What if the p-hat (sample mean) is not accurate at all? <br>This is why the conservative approach discards it (it actually takes 0.5 as the value of p-hat), and only uses the sample size to calculate the margin of error to use for calulating the confidence interval.<br><br>\n",
    "\n",
    "<img src=\"img/conservative_standard_error.png\" style=\"width: 150px;\"/>\n",
    "\n",
    "#### Desired sample size\n",
    "Given a scpefic, desired margin of error, say 3%, and confidence interval, say 95%, we can use the conservative approach to know how big our sample must be to produce this result: <br>\n",
    "\n",
    "<img src=\"img/sample_size_for_desired_confidence.png\" style=\"width: 250px;\"/> "
   ]
  },
  {
   "cell_type": "markdown",
   "metadata": {},
   "source": [
    "### Confidence Intervals - two proportions\n",
    "If we want to estimate what is the difference between two proportions (e.g. difference in proportion of white babies and black babies who can swim) we use the following formula, very similar to the formula for one proportion:\n",
    "<img src=\"img/two_proportions_diff.png\" style=\"width: 350px;\"/>\n",
    "\n",
    "The only difference is that you add the standard error of each sample, which makes sense.\n",
    "So if you have two groups, Germans and French with a Masters degree:\n",
    "\n",
    "p1 = 0.34<br>\n",
    "n1 = 324\n",
    "\n",
    "p2 = 0.46<br>\n",
    "n2 = 111\n",
    "\n",
    "0.34 - 0.42 = 0.08\n",
    "\n",
    "And you want to conclude, if looking at all French people in the world, and all German people in the world, more French people have Masters degrees:"
   ]
  },
  {
   "cell_type": "code",
   "execution_count": 18,
   "metadata": {},
   "outputs": [],
   "source": [
    "error_margin = 1.96 * np.sqrt((0.34 * (1 - 0.34) / 342)  +  (0.46 * (1 - 0.46) / 211))"
   ]
  },
  {
   "cell_type": "code",
   "execution_count": 19,
   "metadata": {},
   "outputs": [
    {
     "data": {
      "text/plain": [
       "(-0.003923518298439996, 0.16392351829843999)"
      ]
     },
     "execution_count": 19,
     "metadata": {},
     "output_type": "execute_result"
    }
   ],
   "source": [
    "(0.08 - error_margin, 0.08 + error_margin)"
   ]
  },
  {
   "cell_type": "markdown",
   "metadata": {},
   "source": [
    "We estimate with 95% of confidence that the difference in proportions of between Germans and French with a masters degree is between -0.03% and 16%. Because 0 is included in this confidence interval, we cannot say that more French people have masters degrees."
   ]
  },
  {
   "cell_type": "markdown",
   "metadata": {},
   "source": [
    "### Confidence Intervals - mean\n",
    "\n",
    "The standard error formula in the case of mean is different:\n",
    "\n",
    "<img src=\"img/std of sample mean.png\" style=\"width: 250px\" align=\"center\"/> \n",
    "\n",
    "\n",
    "\n",
    "When we deal with mean values, we no longer just multiply the standard error by 1.96, but we use the t multiplier, which depends on our sample size. The bigger the sample, the more robust our standard error, hence the lower t value.\n",
    "\n",
    "First, we calculate the degrees of freedom, which is our sample size -1. So for a sample size of 25, the degrees of freedom is 24. \n",
    "\n",
    "Then we look at the T Distribution Table for the corresponding \"a few\" standard error value.\n",
    "\n",
    "http://www.sjsu.edu/faculty/gerstman/StatPrimer/t-table.pdf\n",
    "\n",
    "If your significance level is 0.05 for 95%, in the table you must look up the value for 0.025, as these are values considering only one tail of the distribution (so when you add it up for the plus and minus, you end up with 0.05).\n",
    "\n",
    "\n",
    "Using Python to find the t-value for 95% confidence level:\n",
    "\n",
    "from scipy.stats import t<br>\n",
    "t.ppf(.975, df=4)<br>\n",
    "2.7764451051977987<br>\n",
    "\n"
   ]
  },
  {
   "cell_type": "markdown",
   "metadata": {},
   "source": [
    "You end up with a conclusion like: With 95% confidence, the population mean lies between 81.4 and 94.1."
   ]
  },
  {
   "cell_type": "markdown",
   "metadata": {},
   "source": [
    "### Confidence Interval - Mean difference for paired data\n",
    "\n",
    "For example, if we compare the mean difference in education years for a younger and older sibiling.\n",
    "We subtract their years of education and create the mean. Then, we proceed the exactly the same way as we would for one mean data.\n",
    "After we construct the confidence intervals, we see if 0 is in the range of reasonable values.\n",
    "If there is, we can't reject the null hypothesis that there is no difference."
   ]
  },
  {
   "cell_type": "markdown",
   "metadata": {},
   "source": [
    "### Confidence Interval - Two independent means\n",
    "\n",
    "<img src=\"img/two_means_ste.png\" style=\"width: 250px;\"/> \n",
    "\n",
    "There are two approaches that can be used when having two means.\n",
    "\n",
    "<b>1. Pooled Approach</b>\n",
    "\n",
    "If the std of both samples is equal (or close enough).\n",
    "<img src=\"img/pooled_formula.png\" style=\"width: 450px;\"/> \n",
    "\n",
    "<b>2. Unpooled Approach</b>\n",
    "\n",
    "If the std of both samples is not equal:\n",
    "\n",
    "<img src=\"img/unpooled.png\" style=\"width: 250px;\"/> \n",
    "\n",
    "The df for the t multiplier can be calculated using Welch's approximation, or, if technology is not available, take the smaller sample size out of the two, and subtract one. Then, once you have your df (degrees of freedom) you look up the multiplier value in a table."
   ]
  },
  {
   "cell_type": "markdown",
   "metadata": {},
   "source": [
    "### A-B testing\n",
    "\n",
    "The average time per session is\n",
    "20 seconds on the current LP, hence:\n",
    "μ = 20\n",
    "It's a population mean, as we have the whole historial data of every user and it's run for a long time.\n",
    "Then, we create a new LP, and we test on on 100 people (hence it's a sample), and the avg time spent is 25 seconds.<br>\n",
    "<br>\n",
    "Null Hypothesis: The new LP performs same as the current one<br>\n",
    "Alternative Hypothesis: The new LP performs better than the old one.\n",
    "\n",
    "1. We set the significance level:<br>\n",
    "α = 0.05 (5%)\n",
    "<br>\n",
    "2. We calculate the p-value.<br> It's the probability of getting a statistic at least this far from the mean (5 seconds off the mean), given that the null hypothesis is true.<br>\n",
    "p(x̄ ≥ 25 minutes | H0 is True)\n",
    "<br>\n",
    "3. If my p-value < α, I reject the H0.\n",
    "If my p-value >= α, I cannot reject the H0.\n",
    "<br>\n",
    "In simple words: The probability of Landing Page B performing better than Landing Page A by luck has to be lower than 5%."
   ]
  },
  {
   "cell_type": "markdown",
   "metadata": {},
   "source": [
    "### Hypothesis testing - one population proportion\n",
    "\n",
    "1. You calculate your test statistic.\n",
    "2. You calculate your p value.\n",
    "3. You draw a conclusion out of your p value.\n",
    "\n",
    "In the past year, 52% of parents said that smartphones are the cause of their teenagers' lack of sleep. Do more parents believe this now? The recent data is 56%.\n",
    "\n",
    "Ho p = 0.52<br>\n",
    "Ha p > 0.52<br>\n",
    "\n",
    "0.56 - 0.52 / null hypothesis standard error\n",
    "\n",
    "So those two groups differ by 0.04. Is it a lot or not? Could it be that those two groups don't actually differ, and that this difference is due to natural variability of data? This is why we want to see, how many standard errors of the null hypothesis it is away from.\n",
    "\n",
    "\n",
    "<img src=\"img/test_statistic.png\" style=\"width: 450px;\"/> \n",
    "<img src=\"img/test statistic 2.png\" style=\"width: 450px;\"/> "
   ]
  },
  {
   "cell_type": "markdown",
   "metadata": {},
   "source": [
    "This Z test statistic means that our observed sample proportion is, 2.555 null standard errors above our hypothesized population proportion.\n",
    "\n",
    "You get your p-value from the Z statistic using a Z-table (???)\n",
    "\n",
    "If your p value is less than your alpha (0.05), you reject the null hypothesis.\n"
   ]
  },
  {
   "cell_type": "markdown",
   "metadata": {},
   "source": [
    "### Hypothesis testing - two population proportion\n",
    "\n",
    "Is there a significant difference in the population proportion of parents of Black and Hispanic children who've reported that their child has had some swimming lessons?\n",
    "<img src=\"img/diff_two_prop.png\" style=\"width: 150px;\"/> \n",
    "<img src=\"img/se_two_prop.png\" style=\"width: 250px;\"/> \n",
    "\n",
    "Where our p is the sum of all \"yes's\" divided by number of all participants of the study. And again, you get the Z value and from this, you calculate the p value and see if it's smaller than 0.05."
   ]
  },
  {
   "cell_type": "markdown",
   "metadata": {},
   "source": [
    "### Hypothesis testing - one mean"
   ]
  },
  {
   "cell_type": "markdown",
   "metadata": {},
   "source": [
    "Given a sample mean, we want to see if the population mean is the same (average example cartweheel distance).\n",
    "Research question:\n",
    "Is the average cartwheel distance for all population adults, more than 80?\n",
    "\n",
    "Ho = It is 80.\n",
    "\n",
    "Ha = It is > 80.\n",
    "\n",
    "You gather your sample and the sample mean is 82.48. But is it enough to reject the Ho?\n",
    "\n",
    "<img src=\"img/one_mean_hypothesis.png\" style=\"width: 300px;\"/> \n",
    "<img src=\"img/p_value.png\" style=\"width: 500px;\"/> \n",
    "\n",
    "The p value calculated from the t value of 0.82 is 0.21. It means that we can expect to see a mean of 82.48 20% of the time assuming the null hypothesis (the population mean is 80) is true. It is not so unusual. The p value is not smaller than our alpha (0.05), so we fail to  reject the null.\n",
    "\n",
    "\n",
    "#### We can answer the same question using confidence intervals!\n",
    "\n",
    "<img src=\"img/hypothesis_confidence.png\" style=\"width: 500px;\"/> \n",
    "\n",
    "Because the mean of 80 is included in the interval, we fail to reject the null.\n"
   ]
  },
  {
   "cell_type": "markdown",
   "metadata": {},
   "source": [
    "### Difference in means for paired data\n",
    "\n",
    "Example: Difference in prices for 20 basic furniture pieces between Ikea and Obi.\n",
    "Procedure: You calculate the difference and proceed using the same formulas as in hypothesis for one mean, only you calculate the std for all the differences, and the mean of all the differences.\n",
    "\n",
    "<img src=\"img/hypothesis_paired_data.png\" style=\"width: 170px;\"/> \n"
   ]
  },
  {
   "cell_type": "markdown",
   "metadata": {},
   "source": [
    "### Difference in means for independent data\n",
    "\n",
    "<img src=\"img/pooled_def.png\" style=\"width: 370px;\"/> \n",
    "<img src=\"img/pooled_formula_hypothesis.png\" style=\"width: 370px;\"/> \n",
    "\n",
    "/////////////////\n",
    "<img src=\"img/unpooled_def.png\" style=\"width: 370px;\"/> \n",
    "<img src=\"img/pooled_formula_hypothesis.png\" style=\"width: 370px;\"/> "
   ]
  },
  {
   "cell_type": "code",
   "execution_count": null,
   "metadata": {},
   "outputs": [],
   "source": []
  }
 ],
 "metadata": {
  "kernelspec": {
   "display_name": "Python 3",
   "language": "python",
   "name": "python3"
  },
  "language_info": {
   "codemirror_mode": {
    "name": "ipython",
    "version": 3
   },
   "file_extension": ".py",
   "mimetype": "text/x-python",
   "name": "python",
   "nbconvert_exporter": "python",
   "pygments_lexer": "ipython3",
   "version": "3.6.7"
  }
 },
 "nbformat": 4,
 "nbformat_minor": 2
}
