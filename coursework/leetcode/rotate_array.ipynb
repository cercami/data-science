{
 "cells": [
  {
   "cell_type": "markdown",
   "metadata": {},
   "source": [
    "Given an array, rotate the array to the right by k steps, where k is non-negative.\n",
    "\n",
    "Example 1:\n",
    "<br>\n",
    "Input: [1,2,3,4,5,6,7] and k = 3<br>\n",
    "Output: [5,6,7,1,2,3,4]<br><br>\n",
    "Explanation:<br>\n",
    "rotate 1 steps to the right: [7,1,2,3,4,5,6]<br>\n",
    "rotate 2 steps to the right: [6,7,1,2,3,4,5]<br>\n",
    "rotate 3 steps to the right: [5,6,7,1,2,3,4]<br>\n",
    "<br><br>Example 2:\n",
    "\n",
    "Input: [-1,-100,3,99] and k = 2<br>\n",
    "Output: [3,99,-1,-100]<br><br>\n",
    "Explanation: <br>\n",
    "rotate 1 steps to the right: [99,-1,-100,3]<br>\n",
    "rotate 2 steps to the right: [3,99,-1,-100]<br>"
   ]
  },
  {
   "cell_type": "code",
   "execution_count": 6,
   "metadata": {},
   "outputs": [],
   "source": [
    "inpt = [1,2,3,4,5,6,7] \n",
    "k = 2\n",
    "outpt = [6,7,1,2,3,4,5]\n"
   ]
  },
  {
   "cell_type": "code",
   "execution_count": 7,
   "metadata": {},
   "outputs": [
    {
     "data": {
      "text/plain": [
       "3"
      ]
     },
     "execution_count": 7,
     "metadata": {},
     "output_type": "execute_result"
    }
   ],
   "source": [
    "inpt[k]"
   ]
  },
  {
   "cell_type": "code",
   "execution_count": 10,
   "metadata": {},
   "outputs": [],
   "source": [
    "# This works, but it rotates it to the left, not right.\n",
    "\n",
    "nums = [1,2,3,4,5,6,7] \n",
    "k = 3\n",
    "while k:\n",
    "    new_last = nums[0]\n",
    "    for idx, num in enumerate(nums):\n",
    "        if idx == 0:\n",
    "            continue\n",
    "        else:\n",
    "            nums[idx-1] = nums[idx]\n",
    "    nums[-1] = new_last\n",
    "    k -= 1\n",
    "    "
   ]
  },
  {
   "cell_type": "code",
   "execution_count": 11,
   "metadata": {},
   "outputs": [
    {
     "data": {
      "text/plain": [
       "[4, 5, 6, 7, 1, 2, 3]"
      ]
     },
     "execution_count": 11,
     "metadata": {},
     "output_type": "execute_result"
    }
   ],
   "source": [
    "nums"
   ]
  },
  {
   "cell_type": "code",
   "execution_count": 16,
   "metadata": {},
   "outputs": [],
   "source": [
    "# Works, but is too slow for the auto-grader.\n",
    "\n",
    "nums = [1,2,3,4,5,6,7] \n",
    "k = 3\n",
    "while k:\n",
    "    new_first = nums[-1]\n",
    "    for idx in range(1, len(nums)+1):\n",
    "        nums[idx * -1] = nums[(idx +1) * -1]\n",
    "    nums[0] = new_first\n",
    "    k -= 1"
   ]
  },
  {
   "cell_type": "code",
   "execution_count": null,
   "metadata": {},
   "outputs": [],
   "source": []
  },
  {
   "cell_type": "code",
   "execution_count": 58,
   "metadata": {},
   "outputs": [
    {
     "name": "stdout",
     "output_type": "stream",
     "text": [
      "1\n"
     ]
    }
   ],
   "source": [
    "# Speed up by not iterating over k, grabbing it all at once\n",
    "\n",
    "nums = [1, 2]\n",
    "k = 3\n",
    "\n",
    "\n",
    "# It k is longer than len(nums), it loops around itself, so we only take the difference\n",
    "if k > len(nums):\n",
    "    k =  k - len(nums)\n",
    "\n",
    "tail = nums[k * -1:]\n",
    "\n",
    "for item in tail[::-1]:\n",
    "    nums.insert(0, item)\n",
    "\n",
    "del nums[k *-1:]"
   ]
  },
  {
   "cell_type": "code",
   "execution_count": null,
   "metadata": {},
   "outputs": [],
   "source": [
    "# Official leetcode solution\n",
    "\n",
    "class Solution:\n",
    "    def rotate(self, nums: List[int], k: int) -> None:\n",
    "        \"\"\"\n",
    "        Do not return anything, modify nums in-place instead.\n",
    "        \"\"\"\n",
    "        if len(nums) == 1 or k == 0:\n",
    "            return nums\n",
    "        \n",
    "        if k > len(nums):\n",
    "            k = k - len(nums)\n",
    "        \n",
    "        tail = nums[k * -1:]\n",
    "        \n",
    "        for item in tail[::-1]:\n",
    "            nums.insert(0, item)\n",
    "        \n",
    "        del nums[k *-1:]\n",
    "\n",
    "        "
   ]
  }
 ],
 "metadata": {
  "kernelspec": {
   "display_name": "Python 3",
   "language": "python",
   "name": "python3"
  },
  "language_info": {
   "codemirror_mode": {
    "name": "ipython",
    "version": 3
   },
   "file_extension": ".py",
   "mimetype": "text/x-python",
   "name": "python",
   "nbconvert_exporter": "python",
   "pygments_lexer": "ipython3",
   "version": "3.6.9"
  }
 },
 "nbformat": 4,
 "nbformat_minor": 4
}
