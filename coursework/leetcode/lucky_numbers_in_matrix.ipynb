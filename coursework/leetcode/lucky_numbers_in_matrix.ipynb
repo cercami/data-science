{
 "cells": [
  {
   "cell_type": "markdown",
   "metadata": {},
   "source": [
    "Input: [[3,7,8],[9,11,13],[15,16,17]]<br>\n",
    "Output: [15]<br><br>\n",
    "Explanation: 15 is the only lucky number since it is the minimum in its row and the maximum in its column\n"
   ]
  },
  {
   "cell_type": "code",
   "execution_count": null,
   "metadata": {},
   "outputs": [],
   "source": [
    "class Solution:\n",
    "    def luckyNumbers (self, matrix: List[List[int]]) -> List[int]:\n",
    "        \n",
    "        result = []\n",
    "        columns = []\n",
    "        i = 0\n",
    "\n",
    "        for vector in range(len(matrix[0])):\n",
    "            col = []\n",
    "            for vector in matrix:\n",
    "                col.append(vector[i])\n",
    "            columns.append(col)\n",
    "            i +=1\n",
    "        \n",
    "        max_col = [max(col) for col in columns]\n",
    "        \n",
    "        for vector in matrix:\n",
    "            for idx, val in enumerate(vector):\n",
    "                if val == min(vector) and val == max_col[idx]:\n",
    "                    result.append(val)\n",
    "                    \n",
    "                    \n",
    "        return result"
   ]
  },
  {
   "cell_type": "code",
   "execution_count": null,
   "metadata": {},
   "outputs": [],
   "source": []
  },
  {
   "cell_type": "code",
   "execution_count": null,
   "metadata": {},
   "outputs": [],
   "source": []
  },
  {
   "cell_type": "code",
   "execution_count": 12,
   "metadata": {},
   "outputs": [],
   "source": [
    "matrix = [[1,10,4,2],[9,3,8,7],[15,16,17,12]]"
   ]
  },
  {
   "cell_type": "code",
   "execution_count": 15,
   "metadata": {},
   "outputs": [],
   "source": [
    "result = []\n",
    "columns = []\n",
    "i = 0\n",
    "\n",
    "for vector in range(len(matrix[0])):\n",
    "    col = []\n",
    "    for vector in matrix:\n",
    "        col.append(vector[i])\n",
    "    columns.append(col)\n",
    "    i +=1\n",
    "    "
   ]
  },
  {
   "cell_type": "code",
   "execution_count": 16,
   "metadata": {},
   "outputs": [
    {
     "data": {
      "text/plain": [
       "[[1, 9, 15], [10, 3, 16], [4, 8, 17], [2, 7, 12]]"
      ]
     },
     "execution_count": 16,
     "metadata": {},
     "output_type": "execute_result"
    }
   ],
   "source": [
    "columns"
   ]
  },
  {
   "cell_type": "code",
   "execution_count": 10,
   "metadata": {},
   "outputs": [],
   "source": [
    "max_col = [max(col) for col in columns]"
   ]
  },
  {
   "cell_type": "code",
   "execution_count": 11,
   "metadata": {},
   "outputs": [
    {
     "data": {
      "text/plain": [
       "[15, 16, 17]"
      ]
     },
     "execution_count": 11,
     "metadata": {},
     "output_type": "execute_result"
    }
   ],
   "source": [
    "max_col"
   ]
  },
  {
   "cell_type": "code",
   "execution_count": null,
   "metadata": {},
   "outputs": [],
   "source": [
    "for vector in matrix:\n",
    "    for idx, val in enumerate(vector):\n",
    "        if val == min(vector) and val == max_col[idx]:\n",
    "            result.append(val)\n",
    "            "
   ]
  }
 ],
 "metadata": {
  "kernelspec": {
   "display_name": "Python 3",
   "language": "python",
   "name": "python3"
  },
  "language_info": {
   "codemirror_mode": {
    "name": "ipython",
    "version": 3
   },
   "file_extension": ".py",
   "mimetype": "text/x-python",
   "name": "python",
   "nbconvert_exporter": "python",
   "pygments_lexer": "ipython3",
   "version": "3.6.9"
  }
 },
 "nbformat": 4,
 "nbformat_minor": 4
}
