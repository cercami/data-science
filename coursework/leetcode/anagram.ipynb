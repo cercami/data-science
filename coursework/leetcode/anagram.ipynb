{
 "cells": [
  {
   "cell_type": "code",
   "execution_count": 1,
   "metadata": {},
   "outputs": [],
   "source": [
    "# https://leetcode.com/problems/valid-anagram/"
   ]
  },
  {
   "cell_type": "code",
   "execution_count": 7,
   "metadata": {},
   "outputs": [],
   "source": [
    "class Solution:\n",
    "    def isAnagram(self, s: str, t: str) -> bool:\n",
    "        if len(s) != len(t):\n",
    "            return False\n",
    "\n",
    "        for char in s:\n",
    "            # IMPORTANT - the 1 here. Otherwise all occurences would be replaced.\n",
    "            t = t.replace(char, \"\", 1)\n",
    "        \n",
    "        return not t"
   ]
  },
  {
   "cell_type": "code",
   "execution_count": null,
   "metadata": {},
   "outputs": [],
   "source": [
    "class Solution:\n",
    "    def isAnagram(self, s: str, t: str) -> bool:\n",
    "        \n",
    "        count1 = {}        \n",
    "        count2 = {}\n",
    "        \n",
    "        for char in s:\n",
    "            if char in count1:\n",
    "                count1[char] += 1\n",
    "            else:\n",
    "                count1[char] = 1\n",
    "                \n",
    "        for char in t:\n",
    "            if char in count2:\n",
    "                count2[char] += 1\n",
    "            else:\n",
    "                count2[char] = 1\n",
    "                \n",
    "        return count1 == count2"
   ]
  },
  {
   "cell_type": "code",
   "execution_count": null,
   "metadata": {},
   "outputs": [],
   "source": []
  }
 ],
 "metadata": {
  "kernelspec": {
   "display_name": "Python 3",
   "language": "python",
   "name": "python3"
  },
  "language_info": {
   "codemirror_mode": {
    "name": "ipython",
    "version": 3
   },
   "file_extension": ".py",
   "mimetype": "text/x-python",
   "name": "python",
   "nbconvert_exporter": "python",
   "pygments_lexer": "ipython3",
   "version": "3.6.9"
  }
 },
 "nbformat": 4,
 "nbformat_minor": 4
}
