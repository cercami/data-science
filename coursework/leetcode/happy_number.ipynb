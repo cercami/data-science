{
 "cells": [
  {
   "cell_type": "code",
   "execution_count": 1,
   "metadata": {},
   "outputs": [],
   "source": [
    "# https://leetcode.com/problems/happy-number/"
   ]
  },
  {
   "cell_type": "markdown",
   "metadata": {},
   "source": [
    "Write an algorithm to determine if a number is \"happy\".\n",
    "\n",
    "A happy number is a number defined by the following process: Starting with any positive integer, replace the number by the sum of the squares of its digits, and repeat the process until the number equals 1 (where it will stay), or it loops endlessly in a cycle which does not include 1. Those numbers for which this process ends in 1 are happy numbers.\n",
    "<br><br>\n",
    "Example: \n",
    "<br><br>\n",
    "Input: 19<br>\n",
    "Output: true<br>\n",
    "Explanation: <br>\n",
    "12 + 92 = 82<br>\n",
    "82 + 22 = 68<br>\n",
    "62 + 82 = 100<br>\n",
    "12 + 02 + 02 = 1<br>"
   ]
  },
  {
   "cell_type": "code",
   "execution_count": 13,
   "metadata": {},
   "outputs": [
    {
     "name": "stdout",
     "output_type": "stream",
     "text": [
      "['1']\n",
      "1\n"
     ]
    },
    {
     "data": {
      "text/plain": [
       "True"
      ]
     },
     "execution_count": 13,
     "metadata": {},
     "output_type": "execute_result"
    }
   ],
   "source": [
    "def isHappy( n):\n",
    "    digits = list(str(n))\n",
    "    print(digits)\n",
    "    suma = sum([int(x) ** 2 for x in digits])\n",
    "    print(suma)\n",
    "    if suma == 1:\n",
    "        return True\n",
    "    else:\n",
    "        return isHappy(suma)\n",
    "    \n",
    "isHappy(1)"
   ]
  },
  {
   "cell_type": "code",
   "execution_count": null,
   "metadata": {},
   "outputs": [],
   "source": [
    "class Solution:\n",
    "    # If a number is not happy, it will loop forever, hitting the same numbers all the time\n",
    "    seen = None\n",
    "    def isHappy(self, n: int) -> bool:\n",
    "        \n",
    "        if not self.seen:\n",
    "            self.seen = []\n",
    "        \n",
    "        digits = list(str(n))\n",
    "        suma = sum([int(x) ** 2 for x in digits])\n",
    "        \n",
    "        if suma in self.seen:\n",
    "            return False\n",
    "        else:\n",
    "            self.seen.append(suma)\n",
    "            \n",
    "        if suma == 1:\n",
    "            return True\n",
    "        else:\n",
    "            return self.isHappy(suma)\n",
    "        "
   ]
  }
 ],
 "metadata": {
  "kernelspec": {
   "display_name": "Python 3",
   "language": "python",
   "name": "python3"
  },
  "language_info": {
   "codemirror_mode": {
    "name": "ipython",
    "version": 3
   },
   "file_extension": ".py",
   "mimetype": "text/x-python",
   "name": "python",
   "nbconvert_exporter": "python",
   "pygments_lexer": "ipython3",
   "version": "3.6.9"
  }
 },
 "nbformat": 4,
 "nbformat_minor": 4
}
