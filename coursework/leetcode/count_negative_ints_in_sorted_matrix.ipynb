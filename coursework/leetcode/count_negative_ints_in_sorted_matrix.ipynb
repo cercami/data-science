{
 "cells": [
  {
   "cell_type": "code",
   "execution_count": null,
   "metadata": {},
   "outputs": [],
   "source": [
    "class Solution:\n",
    "    def countNegatives(self, grid: List[List[int]]) -> int:\n",
    "        \n",
    "        counter = 0\n",
    "        \n",
    "        for lst in grid:\n",
    "            if lst[-1] < 0:\n",
    "                i = 1\n",
    "                while i <= len(lst):\n",
    "                    if lst[-i] < 0:\n",
    "                        counter += 1\n",
    "                        i +=1\n",
    "                    else:\n",
    "                        break\n",
    "                        \n",
    "        return counter\n",
    "        "
   ]
  }
 ],
 "metadata": {
  "kernelspec": {
   "display_name": "Python 3",
   "language": "python",
   "name": "python3"
  },
  "language_info": {
   "codemirror_mode": {
    "name": "ipython",
    "version": 3
   },
   "file_extension": ".py",
   "mimetype": "text/x-python",
   "name": "python",
   "nbconvert_exporter": "python",
   "pygments_lexer": "ipython3",
   "version": "3.6.9"
  }
 },
 "nbformat": 4,
 "nbformat_minor": 4
}
