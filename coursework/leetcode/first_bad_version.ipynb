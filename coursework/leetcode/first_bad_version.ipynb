{
 "cells": [
  {
   "cell_type": "markdown",
   "metadata": {},
   "source": [
    "https://leetcode.com/problems/first-bad-version/"
   ]
  },
  {
   "cell_type": "markdown",
   "metadata": {},
   "source": [
    "You are a product manager and currently leading a team to develop a new product. Unfortunately, the latest version of your product fails the quality check. Since each version is developed based on the previous version, all the versions after a bad version are also bad.\n",
    "\n",
    "Suppose you have n versions [1, 2, ..., n] and you want to find out the first bad one, which causes all the following ones to be bad.\n",
    "\n",
    "You are given an API bool isBadVersion(version) which will return whether version is bad. Implement a function to find the first bad version. You should minimize the number of calls to the API.\n",
    "\n",
    "Example:\n",
    "<br>\n",
    "Given n = 5, and version = 4 is the first bad version.\n",
    "<br>\n",
    "call isBadVersion(3) -> false<br>\n",
    "call isBadVersion(5) -> true<br>\n",
    "call isBadVersion(4) -> true<br>\n",
    "<br><br>\n",
    "Then 4 is the first bad version. "
   ]
  },
  {
   "cell_type": "code",
   "execution_count": 9,
   "metadata": {},
   "outputs": [
    {
     "data": {
      "text/plain": [
       "5"
      ]
     },
     "execution_count": 9,
     "metadata": {},
     "output_type": "execute_result"
    }
   ],
   "source": [
    "# Accepted and awesome solution! by Krausers\n",
    "\n",
    "\n",
    "# The isBadVersion API is already defined for you.\n",
    "# @param version, an integer\n",
    "# @return a bool\n",
    "# def isBadVersion(version):\n",
    "\n",
    "class Solution:\n",
    "    def firstBadVersion(self, n):\n",
    "        #print(n)\n",
    "        \"\"\"\n",
    "        :type n: int\n",
    "        :rtype: int\n",
    "        \"\"\"\n",
    "        vers = range(1, n+1)\n",
    "        \n",
    "        while True:\n",
    "            \n",
    "            if len(vers) == 1:\n",
    "                return vers[0]\n",
    "        \n",
    "            ele = vers[int(len(vers) / 2)]\n",
    "            one_before = vers[int(len(vers)/2 -1)]\n",
    "\n",
    "            if isBadVersion(ele):\n",
    "                if not isBadVersion(one_before):\n",
    "                    return ele\n",
    "                else:\n",
    "                    vers = vers[: int(len(vers) /2)]\n",
    "            else:\n",
    "                vers = vers[int(len(vers) /2 ):]\n",
    "        "
   ]
  },
  {
   "cell_type": "code",
   "execution_count": null,
   "metadata": {},
   "outputs": [],
   "source": [
    " it"
   ]
  }
 ],
 "metadata": {
  "kernelspec": {
   "display_name": "Python 3",
   "language": "python",
   "name": "python3"
  },
  "language_info": {
   "codemirror_mode": {
    "name": "ipython",
    "version": 3
   },
   "file_extension": ".py",
   "mimetype": "text/x-python",
   "name": "python",
   "nbconvert_exporter": "python",
   "pygments_lexer": "ipython3",
   "version": "3.6.9"
  }
 },
 "nbformat": 4,
 "nbformat_minor": 4
}
