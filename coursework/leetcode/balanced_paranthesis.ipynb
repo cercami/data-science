{
 "cells": [
  {
   "cell_type": "code",
   "execution_count": 1,
   "metadata": {},
   "outputs": [],
   "source": [
    "class Solution:\n",
    "    def isValid(self, s: str) -> bool:\n",
    "        len_before = len(s)\n",
    "        s= s.replace(\"()\", \"\")\n",
    "        s= s.replace(\"{}\", \"\")\n",
    "        s= s.replace(\"[]\", \"\")\n",
    "        len_after = len(s)\n",
    "        if len_before != len_after:\n",
    "            return self.isValid(s)\n",
    "        elif len_before == len_after and s:\n",
    "            return False\n",
    "        else:\n",
    "            return True"
   ]
  },
  {
   "cell_type": "code",
   "execution_count": null,
   "metadata": {},
   "outputs": [],
   "source": []
  }
 ],
 "metadata": {
  "kernelspec": {
   "display_name": "Python 3",
   "language": "python",
   "name": "python3"
  },
  "language_info": {
   "codemirror_mode": {
    "name": "ipython",
    "version": 3
   },
   "file_extension": ".py",
   "mimetype": "text/x-python",
   "name": "python",
   "nbconvert_exporter": "python",
   "pygments_lexer": "ipython3",
   "version": "3.6.9"
  }
 },
 "nbformat": 4,
 "nbformat_minor": 4
}
