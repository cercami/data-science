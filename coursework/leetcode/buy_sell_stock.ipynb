{
 "cells": [
  {
   "cell_type": "markdown",
   "metadata": {},
   "source": [
    "https://leetcode.com/problems/best-time-to-buy-and-sell-stock/"
   ]
  },
  {
   "cell_type": "markdown",
   "metadata": {},
   "source": [
    "Say you have an array for which the ith element is the price of a given stock on day i.\n",
    "\n",
    "If you were only permitted to complete at most one transaction (i.e., buy one and sell one share of the stock), design an algorithm to find the maximum profit.\n",
    "\n",
    "Note that you cannot sell a stock before you buy one.\n",
    "\n",
    "Example 1:\n",
    "\n",
    "Input: [7,1,5,3,6,4]<br>\n",
    "Output: 5<br><br>\n",
    "Explanation: Buy on day 2 (price = 1) and sell on day 5 (price = 6), profit = 6-1 = 5.\n",
    "             Not 7-1 = 6, as selling price needs to be larger than buying price.\n",
    "Example 2:\n",
    "\n",
    "Input: [7,6,4,3,1]<br>\n",
    "Output: 0<br><br>\n",
    "Explanation: In this case, no transaction is done, i.e. max profit = 0."
   ]
  },
  {
   "cell_type": "code",
   "execution_count": 15,
   "metadata": {},
   "outputs": [],
   "source": [
    "# Works, but exceeds time limit\n",
    "\n",
    "prices = [7,1,5,3,6,4]\n",
    "prices =  [7,6,4,3,1]\n",
    "srtd = sorted(prices)\n",
    "gains = []\n",
    "for minn in srtd:\n",
    "    idx_min = prices.index(minn)\n",
    "    \n",
    "    if prices[idx_min+1:]:\n",
    "        maxx = max(prices[idx_min+1:])\n",
    "        gains.append(maxx - minn)\n",
    "#return max(gains)\n",
    "    \n",
    "    "
   ]
  },
  {
   "cell_type": "code",
   "execution_count": 17,
   "metadata": {},
   "outputs": [],
   "source": [
    "prices =  [7,6,4,3,1]\n",
    "\n",
    "# It's ok to use a set, because we are only interested in first occurance of the min\n",
    "# value, because it maximizes possible profit (it has more elements following it)\n",
    "srtd = set(sorted(prices))\n",
    "gains = []\n",
    "for minn in srtd:\n",
    "    idx_min = prices.index(minn)\n",
    "    \n",
    "    if prices[idx_min+1:]:\n",
    "        maxx = max(prices[idx_min+1:])\n",
    "        gains.append(maxx - minn)\n",
    "#return max(gains)\n",
    "    \n",
    "    "
   ]
  },
  {
   "cell_type": "code",
   "execution_count": 18,
   "metadata": {},
   "outputs": [
    {
     "data": {
      "text/plain": [
       "[-2, -1, -2, -1]"
      ]
     },
     "execution_count": 18,
     "metadata": {},
     "output_type": "execute_result"
    }
   ],
   "source": [
    "gains"
   ]
  },
  {
   "cell_type": "code",
   "execution_count": null,
   "metadata": {},
   "outputs": [],
   "source": [
    "# Copied from the internet:\n",
    "\n",
    "def maxProfit(prices):\n",
    "    max_profit, min_price = 0, float('inf')\n",
    "    for price in prices:\n",
    "        min_price = min(min_price, price)\n",
    "        profit = price - min_price\n",
    "        max_profit = max(max_profit, profit)\n",
    "    return max_profit"
   ]
  }
 ],
 "metadata": {
  "kernelspec": {
   "display_name": "Python 3",
   "language": "python",
   "name": "python3"
  },
  "language_info": {
   "codemirror_mode": {
    "name": "ipython",
    "version": 3
   },
   "file_extension": ".py",
   "mimetype": "text/x-python",
   "name": "python",
   "nbconvert_exporter": "python",
   "pygments_lexer": "ipython3",
   "version": "3.6.9"
  }
 },
 "nbformat": 4,
 "nbformat_minor": 4
}
