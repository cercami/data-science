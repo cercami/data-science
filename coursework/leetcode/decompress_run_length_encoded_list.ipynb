{
 "cells": [
  {
   "cell_type": "markdown",
   "metadata": {},
   "source": [
    "https://leetcode.com/problems/decompress-run-length-encoded-list/submissions/"
   ]
  },
  {
   "cell_type": "code",
   "execution_count": null,
   "metadata": {},
   "outputs": [],
   "source": [
    "class Solution:\n",
    "    def decompressRLElist(self, nums: List[int]) -> List[int]:\n",
    "        \n",
    "        new = []\n",
    "        \n",
    "        while nums:\n",
    "            new.extend([nums[1]] * nums[0])\n",
    "            \n",
    "            # TRAP !!!!!!!\n",
    "            # If you want to remove two first elements, remove 0th index twice\n",
    "            # cos you're modifying it inplace!\n",
    "            \n",
    "            nums.pop(0)\n",
    "            nums.pop(0)\n",
    "            \n",
    "        return new\n",
    "        "
   ]
  },
  {
   "cell_type": "code",
   "execution_count": 7,
   "metadata": {},
   "outputs": [],
   "source": [
    "nums = [1,2,3,4]"
   ]
  },
  {
   "cell_type": "code",
   "execution_count": null,
   "metadata": {},
   "outputs": [],
   "source": []
  }
 ],
 "metadata": {
  "kernelspec": {
   "display_name": "Python 3",
   "language": "python",
   "name": "python3"
  },
  "language_info": {
   "codemirror_mode": {
    "name": "ipython",
    "version": 3
   },
   "file_extension": ".py",
   "mimetype": "text/x-python",
   "name": "python",
   "nbconvert_exporter": "python",
   "pygments_lexer": "ipython3",
   "version": "3.6.9"
  }
 },
 "nbformat": 4,
 "nbformat_minor": 4
}
