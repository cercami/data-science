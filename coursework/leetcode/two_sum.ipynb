{
 "cells": [
  {
   "cell_type": "markdown",
   "metadata": {},
   "source": [
    "Given an array of integers, return indices of the two numbers such that they add up to a specific target.\n",
    "\n",
    "You may assume that each input would have exactly one solution, and you may not use the same element twice."
   ]
  },
  {
   "cell_type": "markdown",
   "metadata": {},
   "source": [
    "Given nums = [2, 7, 11, 15], target = 9,\n",
    "<br>\n",
    "Because nums[0] + nums[1] = 2 + 7 = 9,\n",
    "return [0, 1]."
   ]
  },
  {
   "cell_type": "code",
   "execution_count": 16,
   "metadata": {},
   "outputs": [],
   "source": []
  },
  {
   "cell_type": "markdown",
   "metadata": {},
   "source": [
    "# 1st"
   ]
  },
  {
   "cell_type": "code",
   "execution_count": 38,
   "metadata": {},
   "outputs": [],
   "source": [
    "# Brute force. Correct, but exceeds the time limit.\n",
    "# Make sure not to use the same element twice, as in:\n",
    "# arr = [3, 2, 4] , target = 6, should not return [0, 0]\n",
    "\n",
    "arr = [3, 3]\n",
    "target = 6\n",
    "\n",
    "def two_sum(arr, target):\n",
    "    for idx1, num1 in enumerate(arr):\n",
    "        for idx2, num2 in enumerate(arr):\n",
    "            if (idx1 != idx2) and (num1 + num2 == target):\n",
    "                return idx1, idx2"
   ]
  },
  {
   "cell_type": "code",
   "execution_count": 36,
   "metadata": {},
   "outputs": [
    {
     "data": {
      "text/plain": [
       "(0, 1)"
      ]
     },
     "execution_count": 36,
     "metadata": {},
     "output_type": "execute_result"
    }
   ],
   "source": [
    "two_sum(arr, target)"
   ]
  },
  {
   "cell_type": "markdown",
   "metadata": {},
   "source": [
    "# 2nd"
   ]
  },
  {
   "cell_type": "code",
   "execution_count": 39,
   "metadata": {},
   "outputs": [],
   "source": [
    "# Fails for:  arr = [3, 3], target = 6\n",
    "# should be: [0, 1], returns [0, 0]\n",
    "\n",
    "\n",
    "arr = [3, 3]\n",
    "target = 6\n",
    "\n",
    "def two_sum(nums, target):\n",
    "    for num in nums:\n",
    "        missing = target - num\n",
    "        \n",
    "        if missing == num:\n",
    "            temp = list(nums)\n",
    "            # I cannot remove this element, because it would shift the index\n",
    "            temp[temp.index(missing)] = \"nothing\"\n",
    "            if missing in temp:\n",
    "                return nums.index(num), temp.index(missing)\n",
    "        \n",
    "        else:\n",
    "            if missing in nums:\n",
    "                return nums.index(num), nums.index(missing)\n",
    "    "
   ]
  },
  {
   "cell_type": "code",
   "execution_count": 40,
   "metadata": {},
   "outputs": [
    {
     "data": {
      "text/plain": [
       "(0, 1)"
      ]
     },
     "execution_count": 40,
     "metadata": {},
     "output_type": "execute_result"
    }
   ],
   "source": [
    "two_sum(arr, target)"
   ]
  },
  {
   "cell_type": "markdown",
   "metadata": {},
   "source": [
    "# 3rd "
   ]
  },
  {
   "cell_type": "code",
   "execution_count": 44,
   "metadata": {},
   "outputs": [],
   "source": [
    "# Most effient solution\n",
    "\n",
    "arr = [2, 7, 11, 2]\n",
    "target = 4\n",
    "\n",
    "def two_sum(arr, target):\n",
    "    seen = {}\n",
    "    for idx, val in enumerate(arr):\n",
    "        missing = target - val\n",
    "        if missing in seen:\n",
    "            return idx, seen[missing]\n",
    "        else:\n",
    "            seen[val] = idx"
   ]
  },
  {
   "cell_type": "code",
   "execution_count": 45,
   "metadata": {},
   "outputs": [
    {
     "data": {
      "text/plain": [
       "(3, 0)"
      ]
     },
     "execution_count": 45,
     "metadata": {},
     "output_type": "execute_result"
    }
   ],
   "source": [
    "two_sum(arr, target)"
   ]
  },
  {
   "cell_type": "code",
   "execution_count": null,
   "metadata": {},
   "outputs": [],
   "source": []
  }
 ],
 "metadata": {
  "kernelspec": {
   "display_name": "Python 3",
   "language": "python",
   "name": "python3"
  },
  "language_info": {
   "codemirror_mode": {
    "name": "ipython",
    "version": 3
   },
   "file_extension": ".py",
   "mimetype": "text/x-python",
   "name": "python",
   "nbconvert_exporter": "python",
   "pygments_lexer": "ipython3",
   "version": "3.6.9"
  }
 },
 "nbformat": 4,
 "nbformat_minor": 4
}
