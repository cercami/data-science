{
 "cells": [
  {
   "cell_type": "markdown",
   "metadata": {},
   "source": [
    "https://leetcode.com/problems/distribute-candies/"
   ]
  },
  {
   "cell_type": "code",
   "execution_count": 5,
   "metadata": {},
   "outputs": [],
   "source": [
    "# GOOD APPROACH WITH TWO POINTERS, BUT FAR FROM BEST SOLUTION! SCROLL DOWN.\n",
    "\n",
    "# We have two pointers, one for brother and one for sister.\n",
    "# The pointers work on the unique elements\n",
    "# Sister takes one of each unique element, Brother takes after the sister,\n",
    "# and as many as he can get of that one kind\n",
    "\n",
    "candies = [1, 1, 2, 3]\n",
    "len_cand = len(candies)\n",
    "sis, bro = [], []\n",
    "sis_idx, bro_idx = 0, 0\n",
    "uniques = list(set(candies))\n",
    "\n",
    "for uniq in uniques:\n",
    "    if len(sis) < len_cand / 2:\n",
    "        sis.append(uniq)\n",
    "        candies.remove(uniq)\n",
    "\n",
    "    while len(bro) < len_cand / 2:\n",
    "        # what we gave the sister, is still available\n",
    "        if uniq in candies:\n",
    "            bro.append(uniques[bro_idx])\n",
    "            candies.remove(uniq)\n",
    "            break\n",
    "        else:\n",
    "            bro_idx += 1\n",
    "            if uniques[bro_idx] in candies:\n",
    "                bro.append(uniques[bro_idx])\n",
    "                candies.remove(uniques[bro_idx])\n",
    "            else:\n",
    "                continue"
   ]
  },
  {
   "cell_type": "code",
   "execution_count": 25,
   "metadata": {},
   "outputs": [],
   "source": [
    "# PERFECT SOLUTION\n",
    "\n",
    "candies = [1000,1000,2,1,2,5,3,1]\n",
    "\n",
    "# sister takes all unique candy\n",
    "sis = list(set(candies))\n",
    "\n",
    "#if these constitute more than half of all candy, she gives some back\n",
    "if len(sis) > len(candies) / 2:\n",
    "    sis = sis[:int(len(candies)/2)]\n",
    "#if she took too many, she can add random candy\n",
    "else:\n",
    "    to_take = int(len(candies) /2) - len(sis)\n",
    "    sis.extend(candies[:to_take])\n",
    "    \n",
    "# now remove what sister took from the candy pool\n",
    "# whats left, is brother's\n",
    "for ele in sis:\n",
    "    candies.remove(ele)\n",
    "bro = candies"
   ]
  },
  {
   "cell_type": "code",
   "execution_count": 28,
   "metadata": {},
   "outputs": [
    {
     "data": {
      "text/plain": [
       "[1, 2, 3, 5]"
      ]
     },
     "execution_count": 28,
     "metadata": {},
     "output_type": "execute_result"
    }
   ],
   "source": [
    "class Solution:\n",
    "    def distributeCandies(self, candies: List[int]) -> int:\n",
    "\n",
    "        sis = list(set(candies))\n",
    "\n",
    "        #if these constitute more than half of all candy, she gives some back\n",
    "        if len(sis) > len(candies) / 2:\n",
    "            sis = sis[:int(len(candies)/2)]\n",
    "        #if she took too many, she can add random candy\n",
    "        else:\n",
    "            to_take = int(len(candies) /2) - len(sis)\n",
    "            sis.extend(candies[:to_take])\n",
    "\n",
    "        return len(set(sis))"
   ]
  }
 ],
 "metadata": {
  "kernelspec": {
   "display_name": "Python 3",
   "language": "python",
   "name": "python3"
  },
  "language_info": {
   "codemirror_mode": {
    "name": "ipython",
    "version": 3
   },
   "file_extension": ".py",
   "mimetype": "text/x-python",
   "name": "python",
   "nbconvert_exporter": "python",
   "pygments_lexer": "ipython3",
   "version": "3.6.9"
  }
 },
 "nbformat": 4,
 "nbformat_minor": 4
}
