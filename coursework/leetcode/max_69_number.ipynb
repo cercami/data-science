{
 "cells": [
  {
   "cell_type": "markdown",
   "metadata": {},
   "source": [
    "https://leetcode.com/problems/maximum-69-number/submissions/"
   ]
  },
  {
   "cell_type": "code",
   "execution_count": null,
   "metadata": {},
   "outputs": [],
   "source": [
    "class Solution:\n",
    "    def maximum69Number (self, num: int) -> int:\n",
    "        \n",
    "        num = list(str(num))\n",
    "        for idx, digit in enumerate(num):\n",
    "            if digit == \"6\":\n",
    "                num[idx] = \"9\"\n",
    "                break\n",
    "        return int(\"\".join(num))"
   ]
  },
  {
   "cell_type": "code",
   "execution_count": 5,
   "metadata": {},
   "outputs": [],
   "source": [
    "class Solution:\n",
    "    def maximum69Number (self, num: int) -> int:\n",
    "        \n",
    "        num_list = list(str(num))\n",
    "        idx_6 = str(num).find(\"6\")\n",
    "\n",
    "        if idx_6 != -1:\n",
    "            num_list[idx_6] = \"9\"\n",
    "        \n",
    "        return int(\"\".join(num_list))"
   ]
  }
 ],
 "metadata": {
  "kernelspec": {
   "display_name": "Python 3",
   "language": "python",
   "name": "python3"
  },
  "language_info": {
   "codemirror_mode": {
    "name": "ipython",
    "version": 3
   },
   "file_extension": ".py",
   "mimetype": "text/x-python",
   "name": "python",
   "nbconvert_exporter": "python",
   "pygments_lexer": "ipython3",
   "version": "3.6.9"
  }
 },
 "nbformat": 4,
 "nbformat_minor": 4
}
