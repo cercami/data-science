{
 "cells": [
  {
   "cell_type": "markdown",
   "metadata": {},
   "source": [
    "https://leetcode.com/problems/can-place-flowers/"
   ]
  },
  {
   "cell_type": "markdown",
   "metadata": {},
   "source": [
    "Suppose you have a long flowerbed in which some of the plots are planted and some are not. However, flowers cannot be planted in adjacent plots - they would compete for water and both would die.\n",
    "\n",
    "Given a flowerbed (represented as an array containing 0 and 1, where 0 means empty and 1 means not empty), and a number n, return if n new flowers can be planted in it without violating the no-adjacent-flowers rule.\n",
    "\n",
    "Example 1:<br>\n",
    "Input: flowerbed = [1,0,0,0,1], n = 1<br>\n",
    "Output: True<br><br>\n",
    "Example 2:<br>\n",
    "Input: flowerbed = [1,0,0,0,1], n = 2<br>\n",
    "Output: False<br>"
   ]
  },
  {
   "cell_type": "code",
   "execution_count": 10,
   "metadata": {},
   "outputs": [
    {
     "name": "stdout",
     "output_type": "stream",
     "text": [
      "[1, 0, 1, 0, 0]\n",
      "[1, 0, 1, 0, 1]\n",
      "False\n"
     ]
    }
   ],
   "source": [
    "n = 1\n",
    "flowerbed = [0,0,1,0,0]\n",
    "\n",
    "for idx, val in enumerate(flowerbed):\n",
    "    \n",
    "    if n == 0:\n",
    "        break\n",
    "            \n",
    "    if val == 0:\n",
    "        before = 0 if idx == 0 else flowerbed[idx-1]\n",
    "        after = 0 if idx == (len(flowerbed)-1) else flowerbed[idx+1]\n",
    "\n",
    "        if not before and not after:\n",
    "            flowerbed[idx] = 1\n",
    "            n -= 1\n",
    "if n:\n",
    "    print( False)"
   ]
  },
  {
   "cell_type": "code",
   "execution_count": null,
   "metadata": {},
   "outputs": [],
   "source": [
    "class Solution:\n",
    "    def canPlaceFlowers(self, flowerbed: List[int], n: int) -> bool:\n",
    "        for idx, val in enumerate(flowerbed):\n",
    "            if n == 0:\n",
    "                break\n",
    "            if val == 0:\n",
    "                before = 0 if idx == 0 else flowerbed[idx-1]\n",
    "                after = 0 if idx == (len(flowerbed)-1) else flowerbed[idx+1]\n",
    "\n",
    "                if not before and not after:\n",
    "                    flowerbed[idx] = 1\n",
    "                    n -= 1\n",
    "                    \n",
    "        return False if n else True\n",
    "        "
   ]
  }
 ],
 "metadata": {
  "kernelspec": {
   "display_name": "Python 3",
   "language": "python",
   "name": "python3"
  },
  "language_info": {
   "codemirror_mode": {
    "name": "ipython",
    "version": 3
   },
   "file_extension": ".py",
   "mimetype": "text/x-python",
   "name": "python",
   "nbconvert_exporter": "python",
   "pygments_lexer": "ipython3",
   "version": "3.6.9"
  }
 },
 "nbformat": 4,
 "nbformat_minor": 4
}
