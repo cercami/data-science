{
 "cells": [
  {
   "cell_type": "markdown",
   "metadata": {},
   "source": [
    "### Variable assignment"
   ]
  },
  {
   "cell_type": "code",
   "execution_count": 1,
   "metadata": {},
   "outputs": [
    {
     "name": "stdout",
     "output_type": "stream",
     "text": [
      "5 0\n",
      "[1, 2, 3, 5] [1, 2, 3, 5]\n"
     ]
    }
   ],
   "source": [
    "a = 0\n",
    "b = a\n",
    "'''\n",
    "Here, the var b doesn't point to a. It is simply being assigned the same value as a has at that time\n",
    "It is same as saying:\n",
    "a = 0\n",
    "b = 0\n",
    "Why? Because strings are immutable.\n",
    "'''\n",
    "\n",
    "a += 5\n",
    "print(str(a), str(b))\n",
    "\n",
    "# Lists are mutable, so if you do the same thing, all variables will point to the same object.\n",
    "lista = [1, 2, 3]\n",
    "lista2 = lista\n",
    "lista.extend([5])\n",
    "print(lista, lista2)\n",
    "\n",
    "'''\n",
    "This is also why we don't have reassign mutable objects when we modify them, like lista = lista.extend([5])\n",
    "But we do need to do it with mutable objects:\n",
    "name = \"emil\"\n",
    "name = name.capitalize()\n",
    "''';"
   ]
  },
  {
   "cell_type": "markdown",
   "metadata": {},
   "source": [
    "### randrange vs randint"
   ]
  },
  {
   "cell_type": "code",
   "execution_count": 2,
   "metadata": {},
   "outputs": [
    {
     "data": {
      "text/plain": [
       "8"
      ]
     },
     "execution_count": 2,
     "metadata": {},
     "output_type": "execute_result"
    }
   ],
   "source": [
    "random.randrange(0,10)\n",
    "# this generates a number 0-9\n",
    "random.randint(0, 10)\n",
    "# this generates a number 0-10"
   ]
  },
  {
   "cell_type": "markdown",
   "metadata": {},
   "source": [
    "### Precedence in Python"
   ]
  },
  {
   "cell_type": "code",
   "execution_count": 7,
   "metadata": {},
   "outputs": [
    {
     "name": "stdout",
     "output_type": "stream",
     "text": [
      "8010\n",
      "27000\n"
     ]
    }
   ],
   "source": [
    "# Python respects precedence, use brackets to sidestep it.\n",
    "# Exponents, multiplication/division, addition/subtraction, \n",
    "# http://www.mathcs.emory.edu/~valerie/courses/fall10/155/resources/op_precedence.html\n",
    "\n",
    "print(10 + 20 **3)\n",
    "print( (10 + 20) **3)"
   ]
  },
  {
   "cell_type": "markdown",
   "metadata": {},
   "source": [
    "### Modulo operations"
   ]
  },
  {
   "cell_type": "code",
   "execution_count": 12,
   "metadata": {},
   "outputs": [
    {
     "name": "stdout",
     "output_type": "stream",
     "text": [
      "3\n",
      "2\n"
     ]
    }
   ],
   "source": [
    "print(8 % 5)\n",
    "\n",
    "# 5 (n) fits evenly inside 8 (x) only once, leaving the remainder of 3\n",
    "# In other words: you find the highest multiple of n, equal or lower than the target number, x.\n",
    "# Then you ask, how much higher is x than that.\n",
    "\n",
    "print(- 8 % 5)\n",
    "# In this case, -10 is the highest multiple qual or lower than -8, so this is your benchmark.\n"
   ]
  },
  {
   "cell_type": "markdown",
   "metadata": {},
   "source": [
    "### Booleans"
   ]
  },
  {
   "cell_type": "code",
   "execution_count": null,
   "metadata": {
    "collapsed": true
   },
   "outputs": [],
   "source": [
    "if a == False and b == True\n",
    "#is same as\n",
    "if not a and b"
   ]
  },
  {
   "cell_type": "code",
   "execution_count": 17,
   "metadata": {},
   "outputs": [
    {
     "name": "stdout",
     "output_type": "stream",
     "text": [
      "True\n",
      "False\n"
     ]
    }
   ],
   "source": [
    "# Boolean precedence is: NOT AND OR\n",
    "\n",
    "a = True\n",
    "b = False\n",
    "c = False\n",
    "\n",
    "print(a or b and c)\n",
    "print((a or b) and c)"
   ]
  },
  {
   "cell_type": "code",
   "execution_count": 16,
   "metadata": {
    "collapsed": true
   },
   "outputs": [],
   "source": []
  },
  {
   "cell_type": "code",
   "execution_count": null,
   "metadata": {
    "collapsed": true
   },
   "outputs": [],
   "source": []
  }
 ],
 "metadata": {
  "kernelspec": {
   "display_name": "Python 3",
   "language": "python",
   "name": "python3"
  },
  "language_info": {
   "codemirror_mode": {
    "name": "ipython",
    "version": 3
   },
   "file_extension": ".py",
   "mimetype": "text/x-python",
   "name": "python",
   "nbconvert_exporter": "python",
   "pygments_lexer": "ipython3",
   "version": "3.5.2"
  }
 },
 "nbformat": 4,
 "nbformat_minor": 2
}
