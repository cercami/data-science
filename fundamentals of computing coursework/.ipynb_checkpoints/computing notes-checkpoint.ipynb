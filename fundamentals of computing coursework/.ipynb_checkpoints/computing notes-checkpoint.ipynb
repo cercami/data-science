{
 "cells": [
  {
   "cell_type": "markdown",
   "metadata": {},
   "source": [
    "### Variable assignment  / aliasing"
   ]
  },
  {
   "cell_type": "code",
   "execution_count": 18,
   "metadata": {},
   "outputs": [
    {
     "name": "stdout",
     "output_type": "stream",
     "text": [
      "5 0\n"
     ]
    }
   ],
   "source": [
    "a = 0\n",
    "b = a\n",
    "'''\n",
    "Here, the var b doesn't point to a. It is simply being assigned the same value as a has at that time\n",
    "It is same as saying:\n",
    "a = 0\n",
    "b = 0\n",
    "Why? Because strings are immutable.\n",
    "'''\n",
    "\n",
    "a += 5\n",
    "print(str(a), str(b))"
   ]
  },
  {
   "cell_type": "code",
   "execution_count": 19,
   "metadata": {},
   "outputs": [
    {
     "name": "stdout",
     "output_type": "stream",
     "text": [
      "[1, 2, 3, 5] [1, 2, 3, 5]\n"
     ]
    }
   ],
   "source": [
    "# Lists are mutable, so if you do the same thing, all variables will point to the same object.\n",
    "lista = [1, 2, 3]\n",
    "lista2 = lista\n",
    "lista.extend([5])\n",
    "print(lista, lista2)\n",
    "\n",
    "'''\n",
    "This is also why we don't have reassign mutable objects when we modify them, like lista = lista.extend([5])\n",
    "But we do need to do it with mutable objects:\n",
    "name = \"emil\"\n",
    "name = name.capitalize()\n",
    "''';"
   ]
  },
  {
   "cell_type": "code",
   "execution_count": 28,
   "metadata": {
    "scrolled": true
   },
   "outputs": [
    {
     "name": "stdout",
     "output_type": "stream",
     "text": [
      "True\n",
      "10919456 10919456\n"
     ]
    }
   ],
   "source": [
    "a = 2; b = 2\n",
    "\n",
    "print(a is b)\n",
    "print(id(a), id(b))"
   ]
  },
  {
   "cell_type": "code",
   "execution_count": 25,
   "metadata": {},
   "outputs": [
    {
     "data": {
      "text/plain": [
       "(10919456, 10919456)"
      ]
     },
     "execution_count": 25,
     "metadata": {},
     "output_type": "execute_result"
    }
   ],
   "source": [
    "id(a), id(b)"
   ]
  },
  {
   "cell_type": "code",
   "execution_count": 30,
   "metadata": {},
   "outputs": [
    {
     "name": "stdout",
     "output_type": "stream",
     "text": [
      "False\n",
      "140148025762376 140148025779528\n"
     ]
    }
   ],
   "source": [
    "a = [1, 2, 3]\n",
    "b = [1, 2, 3]\n",
    "print(a is b)\n",
    "print(id(a), id(b))"
   ]
  },
  {
   "cell_type": "code",
   "execution_count": 4,
   "metadata": {},
   "outputs": [
    {
     "name": "stdout",
     "output_type": "stream",
     "text": [
      "100\n"
     ]
    }
   ],
   "source": [
    "# Python 2\n",
    "\n",
    "a = range(5)\n",
    "\n",
    "def mutate(a):\n",
    "    a[3] = 100\n",
    "\n",
    "mutate(a)\n",
    "print a[3]"
   ]
  },
  {
   "cell_type": "code",
   "execution_count": 5,
   "metadata": {},
   "outputs": [
    {
     "name": "stdout",
     "output_type": "stream",
     "text": [
      "100\n"
     ]
    }
   ],
   "source": [
    "a = range(5)\n",
    "\n",
    "def mutate(b):\n",
    "    a[3] = 100\n",
    "\n",
    "mutate(a)\n",
    "print a[3]"
   ]
  },
  {
   "cell_type": "code",
   "execution_count": 6,
   "metadata": {},
   "outputs": [
    {
     "name": "stdout",
     "output_type": "stream",
     "text": [
      "100\n"
     ]
    }
   ],
   "source": [
    "a = range(5)\n",
    "\n",
    "def mutate(my_var):\n",
    "    my_var[3] = 100\n",
    "\n",
    "mutate(a)\n",
    "print a[3]"
   ]
  },
  {
   "cell_type": "code",
   "execution_count": null,
   "metadata": {
    "collapsed": true
   },
   "outputs": [],
   "source": [
    "# Even if we create a local variable my_var which points to the object a, a is still mutated."
   ]
  },
  {
   "cell_type": "code",
   "execution_count": 45,
   "metadata": {},
   "outputs": [
    {
     "name": "stdout",
     "output_type": "stream",
     "text": [
      "([200, 2, 3], [1, 2, 3])\n"
     ]
    }
   ],
   "source": [
    "# We can create a separate list by calling list() \n",
    "lst1 = [1, 2, 3]\n",
    "lst2 = list(lst1)\n",
    "lst1[0] = 200\n",
    "print(lst1, lst2)"
   ]
  },
  {
   "cell_type": "code",
   "execution_count": 17,
   "metadata": {},
   "outputs": [
    {
     "name": "stdout",
     "output_type": "stream",
     "text": [
      "[200, 2, 3] [1, 2, 3]\n"
     ]
    }
   ],
   "source": [
    "#or indexing it my_list[:]\n",
    "lst1 = [1, 2, 3]\n",
    "lst2 = lst1[:]\n",
    "lst1[0] = 200\n",
    "print(lst1, lst2)"
   ]
  },
  {
   "cell_type": "code",
   "execution_count": 75,
   "metadata": {},
   "outputs": [
    {
     "name": "stdout",
     "output_type": "stream",
     "text": [
      "[[30, 60], [30, 60], [30, 60], [30, 60], [30, 60], [30, 60]]\n"
     ]
    }
   ],
   "source": [
    "coordinates = [5, 10]\n",
    "new_list = [coordinates]\n",
    "\n",
    "for i in range(5):\n",
    "    coordinates[0] += 5\n",
    "    coordinates[1] += 10\n",
    "    new_list.append(coordinates)\n",
    "    \n",
    "print(new_list)"
   ]
  },
  {
   "cell_type": "code",
   "execution_count": null,
   "metadata": {},
   "outputs": [],
   "source": [
    "# What happened here?\n",
    "# Because lists are mutable, this list has only one unique element - its the same list, 6 times."
   ]
  },
  {
   "cell_type": "markdown",
   "metadata": {},
   "source": [
    "\n",
    "\n",
    "Implement a group_by_owners function that:\n",
    "\n",
    "Accepts a dictionary containing the file owner name for each file name.<br>\n",
    "Returns a dictionary containing a list of file names for each owner name, in any order.<br><br>\n",
    "For example, for dictionary <br>{'Input.txt': 'Randy', 'Code.py': 'Stan', 'Output.txt': 'Randy'} <br> the group_by_owners function should return <br>{'Randy': ['Input.txt', 'Output.txt'], 'Stan': ['Code.py']}."
   ]
  },
  {
   "cell_type": "code",
   "execution_count": null,
   "metadata": {},
   "outputs": [],
   "source": [
    "class FileOwners:\n",
    "\n",
    "    @staticmethod\n",
    "    def group_by_owners(files):\n",
    "        \n",
    "        dic = {}\n",
    "        for key, value in files.items():\n",
    "            if value not in dic.keys():\n",
    "                dic[value] = [key]\n",
    "            else:\n",
    "                x = dic[value]\n",
    "                x.append(key)\n",
    "                dic[value] = x\n",
    "                \n",
    "                #why not this?\n",
    "                #dic[value] = dic[value].append(key)\n",
    "                # because lists are mutable, \"append\" returns None\n",
    "                \n",
    "        return dic\n",
    "\n",
    "files = {\n",
    "    'Input.txt': 'Randy',\n",
    "    'Code.py': 'Stan',\n",
    "    'Output.txt': 'Randy'\n",
    "}\n",
    "print(FileOwners.group_by_owners(files))\n"
   ]
  },
  {
   "cell_type": "markdown",
   "metadata": {},
   "source": [
    "### Dataframe mutability (same as lists)"
   ]
  },
  {
   "cell_type": "code",
   "execution_count": 12,
   "metadata": {},
   "outputs": [],
   "source": [
    "'''\n",
    "All pandas data structures are value-mutable (the values they contain can be altered) but not always size-mutable. \n",
    "The length of a Series cannot be changed, but, for example, columns can be inserted into a DataFrame. \n",
    "However, the vast majority of methods produce new objects and leave the input data untouched. \n",
    "In general we like to favor immutability where sensible.\n",
    "''';"
   ]
  },
  {
   "cell_type": "code",
   "execution_count": 1,
   "metadata": {},
   "outputs": [],
   "source": [
    "df = pd.DataFrame({'A' : 1, 'B' : 2}, index=[1, 2])"
   ]
  },
  {
   "cell_type": "code",
   "execution_count": 2,
   "metadata": {},
   "outputs": [
    {
     "data": {
      "text/html": [
       "<div>\n",
       "<style>\n",
       "    .dataframe thead tr:only-child th {\n",
       "        text-align: right;\n",
       "    }\n",
       "\n",
       "    .dataframe thead th {\n",
       "        text-align: left;\n",
       "    }\n",
       "\n",
       "    .dataframe tbody tr th {\n",
       "        vertical-align: top;\n",
       "    }\n",
       "</style>\n",
       "<table border=\"1\" class=\"dataframe\">\n",
       "  <thead>\n",
       "    <tr style=\"text-align: right;\">\n",
       "      <th></th>\n",
       "      <th>A</th>\n",
       "      <th>B</th>\n",
       "    </tr>\n",
       "  </thead>\n",
       "  <tbody>\n",
       "    <tr>\n",
       "      <th>1</th>\n",
       "      <td>1</td>\n",
       "      <td>2</td>\n",
       "    </tr>\n",
       "    <tr>\n",
       "      <th>2</th>\n",
       "      <td>1</td>\n",
       "      <td>2</td>\n",
       "    </tr>\n",
       "  </tbody>\n",
       "</table>\n",
       "</div>"
      ],
      "text/plain": [
       "   A  B\n",
       "1  1  2\n",
       "2  1  2"
      ]
     },
     "execution_count": 2,
     "metadata": {},
     "output_type": "execute_result"
    }
   ],
   "source": [
    "df"
   ]
  },
  {
   "cell_type": "code",
   "execution_count": 3,
   "metadata": {},
   "outputs": [],
   "source": [
    "df1 = df"
   ]
  },
  {
   "cell_type": "code",
   "execution_count": 4,
   "metadata": {},
   "outputs": [],
   "source": [
    "df.loc[1, 'A'] = 100"
   ]
  },
  {
   "cell_type": "code",
   "execution_count": 5,
   "metadata": {},
   "outputs": [
    {
     "data": {
      "text/html": [
       "<div>\n",
       "<style>\n",
       "    .dataframe thead tr:only-child th {\n",
       "        text-align: right;\n",
       "    }\n",
       "\n",
       "    .dataframe thead th {\n",
       "        text-align: left;\n",
       "    }\n",
       "\n",
       "    .dataframe tbody tr th {\n",
       "        vertical-align: top;\n",
       "    }\n",
       "</style>\n",
       "<table border=\"1\" class=\"dataframe\">\n",
       "  <thead>\n",
       "    <tr style=\"text-align: right;\">\n",
       "      <th></th>\n",
       "      <th>A</th>\n",
       "      <th>B</th>\n",
       "    </tr>\n",
       "  </thead>\n",
       "  <tbody>\n",
       "    <tr>\n",
       "      <th>1</th>\n",
       "      <td>100</td>\n",
       "      <td>2</td>\n",
       "    </tr>\n",
       "    <tr>\n",
       "      <th>2</th>\n",
       "      <td>1</td>\n",
       "      <td>2</td>\n",
       "    </tr>\n",
       "  </tbody>\n",
       "</table>\n",
       "</div>"
      ],
      "text/plain": [
       "     A  B\n",
       "1  100  2\n",
       "2    1  2"
      ]
     },
     "execution_count": 5,
     "metadata": {},
     "output_type": "execute_result"
    }
   ],
   "source": [
    "df"
   ]
  },
  {
   "cell_type": "code",
   "execution_count": 6,
   "metadata": {},
   "outputs": [
    {
     "data": {
      "text/html": [
       "<div>\n",
       "<style>\n",
       "    .dataframe thead tr:only-child th {\n",
       "        text-align: right;\n",
       "    }\n",
       "\n",
       "    .dataframe thead th {\n",
       "        text-align: left;\n",
       "    }\n",
       "\n",
       "    .dataframe tbody tr th {\n",
       "        vertical-align: top;\n",
       "    }\n",
       "</style>\n",
       "<table border=\"1\" class=\"dataframe\">\n",
       "  <thead>\n",
       "    <tr style=\"text-align: right;\">\n",
       "      <th></th>\n",
       "      <th>A</th>\n",
       "      <th>B</th>\n",
       "    </tr>\n",
       "  </thead>\n",
       "  <tbody>\n",
       "    <tr>\n",
       "      <th>1</th>\n",
       "      <td>100</td>\n",
       "      <td>2</td>\n",
       "    </tr>\n",
       "    <tr>\n",
       "      <th>2</th>\n",
       "      <td>1</td>\n",
       "      <td>2</td>\n",
       "    </tr>\n",
       "  </tbody>\n",
       "</table>\n",
       "</div>"
      ],
      "text/plain": [
       "     A  B\n",
       "1  100  2\n",
       "2    1  2"
      ]
     },
     "execution_count": 6,
     "metadata": {},
     "output_type": "execute_result"
    }
   ],
   "source": [
    "df1"
   ]
  },
  {
   "cell_type": "code",
   "execution_count": 7,
   "metadata": {},
   "outputs": [],
   "source": [
    "df = pd.DataFrame({'A' : 1, 'B' : 2}, index=[1, 2])\n",
    "\n",
    "\n",
    "def change(df):\n",
    "    # no need to declare it as global\n",
    "    df.loc[2, 'A'] = \"NEW\"\n",
    "\n",
    "change(df)"
   ]
  },
  {
   "cell_type": "code",
   "execution_count": 8,
   "metadata": {},
   "outputs": [
    {
     "data": {
      "text/html": [
       "<div>\n",
       "<style>\n",
       "    .dataframe thead tr:only-child th {\n",
       "        text-align: right;\n",
       "    }\n",
       "\n",
       "    .dataframe thead th {\n",
       "        text-align: left;\n",
       "    }\n",
       "\n",
       "    .dataframe tbody tr th {\n",
       "        vertical-align: top;\n",
       "    }\n",
       "</style>\n",
       "<table border=\"1\" class=\"dataframe\">\n",
       "  <thead>\n",
       "    <tr style=\"text-align: right;\">\n",
       "      <th></th>\n",
       "      <th>A</th>\n",
       "      <th>B</th>\n",
       "    </tr>\n",
       "  </thead>\n",
       "  <tbody>\n",
       "    <tr>\n",
       "      <th>1</th>\n",
       "      <td>1</td>\n",
       "      <td>2</td>\n",
       "    </tr>\n",
       "    <tr>\n",
       "      <th>2</th>\n",
       "      <td>NEW</td>\n",
       "      <td>2</td>\n",
       "    </tr>\n",
       "  </tbody>\n",
       "</table>\n",
       "</div>"
      ],
      "text/plain": [
       "     A  B\n",
       "1    1  2\n",
       "2  NEW  2"
      ]
     },
     "execution_count": 8,
     "metadata": {},
     "output_type": "execute_result"
    }
   ],
   "source": [
    "df"
   ]
  },
  {
   "cell_type": "code",
   "execution_count": 9,
   "metadata": {},
   "outputs": [
    {
     "data": {
      "text/plain": [
       "1    4\n",
       "2    4\n",
       "Name: B, dtype: int64"
      ]
     },
     "execution_count": 9,
     "metadata": {},
     "output_type": "execute_result"
    }
   ],
   "source": [
    "df['B'].apply(lambda x: x **2)"
   ]
  },
  {
   "cell_type": "code",
   "execution_count": 10,
   "metadata": {},
   "outputs": [
    {
     "data": {
      "text/html": [
       "<div>\n",
       "<style>\n",
       "    .dataframe thead tr:only-child th {\n",
       "        text-align: right;\n",
       "    }\n",
       "\n",
       "    .dataframe thead th {\n",
       "        text-align: left;\n",
       "    }\n",
       "\n",
       "    .dataframe tbody tr th {\n",
       "        vertical-align: top;\n",
       "    }\n",
       "</style>\n",
       "<table border=\"1\" class=\"dataframe\">\n",
       "  <thead>\n",
       "    <tr style=\"text-align: right;\">\n",
       "      <th></th>\n",
       "      <th>A</th>\n",
       "      <th>B</th>\n",
       "    </tr>\n",
       "  </thead>\n",
       "  <tbody>\n",
       "    <tr>\n",
       "      <th>1</th>\n",
       "      <td>1</td>\n",
       "      <td>2</td>\n",
       "    </tr>\n",
       "    <tr>\n",
       "      <th>2</th>\n",
       "      <td>NEW</td>\n",
       "      <td>2</td>\n",
       "    </tr>\n",
       "  </tbody>\n",
       "</table>\n",
       "</div>"
      ],
      "text/plain": [
       "     A  B\n",
       "1    1  2\n",
       "2  NEW  2"
      ]
     },
     "execution_count": 10,
     "metadata": {},
     "output_type": "execute_result"
    }
   ],
   "source": [
    "df"
   ]
  },
  {
   "cell_type": "markdown",
   "metadata": {},
   "source": [
    "### Class mutability"
   ]
  },
  {
   "cell_type": "code",
   "execution_count": 3,
   "metadata": {},
   "outputs": [
    {
     "name": "stdout",
     "output_type": "stream",
     "text": [
      "125\n",
      "4\n",
      "125\n"
     ]
    }
   ],
   "source": [
    "class Point1:\n",
    "    \n",
    "    def __init__(self, x, y):\n",
    "        self.x = x\n",
    "        self.y = y\n",
    "        \n",
    "    def set_x(self, newx):\n",
    "        self.x = newx\n",
    "    \n",
    "    def get_x(self):\n",
    "        return self.x\n",
    "    \n",
    "p = Point1(4, 5)\n",
    "q = Point1(4, 5)\n",
    "r = p\n",
    "\n",
    "p.set_x(125)\n",
    "\n",
    "print(p.get_x())\n",
    "print(q.get_x())\n",
    "print(r.get_x())\n",
    "\n",
    "\n",
    "# Custom classes are mutable"
   ]
  },
  {
   "cell_type": "code",
   "execution_count": 6,
   "metadata": {},
   "outputs": [
    {
     "name": "stdout",
     "output_type": "stream",
     "text": [
      "500\n",
      "500\n"
     ]
    }
   ],
   "source": [
    "class Point2:\n",
    "    def __init__(self, coordinates):\n",
    "        self.coords = coordinates\n",
    "    \n",
    "    def set_coord(self, index, value):\n",
    "        self.coords[index] = value\n",
    "    \n",
    "    def get_coord(self, index):\n",
    "        return self.coords[index]\n",
    "\n",
    "coordinates = [4, 5]\n",
    "p = Point2(coordinates)\n",
    "q = Point2(coordinates)\n",
    "\n",
    "# A change in the list, even after the creation of class instances, changes the class attribute\n",
    "# This is because it still points to the original list\n",
    "\n",
    "coordinates[0] = 500\n",
    "\n",
    "print(p.get_coord(0))\n",
    "print(q.get_coord(0))"
   ]
  },
  {
   "cell_type": "code",
   "execution_count": 11,
   "metadata": {},
   "outputs": [
    {
     "name": "stdout",
     "output_type": "stream",
     "text": [
      "10\n",
      "10\n",
      "4\n"
     ]
    }
   ],
   "source": [
    "# The mutation of this list can even happen inside of the class and still have a global effect\n",
    "\n",
    "class Point2:\n",
    "    def __init__(self, coordinates):\n",
    "        self.coords = coordinates\n",
    "    \n",
    "    def set_coord(self, index, value):\n",
    "        self.coords[index] = value\n",
    "    \n",
    "    def get_coord(self, index):\n",
    "        return self.coords[index]\n",
    "\n",
    "coordinates = [4, 5]\n",
    "p = Point2(coordinates)\n",
    "q = Point2(coordinates)\n",
    "r = Point2([4, 5])\n",
    "\n",
    "p.set_coord(0, 10)\n",
    "\n",
    "print(p.get_coord(0))\n",
    "print(q.get_coord(0))\n",
    "print(r.get_coord(0))\n"
   ]
  },
  {
   "cell_type": "code",
   "execution_count": 10,
   "metadata": {},
   "outputs": [],
   "source": [
    "class Spaceship:\n",
    "    def __init__(self):\n",
    "        self.thrust = False"
   ]
  },
  {
   "cell_type": "code",
   "execution_count": 11,
   "metadata": {},
   "outputs": [],
   "source": [
    "ship = Spaceship()"
   ]
  },
  {
   "cell_type": "code",
   "execution_count": 13,
   "metadata": {},
   "outputs": [],
   "source": [
    "ship.thrust = True"
   ]
  },
  {
   "cell_type": "code",
   "execution_count": 14,
   "metadata": {},
   "outputs": [
    {
     "data": {
      "text/plain": [
       "True"
      ]
     },
     "execution_count": 14,
     "metadata": {},
     "output_type": "execute_result"
    }
   ],
   "source": [
    "ship.thrust"
   ]
  },
  {
   "cell_type": "code",
   "execution_count": 12,
   "metadata": {},
   "outputs": [
    {
     "name": "stdout",
     "output_type": "stream",
     "text": [
      "10\n",
      "4\n",
      "4\n"
     ]
    }
   ],
   "source": [
    "# If you don't want to share state, redefine the list or use a Tuple\n",
    "\n",
    "\n",
    "class Point3:\n",
    "    def __init__(self, coordinates):\n",
    "        # THIS PART IS IMPORTANT\n",
    "        self.coords = list(coordinates)\n",
    "    \n",
    "    def set_coord(self, index, value):\n",
    "        self.coords[index] = value\n",
    "    \n",
    "    def get_coord(self, index):\n",
    "        return self.coords[index]\n",
    "\n",
    "coordinates = [4, 5]\n",
    "p = Point3(coordinates)\n",
    "q = Point3(coordinates)\n",
    "r = Point3([4, 5])\n",
    "\n",
    "p.set_coord(0, 10)\n",
    "\n",
    "print(p.get_coord(0))\n",
    "print(q.get_coord(0))\n",
    "print(r.get_coord(0))"
   ]
  },
  {
   "cell_type": "markdown",
   "metadata": {},
   "source": [
    "### Removing items from a list while iterating over the list"
   ]
  },
  {
   "cell_type": "code",
   "execution_count": 48,
   "metadata": {},
   "outputs": [
    {
     "name": "stdout",
     "output_type": "stream",
     "text": [
      "a\n",
      "c\n",
      "['b']\n"
     ]
    }
   ],
   "source": [
    "lst = [\"a\", \"b\", \"c\"]\n",
    "\n",
    "for letter in lst:\n",
    "    print(letter)\n",
    "    lst.remove(letter)\n",
    "\n",
    "print(lst)"
   ]
  },
  {
   "cell_type": "markdown",
   "metadata": {},
   "source": [
    "The iteration here skipped the element on index 1. Why? <br>\n",
    "It turns out you cannot remove elements of a list while iterating over it in a for-loop.<br>\n",
    "First, the for loop takes the first element (index 0) from the list, and removes it.\n",
    "So the new first element of the list is \"b\". But in the next iteration, it skips \"b\" as\n",
    "the for loop already iterated over index 0 of the list. So this element is never processed."
   ]
  },
  {
   "cell_type": "code",
   "execution_count": 11,
   "metadata": {
    "collapsed": true
   },
   "outputs": [],
   "source": [
    "lst = list(range(0, 10))\n",
    "to_remove = []\n",
    "\n",
    "for i in lst:\n",
    "    if i < 5:\n",
    "        to_remove.append(i)\n",
    "\n",
    "for item in to_remove:\n",
    "    lst.remove(item)\n",
    "\n",
    "# or:\n",
    "\n",
    "# This is dangerous as the indexes of a list will change as you pop elements from it\n",
    "# You may end up trying to remove an index that no longer exists (cos with every pop statement the index shifts)\n",
    "for item in to_remove:\n",
    "    lst.pop(lst.index(item))"
   ]
  },
  {
   "cell_type": "code",
   "execution_count": 16,
   "metadata": {},
   "outputs": [
    {
     "name": "stdout",
     "output_type": "stream",
     "text": [
      "abc\n",
      "bcd\n",
      "cdf\n",
      "[]\n"
     ]
    }
   ],
   "source": [
    "# Or even better, you can iterate over a copy of the list, while removing elements from the original list\n",
    "lst = [\"abc\", \"bcd\", \"cdf\"]\n",
    "\n",
    "for letter in list(lst):\n",
    "    print(letter)\n",
    "    lst.remove(letter)\n",
    "\n",
    "print(lst)"
   ]
  },
  {
   "cell_type": "markdown",
   "metadata": {},
   "source": [
    "### randrange vs randint"
   ]
  },
  {
   "cell_type": "code",
   "execution_count": 2,
   "metadata": {},
   "outputs": [
    {
     "data": {
      "text/plain": [
       "8"
      ]
     },
     "execution_count": 2,
     "metadata": {},
     "output_type": "execute_result"
    }
   ],
   "source": [
    "random.randrange(0,10)\n",
    "# this generates a number 0-9\n",
    "random.randint(0, 10)\n",
    "# this generates a number 0-10"
   ]
  },
  {
   "cell_type": "markdown",
   "metadata": {},
   "source": [
    "### Precedence in Python"
   ]
  },
  {
   "cell_type": "code",
   "execution_count": 7,
   "metadata": {},
   "outputs": [
    {
     "name": "stdout",
     "output_type": "stream",
     "text": [
      "8010\n",
      "27000\n"
     ]
    }
   ],
   "source": [
    "# Python respects precedence, use brackets to sidestep it.\n",
    "# Exponents, multiplication/division, addition/subtraction, \n",
    "# http://www.mathcs.emory.edu/~valerie/courses/fall10/155/resources/op_precedence.html\n",
    "\n",
    "print(10 + 20 **3)\n",
    "print( (10 + 20) **3)"
   ]
  },
  {
   "cell_type": "markdown",
   "metadata": {},
   "source": [
    "### Modulo operations"
   ]
  },
  {
   "cell_type": "code",
   "execution_count": 12,
   "metadata": {},
   "outputs": [
    {
     "name": "stdout",
     "output_type": "stream",
     "text": [
      "3\n",
      "2\n"
     ]
    }
   ],
   "source": [
    "print(8 % 5)\n",
    "\n",
    "# 5 (n) fits evenly inside 8 (x) only once, leaving the remainder of 3\n",
    "# In other words: you find the highest multiple of n, equal or lower than the target number, x.\n",
    "# Then you ask, how much higher is x than that.\n",
    "\n",
    "print(- 8 % 5)\n",
    "# In this case, -10 is the highest multiple qual or lower than -8, so this is your benchmark.\n"
   ]
  },
  {
   "cell_type": "markdown",
   "metadata": {},
   "source": [
    "### Booleans"
   ]
  },
  {
   "cell_type": "code",
   "execution_count": null,
   "metadata": {
    "collapsed": true
   },
   "outputs": [],
   "source": [
    "if a == False and b == True\n",
    "#is same as\n",
    "if not a and b"
   ]
  },
  {
   "cell_type": "code",
   "execution_count": 17,
   "metadata": {},
   "outputs": [
    {
     "name": "stdout",
     "output_type": "stream",
     "text": [
      "True\n",
      "False\n"
     ]
    }
   ],
   "source": [
    "# Boolean precedence is: NOT AND OR\n",
    "\n",
    "a = True\n",
    "b = False\n",
    "c = False\n",
    "\n",
    "print(a or b and c)\n",
    "print((a or b) and c)"
   ]
  },
  {
   "cell_type": "markdown",
   "metadata": {},
   "source": [
    "### Global vs Local variables"
   ]
  },
  {
   "cell_type": "code",
   "execution_count": 8,
   "metadata": {},
   "outputs": [
    {
     "name": "stdout",
     "output_type": "stream",
     "text": [
      "4\n"
     ]
    }
   ],
   "source": [
    "# You can access any variable you create in the global scope\n",
    "\n",
    "a = 4\n",
    "\n",
    "def fun():\n",
    "    print(str(a))\n",
    "\n",
    "fun()"
   ]
  },
  {
   "cell_type": "code",
   "execution_count": 9,
   "metadata": {},
   "outputs": [
    {
     "ename": "UnboundLocalError",
     "evalue": "local variable 'a' referenced before assignment",
     "output_type": "error",
     "traceback": [
      "\u001b[0;31m---------------------------------------------------------------------------\u001b[0m",
      "\u001b[0;31mUnboundLocalError\u001b[0m                         Traceback (most recent call last)",
      "\u001b[0;32m<ipython-input-9-df767df69592>\u001b[0m in \u001b[0;36m<module>\u001b[0;34m()\u001b[0m\n\u001b[1;32m      7\u001b[0m     \u001b[0ma\u001b[0m \u001b[0;34m+=\u001b[0m \u001b[0;36m1\u001b[0m\u001b[0;34m\u001b[0m\u001b[0m\n\u001b[1;32m      8\u001b[0m \u001b[0;34m\u001b[0m\u001b[0m\n\u001b[0;32m----> 9\u001b[0;31m \u001b[0mfun\u001b[0m\u001b[0;34m(\u001b[0m\u001b[0;34m)\u001b[0m\u001b[0;34m\u001b[0m\u001b[0m\n\u001b[0m",
      "\u001b[0;32m<ipython-input-9-df767df69592>\u001b[0m in \u001b[0;36mfun\u001b[0;34m()\u001b[0m\n\u001b[1;32m      5\u001b[0m \u001b[0;34m\u001b[0m\u001b[0m\n\u001b[1;32m      6\u001b[0m \u001b[0;32mdef\u001b[0m \u001b[0mfun\u001b[0m\u001b[0;34m(\u001b[0m\u001b[0;34m)\u001b[0m\u001b[0;34m:\u001b[0m\u001b[0;34m\u001b[0m\u001b[0m\n\u001b[0;32m----> 7\u001b[0;31m     \u001b[0ma\u001b[0m \u001b[0;34m+=\u001b[0m \u001b[0;36m1\u001b[0m\u001b[0;34m\u001b[0m\u001b[0m\n\u001b[0m\u001b[1;32m      8\u001b[0m \u001b[0;34m\u001b[0m\u001b[0m\n\u001b[1;32m      9\u001b[0m \u001b[0mfun\u001b[0m\u001b[0;34m(\u001b[0m\u001b[0;34m)\u001b[0m\u001b[0;34m\u001b[0m\u001b[0m\n",
      "\u001b[0;31mUnboundLocalError\u001b[0m: local variable 'a' referenced before assignment"
     ]
    }
   ],
   "source": [
    "# But you cannot modify it unless you declare it as global inside the function\n",
    "\n",
    "a = 4\n",
    "\n",
    "def fun():\n",
    "    a += 1\n",
    "\n",
    "fun()"
   ]
  },
  {
   "cell_type": "code",
   "execution_count": 10,
   "metadata": {},
   "outputs": [
    {
     "name": "stdout",
     "output_type": "stream",
     "text": [
      "5\n"
     ]
    }
   ],
   "source": [
    "a = 4\n",
    "\n",
    "def fun():\n",
    "    global a\n",
    "    a += 1\n",
    "\n",
    "fun()\n",
    "print(str(a))"
   ]
  },
  {
   "cell_type": "code",
   "execution_count": 12,
   "metadata": {},
   "outputs": [
    {
     "name": "stdout",
     "output_type": "stream",
     "text": [
      "[100, 3] {'a': 150, 'b': 2}\n"
     ]
    }
   ],
   "source": [
    "\n",
    "# However, this is not true for all types.\n",
    "# You can modify lists and dicts without declaring them as global \n",
    "# as it's unabiguous you're referring to existing objects (like modifying an existing key or position in list)\n",
    "\n",
    "a = [1, 3]\n",
    "b = {'a' : 1, 'b' : 2}\n",
    "\n",
    "def fun():\n",
    "    a[0] = 100\n",
    "    b['a'] = 150\n",
    "fun()\n",
    "print(a, b)"
   ]
  },
  {
   "cell_type": "code",
   "execution_count": 16,
   "metadata": {},
   "outputs": [
    {
     "name": "stdout",
     "output_type": "stream",
     "text": [
      "[1, 2, 3]\n"
     ]
    }
   ],
   "source": [
    "# However, you still cannot do assignment without using the global keyword, even on lists:\n",
    "\n",
    "lista = [1, 2, 3]\n",
    "\n",
    "def fun():\n",
    "    lista = 2\n",
    "\n",
    "fun()\n",
    "print(lista)"
   ]
  },
  {
   "cell_type": "markdown",
   "metadata": {
    "collapsed": true
   },
   "source": [
    "### Lists"
   ]
  },
  {
   "cell_type": "code",
   "execution_count": 19,
   "metadata": {},
   "outputs": [
    {
     "name": "stdout",
     "output_type": "stream",
     "text": [
      "1\n"
     ]
    }
   ],
   "source": [
    "lst = ['a', 'b', 'c']\n",
    "print(lst.index('b'))"
   ]
  },
  {
   "cell_type": "code",
   "execution_count": 20,
   "metadata": {},
   "outputs": [
    {
     "name": "stdout",
     "output_type": "stream",
     "text": [
      "['a', 'b', 'c', 'e']\n"
     ]
    }
   ],
   "source": [
    "# Append takes whatever you give it and appends to the end of the list\n",
    "lst.append(\"e\")\n",
    "print(lst)"
   ]
  },
  {
   "cell_type": "code",
   "execution_count": 21,
   "metadata": {},
   "outputs": [
    {
     "name": "stdout",
     "output_type": "stream",
     "text": [
      "['a', 'b', 'c', 'e', [1, 2, 3]]\n"
     ]
    }
   ],
   "source": [
    "lst.append([1, 2, 3])\n",
    "print(lst)"
   ]
  },
  {
   "cell_type": "code",
   "execution_count": 22,
   "metadata": {},
   "outputs": [
    {
     "name": "stdout",
     "output_type": "stream",
     "text": [
      "['a', 'b', 'c', 'e', [1, 2, 3], 100, 200, 300]\n"
     ]
    }
   ],
   "source": [
    "# Extend appends all elements of a list to the list, not the list itself (it flattens it)\n",
    "lst.extend([100, 200, 300])\n",
    "print(lst)\n"
   ]
  },
  {
   "cell_type": "code",
   "execution_count": 23,
   "metadata": {},
   "outputs": [
    {
     "name": "stdout",
     "output_type": "stream",
     "text": [
      "['a', 'c', 'e', [1, 2, 3], 100, 200, 300]\n"
     ]
    }
   ],
   "source": [
    "# pop takes an index, while remove takes a value\n",
    "lst.pop(1)\n",
    "print(lst)"
   ]
  },
  {
   "cell_type": "code",
   "execution_count": 24,
   "metadata": {},
   "outputs": [
    {
     "name": "stdout",
     "output_type": "stream",
     "text": [
      "['c', 'e', [1, 2, 3], 100, 200, 300]\n"
     ]
    }
   ],
   "source": [
    "lst.remove(\"a\")\n",
    "print(lst)"
   ]
  },
  {
   "cell_type": "markdown",
   "metadata": {
    "collapsed": true
   },
   "source": [
    "### Dictionaries"
   ]
  },
  {
   "cell_type": "code",
   "execution_count": 10,
   "metadata": {},
   "outputs": [
    {
     "name": "stdout",
     "output_type": "stream",
     "text": [
      "[3, 2, 1]\n"
     ]
    }
   ],
   "source": [
    "# Iterating over dicts\n",
    "\n",
    "d = {'a' : 1, 'b' : 2, 'c' : 3}\n",
    "lista = []\n",
    "\n",
    "for key in d:\n",
    "    lista.append(d[key])\n",
    "\n",
    "print(lista)"
   ]
  },
  {
   "cell_type": "code",
   "execution_count": 11,
   "metadata": {},
   "outputs": [
    {
     "name": "stdout",
     "output_type": "stream",
     "text": [
      "[3, 2, 1]\n"
     ]
    }
   ],
   "source": [
    "# This is more elegant\n",
    "\n",
    "d = {'a' : 1, 'b' : 2, 'c' : 3}\n",
    "lista = []\n",
    "\n",
    "for key, value in d.items():\n",
    "    lista.append(value)\n",
    "\n",
    "print(lista)"
   ]
  },
  {
   "cell_type": "markdown",
   "metadata": {},
   "source": [
    "### Unhashable type"
   ]
  },
  {
   "cell_type": "code",
   "execution_count": 1,
   "metadata": {},
   "outputs": [
    {
     "ename": "TypeError",
     "evalue": "unhashable type: 'list'",
     "output_type": "error",
     "traceback": [
      "\u001b[0;31m---------------------------------------------------------------------------\u001b[0m",
      "\u001b[0;31mTypeError\u001b[0m                                 Traceback (most recent call last)",
      "\u001b[0;32m<ipython-input-1-63968365ae7f>\u001b[0m in \u001b[0;36m<module>\u001b[0;34m()\u001b[0m\n\u001b[1;32m      1\u001b[0m \u001b[0mdct\u001b[0m \u001b[0;34m=\u001b[0m \u001b[0;34m{\u001b[0m\u001b[0;34m}\u001b[0m\u001b[0;34m\u001b[0m\u001b[0m\n\u001b[1;32m      2\u001b[0m \u001b[0;34m\u001b[0m\u001b[0m\n\u001b[0;32m----> 3\u001b[0;31m \u001b[0mdct\u001b[0m\u001b[0;34m[\u001b[0m \u001b[0;34m[\u001b[0m\u001b[0;34m'a'\u001b[0m\u001b[0;34m]\u001b[0m \u001b[0;34m]\u001b[0m \u001b[0;34m=\u001b[0m \u001b[0;36m1\u001b[0m\u001b[0;34m\u001b[0m\u001b[0m\n\u001b[0m",
      "\u001b[0;31mTypeError\u001b[0m: unhashable type: 'list'"
     ]
    }
   ],
   "source": [
    "dct = {}\n",
    "\n",
    "dct[ ['a'] ] = 1"
   ]
  },
  {
   "cell_type": "code",
   "execution_count": 4,
   "metadata": {},
   "outputs": [
    {
     "name": "stdout",
     "output_type": "stream",
     "text": [
      "{'a': 1}\n"
     ]
    }
   ],
   "source": [
    "# This error means, that it is expecting an immutable object as the dict key, but instead it got a list\n",
    "# Tuple is immutable, hence works:\n",
    "\n",
    "dct [ ('a') ] = 1\n",
    "print(dct)"
   ]
  },
  {
   "cell_type": "markdown",
   "metadata": {},
   "source": [
    "### Floor division"
   ]
  },
  {
   "cell_type": "code",
   "execution_count": 19,
   "metadata": {},
   "outputs": [
    {
     "data": {
      "text/plain": [
       "1"
      ]
     },
     "execution_count": 19,
     "metadata": {},
     "output_type": "execute_result"
    }
   ],
   "source": [
    "12 // 10"
   ]
  },
  {
   "cell_type": "code",
   "execution_count": null,
   "metadata": {
    "collapsed": true
   },
   "outputs": [],
   "source": [
    "\"\"\"You can use this class to represent how classy someone\n",
    "or something is.\n",
    "\"Classy\" is interchangable with \"fancy\".\n",
    "If you add fancy-looking items, you will increase\n",
    "your \"classiness\".\n",
    "Create a function in \"Classy\" that takes a string as\n",
    "input and adds it to the \"items\" list.\n",
    "Another method should calculate the \"classiness\"\n",
    "value based on the items.\n",
    "The following items have classiness points associated\n",
    "with them:\n",
    "\"tophat\" = 2\n",
    "\"bowtie\" = 4\n",
    "\"monocle\" = 5\n",
    "Everything else has 0 points.\n",
    "Use the test cases below to guide you!\"\"\"\n",
    "\n",
    "class Classy(object):\n",
    "    def __init__(self):\n",
    "        self.items = []\n",
    "        \n",
    "    def addItem(self, item):\n",
    "        self.items.append(item)\n",
    "        \n",
    "    def getClassiness(self):\n",
    "        score = 0\n",
    "        for item in self.items:\n",
    "            if item == \"tophat\":\n",
    "                score += 2\n",
    "            elif item == \"bowtie\":\n",
    "                score += 4\n",
    "            elif item == \"monocle\":\n",
    "                score +=5\n",
    "        return score\n",
    "\n",
    "# Test cases\n",
    "me = Classy()\n",
    "\n",
    "# Should be 0\n",
    "print me.getClassiness()\n",
    "\n",
    "me.addItem(\"tophat\")\n",
    "# Should be 2\n",
    "print me.getClassiness()\n",
    "\n",
    "me.addItem(\"bowtie\")\n",
    "me.addItem(\"jacket\")\n",
    "me.addItem(\"monocle\")\n",
    "# Should be 11\n",
    "print me.getClassiness()\n",
    "\n",
    "me.addItem(\"bowtie\")\n",
    "# Should be 15\n",
    "print me.getClassiness()"
   ]
  },
  {
   "cell_type": "markdown",
   "metadata": {},
   "source": [
    "### Overloading"
   ]
  },
  {
   "cell_type": "code",
   "execution_count": 3,
   "metadata": {},
   "outputs": [
    {
     "ename": "TypeError",
     "evalue": "__init__() takes 1 positional argument but 2 were given",
     "output_type": "error",
     "traceback": [
      "\u001b[0;31m---------------------------------------------------------------------------\u001b[0m",
      "\u001b[0;31mTypeError\u001b[0m                                 Traceback (most recent call last)",
      "\u001b[0;32m<ipython-input-3-51b4685c67ab>\u001b[0m in \u001b[0;36m<module>\u001b[0;34m()\u001b[0m\n\u001b[1;32m      6\u001b[0m \u001b[0;34m\u001b[0m\u001b[0m\n\u001b[1;32m      7\u001b[0m \u001b[0mone\u001b[0m \u001b[0;34m=\u001b[0m \u001b[0mOverload\u001b[0m\u001b[0;34m(\u001b[0m\u001b[0;34m)\u001b[0m\u001b[0;34m\u001b[0m\u001b[0m\n\u001b[0;32m----> 8\u001b[0;31m \u001b[0mtwo\u001b[0m \u001b[0;34m=\u001b[0m \u001b[0mOverload\u001b[0m\u001b[0;34m(\u001b[0m\u001b[0;34m\"hi\"\u001b[0m\u001b[0;34m)\u001b[0m\u001b[0;34m\u001b[0m\u001b[0m\n\u001b[0m",
      "\u001b[0;31mTypeError\u001b[0m: __init__() takes 1 positional argument but 2 were given"
     ]
    }
   ],
   "source": [
    "class Overload:\n",
    "    def __init__(self):\n",
    "        pass\n",
    "    def __inti__(self, x):\n",
    "        pass\n",
    "\n",
    "one = Overload()\n",
    "two = Overload(\"hi\")"
   ]
  },
  {
   "cell_type": "code",
   "execution_count": 14,
   "metadata": {},
   "outputs": [],
   "source": [
    "class BankAccount:\n",
    "    def __init__(self, initial_balance):\n",
    "        \"\"\"Creates an account with the given balance.\"\"\"\n",
    "        self.balance = initial_balance\n",
    "        self.fees = 0\n",
    "\n",
    "    def deposit(self, amount):\n",
    "        \"\"\"Deposits the amount into the account.\"\"\"\n",
    "        self.balance += amount\n",
    "\n",
    "    def withdraw(self, amount):\n",
    "        \"\"\"\n",
    "        Withdraws the amount from the account. Each withdrawal \n",
    "        resulting in a negative balance also deducts a penalty \n",
    "        fee of 5 dollars from the balance.\n",
    "        \"\"\"\n",
    "        self.balance -= amount\n",
    "        if self.balance < 0:\n",
    "            self.balance -= 5\n",
    "            self.fees += 5\n",
    "\n",
    "    def get_balance(self):\n",
    "        \"\"\"Returns the current balance in the account.\"\"\"\n",
    "        return self.balance\n",
    "\n",
    "    def get_fees(self):\n",
    "        \"\"\"Returns the total fees ever deducted from the account.\"\"\"\n",
    "        return self.fees"
   ]
  },
  {
   "cell_type": "code",
   "execution_count": 1,
   "metadata": {},
   "outputs": [],
   "source": [
    "n = 1000\n",
    "numbers = list(range(2, n))\n",
    "results = []\n",
    "remove = []\n",
    "\n",
    "while len(numbers) > 0:\n",
    "    results.append(numbers[0])\n",
    "    \n",
    "    for num in numbers:\n",
    "        if num % numbers[0] == 0:\n",
    "            remove.append(num)\n",
    "    \n",
    "    for item in remove:\n",
    "        if item in numbers:\n",
    "            numbers.remove(item)\n",
    "    \n",
    "    \n",
    "  "
   ]
  },
  {
   "cell_type": "markdown",
   "metadata": {},
   "source": [
    "### Storing functions in iterables"
   ]
  },
  {
   "cell_type": "code",
   "execution_count": 9,
   "metadata": {},
   "outputs": [
    {
     "data": {
      "text/plain": [
       "'hello'"
      ]
     },
     "execution_count": 9,
     "metadata": {},
     "output_type": "execute_result"
    }
   ],
   "source": [
    "def func():\n",
    "    return \"hello\"\n",
    "\n",
    "dic = {1: func}\n",
    "dic[1]()"
   ]
  },
  {
   "cell_type": "markdown",
   "metadata": {},
   "source": [
    "### Sets"
   ]
  },
  {
   "cell_type": "code",
   "execution_count": 11,
   "metadata": {},
   "outputs": [
    {
     "name": "stdout",
     "output_type": "stream",
     "text": [
      "{'jon', 'hi', 'emil'}\n"
     ]
    }
   ],
   "source": [
    "# Sets are mutable and unordered\n",
    "\n",
    "s = set(['emil', 'jon'])\n",
    "s1 = set(['emil'])\n",
    "\n",
    "s.add(\"hi\")\n",
    "\n",
    "print(s)"
   ]
  },
  {
   "cell_type": "code",
   "execution_count": 12,
   "metadata": {},
   "outputs": [
    {
     "ename": "TypeError",
     "evalue": "'set' object does not support indexing",
     "output_type": "error",
     "traceback": [
      "\u001b[0;31m---------------------------------------------------------------------------\u001b[0m",
      "\u001b[0;31mTypeError\u001b[0m                                 Traceback (most recent call last)",
      "\u001b[0;32m<ipython-input-12-f8bb2b116405>\u001b[0m in \u001b[0;36m<module>\u001b[0;34m()\u001b[0m\n\u001b[0;32m----> 1\u001b[0;31m \u001b[0ms\u001b[0m\u001b[0;34m[\u001b[0m\u001b[0;36m1\u001b[0m\u001b[0;34m]\u001b[0m\u001b[0;34m\u001b[0m\u001b[0m\n\u001b[0m",
      "\u001b[0;31mTypeError\u001b[0m: 'set' object does not support indexing"
     ]
    }
   ],
   "source": [
    "s[1]"
   ]
  },
  {
   "cell_type": "code",
   "execution_count": 13,
   "metadata": {},
   "outputs": [
    {
     "data": {
      "text/plain": [
       "{'hi', 'jon'}"
      ]
     },
     "execution_count": 13,
     "metadata": {},
     "output_type": "execute_result"
    }
   ],
   "source": [
    "# You can use this method to modify a set in-place\n",
    "s.difference_update(s1)\n",
    "# there is also s.intersection_update(s1)\n",
    "s"
   ]
  },
  {
   "cell_type": "code",
   "execution_count": 14,
   "metadata": {},
   "outputs": [
    {
     "name": "stdout",
     "output_type": "stream",
     "text": [
      "{'jon'}\n"
     ]
    }
   ],
   "source": [
    "# or use set operators to subtract sets\n",
    "\n",
    "s = set(['emil', 'jon'])\n",
    "s1 = set(['emil'])\n",
    "\n",
    "print(s - s1)"
   ]
  },
  {
   "cell_type": "code",
   "execution_count": 18,
   "metadata": {},
   "outputs": [
    {
     "name": "stdout",
     "output_type": "stream",
     "text": [
      "{'jon', 'emil'}\n"
     ]
    }
   ],
   "source": [
    "# Just like with the lists, you cannot iterate over a set while removing elements from it\n",
    "# You must either create a second list with elements to remove, or iterate over a copy (list) of a set\n",
    "\n",
    "s = set(['emil', 'jon', 'scott'])\n",
    "\n",
    "for element in list(s):\n",
    "    if \"tt\" in element:\n",
    "        s.remove(element)\n",
    "\n",
    "print(s)\n"
   ]
  },
  {
   "cell_type": "code",
   "execution_count": 19,
   "metadata": {},
   "outputs": [
    {
     "name": "stdout",
     "output_type": "stream",
     "text": [
      "{4, 5} {4, 5}\n"
     ]
    }
   ],
   "source": [
    "# Sets are mutable and behave the same way as lists\n",
    "\n",
    "s = set([1, 2, 3, 4, 5])\n",
    "t = s\n",
    "\n",
    "s.intersection_update([4, 5])\n",
    "print(t, s)"
   ]
  },
  {
   "cell_type": "code",
   "execution_count": 12,
   "metadata": {},
   "outputs": [
    {
     "data": {
      "text/plain": [
       "[2, 3, 4]"
      ]
     },
     "execution_count": 12,
     "metadata": {},
     "output_type": "execute_result"
    }
   ],
   "source": [
    "lst = [1, 2, 3, 4]\n",
    "lst[-3:]"
   ]
  },
  {
   "cell_type": "code",
   "execution_count": 10,
   "metadata": {},
   "outputs": [],
   "source": [
    "def appendsums(lst): \n",
    "    \"\"\" \n",
    "    Repeatedly append the sum of the current last three elements \n",
    "    of lst to lst. Does it 25 times.\n",
    "    \"\"\"\n",
    "    for _ in range(25):\n",
    "        lst.append(sum(lst[-3:]))\n",
    "    "
   ]
  },
  {
   "cell_type": "code",
   "execution_count": 13,
   "metadata": {},
   "outputs": [
    {
     "name": "stdout",
     "output_type": "stream",
     "text": [
      "101902\n"
     ]
    }
   ],
   "source": [
    "sum_three = [0, 1, 2]\n",
    "appendsums(sum_three)\n",
    "print(sum_three[20])"
   ]
  },
  {
   "cell_type": "markdown",
   "metadata": {},
   "source": [
    "### Building a grid"
   ]
  },
  {
   "cell_type": "code",
   "execution_count": 37,
   "metadata": {},
   "outputs": [],
   "source": [
    "GRID_HEIGHT = 4\n",
    "GRID_WIDTH = 6\n",
    "\n",
    "# Create a rectangular grid using nested list comprehension \n",
    "# Inner comprehension creates a single row\n",
    "EXAMPLE_GRID = [[col for col in range(GRID_WIDTH)] for row in range(GRID_HEIGHT)]"
   ]
  },
  {
   "cell_type": "code",
   "execution_count": 38,
   "metadata": {},
   "outputs": [
    {
     "data": {
      "text/plain": [
       "[[0, 1, 2, 3, 4, 5],\n",
       " [0, 1, 2, 3, 4, 5],\n",
       " [0, 1, 2, 3, 4, 5],\n",
       " [0, 1, 2, 3, 4, 5]]"
      ]
     },
     "execution_count": 38,
     "metadata": {},
     "output_type": "execute_result"
    }
   ],
   "source": [
    "EXAMPLE_GRID"
   ]
  },
  {
   "cell_type": "code",
   "execution_count": 41,
   "metadata": {},
   "outputs": [
    {
     "name": "stdout",
     "output_type": "stream",
     "text": [
      "print out values in grid\n",
      "[0, 1, 2, 3, 4, 5]\n",
      "[1, 2, 3, 4, 5, 6]\n",
      "[2, 3, 4, 5, 6, 7]\n",
      "[3, 4, 5, 6, 7, 8]\n",
      "Traversing first row\n",
      "Processing cell (0, 0)\n",
      "with value 0\n",
      "Processing cell (0, 1)\n",
      "with value 1\n",
      "Processing cell (0, 2)\n",
      "with value 2\n",
      "Processing cell (0, 3)\n",
      "with value 3\n",
      "Processing cell (0, 4)\n",
      "with value 4\n",
      "Processing cell (0, 5)\n",
      "with value 5\n",
      "Traversing second column\n",
      "Processing cell (0, 1)\n",
      "with value 1\n",
      "Processing cell (1, 1)\n",
      "with value 2\n",
      "Processing cell (2, 1)\n",
      "with value 3\n",
      "Processing cell (3, 1)\n",
      "with value 4\n",
      "Traversing second column in reverse order\n",
      "Processing cell (3, 1)\n",
      "with value 4\n",
      "Processing cell (2, 1)\n",
      "with value 3\n",
      "Processing cell (1, 1)\n",
      "with value 2\n",
      "Processing cell (0, 1)\n",
      "with value 1\n",
      "Traversing diagonal\n",
      "Processing cell (0, 0)\n",
      "with value 0\n",
      "Processing cell (1, 1)\n",
      "with value 2\n",
      "Processing cell (2, 2)\n",
      "with value 4\n",
      "Processing cell (3, 3)\n",
      "with value 6\n"
     ]
    }
   ],
   "source": [
    "\"\"\"\n",
    "Create a rectagular grid and iterate through \n",
    "a subset of its cells in a specified direction\n",
    "\"\"\"\n",
    "\n",
    "GRID_HEIGHT = 4\n",
    "GRID_WIDTH = 6\n",
    "\n",
    "# Create a rectangular grid using nested list comprehension \n",
    "# Inner comprehension creates a single row\n",
    "EXAMPLE_GRID = [[row + col for col in range(GRID_WIDTH)]\n",
    "                           for row in range(GRID_HEIGHT)]\n",
    "\n",
    "def traverse_grid(start_cell, direction, num_steps):\n",
    "    \"\"\"\n",
    "    Function that iterates through the cells in a grid\n",
    "    in a linear direction\n",
    "    \n",
    "    Both start_cell is a tuple(row, col) denoting the\n",
    "    starting cell\n",
    "    \n",
    "    direction is a tuple that contains difference between\n",
    "    consecutive cells in the traversal\n",
    "    \"\"\"\n",
    "    \n",
    "    for step in range(num_steps):\n",
    "        row = start_cell[0] + step * direction[0]\n",
    "        col = start_cell[1] + step * direction[1]\n",
    "        print(\"Processing cell\", (row, col))\n",
    "        print(\"with value\", EXAMPLE_GRID[row][col])\n",
    "\n",
    "def run_example():\n",
    "    \"\"\"\n",
    "    Run several example calls of traverse_grid()\n",
    "    \"\"\"\n",
    "    print(\"print out values in grid\")\n",
    "    for row in range(GRID_HEIGHT):\n",
    "        print(EXAMPLE_GRID[row])\n",
    "    \n",
    "    print(\"Traversing first row\")\n",
    "    traverse_grid((0, 0), (0, 1), GRID_WIDTH)\n",
    "    \n",
    "    print(\"Traversing second column\")\n",
    "    traverse_grid((0, 1), (1, 0), GRID_HEIGHT)\n",
    "    \n",
    "    print(\"Traversing second column in reverse order\")\n",
    "    traverse_grid((GRID_HEIGHT - 1, 1), (-1, 0), GRID_HEIGHT)\n",
    "    \n",
    "    print(\"Traversing diagonal\")\n",
    "    traverse_grid((0, 0), (1, 1), min(GRID_WIDTH, GRID_HEIGHT))\n",
    "    \n",
    "run_example()\n",
    "\n",
    "\n"
   ]
  },
  {
   "cell_type": "markdown",
   "metadata": {},
   "source": [
    "### Polynomial functions"
   ]
  },
  {
   "cell_type": "code",
   "execution_count": 1,
   "metadata": {},
   "outputs": [],
   "source": [
    "def poly(x):\n",
    "    return 2 * x **2"
   ]
  },
  {
   "cell_type": "code",
   "execution_count": 2,
   "metadata": {},
   "outputs": [],
   "source": [
    "x = []\n",
    "y = []\n",
    "for i in range(20):\n",
    "    x.append(i)\n",
    "    y.append(poly(i))"
   ]
  },
  {
   "cell_type": "code",
   "execution_count": 3,
   "metadata": {},
   "outputs": [],
   "source": [
    "import matplotlib.pyplot as plt"
   ]
  },
  {
   "cell_type": "code",
   "execution_count": 4,
   "metadata": {},
   "outputs": [
    {
     "data": {
      "text/plain": [
       "[<matplotlib.lines.Line2D at 0x7fee8dc8b358>]"
      ]
     },
     "execution_count": 4,
     "metadata": {},
     "output_type": "execute_result"
    },
    {
     "data": {
      "image/png": "[encoded data removed]",
      "text/plain": [
       "<Figure size 432x288 with 1 Axes>"
      ]
     },
     "metadata": {
      "needs_background": "light"
     },
     "output_type": "display_data"
    }
   ],
   "source": [
    "plt.plot(x, y)"
   ]
  },
  {
   "cell_type": "code",
   "execution_count": 66,
   "metadata": {},
   "outputs": [],
   "source": [
    "x = [300000, 200000, 400000, 300000, 100000]\n",
    "y = [60000, 50000, 90000, 80000, 30000]"
   ]
  },
  {
   "cell_type": "code",
   "execution_count": 67,
   "metadata": {},
   "outputs": [
    {
     "data": {
      "text/plain": [
       "<matplotlib.collections.PathCollection at 0x7fde8c395a20>"
      ]
     },
     "execution_count": 67,
     "metadata": {},
     "output_type": "execute_result"
    }
   ],
   "source": [
    "plt.scatter(x, y)"
   ]
  },
  {
   "cell_type": "code",
   "execution_count": 68,
   "metadata": {},
   "outputs": [
    {
     "data": {
      "image/png": "[encoded data removed]",
      "text/plain": [
       "<matplotlib.figure.Figure at 0x7fde8c289080>"
      ]
     },
     "metadata": {},
     "output_type": "display_data"
    }
   ],
   "source": [
    "plt.show()"
   ]
  },
  {
   "cell_type": "code",
   "execution_count": 69,
   "metadata": {},
   "outputs": [],
   "source": [
    "from sklearn import linear_model"
   ]
  },
  {
   "cell_type": "code",
   "execution_count": 70,
   "metadata": {},
   "outputs": [
    {
     "name": "stdout",
     "output_type": "stream",
     "text": [
      "[[ 250877.19298246]]\n"
     ]
    }
   ],
   "source": [
    "import numpy as np\n",
    "from sklearn import linear_model\n",
    "\n",
    "class MarketingCosts:\n",
    "\n",
    "    # param marketing_expenditure list. Expenditure for each previous campaign.\n",
    "    # param units_sold list. The number of units sold for each previous campaign.\n",
    "    # param desired_units_sold int. Target number of units to sell in the new campaign.\n",
    "    # returns float. Required amount of money to be invested.\n",
    "    @staticmethod\n",
    "    def desired_marketing_expenditure(marketing_expenditure, units_sold, desired_units_sold):\n",
    "        lm = linear_model.LinearRegression()\n",
    "        cost = np.array(marketing_expenditure).reshape(-1, 1)\n",
    "        sales = np.array(units_sold).reshape(-1, 1)\n",
    "        \n",
    "        lm.fit(X=sales, y=cost)\n",
    "        pred = lm.predict(np.array(desired_units_sold))\n",
    "        return pred\n",
    "\n",
    "print(MarketingCosts.desired_marketing_expenditure(\n",
    "    [300000, 200000, 400000, 300000, 100000],\n",
    "    [60000, 50000, 90000, 80000, 30000],\n",
    "    60000))"
   ]
  },
  {
   "cell_type": "markdown",
   "metadata": {},
   "source": [
    "### Scientific Notation"
   ]
  },
  {
   "cell_type": "code",
   "execution_count": null,
   "metadata": {},
   "outputs": [],
   "source": [
    "# What is the mantissa for 0.004001000 when expressed in scientific notation?\n"
   ]
  },
  {
   "cell_type": "markdown",
   "metadata": {},
   "source": [
    "### Objects and References"
   ]
  },
  {
   "cell_type": "code",
   "execution_count": 19,
   "metadata": {},
   "outputs": [],
   "source": [
    "mylist = ['a', 'b', 'c']\n",
    "yourlist = mylist\n",
    "mylist[1] = 42\n",
    "mylist = [5, 4, 3, 2, 1]"
   ]
  },
  {
   "cell_type": "code",
   "execution_count": 20,
   "metadata": {},
   "outputs": [
    {
     "data": {
      "text/plain": [
       "[5, 4, 3, 2, 1]"
      ]
     },
     "execution_count": 20,
     "metadata": {},
     "output_type": "execute_result"
    }
   ],
   "source": [
    "mylist"
   ]
  },
  {
   "cell_type": "code",
   "execution_count": 21,
   "metadata": {},
   "outputs": [
    {
     "data": {
      "text/plain": [
       "['a', 42, 'c']"
      ]
     },
     "execution_count": 21,
     "metadata": {},
     "output_type": "execute_result"
    }
   ],
   "source": [
    "yourlist"
   ]
  },
  {
   "cell_type": "code",
   "execution_count": 22,
   "metadata": {},
   "outputs": [],
   "source": [
    "def func(alist):\n",
    "    alist[2] = 100\n",
    "    return alist\n",
    "\n",
    "mylist = ['a', 'b', 'c']\n",
    "yourlist = func(mylist)"
   ]
  },
  {
   "cell_type": "code",
   "execution_count": 24,
   "metadata": {},
   "outputs": [
    {
     "data": {
      "text/plain": [
       "['a', 'b', 100]"
      ]
     },
     "execution_count": 24,
     "metadata": {},
     "output_type": "execute_result"
    }
   ],
   "source": [
    "mylist"
   ]
  },
  {
   "cell_type": "code",
   "execution_count": 25,
   "metadata": {},
   "outputs": [
    {
     "data": {
      "text/plain": [
       "['a', 'b', 100]"
      ]
     },
     "execution_count": 25,
     "metadata": {},
     "output_type": "execute_result"
    }
   ],
   "source": [
    "yourlist"
   ]
  },
  {
   "cell_type": "code",
   "execution_count": 37,
   "metadata": {},
   "outputs": [
    {
     "data": {
      "text/plain": [
       "18"
      ]
     },
     "execution_count": 37,
     "metadata": {},
     "output_type": "execute_result"
    }
   ],
   "source": [
    "'''\n",
    "Consider a dice game in which you roll two dice. \n",
    "If the sum of the dice is odd, you win $1. \n",
    "If the sum of the dice is even, you lose $1. \n",
    "What is the expected value (in terms of your winnings) of a single roll in this game?\n",
    "''';\n",
    "\n",
    "scores = []\n",
    "for num1 in range(1, 7):\n",
    "    for num2 in range(1, 7):\n",
    "        scores.append(num1 + num2)\n",
    "\n",
    "len([ num for num in scores if num % 2 == 0])\n",
    "# Both events have the probability of 18 / 36."
   ]
  },
  {
   "cell_type": "code",
   "execution_count": null,
   "metadata": {},
   "outputs": [],
   "source": []
  },
  {
   "cell_type": "markdown",
   "metadata": {},
   "source": [
    "### Arithmetic sum"
   ]
  },
  {
   "cell_type": "code",
   "execution_count": 41,
   "metadata": {},
   "outputs": [],
   "source": [
    "#the arithmetic sum of  0 + 1 + 2 + .. + k  has the value 0.5k(k + 1 )\n",
    "# So you only need the last element of the array to compute the sum"
   ]
  },
  {
   "cell_type": "code",
   "execution_count": 42,
   "metadata": {},
   "outputs": [
    {
     "data": {
      "text/plain": [
       "21.0"
      ]
     },
     "execution_count": 42,
     "metadata": {},
     "output_type": "execute_result"
    }
   ],
   "source": [
    "def arithmetic_sum(k):\n",
    "    return 0.5 * k * (k + 1)\n",
    "\n",
    "arithmetic_sum(6)"
   ]
  },
  {
   "cell_type": "markdown",
   "metadata": {},
   "source": [
    "### Card Probability"
   ]
  },
  {
   "cell_type": "code",
   "execution_count": 44,
   "metadata": {},
   "outputs": [],
   "source": [
    "'''\n",
    "Given a standard deck of 52 cards, what is the probability \n",
    "that two cards drawn at random will have the same rank? \n",
    "Note that first card drawn is not added back into the deck when the second card is drawn.\n",
    "''';"
   ]
  },
  {
   "cell_type": "code",
   "execution_count": 45,
   "metadata": {},
   "outputs": [],
   "source": [
    "# There are 4 colors in a deck, each color has 13 ranks\n",
    "# If you draw one card, you are left with 3 colors x 13 cards, and 1 color x 12 cards.\n",
    "# To have the same rank, the card has to belong to the remaining 3 colors\n",
    "# Say, if the first card you drew was Queen of Hearts, the event can only happen with:\n",
    "# Queen of Spades, Queen of Diamonds and Queen of Clubs (3 cards in total)\n",
    "# Hence = 3/51 = 1/17."
   ]
  },
  {
   "cell_type": "markdown",
   "metadata": {},
   "source": [
    "### Expected Value GPA"
   ]
  },
  {
   "cell_type": "code",
   "execution_count": 46,
   "metadata": {},
   "outputs": [],
   "source": [
    "'''\n",
    "What is the mean GPA of class where \n",
    "30% of the students have 4.0 GPA, \n",
    "40% of the students have a 3.0 GPA \n",
    "and 20% of the students have 2.0 GPA, \n",
    "and 10% of the student have a 1.0 GPA?\n",
    "''';"
   ]
  },
  {
   "cell_type": "code",
   "execution_count": 48,
   "metadata": {},
   "outputs": [
    {
     "data": {
      "text/plain": [
       "2.9"
      ]
     },
     "execution_count": 48,
     "metadata": {},
     "output_type": "execute_result"
    }
   ],
   "source": [
    "round((0.3 * 4) + (0.4 * 3) + (0.2 * 2) + (0.1 * 1), 2)"
   ]
  },
  {
   "cell_type": "code",
   "execution_count": 16,
   "metadata": {},
   "outputs": [],
   "source": [
    "a += 1"
   ]
  },
  {
   "cell_type": "code",
   "execution_count": 17,
   "metadata": {},
   "outputs": [
    {
     "data": {
      "text/plain": [
       "2"
      ]
     },
     "execution_count": 17,
     "metadata": {},
     "output_type": "execute_result"
    }
   ],
   "source": [
    "a"
   ]
  },
  {
   "cell_type": "code",
   "execution_count": 18,
   "metadata": {},
   "outputs": [
    {
     "data": {
      "text/plain": [
       "1"
      ]
     },
     "execution_count": 18,
     "metadata": {},
     "output_type": "execute_result"
    }
   ],
   "source": [
    "b"
   ]
  },
  {
   "cell_type": "code",
   "execution_count": null,
   "metadata": {},
   "outputs": [],
   "source": []
  }
 ],
 "metadata": {
  "kernelspec": {
   "display_name": "Python 3",
   "language": "python",
   "name": "python3"
  },
  "language_info": {
   "codemirror_mode": {
    "name": "ipython",
    "version": 3
   },
   "file_extension": ".py",
   "mimetype": "text/x-python",
   "name": "python",
   "nbconvert_exporter": "python",
   "pygments_lexer": "ipython3",
   "version": "3.6.7"
  }
 },
 "nbformat": 4,
 "nbformat_minor": 2
}
