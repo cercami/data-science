{
 "cells": [
  {
   "cell_type": "markdown",
   "metadata": {},
   "source": [
    "### Mini Project #1"
   ]
  },
  {
   "cell_type": "code",
   "execution_count": 39,
   "metadata": {},
   "outputs": [
    {
     "name": "stdout",
     "output_type": "stream",
     "text": [
      "\n",
      "\n",
      "Player chooses rock\n",
      "Computer chooses scissors\n",
      "Player wins!\n",
      "\n",
      "\n",
      "Player chooses Spock\n",
      "Computer chooses Spock\n",
      "Player and computer tie!\n",
      "\n",
      "\n",
      "Player chooses paper\n",
      "Computer chooses lizard\n",
      "Computer wins!\n",
      "\n",
      "\n",
      "Player chooses lizard\n",
      "Computer chooses rock\n",
      "Computer wins!\n",
      "\n",
      "\n",
      "Player chooses scissors\n",
      "Computer chooses rock\n",
      "Computer wins!\n"
     ]
    }
   ],
   "source": [
    "# Rock-paper-scissors-lizard-Spock template\n",
    "\n",
    "\n",
    "# The key idea of this program is to equate the strings\n",
    "# \"rock\", \"paper\", \"scissors\", \"lizard\", \"Spock\" to numbers\n",
    "# as follows:\n",
    "#\n",
    "# 0 - rock\n",
    "# 1 - Spock\n",
    "# 2 - paper\n",
    "# 3 - lizard\n",
    "# 4 - scissors\n",
    "\n",
    "#https://py3.codeskulptor.org/#user302_ltgEl1cafF7lw3U_6.py\n",
    "\n",
    "import random\n",
    "\n",
    "def name_to_number(name):\n",
    "    if name == \"rock\":\n",
    "        number = 0\n",
    "    elif name == \"Spock\":\n",
    "        number = 1\n",
    "    elif name == \"paper\":\n",
    "        number = 2\n",
    "    elif name == \"lizard\":\n",
    "        number = 3\n",
    "    elif name == \"scissors\":\n",
    "        number = 4\n",
    "    else:\n",
    "        print(\"unknown name\")\n",
    "    \n",
    "    return number\n",
    "\n",
    "def number_to_name(number):\n",
    "    if number == 0:\n",
    "        name = \"rock\"\n",
    "    elif number == 1:\n",
    "        name = \"Spock\"\n",
    "    elif number == 2:\n",
    "        name = \"paper\"\n",
    "    elif number == 3:\n",
    "        name = \"lizard\"\n",
    "    elif number == 4:\n",
    "        name = \"scissors\"\n",
    "    else:\n",
    "        print(\"number out of range 0-4\", str(number))\n",
    "    return name\n",
    "\n",
    "def rpsls(player_choice): \n",
    "    print(\"\\n\")\n",
    "    print(\"Player chooses {}\".format(player_choice))\n",
    "    player_number = name_to_number(player_choice)\n",
    "    comp_number = random.randrange(0,5)\n",
    "    comp_choice = number_to_name(comp_number)\n",
    "    print(\"Computer chooses {}\".format(comp_choice))\n",
    "    \n",
    "    if player_number == comp_number:\n",
    "        print(\"Player and computer tie!\")\n",
    "        return\n",
    "    diff = (comp_number - player_number) % 5\n",
    "    if diff <=2:\n",
    "        print(\"Computer wins!\")\n",
    "    elif diff > 2:\n",
    "        print(\"Player wins!\")\n",
    "    else:\n",
    "        print(\"Something went wrong, number out of range\")\n",
    "\n",
    "rpsls(\"rock\")\n",
    "rpsls(\"Spock\")\n",
    "rpsls(\"paper\")\n",
    "rpsls(\"lizard\")\n",
    "rpsls(\"scissors\")"
   ]
  },
  {
   "cell_type": "markdown",
   "metadata": {},
   "source": [
    "### Mini project #2"
   ]
  },
  {
   "cell_type": "code",
   "execution_count": 44,
   "metadata": {},
   "outputs": [
    {
     "ename": "SyntaxError",
     "evalue": "invalid syntax (<ipython-input-44-b6b3f51996c7>, line 1)",
     "output_type": "error",
     "traceback": [
      "\u001b[0;36m  File \u001b[0;32m\"<ipython-input-44-b6b3f51996c7>\"\u001b[0;36m, line \u001b[0;32m1\u001b[0m\n\u001b[0;31m    global\u001b[0m\n\u001b[0m          ^\u001b[0m\n\u001b[0;31mSyntaxError\u001b[0m\u001b[0;31m:\u001b[0m invalid syntax\n"
     ]
    }
   ],
   "source": [
    "\n",
    "#https://py3.codeskulptor.org/#user302_4TdKHVgJdHh0aFx_1.py\n",
    "#https://py3.codeskulptor.org/#user302_4TdKHVgJdHh0aFx_11.py\n",
    "\n",
    "import simplegui, random, math\n",
    "\n",
    "secret_number = 0\n",
    "range = 100\n",
    "max_guesses = 7\n",
    "\n",
    "# helper function to start and restart the game\n",
    "def new_game():\n",
    "    print(\"Starting new game...\")\n",
    "    global secret_number, max_guesses\n",
    "    if range == 100:\n",
    "        max_guesses = 7\n",
    "    elif range == 1000:\n",
    "        max_guesses = 10\n",
    "    secret_number = random.randrange(0, range)\n",
    "    label.set_text(\"Guesses left: {}\".format(str(max_guesses)))\n",
    "    \n",
    "def input_guess(guess):\n",
    "    global max_guesses\n",
    "    print(\"Guess was {}\".format(guess))\n",
    "    guess = int(guess)\n",
    "    if guess < secret_number:\n",
    "        print(\"Higher!\")\n",
    "        max_guesses -= 1\n",
    "        label.set_text(\"Guesses left: {}\".format(str(max_guesses)))\n",
    "    elif guess > secret_number:\n",
    "        print(\"Lower!\")\n",
    "        max_guesses -= 1\n",
    "        label.set_text(\"Guesses left: {}\".format(str(max_guesses)))\n",
    "    elif guess == secret_number:\n",
    "        print(\"Correct!\")\n",
    "    \n",
    "    if max_guesses == 0:\n",
    "        print(\"You're are out of guesses! Starting a new game...\")\n",
    "        new_game()\n",
    "\n",
    "def range100():\n",
    "    global range, max_guesses\n",
    "    range = 100\n",
    "    max_guesses = 7\n",
    "    print(\"Setting the range to 100\")\n",
    "    print(\"Restarting the game ... \")\n",
    "    new_game()\n",
    "\n",
    "    \n",
    "def range1000():\n",
    "    global range, max_guesses\n",
    "    range = 1000\n",
    "    max_guesses = 10\n",
    "    print(\"Setting the range to 1000\")\n",
    "    print(\"Restarting the game ... \")\n",
    "    new_game()\n",
    "\n",
    "\n",
    "f = simplegui.create_frame(\"Guess the number\", 200, 400)\n",
    "f.add_input(\"Enter a guess\", input_guess, 200)\n",
    "f.add_button(\"New Game\", new_game, 200)\n",
    "f.add_button(\"Range is[0,100)\", range100, 200)\n",
    "f.add_button(\"Range is[0,1000)\", range1000, 200)\n",
    "label = f.add_label(\"Guesses left: {}\".format(str(max_guesses)))\n",
    "\n",
    "new_game()"
   ]
  },
  {
   "cell_type": "code",
   "execution_count": 80,
   "metadata": {},
   "outputs": [],
   "source": [
    "x = 1"
   ]
  },
  {
   "cell_type": "code",
   "execution_count": 81,
   "metadata": {
    "collapsed": true
   },
   "outputs": [],
   "source": [
    "x += 1\n"
   ]
  },
  {
   "cell_type": "code",
   "execution_count": 82,
   "metadata": {},
   "outputs": [
    {
     "data": {
      "text/plain": [
       "2"
      ]
     },
     "execution_count": 82,
     "metadata": {},
     "output_type": "execute_result"
    }
   ],
   "source": [
    "x"
   ]
  },
  {
   "cell_type": "code",
   "execution_count": 79,
   "metadata": {},
   "outputs": [
    {
     "data": {
      "text/plain": [
       "False"
      ]
     },
     "execution_count": 79,
     "metadata": {},
     "output_type": "execute_result"
    }
   ],
   "source": []
  },
  {
   "cell_type": "code",
   "execution_count": 76,
   "metadata": {},
   "outputs": [
    {
     "data": {
      "text/plain": [
       "True"
      ]
     },
     "execution_count": 76,
     "metadata": {},
     "output_type": "execute_result"
    }
   ],
   "source": [
    "(a or b)"
   ]
  },
  {
   "cell_type": "code",
   "execution_count": 77,
   "metadata": {},
   "outputs": [
    {
     "data": {
      "text/plain": [
       "True"
      ]
     },
     "execution_count": 77,
     "metadata": {},
     "output_type": "execute_result"
    }
   ],
   "source": [
    "a or b"
   ]
  },
  {
   "cell_type": "code",
   "execution_count": null,
   "metadata": {
    "collapsed": true
   },
   "outputs": [],
   "source": []
  }
 ],
 "metadata": {
  "kernelspec": {
   "display_name": "Python 3",
   "language": "python",
   "name": "python3"
  },
  "language_info": {
   "codemirror_mode": {
    "name": "ipython",
    "version": 3
   },
   "file_extension": ".py",
   "mimetype": "text/x-python",
   "name": "python",
   "nbconvert_exporter": "python",
   "pygments_lexer": "ipython3",
   "version": "3.5.2"
  }
 },
 "nbformat": 4,
 "nbformat_minor": 2
}
