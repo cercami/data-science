{
 "cells": [
  {
   "cell_type": "markdown",
   "metadata": {},
   "source": [
    "### Mini Project #1"
   ]
  },
  {
   "cell_type": "code",
   "execution_count": 39,
   "metadata": {},
   "outputs": [
    {
     "name": "stdout",
     "output_type": "stream",
     "text": [
      "\n",
      "\n",
      "Player chooses rock\n",
      "Computer chooses scissors\n",
      "Player wins!\n",
      "\n",
      "\n",
      "Player chooses Spock\n",
      "Computer chooses Spock\n",
      "Player and computer tie!\n",
      "\n",
      "\n",
      "Player chooses paper\n",
      "Computer chooses lizard\n",
      "Computer wins!\n",
      "\n",
      "\n",
      "Player chooses lizard\n",
      "Computer chooses rock\n",
      "Computer wins!\n",
      "\n",
      "\n",
      "Player chooses scissors\n",
      "Computer chooses rock\n",
      "Computer wins!\n"
     ]
    }
   ],
   "source": [
    "#https://py3.codeskulptor.org/#user302_ltgEl1cafF7lw3U_6.py\n",
    "\n",
    "import random\n",
    "\n",
    "def name_to_number(name):\n",
    "    if name == \"rock\":\n",
    "        number = 0\n",
    "    elif name == \"Spock\":\n",
    "        number = 1\n",
    "    elif name == \"paper\":\n",
    "        number = 2\n",
    "    elif name == \"lizard\":\n",
    "        number = 3\n",
    "    elif name == \"scissors\":\n",
    "        number = 4\n",
    "    else:\n",
    "        print(\"unknown name\")\n",
    "    \n",
    "    return number\n",
    "\n",
    "def number_to_name(number):\n",
    "    if number == 0:\n",
    "        name = \"rock\"\n",
    "    elif number == 1:\n",
    "        name = \"Spock\"\n",
    "    elif number == 2:\n",
    "        name = \"paper\"\n",
    "    elif number == 3:\n",
    "        name = \"lizard\"\n",
    "    elif number == 4:\n",
    "        name = \"scissors\"\n",
    "    else:\n",
    "        print(\"number out of range 0-4\", str(number))\n",
    "    return name\n",
    "\n",
    "def rpsls(player_choice): \n",
    "    print(\"\\n\")\n",
    "    print(\"Player chooses {}\".format(player_choice))\n",
    "    player_number = name_to_number(player_choice)\n",
    "    comp_number = random.randrange(0,5)\n",
    "    comp_choice = number_to_name(comp_number)\n",
    "    print(\"Computer chooses {}\".format(comp_choice))\n",
    "    \n",
    "    if player_number == comp_number:\n",
    "        print(\"Player and computer tie!\")\n",
    "        return\n",
    "    diff = (comp_number - player_number) % 5\n",
    "    if diff <=2:\n",
    "        print(\"Computer wins!\")\n",
    "    elif diff > 2:\n",
    "        print(\"Player wins!\")\n",
    "    else:\n",
    "        print(\"Something went wrong, number out of range\")\n",
    "\n",
    "rpsls(\"rock\")\n",
    "rpsls(\"Spock\")\n",
    "rpsls(\"paper\")\n",
    "rpsls(\"lizard\")\n",
    "rpsls(\"scissors\")"
   ]
  },
  {
   "cell_type": "markdown",
   "metadata": {},
   "source": [
    "### Mini project #2"
   ]
  },
  {
   "cell_type": "code",
   "execution_count": 80,
<<<<<<< HEAD
   "metadata": {
    "collapsed": true
   },
=======
   "metadata": {},
>>>>>>> 963b242aae819f8d64770fe9844dd2f0d538889e
   "outputs": [],
   "source": [
    "\n",
    "#https://py3.codeskulptor.org/#user302_4TdKHVgJdHh0aFx_1.py\n",
    "#https://py3.codeskulptor.org/#user302_4TdKHVgJdHh0aFx_11.py\n",
    "\n",
    "import simplegui, random, math\n",
    "\n",
    "secret_number = 0\n",
    "range = 100\n",
    "max_guesses = 7\n",
    "\n",
    "# helper function to start and restart the game\n",
    "def new_game():\n",
    "    print(\"Starting new game...\")\n",
    "    global secret_number, max_guesses\n",
    "    if range == 100:\n",
    "        max_guesses = 7\n",
    "    elif range == 1000:\n",
    "        max_guesses = 10\n",
    "    secret_number = random.randrange(0, range)\n",
    "    label.set_text(\"Guesses left: {}\".format(str(max_guesses)))\n",
    "    \n",
    "def input_guess(guess):\n",
    "    global max_guesses\n",
    "    print(\"Guess was {}\".format(guess))\n",
    "    guess = int(guess)\n",
    "    if guess < secret_number:\n",
    "        print(\"Higher!\")\n",
    "        max_guesses -= 1\n",
    "        label.set_text(\"Guesses left: {}\".format(str(max_guesses)))\n",
    "    elif guess > secret_number:\n",
    "        print(\"Lower!\")\n",
    "        max_guesses -= 1\n",
    "        label.set_text(\"Guesses left: {}\".format(str(max_guesses)))\n",
    "    elif guess == secret_number:\n",
    "        print(\"Correct!\")\n",
    "    \n",
    "    if max_guesses == 0:\n",
    "        print(\"You're are out of guesses! Starting a new game...\")\n",
    "        new_game()\n",
    "\n",
    "def range100():\n",
    "    global range, max_guesses\n",
    "    range = 100\n",
    "    max_guesses = 7\n",
    "    print(\"Setting the range to 100\")\n",
    "    print(\"Restarting the game ... \")\n",
    "    new_game()\n",
    "\n",
    "    \n",
    "def range1000():\n",
    "    global range, max_guesses\n",
    "    range = 1000\n",
    "    max_guesses = 10\n",
    "    print(\"Setting the range to 1000\")\n",
    "    print(\"Restarting the game ... \")\n",
    "    new_game()\n",
    "\n",
    "\n",
    "f = simplegui.create_frame(\"Guess the number\", 200, 400)\n",
    "f.add_input(\"Enter a guess\", input_guess, 200)\n",
    "f.add_button(\"New Game\", new_game, 200)\n",
    "f.add_button(\"Range is[0,100)\", range100, 200)\n",
    "f.add_button(\"Range is[0,1000)\", range1000, 200)\n",
    "label = f.add_label(\"Guesses left: {}\".format(str(max_guesses)))\n",
    "\n",
    "new_game()"
   ]
  },
  {
<<<<<<< HEAD
   "cell_type": "code",
   "execution_count": null,
   "metadata": {
    "collapsed": true
   },
   "outputs": [],
   "source": []
  },
  {
   "cell_type": "markdown",
   "metadata": {},
   "source": [
    "### Mini project #3"
=======
   "cell_type": "markdown",
   "metadata": {
    "collapsed": true
   },
   "source": [
    "### Mini project #3"
   ]
  },
  {
   "cell_type": "code",
   "execution_count": 5,
   "metadata": {},
   "outputs": [
    {
     "data": {
      "text/plain": [
       "1538303529.8128848"
      ]
     },
     "execution_count": 5,
     "metadata": {},
     "output_type": "execute_result"
    }
   ],
   "source": [
    "# template for \"Stopwatch: The Game\"\n",
    "# https://py3.codeskulptor.org/#user302_4GaIjngLdB_10.py\n",
    "\n",
    "import simplegui\n",
    "progress = 0\n",
    "stops = 0 \n",
    "wins = 0\n",
    "\n",
    "# in tenths of seconds into formatted string A:BC.D\n",
    "def format(t):\n",
    "    milliseconds = t % 10\n",
    "    seconds = int((t - milliseconds) / 10)\n",
    "    minutes = str(seconds / 60)\n",
    "    display_minutes = minutes[0]\n",
    "    display_seconds = str(seconds % 60)\n",
    "    if len(display_seconds) == 1:\n",
    "        display_seconds = \"0\" + display_seconds\n",
    "    result = display_minutes+ \":\" + display_seconds + \".\" + str(milliseconds)\n",
    "    return result\n",
    "    \n",
    "# define event handlers for buttons; \"Start\", \"Stop\", \"Reset\"\n",
    "\n",
    "def start():\n",
    "    timer.start()\n",
    "\n",
    "def stop():\n",
    "    global stops, wins\n",
    "    if timer.is_running():\n",
    "        timer.stop()\n",
    "        stops += 1\n",
    "        if progress % 10 == 0:\n",
    "            wins += 1\n",
    "\n",
    "def reset():\n",
    "    global progress\n",
    "    timer.stop()\n",
    "    progress = 0\n",
    "\n",
    "# define event handler for timer with 0.1 sec interval\n",
    "\n",
    "def tick():\n",
    "    global progress\n",
    "    progress += 1\n",
    "\n",
    "# define draw handler\n",
    "\n",
    "def draw(canvas):\n",
    "    canvas.draw_text(format(progress), [80,80], 15, \"Black\")\n",
    "    \n",
    "    score = \"{} / {}\".format(str(wins), str(stops))\n",
    "    canvas.draw_text(score, [130, 30], 15, 'Black')\n",
    "\n",
    "    \n",
    "# create frame\n",
    "frame = simplegui.create_frame(\"Stopwatch\", 200, 200)\n",
    "frame.set_canvas_background('Blue')\n",
    "\n",
    "frame.add_button(\"Start\", start, 150)\n",
    "frame.add_button(\"Stop\", stop, 150)\n",
    "frame.add_button(\"Reset\", reset, 150)\n",
    "\n",
    "# register event handlers\n",
    "\n",
    "frame.set_draw_handler(draw)\n",
    "\n",
    "# start frame\n",
    "frame.start()\n",
    "timer = simplegui.create_timer(100, tick)\n",
    "timer.start()"
>>>>>>> 963b242aae819f8d64770fe9844dd2f0d538889e
   ]
  },
  {
   "cell_type": "code",
   "execution_count": null,
   "metadata": {
    "collapsed": true
   },
   "outputs": [],
   "source": [
    "#https://py3.codeskulptor.org/#user302_3HtXIxK8jHghyq2.py\n",
    "#https://py3.codeskulptor.org/#user302_3HtXIxK8jHghyq2_12.py"
   ]
  },
  {
   "cell_type": "code",
   "execution_count": 1,
   "metadata": {
    "collapsed": true
   },
   "outputs": [],
   "source": [
    "import random"
   ]
  },
  {
   "cell_type": "code",
   "execution_count": 2,
   "metadata": {},
   "outputs": [
    {
     "data": {
      "text/plain": [
       "5"
      ]
     },
     "execution_count": 2,
     "metadata": {},
     "output_type": "execute_result"
    }
   ],
   "source": [
    "random.randrange(0, 10)"
   ]
  },
  {
   "cell_type": "code",
   "execution_count": null,
   "metadata": {
    "collapsed": true
   },
   "outputs": [],
   "source": []
  }
 ],
 "metadata": {
  "kernelspec": {
   "display_name": "Python 3",
   "language": "python",
   "name": "python3"
  },
  "language_info": {
   "codemirror_mode": {
    "name": "ipython",
    "version": 3
   },
   "file_extension": ".py",
   "mimetype": "text/x-python",
   "name": "python",
   "nbconvert_exporter": "python",
   "pygments_lexer": "ipython3",
   "version": "3.5.2"
  }
 },
 "nbformat": 4,
 "nbformat_minor": 2
}
