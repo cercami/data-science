{
 "cells": [
  {
   "cell_type": "markdown",
   "metadata": {},
   "source": [
    "## As a dual citizen, I am curious which passport I should best use entering what country."
   ]
  },
  {
   "cell_type": "code",
   "execution_count": 4,
   "metadata": {
    "collapsed": true
   },
   "outputs": [],
   "source": [
    "from bs4 import BeautifulSoup"
   ]
  },
  {
   "cell_type": "code",
   "execution_count": 48,
   "metadata": {
    "collapsed": true
   },
   "outputs": [],
   "source": [
    "german = \"https://en.wikipedia.org/wiki/Visa_requirements_for_German_citizens\"\n",
    "polish = \"https://en.wikipedia.org/wiki/Visa_requirements_for_Polish_citizens\"\n",
    "\n",
    "de_html = requests.get(german).text\n",
    "pl_html = requests.get(polish).text"
   ]
  },
  {
   "cell_type": "code",
   "execution_count": 200,
   "metadata": {
    "scrolled": true
   },
   "outputs": [],
   "source": [
    "de_soup = BeautifulSoup(de_html, 'lxml')\n",
    "de = pd.read_html(str(de_soup.find(\"table\", {'class' : 'sortable wikitable'})), skiprows=1)[0]\n",
    "\n",
    "pl_soup = BeautifulSoup(pl_html, 'lxml')\n",
    "pl = pd.read_html(str(pl_soup.find(\"table\", {'class' : 'sortable wikitable'})), skiprows=1)[0]"
   ]
  },
  {
   "cell_type": "code",
   "execution_count": 201,
   "metadata": {},
   "outputs": [
    {
     "data": {
      "text/html": [
       "<div>\n",
       "<table border=\"1\" class=\"dataframe\">\n",
       "  <thead>\n",
       "    <tr style=\"text-align: right;\">\n",
       "      <th></th>\n",
       "      <th>0</th>\n",
       "      <th>1</th>\n",
       "      <th>2</th>\n",
       "      <th>3</th>\n",
       "    </tr>\n",
       "  </thead>\n",
       "  <tbody>\n",
       "    <tr>\n",
       "      <th>0</th>\n",
       "      <td>Afghanistan</td>\n",
       "      <td>Visa required[27]</td>\n",
       "      <td>NaN</td>\n",
       "      <td>NaN</td>\n",
       "    </tr>\n",
       "    <tr>\n",
       "      <th>1</th>\n",
       "      <td>Albania</td>\n",
       "      <td>Visa not required[28]</td>\n",
       "      <td>90 days</td>\n",
       "      <td>ID card valid</td>\n",
       "    </tr>\n",
       "    <tr>\n",
       "      <th>2</th>\n",
       "      <td>Algeria</td>\n",
       "      <td>Visa required[29]</td>\n",
       "      <td>NaN</td>\n",
       "      <td>NaN</td>\n",
       "    </tr>\n",
       "    <tr>\n",
       "      <th>3</th>\n",
       "      <td>Andorra</td>\n",
       "      <td>Visa not required[30]</td>\n",
       "      <td>NaN</td>\n",
       "      <td>ID card valid</td>\n",
       "    </tr>\n",
       "    <tr>\n",
       "      <th>4</th>\n",
       "      <td>Angola</td>\n",
       "      <td>eVisa[31][32]</td>\n",
       "      <td>30 days</td>\n",
       "      <td>Visitors who were granted online pre-visa are ...</td>\n",
       "    </tr>\n",
       "  </tbody>\n",
       "</table>\n",
       "</div>"
      ],
      "text/plain": [
       "             0                      1        2                                                  3\n",
       "0  Afghanistan      Visa required[27]      NaN                                                NaN\n",
       "1      Albania  Visa not required[28]  90 days                                      ID card valid\n",
       "2      Algeria      Visa required[29]      NaN                                                NaN\n",
       "3      Andorra  Visa not required[30]      NaN                                      ID card valid\n",
       "4       Angola          eVisa[31][32]  30 days  Visitors who were granted online pre-visa are ..."
      ]
     },
     "execution_count": 201,
     "metadata": {},
     "output_type": "execute_result"
    }
   ],
   "source": [
    "de.head()"
   ]
  },
  {
   "cell_type": "code",
   "execution_count": 202,
   "metadata": {},
   "outputs": [
    {
     "data": {
      "text/html": [
       "<div>\n",
       "<table border=\"1\" class=\"dataframe\">\n",
       "  <thead>\n",
       "    <tr style=\"text-align: right;\">\n",
       "      <th></th>\n",
       "      <th>0</th>\n",
       "      <th>1</th>\n",
       "      <th>2</th>\n",
       "      <th>3</th>\n",
       "    </tr>\n",
       "  </thead>\n",
       "  <tbody>\n",
       "    <tr>\n",
       "      <th>0</th>\n",
       "      <td>Afghanistan</td>\n",
       "      <td>Visa required[2]</td>\n",
       "      <td>NaN</td>\n",
       "      <td>NaN</td>\n",
       "    </tr>\n",
       "    <tr>\n",
       "      <th>1</th>\n",
       "      <td>Albania</td>\n",
       "      <td>Visa not required[3]</td>\n",
       "      <td>90 days</td>\n",
       "      <td>ID card valid</td>\n",
       "    </tr>\n",
       "    <tr>\n",
       "      <th>2</th>\n",
       "      <td>Algeria</td>\n",
       "      <td>Visa required[4]</td>\n",
       "      <td>NaN</td>\n",
       "      <td>NaN</td>\n",
       "    </tr>\n",
       "    <tr>\n",
       "      <th>3</th>\n",
       "      <td>Andorra</td>\n",
       "      <td>Visa not required[5]</td>\n",
       "      <td>NaN</td>\n",
       "      <td>ID card valid</td>\n",
       "    </tr>\n",
       "    <tr>\n",
       "      <th>4</th>\n",
       "      <td>Angola</td>\n",
       "      <td>eVisa[6][7]</td>\n",
       "      <td>30 days</td>\n",
       "      <td>Visitors who were granted online pre-visa are ...</td>\n",
       "    </tr>\n",
       "  </tbody>\n",
       "</table>\n",
       "</div>"
      ],
      "text/plain": [
       "             0                     1        2                                                  3\n",
       "0  Afghanistan      Visa required[2]      NaN                                                NaN\n",
       "1      Albania  Visa not required[3]  90 days                                      ID card valid\n",
       "2      Algeria      Visa required[4]      NaN                                                NaN\n",
       "3      Andorra  Visa not required[5]      NaN                                      ID card valid\n",
       "4       Angola           eVisa[6][7]  30 days  Visitors who were granted online pre-visa are ..."
      ]
     },
     "execution_count": 202,
     "metadata": {},
     "output_type": "execute_result"
    }
   ],
   "source": [
    "pl.head()"
   ]
  },
  {
   "cell_type": "code",
   "execution_count": 203,
   "metadata": {
    "collapsed": true
   },
   "outputs": [],
   "source": [
    "# I am going to merge them into one dataframe to avoid running every function twice on each data frame\n",
    "# and then separate them when I'm done"
   ]
  },
  {
   "cell_type": "code",
   "execution_count": 204,
   "metadata": {
    "collapsed": true
   },
   "outputs": [],
   "source": [
    "de.columns = ['country', 'status', 'duration', 'notes']\n",
    "pl.columns = ['country', 'status', 'duration', 'notes']\n",
    "\n",
    "de['cat'] = 'DE'\n",
    "pl['cat'] = 'PL'\n",
    "\n",
    "df = de.append(pl)"
   ]
  },
  {
   "cell_type": "code",
   "execution_count": 206,
   "metadata": {},
   "outputs": [
    {
     "data": {
      "text/plain": [
       "True    193\n",
       "Name: status, dtype: int64"
      ]
     },
     "execution_count": 206,
     "metadata": {},
     "output_type": "execute_result"
    }
   ],
   "source": [
    "de.status.str.contains(\"\\[\").value_counts()"
   ]
  },
  {
   "cell_type": "code",
   "execution_count": 207,
   "metadata": {
    "collapsed": true
   },
   "outputs": [],
   "source": [
    "df.status = df.status.str.findall(\"^(.+?)\\[\").apply(lambda x: x[0] if len(x) > 0 else np.nan)"
   ]
  },
  {
   "cell_type": "code",
   "execution_count": 208,
   "metadata": {
    "scrolled": true
   },
   "outputs": [
    {
     "data": {
      "text/plain": [
       "Visa not required          226\n",
       "Visa required               69\n",
       "Visa on arrival             32\n",
       "eVisa / Visa on arrival     31\n",
       "eVisa                       15\n",
       "Free visa on arrival         6\n",
       "Tourist Card required        2\n",
       "eVisitor                     2\n",
       "e-Visa                       1\n",
       "Tourist Card on arrival      1\n",
       "Visa Waiver Program          1\n",
       "Name: status, dtype: int64"
      ]
     },
     "execution_count": 208,
     "metadata": {},
     "output_type": "execute_result"
    }
   ],
   "source": [
    "df.status.value_counts()"
   ]
  },
  {
   "cell_type": "code",
   "execution_count": 209,
   "metadata": {
    "collapsed": true
   },
   "outputs": [],
   "source": [
    "d = {'eVisa / Visa on arrival' : 'eVisa',\n",
    "    'Visa Waiver Program' : 'Visa not required',\n",
    "    'Tourist Card required' : 'Visa required',\n",
    "    'Tourist Card on arrival' : 'Visa on arrival',\n",
    "    'eVisitor' : 'e-Visa',\n",
    "    'Free visa on arrival' : 'Visa on arrival'}"
   ]
  },
  {
   "cell_type": "code",
   "execution_count": 210,
   "metadata": {},
   "outputs": [],
   "source": [
    "df.status.replace(d, inplace=True)"
   ]
  },
  {
   "cell_type": "code",
   "execution_count": 212,
   "metadata": {},
   "outputs": [
    {
     "data": {
      "text/html": [
       "<div>\n",
       "<table border=\"1\" class=\"dataframe\">\n",
       "  <thead>\n",
       "    <tr style=\"text-align: right;\">\n",
       "      <th></th>\n",
       "      <th>country</th>\n",
       "      <th>status</th>\n",
       "      <th>duration</th>\n",
       "      <th>notes</th>\n",
       "      <th>cat</th>\n",
       "    </tr>\n",
       "  </thead>\n",
       "  <tbody>\n",
       "    <tr>\n",
       "      <th>0</th>\n",
       "      <td>Afghanistan</td>\n",
       "      <td>Visa required</td>\n",
       "      <td>NaN</td>\n",
       "      <td>NaN</td>\n",
       "      <td>DE</td>\n",
       "    </tr>\n",
       "    <tr>\n",
       "      <th>1</th>\n",
       "      <td>Albania</td>\n",
       "      <td>Visa not required</td>\n",
       "      <td>90 days</td>\n",
       "      <td>ID card valid</td>\n",
       "      <td>DE</td>\n",
       "    </tr>\n",
       "    <tr>\n",
       "      <th>2</th>\n",
       "      <td>Algeria</td>\n",
       "      <td>Visa required</td>\n",
       "      <td>NaN</td>\n",
       "      <td>NaN</td>\n",
       "      <td>DE</td>\n",
       "    </tr>\n",
       "    <tr>\n",
       "      <th>3</th>\n",
       "      <td>Andorra</td>\n",
       "      <td>Visa not required</td>\n",
       "      <td>NaN</td>\n",
       "      <td>ID card valid</td>\n",
       "      <td>DE</td>\n",
       "    </tr>\n",
       "    <tr>\n",
       "      <th>4</th>\n",
       "      <td>Angola</td>\n",
       "      <td>eVisa</td>\n",
       "      <td>30 days</td>\n",
       "      <td>Visitors who were granted online pre-visa are ...</td>\n",
       "      <td>DE</td>\n",
       "    </tr>\n",
       "  </tbody>\n",
       "</table>\n",
       "</div>"
      ],
      "text/plain": [
       "       country             status duration                                              notes cat\n",
       "0  Afghanistan      Visa required      NaN                                                NaN  DE\n",
       "1      Albania  Visa not required  90 days                                      ID card valid  DE\n",
       "2      Algeria      Visa required      NaN                                                NaN  DE\n",
       "3      Andorra  Visa not required      NaN                                      ID card valid  DE\n",
       "4       Angola              eVisa  30 days  Visitors who were granted online pre-visa are ...  DE"
      ]
     },
     "execution_count": 212,
     "metadata": {},
     "output_type": "execute_result"
    }
   ],
   "source": [
    "df.head()"
   ]
  },
  {
   "cell_type": "code",
   "execution_count": 213,
   "metadata": {},
   "outputs": [],
   "source": [
    "df.duration.fillna(\"0\", inplace=True)"
   ]
  },
  {
   "cell_type": "code",
   "execution_count": 214,
   "metadata": {},
   "outputs": [
    {
     "data": {
      "text/plain": [
       "5          6 months\n",
       "11         8 months\n",
       "14         6 months\n",
       "17          1 month\n",
       "26          1 month\n",
       "30         6 months\n",
       "52         3 months\n",
       "57         4 months\n",
       "65         3 months\n",
       "69         3 months\n",
       "71         3 months\n",
       "85         3 months\n",
       "89         3 months\n",
       "93          1 month\n",
       "103        3 months\n",
       "119        3 months\n",
       "123        3 months\n",
       "142        3 months\n",
       "151        3 months\n",
       "175        4 months\n",
       "176        3 months\n",
       "192        3 months\n",
       "5      6 months[12]\n",
       "11         3 months\n",
       "14         3 months\n",
       "17          1 month\n",
       "26          1 month\n",
       "30         6 months\n",
       "41         3 months\n",
       "52         3 months\n",
       "57         4 months\n",
       "66         3 months\n",
       "72         3 months\n",
       "80         3 months\n",
       "86         3 months\n",
       "90         3 months\n",
       "94          1 month\n",
       "104        3 months\n",
       "124        3 months\n",
       "142        3 months\n",
       "151        3 months\n",
       "169        3 months\n",
       "175        3 months\n",
       "176        3 months\n",
       "192        3 months\n",
       "Name: duration, dtype: object"
      ]
     },
     "execution_count": 214,
     "metadata": {},
     "output_type": "execute_result"
    }
   ],
   "source": [
    "df.loc[df.duration.str.contains(\"month\"), 'duration']"
   ]
  },
  {
   "cell_type": "code",
   "execution_count": 215,
   "metadata": {},
   "outputs": [],
   "source": [
    "# Converting months to days\n",
    "\n",
    "df.loc[df.duration.str.contains(\"month\"), 'duration'] = \\\n",
    "df.loc[df.duration.str.contains(\"month\"), 'duration'].str.findall(\"([0-9])\").apply(lambda x : str(int(x[0]) * 30))"
   ]
  },
  {
   "cell_type": "code",
   "execution_count": null,
   "metadata": {
    "collapsed": true
   },
   "outputs": [],
   "source": [
    "####"
   ]
  },
  {
   "cell_type": "code",
   "execution_count": 216,
   "metadata": {
    "scrolled": true
   },
   "outputs": [],
   "source": [
    "df.loc[df.duration.str.contains(\"days\"), 'duration'] = \\\n",
    "df.loc[df.duration.str.contains(\"days\"), 'duration'].str.findall(\"([0-9]+)\\sdays\").apply(lambda x: x[0])"
   ]
  },
  {
   "cell_type": "code",
   "execution_count": 220,
   "metadata": {
    "scrolled": true
   },
   "outputs": [],
   "source": [
    "df.loc[df.duration.str.contains(\"Freedom\"), 'duration'] = '999'"
   ]
  },
  {
   "cell_type": "code",
   "execution_count": 221,
   "metadata": {
    "scrolled": true
   },
   "outputs": [
    {
     "data": {
      "text/html": [
       "<div>\n",
       "<table border=\"1\" class=\"dataframe\">\n",
       "  <thead>\n",
       "    <tr style=\"text-align: right;\">\n",
       "      <th></th>\n",
       "      <th>country</th>\n",
       "      <th>status</th>\n",
       "      <th>duration</th>\n",
       "      <th>notes</th>\n",
       "      <th>cat</th>\n",
       "    </tr>\n",
       "  </thead>\n",
       "  <tbody>\n",
       "    <tr>\n",
       "      <th>62</th>\n",
       "      <td>Georgia</td>\n",
       "      <td>Visa not required</td>\n",
       "      <td>1 year</td>\n",
       "      <td>ID card valid</td>\n",
       "      <td>DE</td>\n",
       "    </tr>\n",
       "    <tr>\n",
       "      <th>37</th>\n",
       "      <td>Comoros</td>\n",
       "      <td>Visa on arrival</td>\n",
       "      <td>2 weeks</td>\n",
       "      <td>NaN</td>\n",
       "      <td>PL</td>\n",
       "    </tr>\n",
       "    <tr>\n",
       "      <th>62</th>\n",
       "      <td>Georgia</td>\n",
       "      <td>Visa not required</td>\n",
       "      <td>1 year</td>\n",
       "      <td>ID card valid</td>\n",
       "      <td>PL</td>\n",
       "    </tr>\n",
       "  </tbody>\n",
       "</table>\n",
       "</div>"
      ],
      "text/plain": [
       "    country             status duration          notes cat\n",
       "62  Georgia  Visa not required   1 year  ID card valid  DE\n",
       "37  Comoros    Visa on arrival  2 weeks            NaN  PL\n",
       "62  Georgia  Visa not required   1 year  ID card valid  PL"
      ]
     },
     "execution_count": 221,
     "metadata": {},
     "output_type": "execute_result"
    }
   ],
   "source": [
    "df[df.duration.str.contains(\"[^0-9]\")]"
   ]
  },
  {
   "cell_type": "code",
   "execution_count": 222,
   "metadata": {
    "collapsed": true
   },
   "outputs": [],
   "source": [
    "df.replace(\"1 year\", \"365\", inplace=True)\n",
    "df.replace(\"2 weeks\", \"14\", inplace=True)"
   ]
  },
  {
   "cell_type": "code",
   "execution_count": 224,
   "metadata": {},
   "outputs": [],
   "source": [
    "df.duration = df.duration.astype(int)"
   ]
  },
  {
   "cell_type": "code",
   "execution_count": 226,
   "metadata": {},
   "outputs": [],
   "source": [
    "pl = df[df.cat == \"PL\"]\n",
    "de = df[df.cat == \"DE\"]"
   ]
  },
  {
   "cell_type": "code",
   "execution_count": 228,
   "metadata": {},
   "outputs": [
    {
     "data": {
      "text/plain": [
       "True"
      ]
     },
     "execution_count": 228,
     "metadata": {},
     "output_type": "execute_result"
    }
   ],
   "source": [
    "len(de) == len(pl)"
   ]
  },
  {
   "cell_type": "code",
   "execution_count": 236,
   "metadata": {},
   "outputs": [],
   "source": [
    "merged = pd.merge(pl, df, on=\"country\", suffixes=('_PL', '_DE'))"
   ]
  },
  {
   "cell_type": "code",
   "execution_count": 237,
   "metadata": {},
   "outputs": [
    {
     "data": {
      "text/html": [
       "<div>\n",
       "<table border=\"1\" class=\"dataframe\">\n",
       "  <thead>\n",
       "    <tr style=\"text-align: right;\">\n",
       "      <th></th>\n",
       "      <th>country</th>\n",
       "      <th>status_PL</th>\n",
       "      <th>duration_PL</th>\n",
       "      <th>notes_PL</th>\n",
       "      <th>cat_PL</th>\n",
       "      <th>status_DE</th>\n",
       "      <th>duration_DE</th>\n",
       "      <th>notes_DE</th>\n",
       "      <th>cat_DE</th>\n",
       "    </tr>\n",
       "  </thead>\n",
       "  <tbody>\n",
       "    <tr>\n",
       "      <th>22</th>\n",
       "      <td>Bahamas</td>\n",
       "      <td>Visa not required</td>\n",
       "      <td>90</td>\n",
       "      <td>NaN</td>\n",
       "      <td>PL</td>\n",
       "      <td>Visa not required</td>\n",
       "      <td>240</td>\n",
       "      <td>NaN</td>\n",
       "      <td>DE</td>\n",
       "    </tr>\n",
       "    <tr>\n",
       "      <th>28</th>\n",
       "      <td>Barbados</td>\n",
       "      <td>Visa not required</td>\n",
       "      <td>90</td>\n",
       "      <td>NaN</td>\n",
       "      <td>PL</td>\n",
       "      <td>Visa not required</td>\n",
       "      <td>180</td>\n",
       "      <td>NaN</td>\n",
       "      <td>DE</td>\n",
       "    </tr>\n",
       "    <tr>\n",
       "      <th>139</th>\n",
       "      <td>Guyana</td>\n",
       "      <td>Visa required</td>\n",
       "      <td>0</td>\n",
       "      <td>NaN</td>\n",
       "      <td>PL</td>\n",
       "      <td>Visa not required</td>\n",
       "      <td>90</td>\n",
       "      <td>NaN</td>\n",
       "      <td>DE</td>\n",
       "    </tr>\n",
       "    <tr>\n",
       "      <th>163</th>\n",
       "      <td>Jamaica</td>\n",
       "      <td>Visa not required</td>\n",
       "      <td>30</td>\n",
       "      <td>NaN</td>\n",
       "      <td>PL</td>\n",
       "      <td>Visa not required</td>\n",
       "      <td>90</td>\n",
       "      <td>NaN</td>\n",
       "      <td>DE</td>\n",
       "    </tr>\n",
       "    <tr>\n",
       "      <th>189</th>\n",
       "      <td>Lesotho</td>\n",
       "      <td>eVisa</td>\n",
       "      <td>0</td>\n",
       "      <td>NaN</td>\n",
       "      <td>PL</td>\n",
       "      <td>Visa not required</td>\n",
       "      <td>14</td>\n",
       "      <td>NaN</td>\n",
       "      <td>DE</td>\n",
       "    </tr>\n",
       "    <tr>\n",
       "      <th>229</th>\n",
       "      <td>Mongolia</td>\n",
       "      <td>Visa required</td>\n",
       "      <td>0</td>\n",
       "      <td>NaN</td>\n",
       "      <td>PL</td>\n",
       "      <td>Visa not required</td>\n",
       "      <td>30</td>\n",
       "      <td>NaN</td>\n",
       "      <td>DE</td>\n",
       "    </tr>\n",
       "    <tr>\n",
       "      <th>239</th>\n",
       "      <td>Namibia</td>\n",
       "      <td>Visa required</td>\n",
       "      <td>0</td>\n",
       "      <td>NaN</td>\n",
       "      <td>PL</td>\n",
       "      <td>Visa not required</td>\n",
       "      <td>90</td>\n",
       "      <td>3 months within a calendar year</td>\n",
       "      <td>DE</td>\n",
       "    </tr>\n",
       "    <tr>\n",
       "      <th>315</th>\n",
       "      <td>South Africa</td>\n",
       "      <td>Visa not required</td>\n",
       "      <td>30</td>\n",
       "      <td>NaN</td>\n",
       "      <td>PL</td>\n",
       "      <td>Visa not required</td>\n",
       "      <td>90</td>\n",
       "      <td>NaN</td>\n",
       "      <td>DE</td>\n",
       "    </tr>\n",
       "    <tr>\n",
       "      <th>325</th>\n",
       "      <td>Suriname</td>\n",
       "      <td>Visa required</td>\n",
       "      <td>0</td>\n",
       "      <td>NaN</td>\n",
       "      <td>PL</td>\n",
       "      <td>Visa on arrival</td>\n",
       "      <td>90</td>\n",
       "      <td>NaN</td>\n",
       "      <td>DE</td>\n",
       "    </tr>\n",
       "    <tr>\n",
       "      <th>349</th>\n",
       "      <td>Tunisia</td>\n",
       "      <td>Visa not required</td>\n",
       "      <td>90</td>\n",
       "      <td>NaN</td>\n",
       "      <td>PL</td>\n",
       "      <td>Visa not required</td>\n",
       "      <td>120</td>\n",
       "      <td>ID card valid in certain cases</td>\n",
       "      <td>DE</td>\n",
       "    </tr>\n",
       "    <tr>\n",
       "      <th>365</th>\n",
       "      <td>United States</td>\n",
       "      <td>Visa required</td>\n",
       "      <td>0</td>\n",
       "      <td>NaN</td>\n",
       "      <td>PL</td>\n",
       "      <td>Visa not required</td>\n",
       "      <td>90</td>\n",
       "      <td>On arrival from overseas; ESTA (valid for 2 ye...</td>\n",
       "      <td>DE</td>\n",
       "    </tr>\n",
       "  </tbody>\n",
       "</table>\n",
       "</div>"
      ],
      "text/plain": [
       "           country          status_PL  duration_PL notes_PL cat_PL          status_DE  duration_DE                                           notes_DE cat_DE\n",
       "22         Bahamas  Visa not required           90      NaN     PL  Visa not required          240                                                NaN     DE\n",
       "28        Barbados  Visa not required           90      NaN     PL  Visa not required          180                                                NaN     DE\n",
       "139         Guyana      Visa required            0      NaN     PL  Visa not required           90                                                NaN     DE\n",
       "163        Jamaica  Visa not required           30      NaN     PL  Visa not required           90                                                NaN     DE\n",
       "189        Lesotho              eVisa            0      NaN     PL  Visa not required           14                                                NaN     DE\n",
       "229       Mongolia      Visa required            0      NaN     PL  Visa not required           30                                                NaN     DE\n",
       "239        Namibia      Visa required            0      NaN     PL  Visa not required           90                    3 months within a calendar year     DE\n",
       "315   South Africa  Visa not required           30      NaN     PL  Visa not required           90                                                NaN     DE\n",
       "325       Suriname      Visa required            0      NaN     PL    Visa on arrival           90                                                NaN     DE\n",
       "349        Tunisia  Visa not required           90      NaN     PL  Visa not required          120                     ID card valid in certain cases     DE\n",
       "365  United States      Visa required            0      NaN     PL  Visa not required           90  On arrival from overseas; ESTA (valid for 2 ye...     DE"
      ]
     },
     "execution_count": 237,
     "metadata": {},
     "output_type": "execute_result"
    }
   ],
   "source": [
    "merged[merged.duration_DE > merged.duration_PL]"
   ]
  },
  {
   "cell_type": "code",
   "execution_count": 238,
   "metadata": {},
   "outputs": [
    {
     "data": {
      "text/html": [
       "<div>\n",
       "<table border=\"1\" class=\"dataframe\">\n",
       "  <thead>\n",
       "    <tr style=\"text-align: right;\">\n",
       "      <th></th>\n",
       "      <th>country</th>\n",
       "      <th>status_PL</th>\n",
       "      <th>duration_PL</th>\n",
       "      <th>notes_PL</th>\n",
       "      <th>cat_PL</th>\n",
       "      <th>status_DE</th>\n",
       "      <th>duration_DE</th>\n",
       "      <th>notes_DE</th>\n",
       "      <th>cat_DE</th>\n",
       "    </tr>\n",
       "  </thead>\n",
       "  <tbody>\n",
       "    <tr>\n",
       "      <th>74</th>\n",
       "      <td>Comoros</td>\n",
       "      <td>Visa on arrival</td>\n",
       "      <td>14</td>\n",
       "      <td>NaN</td>\n",
       "      <td>PL</td>\n",
       "      <td>Visa on arrival</td>\n",
       "      <td>0</td>\n",
       "      <td>NaN</td>\n",
       "      <td>DE</td>\n",
       "    </tr>\n",
       "    <tr>\n",
       "      <th>82</th>\n",
       "      <td>Côte d'Ivoire</td>\n",
       "      <td>eVisa</td>\n",
       "      <td>90</td>\n",
       "      <td>eVisa holders must arrive via Port Bouet Airport.</td>\n",
       "      <td>PL</td>\n",
       "      <td>eVisa</td>\n",
       "      <td>0</td>\n",
       "      <td>NaN</td>\n",
       "      <td>DE</td>\n",
       "    </tr>\n",
       "    <tr>\n",
       "      <th>159</th>\n",
       "      <td>Israel</td>\n",
       "      <td>Visa not required</td>\n",
       "      <td>90</td>\n",
       "      <td>NaN</td>\n",
       "      <td>PL</td>\n",
       "      <td>Visa not required</td>\n",
       "      <td>0</td>\n",
       "      <td>3 months for tourism only.[125] German citizen...</td>\n",
       "      <td>DE</td>\n",
       "    </tr>\n",
       "    <tr>\n",
       "      <th>337</th>\n",
       "      <td>Tanzania</td>\n",
       "      <td>Visa on arrival</td>\n",
       "      <td>90</td>\n",
       "      <td>NaN</td>\n",
       "      <td>PL</td>\n",
       "      <td>Visa on arrival</td>\n",
       "      <td>0</td>\n",
       "      <td>NaN</td>\n",
       "      <td>DE</td>\n",
       "    </tr>\n",
       "    <tr>\n",
       "      <th>377</th>\n",
       "      <td>Vietnam</td>\n",
       "      <td>eVisa</td>\n",
       "      <td>30</td>\n",
       "      <td>NaN</td>\n",
       "      <td>PL</td>\n",
       "      <td>Visa not required</td>\n",
       "      <td>15</td>\n",
       "      <td>A single entry eVisa valid for 30 days is also...</td>\n",
       "      <td>DE</td>\n",
       "    </tr>\n",
       "  </tbody>\n",
       "</table>\n",
       "</div>"
      ],
      "text/plain": [
       "           country          status_PL  duration_PL                                           notes_PL cat_PL          status_DE  duration_DE                                           notes_DE cat_DE\n",
       "74         Comoros    Visa on arrival           14                                                NaN     PL    Visa on arrival            0                                                NaN     DE\n",
       "82   Côte d'Ivoire              eVisa           90  eVisa holders must arrive via Port Bouet Airport.     PL              eVisa            0                                                NaN     DE\n",
       "159         Israel  Visa not required           90                                                NaN     PL  Visa not required            0  3 months for tourism only.[125] German citizen...     DE\n",
       "337       Tanzania    Visa on arrival           90                                                NaN     PL    Visa on arrival            0                                                NaN     DE\n",
       "377        Vietnam              eVisa           30                                                NaN     PL  Visa not required           15  A single entry eVisa valid for 30 days is also...     DE"
      ]
     },
     "execution_count": 238,
     "metadata": {},
     "output_type": "execute_result"
    }
   ],
   "source": [
    "merged[merged.duration_DE < merged.duration_PL]"
   ]
  },
  {
   "cell_type": "code",
   "execution_count": 239,
   "metadata": {},
   "outputs": [
    {
     "name": "stderr",
     "output_type": "stream",
     "text": [
      "/usr/local/lib/python3.5/dist-packages/pandas/computation/expressions.py:182: UserWarning: evaluating in Python space because the '*' operator is not supported by numexpr for the bool dtype, use '&' instead\n",
      "  unsupported[op_str]))\n"
     ]
    },
    {
     "data": {
      "text/html": [
       "<div>\n",
       "<table border=\"1\" class=\"dataframe\">\n",
       "  <thead>\n",
       "    <tr style=\"text-align: right;\">\n",
       "      <th></th>\n",
       "      <th>country</th>\n",
       "      <th>status_PL</th>\n",
       "      <th>duration_PL</th>\n",
       "      <th>notes_PL</th>\n",
       "      <th>cat_PL</th>\n",
       "      <th>status_DE</th>\n",
       "      <th>duration_DE</th>\n",
       "      <th>notes_DE</th>\n",
       "      <th>cat_DE</th>\n",
       "    </tr>\n",
       "  </thead>\n",
       "  <tbody>\n",
       "    <tr>\n",
       "      <th>139</th>\n",
       "      <td>Guyana</td>\n",
       "      <td>Visa required</td>\n",
       "      <td>0</td>\n",
       "      <td>NaN</td>\n",
       "      <td>PL</td>\n",
       "      <td>Visa not required</td>\n",
       "      <td>90</td>\n",
       "      <td>NaN</td>\n",
       "      <td>DE</td>\n",
       "    </tr>\n",
       "    <tr>\n",
       "      <th>149</th>\n",
       "      <td>India</td>\n",
       "      <td>e-Visa</td>\n",
       "      <td>60</td>\n",
       "      <td>e-Visa holders must arrive via 25 designated a...</td>\n",
       "      <td>PL</td>\n",
       "      <td>eVisa</td>\n",
       "      <td>60</td>\n",
       "      <td>e-Visa holders must arrive via 25 designated a...</td>\n",
       "      <td>DE</td>\n",
       "    </tr>\n",
       "    <tr>\n",
       "      <th>229</th>\n",
       "      <td>Mongolia</td>\n",
       "      <td>Visa required</td>\n",
       "      <td>0</td>\n",
       "      <td>NaN</td>\n",
       "      <td>PL</td>\n",
       "      <td>Visa not required</td>\n",
       "      <td>30</td>\n",
       "      <td>NaN</td>\n",
       "      <td>DE</td>\n",
       "    </tr>\n",
       "    <tr>\n",
       "      <th>239</th>\n",
       "      <td>Namibia</td>\n",
       "      <td>Visa required</td>\n",
       "      <td>0</td>\n",
       "      <td>NaN</td>\n",
       "      <td>PL</td>\n",
       "      <td>Visa not required</td>\n",
       "      <td>90</td>\n",
       "      <td>3 months within a calendar year</td>\n",
       "      <td>DE</td>\n",
       "    </tr>\n",
       "    <tr>\n",
       "      <th>365</th>\n",
       "      <td>United States</td>\n",
       "      <td>Visa required</td>\n",
       "      <td>0</td>\n",
       "      <td>NaN</td>\n",
       "      <td>PL</td>\n",
       "      <td>Visa not required</td>\n",
       "      <td>90</td>\n",
       "      <td>On arrival from overseas; ESTA (valid for 2 ye...</td>\n",
       "      <td>DE</td>\n",
       "    </tr>\n",
       "  </tbody>\n",
       "</table>\n",
       "</div>"
      ],
      "text/plain": [
       "           country      status_PL  duration_PL                                           notes_PL cat_PL          status_DE  duration_DE                                           notes_DE cat_DE\n",
       "139         Guyana  Visa required            0                                                NaN     PL  Visa not required           90                                                NaN     DE\n",
       "149          India         e-Visa           60  e-Visa holders must arrive via 25 designated a...     PL              eVisa           60  e-Visa holders must arrive via 25 designated a...     DE\n",
       "229       Mongolia  Visa required            0                                                NaN     PL  Visa not required           30                                                NaN     DE\n",
       "239        Namibia  Visa required            0                                                NaN     PL  Visa not required           90                    3 months within a calendar year     DE\n",
       "365  United States  Visa required            0                                                NaN     PL  Visa not required           90  On arrival from overseas; ESTA (valid for 2 ye...     DE"
      ]
     },
     "execution_count": 239,
     "metadata": {},
     "output_type": "execute_result"
    }
   ],
   "source": [
    "mask1 = merged.status_DE.str.contains(\"not required|eVisa\")\n",
    "mask2 = merged.status_PL.str.contains(\"not required|eVisa\")\n",
    "\n",
    "merged[mask1 * ~mask2]"
   ]
  },
  {
   "cell_type": "code",
   "execution_count": null,
   "metadata": {
    "collapsed": true
   },
   "outputs": [],
   "source": []
  }
 ],
 "metadata": {
  "kernelspec": {
   "display_name": "Python 3",
   "language": "python",
   "name": "python3"
  },
  "language_info": {
   "codemirror_mode": {
    "name": "ipython",
    "version": 3
   },
   "file_extension": ".py",
   "mimetype": "text/x-python",
   "name": "python",
   "nbconvert_exporter": "python",
   "pygments_lexer": "ipython3",
   "version": "3.5.2"
  }
 },
 "nbformat": 4,
 "nbformat_minor": 2
}
