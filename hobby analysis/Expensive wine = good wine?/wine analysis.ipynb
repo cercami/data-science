{
 "cells": [
  {
   "cell_type": "code",
   "execution_count": 13,
   "metadata": {},
   "outputs": [],
   "source": [
    "import pandas as pd\n",
    "import numpy as np\n",
    "import re\n",
    "import matplotlib.pyplot as plt"
   ]
  },
  {
   "cell_type": "code",
   "execution_count": 14,
   "metadata": {},
   "outputs": [],
   "source": [
    "#https://www.kaggle.com/zynicide/wine-reviews/version/4"
   ]
  },
  {
   "cell_type": "code",
   "execution_count": 15,
   "metadata": {},
   "outputs": [],
   "source": [
    "df = pd.read_csv(\"/home/scott/Downloads/winemag-data-130k-v2.csv\")"
   ]
  },
  {
   "cell_type": "code",
   "execution_count": 17,
   "metadata": {},
   "outputs": [
    {
     "name": "stderr",
     "output_type": "stream",
     "text": [
      "/usr/local/lib/python3.6/dist-packages/pandas/core/generic.py:4405: SettingWithCopyWarning: \n",
      "A value is trying to be set on a copy of a slice from a DataFrame.\n",
      "Try using .loc[row_indexer,col_indexer] = value instead\n",
      "\n",
      "See the caveats in the documentation: http://pandas.pydata.org/pandas-docs/stable/indexing.html#indexing-view-versus-copy\n",
      "  self[name] = value\n"
     ]
    }
   ],
   "source": [
    "df['year'] = df.title.str.findall(\"\\d\\d\\d\\d\").apply(lambda x: x[0] if len(x) > 0 else None)\n",
    "mask = df.year.isnull()\n",
    "df = df[~mask]\n",
    "df.year = df.year.apply(int)"
   ]
  },
  {
   "cell_type": "code",
   "execution_count": 18,
   "metadata": {},
   "outputs": [
    {
     "name": "stdout",
     "output_type": "stream",
     "text": [
      "<class 'pandas.core.frame.DataFrame'>\n",
      "Int64Index: 125362 entries, 0 to 129970\n",
      "Data columns (total 15 columns):\n",
      "Unnamed: 0               125362 non-null int64\n",
      "country                  125301 non-null object\n",
      "description              125362 non-null object\n",
      "designation              88202 non-null object\n",
      "points                   125362 non-null int64\n",
      "price                    116838 non-null float64\n",
      "province                 125301 non-null object\n",
      "region_1                 104667 non-null object\n",
      "region_2                 49756 non-null object\n",
      "taster_name              100200 non-null object\n",
      "taster_twitter_handle    95334 non-null object\n",
      "title                    125362 non-null object\n",
      "variety                  125361 non-null object\n",
      "winery                   125362 non-null object\n",
      "year                     125362 non-null int64\n",
      "dtypes: float64(1), int64(3), object(11)\n",
      "memory usage: 15.3+ MB\n"
     ]
    }
   ],
   "source": [
    "df.info()"
   ]
  },
  {
   "cell_type": "code",
   "execution_count": 19,
   "metadata": {},
   "outputs": [
    {
     "name": "stdout",
     "output_type": "stream",
     "text": [
      "35.49\n",
      "25.0\n",
      "0    20.0\n",
      "dtype: float64\n"
     ]
    }
   ],
   "source": [
    "print(round(df.price.mean(), 2))\n",
    "print(df.price.median())\n",
    "print(df.price.mode())"
   ]
  },
  {
   "cell_type": "code",
   "execution_count": 20,
   "metadata": {},
   "outputs": [
    {
     "data": {
      "image/png": "[encoded data removed]",
      "text/plain": [
       "<Figure size 432x288 with 1 Axes>"
      ]
     },
     "metadata": {
      "needs_background": "light"
     },
     "output_type": "display_data"
    }
   ],
   "source": [
    "df.price.hist(bins=300)\n",
    "plt.show()"
   ]
  },
  {
   "cell_type": "code",
   "execution_count": 21,
   "metadata": {},
   "outputs": [
    {
     "data": {
      "text/plain": [
       "3300.0"
      ]
     },
     "execution_count": 21,
     "metadata": {},
     "output_type": "execute_result"
    }
   ],
   "source": [
    "df.price.max()"
   ]
  },
  {
   "cell_type": "code",
   "execution_count": 22,
   "metadata": {},
   "outputs": [
    {
     "name": "stderr",
     "output_type": "stream",
     "text": [
      "/usr/local/lib/python3.6/dist-packages/pandas/core/generic.py:5434: SettingWithCopyWarning: \n",
      "A value is trying to be set on a copy of a slice from a DataFrame\n",
      "\n",
      "See the caveats in the documentation: http://pandas.pydata.org/pandas-docs/stable/indexing.html#indexing-view-versus-copy\n",
      "  self._update_inplace(new_data)\n"
     ]
    }
   ],
   "source": [
    "df.price.fillna(df.price.median(), inplace=True)"
   ]
  },
  {
   "cell_type": "code",
   "execution_count": 23,
   "metadata": {},
   "outputs": [
    {
     "name": "stderr",
     "output_type": "stream",
     "text": [
      "/usr/local/lib/python3.6/dist-packages/ipykernel_launcher.py:1: SettingWithCopyWarning: \n",
      "A value is trying to be set on a copy of a slice from a DataFrame.\n",
      "Try using .loc[row_indexer,col_indexer] = value instead\n",
      "\n",
      "See the caveats in the documentation: http://pandas.pydata.org/pandas-docs/stable/indexing.html#indexing-view-versus-copy\n",
      "  \"\"\"Entry point for launching an IPython kernel.\n"
     ]
    }
   ],
   "source": [
    "df['description_length'] = df.description.apply(len)"
   ]
  },
  {
   "cell_type": "code",
   "execution_count": 24,
   "metadata": {},
   "outputs": [
    {
     "data": {
      "text/plain": [
       "1000        2\n",
       "1070        1\n",
       "1150        2\n",
       "1492        6\n",
       "1503        1\n",
       "1607        1\n",
       "1621        1\n",
       "1637        2\n",
       "1752        1\n",
       "1789        1\n",
       "1821        4\n",
       "1827        2\n",
       "1840        5\n",
       "1845        3\n",
       "1847        1\n",
       "1848        6\n",
       "1850        3\n",
       "1852       41\n",
       "1856        3\n",
       "1860        7\n",
       "1868        9\n",
       "1870        4\n",
       "1872        3\n",
       "1875        7\n",
       "1877        8\n",
       "1882        4\n",
       "1887        2\n",
       "1898       23\n",
       "1904        1\n",
       "1912        8\n",
       "        ...  \n",
       "1990        5\n",
       "1991        4\n",
       "1992       16\n",
       "1993        3\n",
       "1994       23\n",
       "1995       49\n",
       "1996       67\n",
       "1997      303\n",
       "1998      550\n",
       "1999      641\n",
       "2000      758\n",
       "2001      691\n",
       "2002      365\n",
       "2003      597\n",
       "2004     1772\n",
       "2005     3610\n",
       "2006     5772\n",
       "2007     7041\n",
       "2008     7426\n",
       "2009     9864\n",
       "2010    12149\n",
       "2011    12531\n",
       "2012    15723\n",
       "2013    15853\n",
       "2014    15568\n",
       "2015    10041\n",
       "2016     3690\n",
       "2017       11\n",
       "3000        1\n",
       "7200       14\n",
       "Name: year, Length: 91, dtype: int64"
      ]
     },
     "execution_count": 24,
     "metadata": {},
     "output_type": "execute_result"
    }
   ],
   "source": [
    "df.year.value_counts().sort_index()"
   ]
  },
  {
   "cell_type": "code",
   "execution_count": 25,
   "metadata": {},
   "outputs": [],
   "source": [
    "mask = (df.year < 1995) | (df.year > 2017)\n",
    "df = df[~mask]"
   ]
  },
  {
   "cell_type": "code",
   "execution_count": 26,
   "metadata": {},
   "outputs": [
    {
     "data": {
      "text/plain": [
       "(80, 100)"
      ]
     },
     "execution_count": 26,
     "metadata": {},
     "output_type": "execute_result"
    }
   ],
   "source": [
    "df.points.min(), df.points.max()"
   ]
  },
  {
   "cell_type": "code",
   "execution_count": 27,
   "metadata": {},
   "outputs": [],
   "source": [
    "df['points_normalized'] = (df.points - 80) / 2"
   ]
  },
  {
   "cell_type": "code",
   "execution_count": 28,
   "metadata": {},
   "outputs": [
    {
     "data": {
      "text/plain": [
       "(0.0, 10.0)"
      ]
     },
     "execution_count": 28,
     "metadata": {},
     "output_type": "execute_result"
    }
   ],
   "source": [
    "df.points_normalized.min(), df.points_normalized.max()"
   ]
  },
  {
   "cell_type": "code",
   "execution_count": 29,
   "metadata": {},
   "outputs": [],
   "source": [
    "df.dropna(subset=['country'], inplace=True)"
   ]
  },
  {
   "cell_type": "code",
   "execution_count": 30,
   "metadata": {},
   "outputs": [
    {
     "data": {
      "text/plain": [
       "125011"
      ]
     },
     "execution_count": 30,
     "metadata": {},
     "output_type": "execute_result"
    }
   ],
   "source": [
    "len(df)"
   ]
  },
  {
   "cell_type": "code",
   "execution_count": 31,
   "metadata": {},
   "outputs": [],
   "source": [
    "df.drop(df.columns[0], axis=1, inplace=True)"
   ]
  },
  {
   "cell_type": "code",
   "execution_count": 34,
   "metadata": {},
   "outputs": [],
   "source": [
    "df.to_excel(\"wine_data.xlsx\")"
   ]
  },
  {
   "cell_type": "code",
   "execution_count": 33,
   "metadata": {},
   "outputs": [
    {
     "data": {
      "text/plain": [
       "2013    15844\n",
       "2012    15717\n",
       "2014    15552\n",
       "2011    12530\n",
       "2010    12149\n",
       "2015    10020\n",
       "2009     9864\n",
       "2008     7426\n",
       "2007     7041\n",
       "2006     5772\n",
       "2016     3682\n",
       "2005     3610\n",
       "2004     1772\n",
       "2000      758\n",
       "2001      691\n",
       "1999      641\n",
       "2003      597\n",
       "1998      550\n",
       "2002      365\n",
       "1997      303\n",
       "1996       67\n",
       "1995       49\n",
       "2017       11\n",
       "Name: year, dtype: int64"
      ]
     },
     "execution_count": 33,
     "metadata": {},
     "output_type": "execute_result"
    }
   ],
   "source": [
    "df.year.value_counts()"
   ]
  },
  {
   "cell_type": "code",
   "execution_count": null,
   "metadata": {},
   "outputs": [],
   "source": []
  }
 ],
 "metadata": {
  "kernelspec": {
   "display_name": "Python 3",
   "language": "python",
   "name": "python3"
  },
  "language_info": {
   "codemirror_mode": {
    "name": "ipython",
    "version": 3
   },
   "file_extension": ".py",
   "mimetype": "text/x-python",
   "name": "python",
   "nbconvert_exporter": "python",
   "pygments_lexer": "ipython3",
   "version": "3.6.6"
  }
 },
 "nbformat": 4,
 "nbformat_minor": 2
}
